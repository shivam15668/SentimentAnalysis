{
  "nbformat": 4,
  "nbformat_minor": 0,
  "metadata": {
    "colab": {
      "provenance": [],
      "authorship_tag": "ABX9TyPb7Vz/rzC7fCU1od67ZP/N",
      "include_colab_link": true
    },
    "kernelspec": {
      "name": "python3",
      "display_name": "Python 3"
    },
    "language_info": {
      "name": "python"
    }
  },
  "cells": [
    {
      "cell_type": "markdown",
      "metadata": {
        "id": "view-in-github",
        "colab_type": "text"
      },
      "source": [
        "<a href=\"https://colab.research.google.com/github/shivam15668/SentimentAnalysis/blob/main/SentimentAnalysis.ipynb\" target=\"_parent\"><img src=\"https://colab.research.google.com/assets/colab-badge.svg\" alt=\"Open In Colab\"/></a>"
      ]
    },
    {
      "cell_type": "code",
      "execution_count": 2,
      "metadata": {
        "colab": {
          "base_uri": "https://localhost:8080/"
        },
        "id": "uJJ5F59bTNAv",
        "outputId": "4e453016-d4cf-4326-e78b-d2b25f602a02"
      },
      "outputs": [
        {
          "output_type": "stream",
          "name": "stderr",
          "text": [
            "/usr/local/lib/python3.8/dist-packages/torch/cuda/__init__.py:497: UserWarning: Can't initialize NVML\n",
            "  warnings.warn(\"Can't initialize NVML\")\n"
          ]
        }
      ],
      "source": [
        "#importing necessary libraries \n",
        "# using Beautiful Soup (python library) for pulling data out of HTML and XML files \n",
        "# The Natural Language Toolkit \n",
        "import requests \n",
        "import nltk\n",
        "from bs4 import BeautifulSoup\n",
        "import numpy as np\n",
        "import pandas as pd\n",
        "import seaborn as sns\n",
        "import matplotlib.pyplot as plt \n",
        "%matplotlib inline \n",
        "import random\n",
        "from wordcloud import wordcloud \n",
        "import os \n",
        "import spacy \n",
        "nlp = spacy.load('en_core_web_sm')\n",
        "from textblob import TextBlob\n"
      ]
    },
    {
      "cell_type": "code",
      "source": [
        "!pip install pattern "
      ],
      "metadata": {
        "colab": {
          "base_uri": "https://localhost:8080/"
        },
        "id": "lmG4kLSwUryr",
        "outputId": "a7b89e88-1c7d-4fdd-e929-d046aaa67b90"
      },
      "execution_count": 3,
      "outputs": [
        {
          "output_type": "stream",
          "name": "stdout",
          "text": [
            "Looking in indexes: https://pypi.org/simple, https://us-python.pkg.dev/colab-wheels/public/simple/\n",
            "Collecting pattern\n",
            "  Downloading Pattern-3.6.0.tar.gz (22.2 MB)\n",
            "\u001b[K     |████████████████████████████████| 22.2 MB 70.3 MB/s \n",
            "\u001b[?25hRequirement already satisfied: future in /usr/local/lib/python3.8/dist-packages (from pattern) (0.16.0)\n",
            "Collecting backports.csv\n",
            "  Downloading backports.csv-1.0.7-py2.py3-none-any.whl (12 kB)\n",
            "Collecting mysqlclient\n",
            "  Downloading mysqlclient-2.1.1.tar.gz (88 kB)\n",
            "\u001b[K     |████████████████████████████████| 88 kB 7.1 MB/s \n",
            "\u001b[?25hRequirement already satisfied: beautifulsoup4 in /usr/local/lib/python3.8/dist-packages (from pattern) (4.6.3)\n",
            "Requirement already satisfied: lxml in /usr/local/lib/python3.8/dist-packages (from pattern) (4.9.2)\n",
            "Collecting feedparser\n",
            "  Downloading feedparser-6.0.10-py3-none-any.whl (81 kB)\n",
            "\u001b[K     |████████████████████████████████| 81 kB 9.1 MB/s \n",
            "\u001b[?25hCollecting pdfminer.six\n",
            "  Downloading pdfminer.six-20221105-py3-none-any.whl (5.6 MB)\n",
            "\u001b[K     |████████████████████████████████| 5.6 MB 37.4 MB/s \n",
            "\u001b[?25hRequirement already satisfied: numpy in /usr/local/lib/python3.8/dist-packages (from pattern) (1.21.6)\n",
            "Requirement already satisfied: scipy in /usr/local/lib/python3.8/dist-packages (from pattern) (1.7.3)\n",
            "Requirement already satisfied: nltk in /usr/local/lib/python3.8/dist-packages (from pattern) (3.7)\n",
            "Collecting python-docx\n",
            "  Downloading python-docx-0.8.11.tar.gz (5.6 MB)\n",
            "\u001b[K     |████████████████████████████████| 5.6 MB 32.4 MB/s \n",
            "\u001b[?25hCollecting cherrypy\n",
            "  Downloading CherryPy-18.8.0-py2.py3-none-any.whl (348 kB)\n",
            "\u001b[K     |████████████████████████████████| 348 kB 41.2 MB/s \n",
            "\u001b[?25hRequirement already satisfied: requests in /usr/local/lib/python3.8/dist-packages (from pattern) (2.23.0)\n",
            "Requirement already satisfied: more-itertools in /usr/local/lib/python3.8/dist-packages (from cherrypy->pattern) (9.0.0)\n",
            "Collecting zc.lockfile\n",
            "  Downloading zc.lockfile-2.0-py2.py3-none-any.whl (9.7 kB)\n",
            "Collecting cheroot>=8.2.1\n",
            "  Downloading cheroot-9.0.0-py2.py3-none-any.whl (100 kB)\n",
            "\u001b[K     |████████████████████████████████| 100 kB 9.4 MB/s \n",
            "\u001b[?25hCollecting jaraco.collections\n",
            "  Downloading jaraco.collections-3.8.0-py3-none-any.whl (10 kB)\n",
            "Collecting portend>=2.1.1\n",
            "  Downloading portend-3.1.0-py3-none-any.whl (5.3 kB)\n",
            "Requirement already satisfied: six>=1.11.0 in /usr/local/lib/python3.8/dist-packages (from cheroot>=8.2.1->cherrypy->pattern) (1.15.0)\n",
            "Collecting jaraco.functools\n",
            "  Downloading jaraco.functools-3.5.2-py3-none-any.whl (7.3 kB)\n",
            "Collecting tempora>=1.8\n",
            "  Downloading tempora-5.1.0-py3-none-any.whl (15 kB)\n",
            "Requirement already satisfied: pytz in /usr/local/lib/python3.8/dist-packages (from tempora>=1.8->portend>=2.1.1->cherrypy->pattern) (2022.6)\n",
            "Collecting sgmllib3k\n",
            "  Downloading sgmllib3k-1.0.0.tar.gz (5.8 kB)\n",
            "Collecting jaraco.classes\n",
            "  Downloading jaraco.classes-3.2.3-py3-none-any.whl (6.0 kB)\n",
            "Collecting jaraco.text\n",
            "  Downloading jaraco.text-3.11.0-py3-none-any.whl (11 kB)\n",
            "Requirement already satisfied: importlib-resources in /usr/local/lib/python3.8/dist-packages (from jaraco.text->jaraco.collections->cherrypy->pattern) (5.10.1)\n",
            "Collecting autocommand\n",
            "  Downloading autocommand-2.2.2-py3-none-any.whl (19 kB)\n",
            "Requirement already satisfied: inflect in /usr/local/lib/python3.8/dist-packages (from jaraco.text->jaraco.collections->cherrypy->pattern) (2.1.0)\n",
            "Collecting jaraco.context>=4.1\n",
            "  Downloading jaraco.context-4.2.0-py3-none-any.whl (5.0 kB)\n",
            "Requirement already satisfied: zipp>=3.1.0 in /usr/local/lib/python3.8/dist-packages (from importlib-resources->jaraco.text->jaraco.collections->cherrypy->pattern) (3.11.0)\n",
            "Requirement already satisfied: tqdm in /usr/local/lib/python3.8/dist-packages (from nltk->pattern) (4.64.1)\n",
            "Requirement already satisfied: regex>=2021.8.3 in /usr/local/lib/python3.8/dist-packages (from nltk->pattern) (2022.6.2)\n",
            "Requirement already satisfied: joblib in /usr/local/lib/python3.8/dist-packages (from nltk->pattern) (1.2.0)\n",
            "Requirement already satisfied: click in /usr/local/lib/python3.8/dist-packages (from nltk->pattern) (7.1.2)\n",
            "Collecting cryptography>=36.0.0\n",
            "  Downloading cryptography-38.0.4-cp36-abi3-manylinux_2_24_x86_64.whl (4.0 MB)\n",
            "\u001b[K     |████████████████████████████████| 4.0 MB 49.5 MB/s \n",
            "\u001b[?25hRequirement already satisfied: charset-normalizer>=2.0.0 in /usr/local/lib/python3.8/dist-packages (from pdfminer.six->pattern) (2.1.1)\n",
            "Requirement already satisfied: cffi>=1.12 in /usr/local/lib/python3.8/dist-packages (from cryptography>=36.0.0->pdfminer.six->pattern) (1.15.1)\n",
            "Requirement already satisfied: pycparser in /usr/local/lib/python3.8/dist-packages (from cffi>=1.12->cryptography>=36.0.0->pdfminer.six->pattern) (2.21)\n",
            "Requirement already satisfied: certifi>=2017.4.17 in /usr/local/lib/python3.8/dist-packages (from requests->pattern) (2022.12.7)\n",
            "Requirement already satisfied: chardet<4,>=3.0.2 in /usr/local/lib/python3.8/dist-packages (from requests->pattern) (3.0.4)\n",
            "Requirement already satisfied: urllib3!=1.25.0,!=1.25.1,<1.26,>=1.21.1 in /usr/local/lib/python3.8/dist-packages (from requests->pattern) (1.24.3)\n",
            "Requirement already satisfied: idna<3,>=2.5 in /usr/local/lib/python3.8/dist-packages (from requests->pattern) (2.10)\n",
            "Requirement already satisfied: setuptools in /usr/local/lib/python3.8/dist-packages (from zc.lockfile->cherrypy->pattern) (57.4.0)\n",
            "Building wheels for collected packages: pattern, mysqlclient, python-docx, sgmllib3k\n",
            "  Building wheel for pattern (setup.py) ... \u001b[?25l\u001b[?25hdone\n",
            "  Created wheel for pattern: filename=Pattern-3.6-py3-none-any.whl size=22332722 sha256=aa2c085595f3942d805fd28fc7bbcb731b4d94b3542fdae1b425a5dfc9f21726\n",
            "  Stored in directory: /root/.cache/pip/wheels/ec/ce/8f/bccc2d04f3a25a5a1dd19165b2855ad3203975f25edd5838d6\n",
            "  Building wheel for mysqlclient (setup.py) ... \u001b[?25l\u001b[?25hdone\n",
            "  Created wheel for mysqlclient: filename=mysqlclient-2.1.1-cp38-cp38-linux_x86_64.whl size=102395 sha256=200a50b072bd19049183d47940388513484ed46e0cdbac2064e4e7b097f50c91\n",
            "  Stored in directory: /root/.cache/pip/wheels/5b/e1/84/a6185eaec318899f59a32d393af7729a0719cd93695d71f9a1\n",
            "  Building wheel for python-docx (setup.py) ... \u001b[?25l\u001b[?25hdone\n",
            "  Created wheel for python-docx: filename=python_docx-0.8.11-py3-none-any.whl size=184505 sha256=9b95024bb93eaa29594470ae58dd5f9b5574434ceeb4f94738b0c07cbb3aa75d\n",
            "  Stored in directory: /root/.cache/pip/wheels/32/b8/b2/c4c2b95765e615fe139b0b17b5ea7c0e1b6519b0a9ec8fb34d\n",
            "  Building wheel for sgmllib3k (setup.py) ... \u001b[?25l\u001b[?25hdone\n",
            "  Created wheel for sgmllib3k: filename=sgmllib3k-1.0.0-py3-none-any.whl size=6066 sha256=28e7b31ed807043be26f364c6f2bde0c57f729af308b434ff5a70d25c9a38c98\n",
            "  Stored in directory: /root/.cache/pip/wheels/83/63/2f/117884c3b19d46b64d3d61690333aa80c88dc14050e269c546\n",
            "Successfully built pattern mysqlclient python-docx sgmllib3k\n",
            "Installing collected packages: jaraco.functools, jaraco.context, autocommand, tempora, jaraco.text, jaraco.classes, zc.lockfile, sgmllib3k, portend, jaraco.collections, cryptography, cheroot, python-docx, pdfminer.six, mysqlclient, feedparser, cherrypy, backports.csv, pattern\n",
            "Successfully installed autocommand-2.2.2 backports.csv-1.0.7 cheroot-9.0.0 cherrypy-18.8.0 cryptography-38.0.4 feedparser-6.0.10 jaraco.classes-3.2.3 jaraco.collections-3.8.0 jaraco.context-4.2.0 jaraco.functools-3.5.2 jaraco.text-3.11.0 mysqlclient-2.1.1 pattern-3.6 pdfminer.six-20221105 portend-3.1.0 python-docx-0.8.11 sgmllib3k-1.0.0 tempora-5.1.0 zc.lockfile-2.0\n"
          ]
        }
      ]
    },
    {
      "cell_type": "code",
      "source": [
        "import nltk \n",
        "nltk.download('omw-1.4')"
      ],
      "metadata": {
        "colab": {
          "base_uri": "https://localhost:8080/"
        },
        "id": "etl3LigoVWKQ",
        "outputId": "fddd7bc6-caf5-4874-a232-a265eaaa8606"
      },
      "execution_count": 5,
      "outputs": [
        {
          "output_type": "stream",
          "name": "stderr",
          "text": [
            "[nltk_data] Downloading package omw-1.4 to /root/nltk_data...\n"
          ]
        },
        {
          "output_type": "execute_result",
          "data": {
            "text/plain": [
              "True"
            ]
          },
          "metadata": {},
          "execution_count": 5
        }
      ]
    },
    {
      "cell_type": "code",
      "source": [
        "from pattern.en import sentiment "
      ],
      "metadata": {
        "id": "Ec8g52-1VKFa"
      },
      "execution_count": 6,
      "outputs": []
    },
    {
      "cell_type": "code",
      "source": [
        "#we are using request package to make a GET request for the website, which means we're getting data from it.\n",
        "r=requests.get('https://mundoalbiceleste.com/2022/12/24/happy-birthday-to-world-cup-winner-alexis-mac-allister/')"
      ],
      "metadata": {
        "id": "aZv5jQ_LYbwv"
      },
      "execution_count": 7,
      "outputs": []
    },
    {
      "cell_type": "code",
      "source": [
        "#Setting the correct text encoding of the HTML page\n",
        "r.encoding = 'utf-8'"
      ],
      "metadata": {
        "id": "T8rraMWmgFow"
      },
      "execution_count": 8,
      "outputs": []
    },
    {
      "cell_type": "code",
      "source": [
        "#Extracting the HTML from the request object\n",
        "html = r.text"
      ],
      "metadata": {
        "id": "gOQj5uK6gtqN"
      },
      "execution_count": 9,
      "outputs": []
    },
    {
      "cell_type": "code",
      "source": [
        "# Printing the first 500 characters in html\n",
        "print(html[:500])"
      ],
      "metadata": {
        "colab": {
          "base_uri": "https://localhost:8080/"
        },
        "id": "Nly7XYBRgyo_",
        "outputId": "8e9b59c0-724c-4f7b-c746-8ad71a503f98"
      },
      "execution_count": 10,
      "outputs": [
        {
          "output_type": "stream",
          "name": "stdout",
          "text": [
            "<!doctype html >\r\n",
            "<!--[if IE 8]>    <html class=\"ie8\" lang=\"en\"> <![endif]-->\r\n",
            "<!--[if IE 9]>    <html class=\"ie9\" lang=\"en\"> <![endif]-->\r\n",
            "<!--[if gt IE 8]><!--> <html lang=\"en-US\"> <!--<![endif]-->\r\n",
            "<head>\r\n",
            "    <title>Happy birthday to World Cup winner Alexis Mac Allister! | Mundo Albiceleste</title>\r\n",
            "    <meta charset=\"UTF-8\" />\r\n",
            "    <meta name=\"viewport\" content=\"width=device-width, initial-scale=1.0\">\r\n",
            "    <link rel=\"pingback\" href=\"https://mundoalbiceleste.com/xmlrpc.php\" />\r\n",
            "    <meta nam\n"
          ]
        }
      ]
    },
    {
      "cell_type": "code",
      "source": [
        "# Creating a BeautifulSoup object from the HTML\n",
        "soup = BeautifulSoup(html)\n",
        "# Getting the text out of the soup\n",
        "text = soup.get_text()"
      ],
      "metadata": {
        "id": "N5Lr5AlFg525"
      },
      "execution_count": 11,
      "outputs": []
    },
    {
      "cell_type": "code",
      "source": [
        "#total length\n",
        "len(text)"
      ],
      "metadata": {
        "colab": {
          "base_uri": "https://localhost:8080/"
        },
        "id": "BG2o1AXIhAqi",
        "outputId": "c9ede025-d7df-4ed6-9ac6-2602af5c70eb"
      },
      "execution_count": 12,
      "outputs": [
        {
          "output_type": "execute_result",
          "data": {
            "text/plain": [
              "130520"
            ]
          },
          "metadata": {},
          "execution_count": 12
        }
      ]
    },
    {
      "cell_type": "code",
      "source": [
        "#having a look at the text\n",
        "print(text[70000:81000])"
      ],
      "metadata": {
        "colab": {
          "base_uri": "https://localhost:8080/"
        },
        "id": "bxLWpdpChGaP",
        "outputId": "a9a7f470-c2e4-4681-a601-837e1bd9789d"
      },
      "execution_count": 18,
      "outputs": [
        {
          "output_type": "stream",
          "name": "stdout",
          "text": [
            "eader-wrap .sf-menu > .sfHover > a {\r\n",
            "        color: #ffffff;\r\n",
            "    }\r\n",
            "    \r\n",
            "\r\n",
            "    \r\n",
            "    .td-header-wrap .td-header-menu-wrap .sf-menu > li > a,\r\n",
            "    .td-header-wrap .td-header-menu-social .td-social-icon-wrap a,\r\n",
            "    .td-header-style-4 .td-header-menu-social .td-social-icon-wrap i,\r\n",
            "    .td-header-style-5 .td-header-menu-social .td-social-icon-wrap i,\r\n",
            "    .td-header-style-6 .td-header-menu-social .td-social-icon-wrap i,\r\n",
            "    .td-header-style-12 .td-header-menu-social .td-social-icon-wrap i,\r\n",
            "    .td-header-wrap .header-search-wrap #td-header-search-button .td-icon-search {\r\n",
            "        color: #000000;\r\n",
            "    }\r\n",
            "    .td-header-wrap .td-header-menu-social + .td-search-wrapper #td-header-search-button:before {\r\n",
            "      background-color: #000000;\r\n",
            "    }\r\n",
            "    \r\n",
            "    \r\n",
            "    \r\n",
            "    .td-header-menu-wrap.td-affix,\r\n",
            "    .td-header-style-3 .td-affix .td-header-main-menu,\r\n",
            "    .td-header-style-4 .td-affix .td-header-main-menu,\r\n",
            "    .td-header-style-8 .td-header-menu-wrap.td-affix {\r\n",
            "        background-color: #385c7b;\r\n",
            "    }\r\n",
            "   \r\n",
            "    \r\n",
            "    \r\n",
            "    .td-affix .sf-menu > .current-menu-item > a:after,\r\n",
            "    .td-affix .sf-menu > .current-menu-ancestor > a:after,\r\n",
            "    .td-affix .sf-menu > .current-category-ancestor > a:after,\r\n",
            "    .td-affix .sf-menu > li:hover > a:after,\r\n",
            "    .td-affix .sf-menu > .sfHover > a:after,\r\n",
            "    .td-header-wrap .td-affix .black-menu .sf-menu > li > a:hover,\r\n",
            "    .td-header-wrap .td-affix .black-menu .sf-menu > .current-menu-ancestor > a,\r\n",
            "    .td-header-wrap .td-affix .black-menu .sf-menu > .sfHover > a,\r\n",
            "    .td-affix  .header-search-wrap .td-drop-down-search:after,\r\n",
            "    .td-affix  .header-search-wrap .td-drop-down-search .btn:hover,\r\n",
            "    .td-header-wrap .td-affix  .black-menu .sf-menu > .current-menu-item > a,\r\n",
            "    .td-header-wrap .td-affix  .black-menu .sf-menu > .current-menu-ancestor > a,\r\n",
            "    .td-header-wrap .td-affix  .black-menu .sf-menu > .current-category-ancestor > a,\r\n",
            "    .tdm-menu-active-style5 .tdm-header .td-header-menu-wrap.td-affix .sf-menu > .current-menu-item > a,\r\n",
            "    .tdm-menu-active-style5 .tdm-header .td-header-menu-wrap.td-affix .sf-menu > .current-menu-ancestor > a,\r\n",
            "    .tdm-menu-active-style5 .tdm-header .td-header-menu-wrap.td-affix .sf-menu > .current-category-ancestor > a,\r\n",
            "    .tdm-menu-active-style5 .tdm-header .td-header-menu-wrap.td-affix .sf-menu > li > a:hover,\r\n",
            "    .tdm-menu-active-style5 .tdm-header .td-header-menu-wrap.td-affix .sf-menu > .sfHover > a {\r\n",
            "        background-color: #ffffff;\r\n",
            "    }\r\n",
            "    .td-affix  .header-search-wrap .td-drop-down-search:before {\r\n",
            "        border-color: transparent transparent #ffffff transparent;\r\n",
            "    }\r\n",
            "    .tdm-menu-active-style4 .tdm-header .td-affix .sf-menu > .current-menu-item > a,\r\n",
            "    .tdm-menu-active-style4 .tdm-header .td-affix .sf-menu > .current-menu-ancestor > a,\r\n",
            "    .tdm-menu-active-style4 .tdm-header .td-affix .sf-menu > .current-category-ancestor > a,\r\n",
            "    .tdm-menu-active-style4 .tdm-header .td-affix .sf-menu > li > a:hover,\r\n",
            "    .tdm-menu-active-style4 .tdm-header .td-affix .sf-menu > .sfHover > a {\r\n",
            "        border-color: #ffffff;\r\n",
            "    }\r\n",
            "    .td-theme-wrap .td-affix .sf-menu ul .td-menu-item > a:hover,\r\n",
            "    .td-theme-wrap .td-affix .sf-menu ul .sfHover > a,\r\n",
            "    .td-theme-wrap .td-affix .sf-menu ul .current-menu-ancestor > a,\r\n",
            "    .td-theme-wrap .td-affix .sf-menu ul .current-category-ancestor > a,\r\n",
            "    .td-theme-wrap .td-affix .sf-menu ul .current-menu-item > a,\r\n",
            "    .tdm-menu-active-style3 .tdm-header .td-affix .sf-menu > .current-menu-item > a,\r\n",
            "    .tdm-menu-active-style3 .tdm-header .td-affix .sf-menu > .current-menu-ancestor > a,\r\n",
            "    .tdm-menu-active-style3 .tdm-header .td-affix .sf-menu > .current-category-ancestor > a,\r\n",
            "    .tdm-menu-active-style3 .tdm-header .td-affix .sf-menu > li > a:hover,\r\n",
            "    .tdm-menu-active-style3 .tdm-header .td-affix .sf-menu > .sfHover > a {\r\n",
            "        color: #ffffff;\r\n",
            "    }\r\n",
            "    \r\n",
            "    .td-header-wrap .td-header-menu-wrap.td-affix .sf-menu > li > a,\r\n",
            "    .td-header-wrap .td-affix .td-header-menu-social .td-social-icon-wrap a,\r\n",
            "    .td-header-style-4 .td-affix .td-header-menu-social .td-social-icon-wrap i,\r\n",
            "    .td-header-style-5 .td-affix .td-header-menu-social .td-social-icon-wrap i,\r\n",
            "    .td-header-style-6 .td-affix .td-header-menu-social .td-social-icon-wrap i,\r\n",
            "    .td-header-style-12 .td-affix .td-header-menu-social .td-social-icon-wrap i,\r\n",
            "    .td-header-wrap .td-affix .header-search-wrap .td-icon-search {\r\n",
            "        color: #ffffff;\r\n",
            "    }\r\n",
            "    .td-header-wrap .td-affix .td-header-menu-social + .td-search-wrapper #td-header-search-button:before {\r\n",
            "        background-color: #ffffff;\r\n",
            "    }\r\n",
            "\r\n",
            "\r\n",
            "    \r\n",
            "    .td-theme-wrap .sf-menu .td-normal-menu .td-menu-item > a:hover,\r\n",
            "    .td-theme-wrap .sf-menu .td-normal-menu .sfHover > a,\r\n",
            "    .td-theme-wrap .sf-menu .td-normal-menu .current-menu-ancestor > a,\r\n",
            "    .td-theme-wrap .sf-menu .td-normal-menu .current-category-ancestor > a,\r\n",
            "    .td-theme-wrap .sf-menu .td-normal-menu .current-menu-item > a {\r\n",
            "        background-color: #385c7b;\r\n",
            "    }\r\n",
            "    \r\n",
            "    .td-footer-wrapper,\r\n",
            "    .td-footer-wrapper .td_block_template_7 .td-block-title > *,\r\n",
            "    .td-footer-wrapper .td_block_template_17 .td-block-title,\r\n",
            "    .td-footer-wrapper .td-block-title-wrap .td-wrapper-pulldown-filter {\r\n",
            "        background-color: #385c7b;\r\n",
            "    }\r\n",
            "\r\n",
            "    \r\n",
            "    .td-footer-wrapper .footer-social-wrap .td-icon-font {\r\n",
            "        color: #ffffff;\r\n",
            "    }\r\n",
            "\r\n",
            "    \r\n",
            "\t.td-footer-wrapper .block-title > span,\r\n",
            "    .td-footer-wrapper .block-title > a,\r\n",
            "    .td-footer-wrapper .widgettitle,\r\n",
            "    .td-theme-wrap .td-footer-wrapper .td-container .td-block-title > *,\r\n",
            "    .td-theme-wrap .td-footer-wrapper .td_block_template_6 .td-block-title:before {\r\n",
            "    \tcolor: #ffffff;\r\n",
            "    }\r\n",
            "\r\n",
            "\r\n",
            "\r\n",
            "    \r\n",
            "    .post .td-post-header .entry-title {\r\n",
            "        color: #000000;\r\n",
            "    }\r\n",
            "    .td_module_15 .entry-title a {\r\n",
            "        color: #000000;\r\n",
            "    }\r\n",
            "\r\n",
            "    \r\n",
            "    .td-post-content,\r\n",
            "    .td-post-content p {\r\n",
            "    \tcolor: #000000;\r\n",
            "    }\r\n",
            "\r\n",
            "    \r\n",
            "    .td-post-content h1,\r\n",
            "    .td-post-content h2,\r\n",
            "    .td-post-content h3,\r\n",
            "    .td-post-content h4,\r\n",
            "    .td-post-content h5,\r\n",
            "    .td-post-content h6 {\r\n",
            "    \tcolor: #000000;\r\n",
            "    }\r\n",
            "\r\n",
            "    \r\n",
            "    .post blockquote p,\r\n",
            "    .page blockquote p {\r\n",
            "    \tcolor: #385c7b;\r\n",
            "    }\r\n",
            "    .post .td_quote_box,\r\n",
            "    .page .td_quote_box {\r\n",
            "        border-color: #385c7b;\r\n",
            "    }\n",
            "\n",
            "\n",
            "\n",
            "\r\n",
            "  window.dataLayer = window.dataLayer || [];\r\n",
            "  function gtag(){dataLayer.push(arguments);}\r\n",
            "  gtag('js', new Date());\r\n",
            "\r\n",
            "  gtag('config', 'UA-35218327-1');\r\n",
            "\n",
            "\r\n",
            "    {\r\n",
            "        \"@context\": \"http://schema.org\",\r\n",
            "        \"@type\": \"BreadcrumbList\",\r\n",
            "        \"itemListElement\": [\r\n",
            "            {\r\n",
            "                \"@type\": \"ListItem\",\r\n",
            "                \"position\": 1,\r\n",
            "                \"item\": {\r\n",
            "                    \"@type\": \"WebSite\",\r\n",
            "                    \"@id\": \"https://mundoalbiceleste.com/\",\r\n",
            "                    \"name\": \"Home\"\r\n",
            "                }\r\n",
            "            },\r\n",
            "            {\r\n",
            "                \"@type\": \"ListItem\",\r\n",
            "                \"position\": 2,\r\n",
            "                    \"item\": {\r\n",
            "                    \"@type\": \"WebPage\",\r\n",
            "                    \"@id\": \"https://mundoalbiceleste.com/category/fifa-world-cup/\",\r\n",
            "                    \"name\": \"FIFA World Cup\"\r\n",
            "                }\r\n",
            "            }\r\n",
            "            ,{\r\n",
            "                \"@type\": \"ListItem\",\r\n",
            "                \"position\": 3,\r\n",
            "                    \"item\": {\r\n",
            "                    \"@type\": \"WebPage\",\r\n",
            "                    \"@id\": \"https://mundoalbiceleste.com/2022/12/24/happy-birthday-to-world-cup-winner-alexis-mac-allister/\",\r\n",
            "                    \"name\": \"Happy birthday to World Cup winner Alexis Mac Allister!\"                                \r\n",
            "                }\r\n",
            "            }    \r\n",
            "        ]\r\n",
            "    }\r\n",
            "\n",
            "\n",
            "\n",
            "\n",
            "\n",
            "\n",
            "\n",
            "\n",
            "    .tdm_block_column_content:hover .tdm-col-content-title-url .tdm-title,\r\n",
            "                .tds-button2 .tdm-btn-text,\r\n",
            "                .tds-button2 i,\r\n",
            "                .tds-button5:hover .tdm-btn-text,\r\n",
            "                .tds-button5:hover i,\r\n",
            "                .tds-button6 .tdm-btn-text,\r\n",
            "                .tds-button6 i,\r\n",
            "                .tdm_block_list .tdm-list-item i,\r\n",
            "                .tdm_block_pricing .tdm-pricing-feature i,\r\n",
            "                .tdm-social-item i {\r\n",
            "                    color: #385c7b;\r\n",
            "                }\r\n",
            "                .tds-button1,\r\n",
            "                .tds-button6:after,\r\n",
            "                .tds-title2 .tdm-title-line:after,\r\n",
            "                .tds-title3 .tdm-title-line:after,\r\n",
            "                .tdm_block_pricing.tdm-pricing-featured:before,\r\n",
            "                .tdm_block_pricing.tds_pricing2_block.tdm-pricing-featured .tdm-pricing-header,\r\n",
            "                .tds-progress-bar1 .tdm-progress-bar:after,\r\n",
            "                .tds-progress-bar2 .tdm-progress-bar:after,\r\n",
            "                .tds-social3 .tdm-social-item {\r\n",
            "                    background-color: #385c7b;\r\n",
            "                }\r\n",
            "                .tds-button2:before,\r\n",
            "                .tds-button6:before,\r\n",
            "                .tds-progress-bar3 .tdm-progress-bar:after {\r\n",
            "                  border-color: #385c7b;\r\n",
            "                }\r\n",
            "                .tdm-btn-style1 {\r\n",
            "\t\t\t\t\tbackground-color: #385c7b;\r\n",
            "\t\t\t\t}\r\n",
            "\t\t\t\t.tdm-btn-style2:before {\r\n",
            "\t\t\t\t    border-color: #385c7b;\r\n",
            "\t\t\t\t}\r\n",
            "\t\t\t\t.tdm-btn-style2 {\r\n",
            "\t\t\t\t    color: #385c7b;\r\n",
            "\t\t\t\t}\r\n",
            "\t\t\t\t.tdm-btn-style3 {\r\n",
            "\t\t\t\t    -webkit-box-shadow: 0 2px 16px #385c7b;\r\n",
            "                    -moz-box-shadow: 0 2px 16px #385c7b;\r\n",
            "                    box-shadow: 0 2px 16px #385c7b;\r\n",
            "\t\t\t\t}\r\n",
            "\t\t\t\t.tdm-btn-style3:hover {\r\n",
            "\t\t\t\t    -webkit-box-shadow: 0 4px 26px #385c7b;\r\n",
            "                    -moz-box-shadow: 0 4px 26px #385c7b;\r\n",
            "                    box-shadow: 0 4px 26px #385c7b;\r\n",
            "\t\t\t\t}\n",
            "\n",
            " .wpb_animate_when_almost_visible { opacity: 1; } \n",
            "\n",
            "\n",
            "\n",
            "\n",
            "\n",
            "\n",
            "\n",
            "\n",
            "\n",
            "\n",
            "\n",
            "\n",
            "\n",
            "\n",
            "\n",
            "\n",
            "\n",
            "\n",
            "\n",
            "\n",
            "\n",
            "\n",
            "\n",
            "\n",
            "\n",
            "\n",
            "\n",
            "\n",
            " \n",
            "\n",
            "\n",
            "\n",
            "\n",
            "\n",
            "\n",
            "\n",
            "\n",
            "Sign in\n",
            "\n",
            "\n",
            "\n",
            "\n",
            "2021 Copa America\n",
            "2022 World Cup qualifiers\n",
            "Argentina U20 national team\n",
            "FIFA World Cup\n",
            " \n",
            "\n",
            "\n",
            "\n",
            "\n",
            "\n",
            "\n",
            "\n",
            "Sign in\n",
            "\n",
            "\n",
            "\n",
            "\n",
            "\n",
            "\n",
            "Welcome!Log into your account\n",
            "\n",
            "your username\n",
            "your password\n",
            "\n",
            "\n",
            "Forgot your password?\n",
            "\n",
            "\n",
            "\n",
            "\n",
            "\n",
            "\n",
            "\n",
            "\n",
            "\n",
            "Password recovery\n",
            "\n",
            "\n",
            "Recover your password\n",
            "\n",
            "your email\n",
            "\n",
            "\n",
            "\n",
            "\n",
            " \n",
            "\n",
            "\n",
            "\n",
            "\n",
            "\n",
            "\n",
            "\n",
            "\n",
            "Search\n",
            "\n",
            "\n",
            "\n",
            "\n",
            "\n",
            "\n",
            "\n",
            "\n",
            "\n",
            "\n",
            "\n",
            "\n",
            "\n",
            "\n",
            "Sign in / JoinLog In\n",
            "\n",
            "\n",
            "\n",
            "\n",
            "\n",
            "\n",
            "\n",
            "\n",
            "\n",
            "\n",
            "\n",
            "\n",
            "\n",
            "\n",
            "\n",
            "\n",
            "\n",
            "\n",
            "\n",
            "\n",
            "\n",
            "  \n",
            "\n",
            "\n",
            "\n",
            "\n",
            "\n",
            "Sign in\n",
            "Welcome! Log into your account\n",
            "\n",
            "your username\n",
            "your password\n",
            "\n",
            "Forgot your password? Get help\n",
            "\n",
            "\n",
            "Password recovery\n",
            "Recover your password\n",
            "\n",
            "your email\n",
            "\n",
            "A password will be e-mailed to you.\n",
            "\n",
            "\n",
            "\n",
            "\n",
            "\n",
            "\n",
            "\n",
            "\n",
            "\n",
            "\n",
            "\n",
            "\n",
            "\n",
            "\n",
            "\n",
            "\n",
            "Mundo Albiceleste\n",
            "\n",
            "\n",
            "2021 Copa America\n",
            "2022 World Cup qualifiers\n",
            "Argentina U20 national team\n",
            "FIFA World Cup\n",
            "\n",
            "\n",
            "\n",
            "\n",
            "\n",
            "\n",
            "\n",
            "\n",
            "\n",
            "\n",
            "\n",
            "\n",
            "\n",
            "\n",
            "\n",
            "\n",
            "\n",
            "\n",
            "\n",
            "\n",
            "\n",
            "/* custom css */\n",
            ".tdi_1_266.td-a-rec-img,\r\n",
            "\t\t\t\t.tdi_1_266 .td-adspot-title{\r\n",
            "\t\t\t\t    text-align: left;\r\n",
            "\t\t\t\t}.tdi_1_266.td-a-rec-img img{\r\n",
            "                    margin: 0 auto 0 0;\r\n",
            "                }.tdi_1_266 .td-element-style{\r\n",
            "\t\t\t\t\tz-index: -1;\r\n",
            "\t\t\t\t}\n",
            "\n",
            "var td_screen_width = window.innerWidth;\n",
            "\r\n",
            "                    if ( td_screen_width >= 1140 ) {\r\n",
            "                        /* large monitors */\r\n",
            "                        document.write('<ins class=\"adsbygoogle\" style=\"display:inline-block;width:728px;height:90px\" data-ad-client=\"ca-pub-5178073203457896\" data-ad-slot=\"3499665163\"></ins>');\r\n",
            "                        (adsbygoogle = window.adsbygoogle || []).push({});\r\n",
            "       \n"
          ]
        }
      ]
    },
    {
      "cell_type": "code",
      "source": [
        "clean_text= text.replace(\"n\", \" \")\n",
        "clean_text= clean_text.replace(\"/\", \" \")       \n",
        "clean_text= ''.join([c for c in clean_text if c != \"'\"])"
      ],
      "metadata": {
        "id": "qBwrYt65hQBa"
      },
      "execution_count": 19,
      "outputs": []
    },
    {
      "cell_type": "code",
      "source": [
        "clean_text"
      ],
      "metadata": {
        "colab": {
          "base_uri": "https://localhost:8080/",
          "height": 139
        },
        "id": "8IjkuTp1hWei",
        "outputId": "7cc1d5c6-f6b8-4c01-f166-830da54010df"
      },
      "execution_count": 20,
      "outputs": [
        {
          "output_type": "execute_result",
          "data": {
            "text/plain": [
              "' \\n\\nHappy birthday to World Cup wi  er Alexis Mac Allister! | Mu do Albiceleste\\n\\n\\n\\n\\n\\n\\n\\n\\n\\nwi dow._wpemojiSetti gs = {\"baseUrl\":\"https:\\\\ \\\\ s.w.org\\\\ images\\\\ core\\\\ emoji\\\\ 14.0.0\\\\ 72x72\\\\ \",\"ext\":\".p g\",\"svgUrl\":\"https:\\\\ \\\\ s.w.org\\\\ images\\\\ core\\\\ emoji\\\\ 14.0.0\\\\ svg\\\\ \",\"svgExt\":\".svg\",\"source\":{\"co catemoji\":\"https:\\\\ \\\\ mu doalbiceleste.com\\\\ wp-i cludes\\\\ js\\\\ wp-emoji-release.mi .js?ver=6.1.1\"}};\\n *! This file is auto-ge erated * \\n!fu ctio (e,a,t){var  ,r,o,i=a.createEleme t(\"ca vas\"),p=i.getCo text&&i.getCo text(\"2d\");fu ctio  s(e,t){var a=Stri g.fromCharCode,e=(p.clearRect(0,0,i.width,i.height),p.fillText(a.apply(this,e),0,0),i.toDataURL());retur  p.clearRect(0,0,i.width,i.height),p.fillText(a.apply(this,t),0,0),e===i.toDataURL()}fu ctio  c(e){var t=a.createEleme t(\"script\");t.src=e,t.defer=t.type=\"text javascript\",a.getEleme tsByTagName(\"head\")[0].appe dChild(t)}for(o=Array(\"flag\",\"emoji\"),t.supports={everythi g:!0,everythi gExceptFlag:!0},r=0;r<o.le gth;r++)t.supports[o[r]]=fu ctio (e){if(p&&p.fillText)switch(p.textBaseli e=\"top\",p.fo t=\"600 32px Arial\",e){case\"flag\":retur  s([127987,65039,8205,9895,65039],[127987,65039,8203,9895,65039])?!1:!s([55356,56826,55356,56819],[55356,56826,8203,55356,56819])&&!s([55356,57332,56128,56423,56128,56418,56128,56421,56128,56430,56128,56423,56128,56447],[55356,57332,8203,56128,56423,8203,56128,56418,8203,56128,56421,8203,56128,56430,8203,56128,56423,8203,56128,56447]);case\"emoji\":retur !s([129777,127995,8205,129778,127999],[129777,127995,8203,129778,127999])}retur !1}(o[r]),t.supports.everythi g=t.supports.everythi g&&t.supports[o[r]],\"flag\"!==o[r]&&(t.supports.everythi gExceptFlag=t.supports.everythi gExceptFlag&&t.supports[o[r]]);t.supports.everythi gExceptFlag=t.supports.everythi gExceptFlag&&!t.supports.flag,t.DOMReady=!1,t.readyCallback=fu ctio (){t.DOMReady=!0},t.supports.everythi g||( =fu ctio (){t.readyCallback()},a.addEve tListe er?(a.addEve tListe er(\"DOMCo te tLoaded\", ,!1),e.addEve tListe er(\"load\", ,!1)):(e.attachEve t(\"o load\", ),a.attachEve t(\"o readystatecha ge\",fu ctio (){\"complete\"===a.readyState&&t.readyCallback()})),(e=t.source||{}).co catemoji?c(e.co catemoji):e.wpemoji&&e.twemoji&&(c(e.twemoji),c(e.wpemoji)))}(wi dow,docume t,wi dow._wpemojiSetti gs);\\n\\n\\nimg.wp-smiley,\\nimg.emoji {\\n\\tdisplay: i li e !importa t;\\n\\tborder:  o e !importa t;\\n\\tbox-shadow:  o e !importa t;\\n\\theight: 1em !importa t;\\n\\twidth: 1em !importa t;\\n\\tmargi : 0 0.07em !importa t;\\n\\tvertical-alig : -0.1em !importa t;\\n\\tbackgrou d:  o e !importa t;\\n\\tpaddi g: 0 !importa t;\\n}\\n\\n\\n\\n\\n\\n\\n\\n\\n\\n\\nbody{--wp--preset--color--black: #000000;--wp--preset--color--cya -bluish-gray: #abb8c3;--wp--preset--color--white: #ffffff;--wp--preset--color--pale-pi k: #f78da7;--wp--preset--color--vivid-red: #cf2e2e;--wp--preset--color--lumi ous-vivid-ora ge: #ff6900;--wp--preset--color--lumi ous-vivid-amber: #fcb900;--wp--preset--color--light-gree -cya : #7bdcb5;--wp--preset--color--vivid-gree -cya : #00d084;--wp--preset--color--pale-cya -blue: #8ed1fc;--wp--preset--color--vivid-cya -blue: #0693e3;--wp--preset--color--vivid-purple: #9b51e0;--wp--preset--gradie t--vivid-cya -blue-to-vivid-purple: li ear-gradie t(135deg,rgba(6,147,227,1) 0%,rgb(155,81,224) 100%);--wp--preset--gradie t--light-gree -cya -to-vivid-gree -cya : li ear-gradie t(135deg,rgb(122,220,180) 0%,rgb(0,208,130) 100%);--wp--preset--gradie t--lumi ous-vivid-amber-to-lumi ous-vivid-ora ge: li ear-gradie t(135deg,rgba(252,185,0,1) 0%,rgba(255,105,0,1) 100%);--wp--preset--gradie t--lumi ous-vivid-ora ge-to-vivid-red: li ear-gradie t(135deg,rgba(255,105,0,1) 0%,rgb(207,46,46) 100%);--wp--preset--gradie t--very-light-gray-to-cya -bluish-gray: li ear-gradie t(135deg,rgb(238,238,238) 0%,rgb(169,184,195) 100%);--wp--preset--gradie t--cool-to-warm-spectrum: li ear-gradie t(135deg,rgb(74,234,220) 0%,rgb(151,120,209) 20%,rgb(207,42,186) 40%,rgb(238,44,130) 60%,rgb(251,105,98) 80%,rgb(254,248,76) 100%);--wp--preset--gradie t--blush-light-purple: li ear-gradie t(135deg,rgb(255,206,236) 0%,rgb(152,150,240) 100%);--wp--preset--gradie t--blush-bordeaux: li ear-gradie t(135deg,rgb(254,205,165) 0%,rgb(254,45,45) 50%,rgb(107,0,62) 100%);--wp--preset--gradie t--lumi ous-dusk: li ear-gradie t(135deg,rgb(255,203,112) 0%,rgb(199,81,192) 50%,rgb(65,88,208) 100%);--wp--preset--gradie t--pale-ocea : li ear-gradie t(135deg,rgb(255,245,203) 0%,rgb(182,227,212) 50%,rgb(51,167,181) 100%);--wp--preset--gradie t--electric-grass: li ear-gradie t(135deg,rgb(202,248,128) 0%,rgb(113,206,126) 100%);--wp--preset--gradie t--mid ight: li ear-gradie t(135deg,rgb(2,3,129) 0%,rgb(40,116,252) 100%);--wp--preset--duoto e--dark-grayscale: url(#wp-duoto e-dark-grayscale);--wp--preset--duoto e--grayscale: url(#wp-duoto e-grayscale);--wp--preset--duoto e--purple-yellow: url(#wp-duoto e-purple-yellow);--wp--preset--duoto e--blue-red: url(#wp-duoto e-blue-red);--wp--preset--duoto e--mid ight: url(#wp-duoto e-mid ight);--wp--preset--duoto e--mage ta-yellow: url(#wp-duoto e-mage ta-yellow);--wp--preset--duoto e--purple-gree : url(#wp-duoto e-purple-gree );--wp--preset--duoto e--blue-ora ge: url(#wp-duoto e-blue-ora ge);--wp--preset--fo t-size--small: 11px;--wp--preset--fo t-size--medium: 20px;--wp--preset--fo t-size--large: 32px;--wp--preset--fo t-size--x-large: 42px;--wp--preset--fo t-size--regular: 15px;--wp--preset--fo t-size--larger: 50px;--wp--preset--spaci g--20: 0.44rem;--wp--preset--spaci g--30: 0.67rem;--wp--preset--spaci g--40: 1rem;--wp--preset--spaci g--50: 1.5rem;--wp--preset--spaci g--60: 2.25rem;--wp--preset--spaci g--70: 3.38rem;--wp--preset--spaci g--80: 5.06rem;}:where(.is-layout-flex){gap: 0.5em;}body .is-layout-flow > .alig left{float: left;margi -i li e-start: 0;margi -i li e-e d: 2em;}body .is-layout-flow > .alig right{float: right;margi -i li e-start: 2em;margi -i li e-e d: 0;}body .is-layout-flow > .alig ce ter{margi -left: auto !importa t;margi -right: auto !importa t;}body .is-layout-co strai ed > .alig left{float: left;margi -i li e-start: 0;margi -i li e-e d: 2em;}body .is-layout-co strai ed > .alig right{float: right;margi -i li e-start: 2em;margi -i li e-e d: 0;}body .is-layout-co strai ed > .alig ce ter{margi -left: auto !importa t;margi -right: auto !importa t;}body .is-layout-co strai ed > :where(: ot(.alig left): ot(.alig right): ot(.alig full)){max-width: var(--wp--style--global--co te t-size);margi -left: auto !importa t;margi -right: auto !importa t;}body .is-layout-co strai ed > .alig wide{max-width: var(--wp--style--global--wide-size);}body .is-layout-flex{display: flex;}body .is-layout-flex{flex-wrap: wrap;alig -items: ce ter;}body .is-layout-flex > *{margi : 0;}:where(.wp-block-colum s.is-layout-flex){gap: 2em;}.has-black-color{color: var(--wp--preset--color--black) !importa t;}.has-cya -bluish-gray-color{color: var(--wp--preset--color--cya -bluish-gray) !importa t;}.has-white-color{color: var(--wp--preset--color--white) !importa t;}.has-pale-pi k-color{color: var(--wp--preset--color--pale-pi k) !importa t;}.has-vivid-red-color{color: var(--wp--preset--color--vivid-red) !importa t;}.has-lumi ous-vivid-ora ge-color{color: var(--wp--preset--color--lumi ous-vivid-ora ge) !importa t;}.has-lumi ous-vivid-amber-color{color: var(--wp--preset--color--lumi ous-vivid-amber) !importa t;}.has-light-gree -cya -color{color: var(--wp--preset--color--light-gree -cya ) !importa t;}.has-vivid-gree -cya -color{color: var(--wp--preset--color--vivid-gree -cya ) !importa t;}.has-pale-cya -blue-color{color: var(--wp--preset--color--pale-cya -blue) !importa t;}.has-vivid-cya -blue-color{color: var(--wp--preset--color--vivid-cya -blue) !importa t;}.has-vivid-purple-color{color: var(--wp--preset--color--vivid-purple) !importa t;}.has-black-backgrou d-color{backgrou d-color: var(--wp--preset--color--black) !importa t;}.has-cya -bluish-gray-backgrou d-color{backgrou d-color: var(--wp--preset--color--cya -bluish-gray) !importa t;}.has-white-backgrou d-color{backgrou d-color: var(--wp--preset--color--white) !importa t;}.has-pale-pi k-backgrou d-color{backgrou d-color: var(--wp--preset--color--pale-pi k) !importa t;}.has-vivid-red-backgrou d-color{backgrou d-color: var(--wp--preset--color--vivid-red) !importa t;}.has-lumi ous-vivid-ora ge-backgrou d-color{backgrou d-color: var(--wp--preset--color--lumi ous-vivid-ora ge) !importa t;}.has-lumi ous-vivid-amber-backgrou d-color{backgrou d-color: var(--wp--preset--color--lumi ous-vivid-amber) !importa t;}.has-light-gree -cya -backgrou d-color{backgrou d-color: var(--wp--preset--color--light-gree -cya ) !importa t;}.has-vivid-gree -cya -backgrou d-color{backgrou d-color: var(--wp--preset--color--vivid-gree -cya ) !importa t;}.has-pale-cya -blue-backgrou d-color{backgrou d-color: var(--wp--preset--color--pale-cya -blue) !importa t;}.has-vivid-cya -blue-backgrou d-color{backgrou d-color: var(--wp--preset--color--vivid-cya -blue) !importa t;}.has-vivid-purple-backgrou d-color{backgrou d-color: var(--wp--preset--color--vivid-purple) !importa t;}.has-black-border-color{border-color: var(--wp--preset--color--black) !importa t;}.has-cya -bluish-gray-border-color{border-color: var(--wp--preset--color--cya -bluish-gray) !importa t;}.has-white-border-color{border-color: var(--wp--preset--color--white) !importa t;}.has-pale-pi k-border-color{border-color: var(--wp--preset--color--pale-pi k) !importa t;}.has-vivid-red-border-color{border-color: var(--wp--preset--color--vivid-red) !importa t;}.has-lumi ous-vivid-ora ge-border-color{border-color: var(--wp--preset--color--lumi ous-vivid-ora ge) !importa t;}.has-lumi ous-vivid-amber-border-color{border-color: var(--wp--preset--color--lumi ous-vivid-amber) !importa t;}.has-light-gree -cya -border-color{border-color: var(--wp--preset--color--light-gree -cya ) !importa t;}.has-vivid-gree -cya -border-color{border-color: var(--wp--preset--color--vivid-gree -cya ) !importa t;}.has-pale-cya -blue-border-color{border-color: var(--wp--preset--color--pale-cya -blue) !importa t;}.has-vivid-cya -blue-border-color{border-color: var(--wp--preset--color--vivid-cya -blue) !importa t;}.has-vivid-purple-border-color{border-color: var(--wp--preset--color--vivid-purple) !importa t;}.has-vivid-cya -blue-to-vivid-purple-gradie t-backgrou d{backgrou d: var(--wp--preset--gradie t--vivid-cya -blue-to-vivid-purple) !importa t;}.has-light-gree -cya -to-vivid-gree -cya -gradie t-backgrou d{backgrou d: var(--wp--preset--gradie t--light-gree -cya -to-vivid-gree -cya ) !importa t;}.has-lumi ous-vivid-amber-to-lumi ous-vivid-ora ge-gradie t-backgrou d{backgrou d: var(--wp--preset--gradie t--lumi ous-vivid-amber-to-lumi ous-vivid-ora ge) !importa t;}.has-lumi ous-vivid-ora ge-to-vivid-red-gradie t-backgrou d{backgrou d: var(--wp--preset--gradie t--lumi ous-vivid-ora ge-to-vivid-red) !importa t;}.has-very-light-gray-to-cya -bluish-gray-gradie t-backgrou d{backgrou d: var(--wp--preset--gradie t--very-light-gray-to-cya -bluish-gray) !importa t;}.has-cool-to-warm-spectrum-gradie t-backgrou d{backgrou d: var(--wp--preset--gradie t--cool-to-warm-spectrum) !importa t;}.has-blush-light-purple-gradie t-backgrou d{backgrou d: var(--wp--preset--gradie t--blush-light-purple) !importa t;}.has-blush-bordeaux-gradie t-backgrou d{backgrou d: var(--wp--preset--gradie t--blush-bordeaux) !importa t;}.has-lumi ous-dusk-gradie t-backgrou d{backgrou d: var(--wp--preset--gradie t--lumi ous-dusk) !importa t;}.has-pale-ocea -gradie t-backgrou d{backgrou d: var(--wp--preset--gradie t--pale-ocea ) !importa t;}.has-electric-grass-gradie t-backgrou d{backgrou d: var(--wp--preset--gradie t--electric-grass) !importa t;}.has-mid ight-gradie t-backgrou d{backgrou d: var(--wp--preset--gradie t--mid ight) !importa t;}.has-small-fo t-size{fo t-size: var(--wp--preset--fo t-size--small) !importa t;}.has-medium-fo t-size{fo t-size: var(--wp--preset--fo t-size--medium) !importa t;}.has-large-fo t-size{fo t-size: var(--wp--preset--fo t-size--large) !importa t;}.has-x-large-fo t-size{fo t-size: var(--wp--preset--fo t-size--x-large) !importa t;}\\n.wp-block- avigatio  a:where(: ot(.wp-eleme t-butto )){color: i herit;}\\n:where(.wp-block-colum s.is-layout-flex){gap: 2em;}\\n.wp-block-pullquote{fo t-size: 1.5em;li e-height: 1.6;}\\n\\n\\n\\n\\n\\n\\n    \\r\\n        @media (max-width: 767px) {\\r\\n            .td-header-desktop-wrap {\\r\\n                display:  o e;\\r\\n            }\\r\\n        }\\r\\n        @media (mi -width: 767px) {\\r\\n            .td-header-mobile-wrap {\\r\\n                display:  o e;\\r\\n            }\\r\\n        }\\r\\n    \\r\\n\\t\\n\\n\\n\\n\\n\\n\\n\\n\\n\\n * <![CDATA[ * \\nvar BP_Co firm = {\"are_you_sure\":\"Are you sure?\"};\\n * ]]> * \\n\\n\\n\\n\\n\\n\\n\\n * <![CDATA[ * \\nvar BP_DTheme = {\"accepted\":\"Accepted\",\"close\":\"Close\",\"comme ts\":\"comme ts\",\"leave_group_co firm\":\"Are you sure you wa t to leave this group?\",\"mark_as_fav\":\"Favorite\",\"my_favs\":\"My Favorites\",\"rejected\":\"Rejected\",\"remove_fav\":\"Remove Favorite\",\"show_all\":\"Show all\",\"show_all_comme ts\":\"Show all comme ts for this thread\",\"show_x_comme ts\":\"Show all comme ts (%d)\",\"u saved_cha ges\":\"Your profile has u saved cha ges. If you leave the page, the cha ges will be lost.\",\"view\":\"View\",\"store_filter_setti gs\":\"\"};\\n * ]]> * \\n\\n\\n\\n\\n\\n\\n\\n\\n\\nvar ajaxurl = https:  mu doalbiceleste.com wp-admi  admi -ajax.php;\\n\\n\\r\\n        wi dow.tdb_globals = {\"wpRestNo ce\":\"a8c1611609\",\"wpRestUrl\":\"https:\\\\ \\\\ mu doalbiceleste.com\\\\ wp-jso \\\\ \",\"permali kStructure\":\"\\\\ %year%\\\\ %mo th um%\\\\ %day%\\\\ %post ame%\\\\ \",\"isAjax\":false,\"isAdmi BarShowi g\":false,\"autoloadScrollPerce t\":50,\"postAutoloadStatus\":\"off\",\"origPostEditUrl\": ull};\\r\\n    \\n\\r\\n\\t\\t\\t\\twi dow.tdwGlobal = {\"admi Url\":\"https:\\\\ \\\\ mu doalbiceleste.com\\\\ wp-admi \\\\ \",\"wpRestNo ce\":\"a8c1611609\",\"wpRestUrl\":\"https:\\\\ \\\\ mu doalbiceleste.com\\\\ wp-jso \\\\ \",\"permali kStructure\":\"\\\\ %year%\\\\ %mo th um%\\\\ %day%\\\\ %post ame%\\\\ \"};\\r\\n\\t\\t\\t\\n\\n\\n\\n\\n    \\n    \\r\\n\\r\\n\\t    var tdBlocksArray = [];   here we store all the items for the curre t page\\r\\n\\r\\n\\t      td_block class - each ajax block uses a object of this class for requests\\r\\n\\t    fu ctio  tdBlock() {\\r\\n\\t\\t    this.id = ;\\r\\n\\t\\t    this.block_type = 1;   block type id (1-234 etc)\\r\\n\\t\\t    this.atts = ;\\r\\n\\t\\t    this.td_colum _ umber = ;\\r\\n\\t\\t    this.td_curre t_page = 1;   \\r\\n\\t\\t    this.post_cou t = 0;   from wp\\r\\n\\t\\t    this.fou d_posts = 0;   from wp\\r\\n\\t\\t    this.max_ um_pages = 0;   from wp\\r\\n\\t\\t    this.td_filter_value = ;   curre t live filter value\\r\\n\\t\\t    this.is_ajax_ru  i g = false;\\r\\n\\t\\t    this.td_user_actio  = ;    load more or i fi ite loader (used by the a imatio )\\r\\n\\t\\t    this.header_color = ;\\r\\n\\t\\t    this.ajax_pagi atio _i fi ite_stop = ;   show load more at page x\\r\\n\\t    }\\r\\n\\r\\n\\r\\n           td_js_ge erator - mi i detector\\r\\n        (fu ctio (){\\r\\n            var htmlTag = docume t.getEleme tsByTagName(\"html\")[0];\\r\\n\\r\\n\\t        if (  avigator.userAge t.i dexOf(\"MSIE 10.0\") > -1 ) {\\r\\n                htmlTag.className +=  ie10;\\r\\n            }\\r\\n\\r\\n            if ( !! avigator.userAge t.match( Tride t.*rv\\\\:11\\\\. ) ) {\\r\\n                htmlTag.className +=  ie11;\\r\\n            }\\r\\n\\r\\n\\t        if (  avigator.userAge t.i dexOf(\"Edge\") > -1 ) {\\r\\n                htmlTag.className +=  ieEdge;\\r\\n            }\\r\\n\\r\\n            if (  (iPad|iPho e|iPod) g.test( avigator.userAge t) ) {\\r\\n                htmlTag.className +=  td-md-is-ios;\\r\\n            }\\r\\n\\r\\n            var user_age t =  avigator.userAge t.toLowerCase();\\r\\n            if ( user_age t.i dexOf(\"a droid\") > -1 ) {\\r\\n                htmlTag.className +=  td-md-is-a droid;\\r\\n            }\\r\\n\\r\\n            if ( -1 !==  avigator.userAge t.i dexOf(Mac OS X)  ) {\\r\\n                htmlTag.className +=  td-md-is-os-x;\\r\\n            }\\r\\n\\r\\n            if (  chrom(e|ium) .test( avigator.userAge t.toLowerCase()) ) {\\r\\n               htmlTag.className +=  td-md-is-chrome;\\r\\n            }\\r\\n\\r\\n            if ( -1 !==  avigator.userAge t.i dexOf(Firefox) ) {\\r\\n                htmlTag.className +=  td-md-is-firefox;\\r\\n            }\\r\\n\\r\\n            if ( -1 !==  avigator.userAge t.i dexOf(Safari) && -1 ===  avigator.userAge t.i dexOf(Chrome) ) {\\r\\n                htmlTag.className +=  td-md-is-safari;\\r\\n            }\\r\\n\\r\\n            if( -1 !==  avigator.userAge t.i dexOf(IEMobile) ){\\r\\n                htmlTag.className +=  td-md-is-iemobile;\\r\\n            }\\r\\n\\r\\n        })();\\r\\n\\r\\n\\r\\n\\r\\n\\r\\n        var tdLocalCache = {};\\r\\n\\r\\n        ( fu ctio  () {\\r\\n            \"use strict\";\\r\\n\\r\\n            tdLocalCache = {\\r\\n                data: {},\\r\\n                remove: fu ctio  (resource_id) {\\r\\n                    delete tdLocalCache.data[resource_id];\\r\\n                },\\r\\n                exist: fu ctio  (resource_id) {\\r\\n                    retur  tdLocalCache.data.hasOw Property(resource_id) && tdLocalCache.data[resource_id] !==  ull;\\r\\n                },\\r\\n                get: fu ctio  (resource_id) {\\r\\n                    retur  tdLocalCache.data[resource_id];\\r\\n                },\\r\\n                set: fu ctio  (resource_id, cachedData) {\\r\\n                    tdLocalCache.remove(resource_id);\\r\\n                    tdLocalCache.data[resource_id] = cachedData;\\r\\n                }\\r\\n            };\\r\\n        })();\\r\\n\\r\\n    \\r\\n    \\nvar td_viewport_i terval_list=[{\"limitBottom\":767,\"sidebarWidth\":228},{\"limitBottom\":1018,\"sidebarWidth\":300},{\"limitBottom\":1140,\"sidebarWidth\":324}];\\nvar tdc_is_i stalled=\"yes\";\\nvar td_ajax_url=\"https:\\\\ \\\\ mu doalbiceleste.com\\\\ wp-admi \\\\ admi -ajax.php?td_theme_ ame=Newspaper&v=10.3.2\";\\nvar td_get_template_directory_uri=\"https:\\\\ \\\\ mu doalbiceleste.com\\\\ wp-co te t\\\\ plugi s\\\\ td-composer\\\\ legacy\\\\ commo \";\\nvar tds_s ap_me u=\"\";\\nvar tds_logo_o _sticky=\"show_header_logo\";\\nvar tds_header_style=\"5\";\\nvar td_please_wait=\"Please wait...\";\\nvar td_email_user_pass_i correct=\"User or password i correct!\";\\nvar td_email_user_i correct=\"Email or user ame i correct!\";\\nvar td_email_i correct=\"Email i correct!\";\\nvar tds_more_articles_o _post_e able=\"\";\\nvar tds_more_articles_o _post_time_to_wait=\"\";\\nvar tds_more_articles_o _post_pages_dista ce_from_top=0;\\nvar tds_theme_color_site_wide=\"#385c7b\";\\nvar tds_smart_sidebar=\"\";\\nvar tdThemeName=\"Newspaper\";\\nvar td_mag ific_popup_tra slatio _tPrev=\"Previous (Left arrow key)\";\\nvar td_mag ific_popup_tra slatio _tNext=\"Next (Right arrow key)\";\\nvar td_mag ific_popup_tra slatio _tCou ter=\"%curr% of %total%\";\\nvar td_mag ific_popup_tra slatio _ajax_tError=\"The co te t from %url% could  ot be loaded.\";\\nvar td_mag ific_popup_tra slatio _image_tError=\"The image #%curr% could  ot be loaded.\";\\nvar tdBlockNo ce=\"c9541e4e3e\";\\nvar tdDateNamesI18 ={\"mo th_ ames\":[\"Ja uary\",\"February\",\"March\",\"April\",\"May\",\"Ju e\",\"July\",\"August\",\"September\",\"October\",\"November\",\"December\"],\"mo th_ ames_short\":[\"Ja \",\"Feb\",\"Mar\",\"Apr\",\"May\",\"Ju \",\"Jul\",\"Aug\",\"Sep\",\"Oct\",\"Nov\",\"Dec\"],\"day_ ames\":[\"Su day\",\"Mo day\",\"Tuesday\",\"Wed esday\",\"Thursday\",\"Friday\",\"Saturday\"],\"day_ ames_short\":[\"Su \",\"Mo \",\"Tue\",\"Wed\",\"Thu\",\"Fri\",\"Sat\"]};\\nvar td_ad_backgrou d_click_li k=\"\";\\nvar td_ad_backgrou d_click_target=\"\";\\n\\n\\n\\n    \\n.td-header-wrap .black-me u .sf-me u > .curre t-me u-item > a,\\r\\n    .td-header-wrap .black-me u .sf-me u > .curre t-me u-a cestor > a,\\r\\n    .td-header-wrap .black-me u .sf-me u > .curre t-category-a cestor > a,\\r\\n    .td-header-wrap .black-me u .sf-me u > li > a:hover,\\r\\n    .td-header-wrap .black-me u .sf-me u > .sfHover > a,\\r\\n    .sf-me u > .curre t-me u-item > a:after,\\r\\n    .sf-me u > .curre t-me u-a cestor > a:after,\\r\\n    .sf-me u > .curre t-category-a cestor > a:after,\\r\\n    .sf-me u > li:hover > a:after,\\r\\n    .sf-me u > .sfHover > a:after,\\r\\n    .header-search-wrap .td-drop-dow -search:after,\\r\\n    .header-search-wrap .td-drop-dow -search .bt :hover,\\r\\n    i put[type=submit]:hover,\\r\\n    .td-read-more a,\\r\\n    .td-post-category:hover,\\r\\n    .td_top_authors .td-active .td-author-post-cou t,\\r\\n    .td_top_authors .td-active .td-author-comme ts-cou t,\\r\\n    .td_top_authors .td_mod_wrap:hover .td-author-post-cou t,\\r\\n    .td_top_authors .td_mod_wrap:hover .td-author-comme ts-cou t,\\r\\n    .td-404-sub-sub-title a:hover,\\r\\n    .td-search-form-widget .wpb_butto :hover,\\r\\n    .td-rati g-bar-wrap div,\\r\\n    .dropcap,\\r\\n    .td_wrapper_video_playlist .td_video_co trols_playlist_wrapper,\\r\\n    .wpb_default,\\r\\n    .wpb_default:hover,\\r\\n    .td-left-smart-list:hover,\\r\\n    .td-right-smart-list:hover,\\r\\n    .woocommerce-checkout .woocommerce i put.butto :hover,\\r\\n    .woocommerce-page .woocommerce a.butto :hover,\\r\\n    .woocommerce-accou t div.woocommerce .butto :hover,\\r\\n    #bbpress-forums butto :hover,\\r\\n    .bbp_widget_logi  .butto :hover,\\r\\n    .td-footer-wrapper .td-post-category,\\r\\n    .td-footer-wrapper .widget_product_search i put[type=\"submit\"]:hover,\\r\\n    .woocommerce .product a.butto :hover,\\r\\n    .woocommerce .product #respo d i put#submit:hover,\\r\\n    .woocommerce .checkout i put#place_order:hover,\\r\\n    .woocommerce .woocommerce.widget .butto :hover,\\r\\n    .si gle-product .product .summary .cart .butto :hover,\\r\\n    .woocommerce-cart .woocommerce table.cart .butto :hover,\\r\\n    .woocommerce-cart .woocommerce .shippi g-calculator-form .butto :hover,\\r\\n    .td- ext-prev-wrap a:hover,\\r\\n    .td-load-more-wrap a:hover,\\r\\n    .td-post-small-box a:hover,\\r\\n    .page- av .curre t,\\r\\n    .page- av:first-child > div,\\r\\n    #bbpress-forums .bbp-pagi atio  .curre t,\\r\\n    #bbpress-forums #bbp-si gle-user-details #bbp-user- avigatio  li.curre t a,\\r\\n    .td-theme-slider:hover .slide-meta-cat a,\\r\\n    a.vc_bt -black:hover,\\r\\n    .td-tre di g- ow-wrapper:hover .td-tre di g- ow-title,\\r\\n    .td-scroll-up,\\r\\n    .td-smart-list-butto :hover,\\r\\n    .td-weather-i formatio :before,\\r\\n    .td-weather-week:before,\\r\\n    .td_block_excha ge .td-excha ge-header:before,\\r\\n    .td-pulldow -syle-2 .td-subcat-dropdow  ul:after,\\r\\n    .td_block_template_9 .td-block-title:after,\\r\\n    .td_block_template_15 .td-block-title:before,\\r\\n    div.wpforms-co tai er .wpforms-form div.wpforms-submit-co tai er butto [type=submit],\\r\\n    .td-close-video-fixed {\\r\\n        backgrou d-color: #385c7b;\\r\\n    }\\r\\n\\r\\n    .td_block_template_4 .td-related-title .td-cur-simple-item:before {\\r\\n        border-color: #385c7b tra spare t tra spare t tra spare t !importa t;\\r\\n    }\\r\\n\\r\\n    .woocommerce .woocommerce-message .butto :hover,\\r\\n    .woocommerce .woocommerce-error .butto :hover,\\r\\n    .woocommerce .woocommerce-i fo .butto :hover {\\r\\n        backgrou d-color: #385c7b !importa t;\\r\\n    }\\r\\n    \\r\\n    \\r\\n    .td_block_template_4 .td-related-title .td-cur-simple-item,\\r\\n    .td_block_template_3 .td-related-title .td-cur-simple-item,\\r\\n    .td_block_template_9 .td-related-title:after {\\r\\n        backgrou d-color: #385c7b;\\r\\n    }\\r\\n\\r\\n    .woocommerce .product .o sale,\\r\\n    .woocommerce.widget .ui-slider .ui-slider-ha dle {\\r\\n        backgrou d:  o e #385c7b;\\r\\n    }\\r\\n\\r\\n    .woocommerce.widget.widget_layered_ av_filters ul li a {\\r\\n        backgrou d:  o e repeat scroll 0 0 #385c7b !importa t;\\r\\n    }\\r\\n\\r\\n    a,\\r\\n    cite a:hover,\\r\\n    .td-page-co te t blockquote p,\\r\\n    .td-post-co te t blockquote p,\\r\\n    .mce-co te t-body blockquote p,\\r\\n    .comme t-co te t blockquote p,\\r\\n    .wpb_text_colum  blockquote p,\\r\\n    .td_block_text_with_title blockquote p,\\r\\n    .td_module_wrap:hover .e try-title a,\\r\\n    .td-subcat-filter .td-subcat-list a:hover,\\r\\n    .td-subcat-filter .td-subcat-dropdow  a:hover,\\r\\n    .td_quote_o _blocks,\\r\\n    .dropcap2,\\r\\n    .dropcap3,\\r\\n    .td_top_authors .td-active .td-authors- ame a,\\r\\n    .td_top_authors .td_mod_wrap:hover .td-authors- ame a,\\r\\n    .td-post- ext-prev-co te t a:hover,\\r\\n    .author-box-wrap .td-author-social a:hover,\\r\\n    .td-author- ame a:hover,\\r\\n    .td-author-url a:hover,\\r\\n    .comme t-reply-li k:hover,\\r\\n    .logged-i -as a:hover,\\r\\n    #ca cel-comme t-reply-li k:hover,\\r\\n    .td-search-query,\\r\\n    .widget a:hover,\\r\\n    .td_wp_rece tcomme ts a:hover,\\r\\n    .archive .widget_archive .curre t,\\r\\n    .archive .widget_archive .curre t a,\\r\\n    .widget_cale dar tfoot a:hover,\\r\\n    .woocommerce a.added_to_cart:hover,\\r\\n    .woocommerce-accou t .woocommerce-MyAccou t- avigatio  a:hover,\\r\\n    #bbpress-forums li.bbp-header .bbp-reply-co te t spa  a:hover,\\r\\n    #bbpress-forums .bbp-forum-fresh ess a:hover,\\r\\n    #bbpress-forums .bbp-topic-fresh ess a:hover,\\r\\n    #bbpress-forums .bbp-forums-list li a:hover,\\r\\n    #bbpress-forums .bbp-forum-title:hover,\\r\\n    #bbpress-forums .bbp-topic-permali k:hover,\\r\\n    #bbpress-forums .bbp-topic-started-by a:hover,\\r\\n    #bbpress-forums .bbp-topic-started-i  a:hover,\\r\\n    #bbpress-forums .bbp-body .super-sticky li.bbp-topic-title .bbp-topic-permali k,\\r\\n    #bbpress-forums .bbp-body .sticky li.bbp-topic-title .bbp-topic-permali k,\\r\\n    .widget_display_replies .bbp-author- ame,\\r\\n    .widget_display_topics .bbp-author- ame,\\r\\n    .td-subfooter-me u li a:hover,\\r\\n    a.vc_bt -black:hover,\\r\\n    .td-smart-list-dropdow -wrap .td-smart-list-butto :hover,\\r\\n    .td-i stagram-user a,\\r\\n    .td-block-title-wrap .td-wrapper-pulldow -filter .td-pulldow -filter-display-optio :hover,\\r\\n    .td-block-title-wrap .td-wrapper-pulldow -filter .td-pulldow -filter-display-optio :hover i,\\r\\n    .td-block-title-wrap .td-wrapper-pulldow -filter .td-pulldow -filter-li k:hover,\\r\\n    .td-block-title-wrap .td-wrapper-pulldow -filter .td-pulldow -filter-item .td-cur-simple-item,\\r\\n    .td_block_template_2 .td-related-title .td-cur-simple-item,\\r\\n    .td_block_template_5 .td-related-title .td-cur-simple-item,\\r\\n    .td_block_template_6 .td-related-title .td-cur-simple-item,\\r\\n    .td_block_template_7 .td-related-title .td-cur-simple-item,\\r\\n    .td_block_template_8 .td-related-title .td-cur-simple-item,\\r\\n    .td_block_template_9 .td-related-title .td-cur-simple-item,\\r\\n    .td_block_template_10 .td-related-title .td-cur-simple-item,\\r\\n    .td_block_template_11 .td-related-title .td-cur-simple-item,\\r\\n    .td_block_template_12 .td-related-title .td-cur-simple-item,\\r\\n    .td_block_template_13 .td-related-title .td-cur-simple-item,\\r\\n    .td_block_template_14 .td-related-title .td-cur-simple-item,\\r\\n    .td_block_template_15 .td-related-title .td-cur-simple-item,\\r\\n    .td_block_template_16 .td-related-title .td-cur-simple-item,\\r\\n    .td_block_template_17 .td-related-title .td-cur-simple-item,\\r\\n    .td-theme-wrap .sf-me u ul .td-me u-item > a:hover,\\r\\n    .td-theme-wrap .sf-me u ul .sfHover > a,\\r\\n    .td-theme-wrap .sf-me u ul .curre t-me u-a cestor > a,\\r\\n    .td-theme-wrap .sf-me u ul .curre t-category-a cestor > a,\\r\\n    .td-theme-wrap .sf-me u ul .curre t-me u-item > a,\\r\\n    .td_outli ed_bt ,\\r\\n     .td_block_categories_tags .td-ct-item:hover {\\r\\n        color: #385c7b;\\r\\n    }\\r\\n\\r\\n    a.vc_bt -black.vc_bt _square_outli ed:hover,\\r\\n    a.vc_bt -black.vc_bt _outli ed:hover {\\r\\n        color: #385c7b !importa t;\\r\\n    }\\r\\n\\r\\n    .td- ext-prev-wrap a:hover,\\r\\n    .td-load-more-wrap a:hover,\\r\\n    .td-post-small-box a:hover,\\r\\n    .page- av .curre t,\\r\\n    .page- av:first-child > div,\\r\\n    #bbpress-forums .bbp-pagi atio  .curre t,\\r\\n    .post .td_quote_box,\\r\\n    .page .td_quote_box,\\r\\n    a.vc_bt -black:hover,\\r\\n    .td_block_template_5 .td-block-title > *,\\r\\n    .td_outli ed_bt  {\\r\\n        border-color: #385c7b;\\r\\n    }\\r\\n\\r\\n    .td_wrapper_video_playlist .td_video_curre tly_playi g:after {\\r\\n        border-color: #385c7b !importa t;\\r\\n    }\\r\\n\\r\\n    .header-search-wrap .td-drop-dow -search:before {\\r\\n        border-color: tra spare t tra spare t #385c7b tra spare t;\\r\\n    }\\r\\n\\r\\n    .block-title > spa ,\\r\\n    .block-title > a,\\r\\n    .block-title > label,\\r\\n    .widgettitle,\\r\\n    .widgettitle:after,\\r\\n    .td-tre di g- ow-title,\\r\\n    .td-tre di g- ow-wrapper:hover .td-tre di g- ow-title,\\r\\n    .wpb_tabs li.ui-tabs-active a,\\r\\n    .wpb_tabs li:hover a,\\r\\n    .vc_tta-co tai er .vc_tta-color-grey.vc_tta-tabs-positio -top.vc_tta-style-classic .vc_tta-tabs-co tai er .vc_tta-tab.vc_active > a,\\r\\n    .vc_tta-co tai er .vc_tta-color-grey.vc_tta-tabs-positio -top.vc_tta-style-classic .vc_tta-tabs-co tai er .vc_tta-tab:hover > a,\\r\\n    .td_block_template_1 .td-related-title .td-cur-simple-item,\\r\\n    .woocommerce .product .products h2: ot(.woocommerce-loop-product__title),\\r\\n    .td-subcat-filter .td-subcat-dropdow :hover .td-subcat-more, \\r\\n    .td_3D_bt ,\\r\\n    .td_shadow_bt ,\\r\\n    .td_default_bt ,\\r\\n    .td_rou d_bt , \\r\\n    .td_outli ed_bt :hover {\\r\\n    \\tbackgrou d-color: #385c7b;\\r\\n    }\\r\\n\\r\\n    .woocommerce div.product .woocommerce-tabs ul.tabs li.active {\\r\\n    \\tbackgrou d-color: #385c7b !importa t;\\r\\n    }\\r\\n\\r\\n    .block-title,\\r\\n    .td_block_template_1 .td-related-title,\\r\\n    .wpb_tabs .wpb_tabs_ av,\\r\\n    .vc_tta-co tai er .vc_tta-color-grey.vc_tta-tabs-positio -top.vc_tta-style-classic .vc_tta-tabs-co tai er,\\r\\n    .woocommerce div.product .woocommerce-tabs ul.tabs:before {\\r\\n        border-color: #385c7b;\\r\\n    }\\r\\n    .td_block_wrap .td-subcat-item a.td-cur-simple-item {\\r\\n\\t    color: #385c7b;\\r\\n\\t}\\r\\n\\r\\n\\r\\n    \\r\\n    .td-grid-style-4 .e try-title\\r\\n    {\\r\\n        backgrou d-color: rgba(56, 92, 123, 0.7);\\r\\n    }\\r\\n\\r\\n\\r\\n    \\r\\n    .td-co tai er-wrap,\\r\\n    .post,\\r\\n    .tagdiv-type .td_quote_box {\\r\\n        backgrou d-color: tra spare t;\\r\\n    }\\r\\n    \\r\\n\\r\\n    \\r\\n    .td-theme-wrap .block-title > spa ,\\r\\n    .td-theme-wrap .block-title > spa  > a,\\r\\n    .td-theme-wrap .widget_rss .block-title .rsswidget,\\r\\n    .td-theme-wrap .block-title > a,\\r\\n    .widgettitle,\\r\\n    .widgettitle > a,\\r\\n    .td-tre di g- ow-title,\\r\\n    .wpb_tabs li.ui-tabs-active a,\\r\\n    .wpb_tabs li:hover a,\\r\\n    .vc_tta-co tai er .vc_tta-color-grey.vc_tta-tabs-positio -top.vc_tta-style-classic .vc_tta-tabs-co tai er .vc_tta-tab.vc_active > a,\\r\\n    .vc_tta-co tai er .vc_tta-color-grey.vc_tta-tabs-positio -top.vc_tta-style-classic .vc_tta-tabs-co tai er .vc_tta-tab:hover > a,\\r\\n    .td-related-title .td-cur-simple-item,\\r\\n    .woocommerce div.product .woocommerce-tabs ul.tabs li.active,\\r\\n    .woocommerce .product .products h2: ot(.woocommerce-loop-product__title),\\r\\n    .td-theme-wrap .td_block_template_2 .td-block-title > *,\\r\\n    .td-theme-wrap .td_block_template_3 .td-block-title > *,\\r\\n    .td-theme-wrap .td_block_template_4 .td-block-title > *,\\r\\n    .td-theme-wrap .td_block_template_5 .td-block-title > *,\\r\\n    .td-theme-wrap .td_block_template_6 .td-block-title > *,\\r\\n    .td-theme-wrap .td_block_template_6 .td-block-title:before,\\r\\n    .td-theme-wrap .td_block_template_7 .td-block-title > *,\\r\\n    .td-theme-wrap .td_block_template_8 .td-block-title > *,\\r\\n    .td-theme-wrap .td_block_template_9 .td-block-title > *,\\r\\n    .td-theme-wrap .td_block_template_10 .td-block-title > *,\\r\\n    .td-theme-wrap .td_block_template_11 .td-block-title > *,\\r\\n    .td-theme-wrap .td_block_template_12 .td-block-title > *,\\r\\n    .td-theme-wrap .td_block_template_13 .td-block-title > spa ,\\r\\n    .td-theme-wrap .td_block_template_13 .td-block-title > a,\\r\\n    .td-theme-wrap .td_block_template_14 .td-block-title > *,\\r\\n    .td-theme-wrap .td_block_template_14 .td-block-title-wrap .td-wrapper-pulldow -filter .td-pulldow -filter-display-optio ,\\r\\n    .td-theme-wrap .td_block_template_14 .td-block-title-wrap .td-wrapper-pulldow -filter .td-pulldow -filter-display-optio  i,\\r\\n    .td-theme-wrap .td_block_template_14 .td-block-title-wrap .td-wrapper-pulldow -filter .td-pulldow -filter-display-optio :hover,\\r\\n    .td-theme-wrap .td_block_template_14 .td-block-title-wrap .td-wrapper-pulldow -filter .td-pulldow -filter-display-optio :hover i,\\r\\n    .td-theme-wrap .td_block_template_15 .td-block-title > *,\\r\\n    .td-theme-wrap .td_block_template_15 .td-block-title-wrap .td-wrapper-pulldow -filter,\\r\\n    .td-theme-wrap .td_block_template_15 .td-block-title-wrap .td-wrapper-pulldow -filter i,\\r\\n    .td-theme-wrap .td_block_template_16 .td-block-title > *,\\r\\n    .td-theme-wrap .td_block_template_17 .td-block-title > * {\\r\\n    \\tcolor: #ffffff;\\r\\n    }\\r\\n\\r\\n\\r\\n    \\r\\n    .td-page-header h1,\\r\\n    .td-page-title,\\r\\n    .woocommerce-page .page-title {\\r\\n    \\tcolor: #000000;\\r\\n    }\\r\\n\\r\\n    \\r\\n    .td-page-co te t p,\\r\\n    .td-page-co te t .td_block_text_with_title,\\r\\n    .woocommerce-page .page-descriptio  > p {\\r\\n    \\tcolor: #000000;\\r\\n    }\\r\\n\\r\\n    \\r\\n    .td-page-co te t h1,\\r\\n    .td-page-co te t h2,\\r\\n    .td-page-co te t h3,\\r\\n    .td-page-co te t h4,\\r\\n    .td-page-co te t h5,\\r\\n    .td-page-co te t h6 {\\r\\n    \\tcolor: #000000;\\r\\n    }\\r\\n\\r\\n    .td-page-co te t .widgettitle {\\r\\n        color: #fff;\\r\\n    }.td-header-style-12 .td-header-me u-wrap-full,\\r\\n    .td-header-style-12 .td-affix,\\r\\n    .td-grid-style-1.td-hover-1 .td-big-grid-post:hover .td-post-category,\\r\\n    .td-grid-style-5.td-hover-1 .td-big-grid-post:hover .td-post-category,\\r\\n    .td_category_template_3 .td-curre t-sub-category,\\r\\n    .td_category_template_8 .td-category-header .td-category a.td-curre t-sub-category,\\r\\n    .td_category_template_4 .td-category-sibli gs .td-category a:hover,\\r\\n     .td_block_big_grid_9.td-grid-style-1 .td-post-category,\\r\\n    .td_block_big_grid_9.td-grid-style-5 .td-post-category,\\r\\n    .td-grid-style-6.td-hover-1 .td-module-thumb:after,\\r\\n     .tdm-me u-active-style5 .td-header-me u-wrap .sf-me u > .curre t-me u-item > a,\\r\\n    .tdm-me u-active-style5 .td-header-me u-wrap .sf-me u > .curre t-me u-a cestor > a,\\r\\n    .tdm-me u-active-style5 .td-header-me u-wrap .sf-me u > .curre t-category-a cestor > a,\\r\\n    .tdm-me u-active-style5 .td-header-me u-wrap .sf-me u > li > a:hover,\\r\\n    .tdm-me u-active-style5 .td-header-me u-wrap .sf-me u > .sfHover > a {\\r\\n        backgrou d-color: #385c7b;\\r\\n    }\\r\\n    \\r\\n    .td_mega_me u_sub_cats .cur-sub-cat,\\r\\n    .td-mega-spa  h3 a:hover,\\r\\n    .td_mod_mega_me u:hover .e try-title a,\\r\\n    .header-search-wrap .result-msg a:hover,\\r\\n    .td-header-top-me u .td-drop-dow -search .td_module_wrap:hover .e try-title a,\\r\\n    .td-header-top-me u .td-ico -search:hover,\\r\\n    .td-header-wrap .result-msg a:hover,\\r\\n    .top-header-me u li a:hover,\\r\\n    .top-header-me u .curre t-me u-item > a,\\r\\n    .top-header-me u .curre t-me u-a cestor > a,\\r\\n    .top-header-me u .curre t-category-a cestor > a,\\r\\n    .td-social-ico -wrap > a:hover,\\r\\n    .td-header-sp-top-widget .td-social-ico -wrap a:hover,\\r\\n    .td_mod_related_posts:hover h3 > a,\\r\\n    .td-post-template-11 .td-related-title .td-related-left:hover,\\r\\n    .td-post-template-11 .td-related-title .td-related-right:hover,\\r\\n    .td-post-template-11 .td-related-title .td-cur-simple-item,\\r\\n    .td-post-template-11 .td_block_related_posts .td- ext-prev-wrap a:hover,\\r\\n    .td-category-header .td-pulldow -category-filter-li k:hover,\\r\\n    .td-category-sibli gs .td-subcat-dropdow  a:hover,\\r\\n    .td-category-sibli gs .td-subcat-dropdow  a.td-curre t-sub-category,\\r\\n    .footer-text-wrap .footer-email-wrap a,\\r\\n    .footer-social-wrap a:hover,\\r\\n    .td_module_17 .td-read-more a:hover,\\r\\n    .td_module_18 .td-read-more a:hover,\\r\\n    .td_module_19 .td-post-author- ame a:hover,\\r\\n    .td-pulldow -syle-2 .td-subcat-dropdow :hover .td-subcat-more spa ,\\r\\n    .td-pulldow -syle-2 .td-subcat-dropdow :hover .td-subcat-more i,\\r\\n    .td-pulldow -syle-3 .td-subcat-dropdow :hover .td-subcat-more spa ,\\r\\n    .td-pulldow -syle-3 .td-subcat-dropdow :hover .td-subcat-more i,\\r\\n    .tdm-me u-active-style3 .tdm-header.td-header-wrap .sf-me u > .curre t-category-a cestor > a,\\r\\n    .tdm-me u-active-style3 .tdm-header.td-header-wrap .sf-me u > .curre t-me u-a cestor > a,\\r\\n    .tdm-me u-active-style3 .tdm-header.td-header-wrap .sf-me u > .curre t-me u-item > a,\\r\\n    .tdm-me u-active-style3 .tdm-header.td-header-wrap .sf-me u > .sfHover > a,\\r\\n    .tdm-me u-active-style3 .tdm-header.td-header-wrap .sf-me u > li > a:hover {\\r\\n        color: #385c7b;\\r\\n    }\\r\\n    \\r\\n    .td-mega-me u-page .wpb_co te t_eleme t ul li a:hover,\\r\\n    .td-theme-wrap .td-aj-search-results .td_module_wrap:hover .e try-title a,\\r\\n    .td-theme-wrap .header-search-wrap .result-msg a:hover {\\r\\n        color: #385c7b !importa t;\\r\\n    }\\r\\n    \\r\\n    .td_category_template_8 .td-category-header .td-category a.td-curre t-sub-category,\\r\\n    .td_category_template_4 .td-category-sibli gs .td-category a:hover,\\r\\n    .tdm-me u-active-style4 .tdm-header .sf-me u > .curre t-me u-item > a,\\r\\n    .tdm-me u-active-style4 .tdm-header .sf-me u > .curre t-me u-a cestor > a,\\r\\n    .tdm-me u-active-style4 .tdm-header .sf-me u > .curre t-category-a cestor > a,\\r\\n    .tdm-me u-active-style4 .tdm-header .sf-me u > li > a:hover,\\r\\n    .tdm-me u-active-style4 .tdm-header .sf-me u > .sfHover > a {\\r\\n        border-color: #385c7b;\\r\\n    }\\r\\n    \\r\\n    \\r\\n\\r\\n\\r\\n    \\r\\n    .td-header-wrap .td-header-top-me u-full,\\r\\n    .td-header-wrap .top-header-me u .sub-me u,\\r\\n    .tdm-header-style-1.td-header-wrap .td-header-top-me u-full,\\r\\n    .tdm-header-style-1.td-header-wrap .top-header-me u .sub-me u,\\r\\n    .tdm-header-style-2.td-header-wrap .td-header-top-me u-full,\\r\\n    .tdm-header-style-2.td-header-wrap .top-header-me u .sub-me u,\\r\\n    .tdm-header-style-3.td-header-wrap .td-header-top-me u-full,\\r\\n    .tdm-header-style-3.td-header-wrap .top-header-me u .sub-me u {\\r\\n        backgrou d-color: #1a1a1a;\\r\\n    }\\r\\n    .td-header-style-8 .td-header-top-me u-full {\\r\\n        backgrou d-color: tra spare t;\\r\\n    }\\r\\n    .td-header-style-8 .td-header-top-me u-full .td-header-top-me u {\\r\\n        backgrou d-color: #1a1a1a;\\r\\n        paddi g-left: 15px;\\r\\n        paddi g-right: 15px;\\r\\n    }\\r\\n\\r\\n    .td-header-wrap .td-header-top-me u-full .td-header-top-me u,\\r\\n    .td-header-wrap .td-header-top-me u-full {\\r\\n        border-bottom:  o e;\\r\\n    }\\r\\n\\r\\n\\r\\n    \\r\\n    .td-header-top-me u,\\r\\n    .td-header-top-me u a,\\r\\n    .td-header-wrap .td-header-top-me u-full .td-header-top-me u,\\r\\n    .td-header-wrap .td-header-top-me u-full a,\\r\\n    .td-header-style-8 .td-header-top-me u,\\r\\n    .td-header-style-8 .td-header-top-me u a,\\r\\n    .td-header-top-me u .td-drop-dow -search .e try-title a {\\r\\n        color: #ffffff;\\r\\n    }\\r\\n\\r\\n    \\r\\n    .td-header-wrap .td-header-me u-wrap-full,\\r\\n    .td-header-me u-wrap.td-affix,\\r\\n    .td-header-style-3 .td-header-mai -me u,\\r\\n    .td-header-style-3 .td-affix .td-header-mai -me u,\\r\\n    .td-header-style-4 .td-header-mai -me u,\\r\\n    .td-header-style-4 .td-affix .td-header-mai -me u,\\r\\n    .td-header-style-8 .td-header-me u-wrap.td-affix,\\r\\n    .td-header-style-8 .td-header-top-me u-full {\\r\\n        backgrou d-color: #385c7b;\\r\\n    }\\r\\n    .td-boxed-layout .td-header-style-3 .td-header-me u-wrap,\\r\\n    .td-boxed-layout .td-header-style-4 .td-header-me u-wrap,\\r\\n    .td-header-style-3 .td_stretch_co te t .td-header-me u-wrap,\\r\\n    .td-header-style-4 .td_stretch_co te t .td-header-me u-wrap {\\r\\n    \\tbackgrou d-color: #385c7b !importa t;\\r\\n    }\\r\\n    @media (mi -width: 1019px) {\\r\\n        .td-header-style-1 .td-header-sp-recs,\\r\\n        .td-header-style-1 .td-header-sp-logo {\\r\\n            margi -bottom: 28px;\\r\\n        }\\r\\n    }\\r\\n    @media (mi -width: 768px) a d (max-width: 1018px) {\\r\\n        .td-header-style-1 .td-header-sp-recs,\\r\\n        .td-header-style-1 .td-header-sp-logo {\\r\\n            margi -bottom: 14px;\\r\\n        }\\r\\n    }\\r\\n    .td-header-style-7 .td-header-top-me u {\\r\\n        border-bottom:  o e;\\r\\n    }\\r\\n\\r\\n    \\r\\n    .sf-me u > .curre t-me u-item > a:after,\\r\\n    .sf-me u > .curre t-me u-a cestor > a:after,\\r\\n    .sf-me u > .curre t-category-a cestor > a:after,\\r\\n    .sf-me u > li:hover > a:after,\\r\\n    .sf-me u > .sfHover > a:after,\\r\\n    .td_block_mega_me u .td- ext-prev-wrap a:hover,\\r\\n    .td-mega-spa  .td-post-category:hover,\\r\\n     .td-header-wrap .black-me u .sf-me u > li > a:hover,\\r\\n    .td-header-wrap .black-me u .sf-me u > .curre t-me u-a cestor > a,\\r\\n    .td-header-wrap .black-me u .sf-me u > .sfHover > a,\\r\\n    .td-header-wrap .black-me u .sf-me u > .curre t-me u-item > a,\\r\\n    .td-header-wrap .black-me u .sf-me u > .curre t-me u-a cestor > a,\\r\\n    .td-header-wrap .black-me u .sf-me u > .curre t-category-a cestor > a,\\r\\n    .tdm-me u-active-style5 .tdm-header .td-header-me u-wrap .sf-me u > .curre t-me u-item > a,\\r\\n    .tdm-me u-active-style5 .tdm-header .td-header-me u-wrap .sf-me u > .curre t-me u-a cestor > a,\\r\\n    .tdm-me u-active-style5 .tdm-header .td-header-me u-wrap .sf-me u > .curre t-category-a cestor > a,\\r\\n    .tdm-me u-active-style5 .tdm-header .td-header-me u-wrap .sf-me u > li > a:hover,\\r\\n    .tdm-me u-active-style5 .tdm-header .td-header-me u-wrap .sf-me u > .sfHover > a {\\r\\n        backgrou d-color: #ffffff;\\r\\n    }\\r\\n    .td_block_mega_me u .td- ext-prev-wrap a:hover,\\r\\n    .tdm-me u-active-style4 .tdm-header .sf-me u > .curre t-me u-item > a,\\r\\n    .tdm-me u-active-style4 .tdm-header .sf-me u > .curre t-me u-a cestor > a,\\r\\n    .tdm-me u-active-style4 .tdm-header .sf-me u > .curre t-category-a cestor > a,\\r\\n    .tdm-me u-active-style4 .tdm-header .sf-me u > li > a:hover,\\r\\n    .tdm-me u-active-style4 .tdm-header .sf-me u > .sfHover > a {\\r\\n        border-color: #ffffff;\\r\\n    }\\r\\n    .header-search-wrap .td-drop-dow -search:before {\\r\\n        border-color: tra spare t tra spare t #ffffff tra spare t;\\r\\n    }\\r\\n    .td_mega_me u_sub_cats .cur-sub-cat,\\r\\n    .td_mod_mega_me u:hover .e try-title a,\\r\\n    .td-theme-wrap .sf-me u ul .td-me u-item > a:hover,\\r\\n    .td-theme-wrap .sf-me u ul .sfHover > a,\\r\\n    .td-theme-wrap .sf-me u ul .curre t-me u-a cestor > a,\\r\\n    .td-theme-wrap .sf-me u ul .curre t-category-a cestor > a,\\r\\n    .td-theme-wrap .sf-me u ul .curre t-me u-item > a,\\r\\n    .tdm-me u-active-style3 .tdm-header.td-header-wrap .sf-me u > .curre t-me u-item > a,\\r\\n    .tdm-me u-active-style3 .tdm-header.td-header-wrap .sf-me u > .curre t-me u-a cestor > a,\\r\\n    .tdm-me u-active-style3 .tdm-header.td-header-wrap .sf-me u > .curre t-category-a cestor > a,\\r\\n    .tdm-me u-active-style3 .tdm-header.td-header-wrap .sf-me u > li > a:hover,\\r\\n    .tdm-me u-active-style3 .tdm-header.td-header-wrap .sf-me u > .sfHover > a {\\r\\n        color: #ffffff;\\r\\n    }\\r\\n    \\r\\n\\r\\n    \\r\\n    .td-header-wrap .td-header-me u-wrap .sf-me u > li > a,\\r\\n    .td-header-wrap .td-header-me u-social .td-social-ico -wrap a,\\r\\n    .td-header-style-4 .td-header-me u-social .td-social-ico -wrap i,\\r\\n    .td-header-style-5 .td-header-me u-social .td-social-ico -wrap i,\\r\\n    .td-header-style-6 .td-header-me u-social .td-social-ico -wrap i,\\r\\n    .td-header-style-12 .td-header-me u-social .td-social-ico -wrap i,\\r\\n    .td-header-wrap .header-search-wrap #td-header-search-butto  .td-ico -search {\\r\\n        color: #000000;\\r\\n    }\\r\\n    .td-header-wrap .td-header-me u-social + .td-search-wrapper #td-header-search-butto :before {\\r\\n      backgrou d-color: #000000;\\r\\n    }\\r\\n    \\r\\n    \\r\\n    \\r\\n    .td-header-me u-wrap.td-affix,\\r\\n    .td-header-style-3 .td-affix .td-header-mai -me u,\\r\\n    .td-header-style-4 .td-affix .td-header-mai -me u,\\r\\n    .td-header-style-8 .td-header-me u-wrap.td-affix {\\r\\n        backgrou d-color: #385c7b;\\r\\n    }\\r\\n   \\r\\n    \\r\\n    \\r\\n    .td-affix .sf-me u > .curre t-me u-item > a:after,\\r\\n    .td-affix .sf-me u > .curre t-me u-a cestor > a:after,\\r\\n    .td-affix .sf-me u > .curre t-category-a cestor > a:after,\\r\\n    .td-affix .sf-me u > li:hover > a:after,\\r\\n    .td-affix .sf-me u > .sfHover > a:after,\\r\\n    .td-header-wrap .td-affix .black-me u .sf-me u > li > a:hover,\\r\\n    .td-header-wrap .td-affix .black-me u .sf-me u > .curre t-me u-a cestor > a,\\r\\n    .td-header-wrap .td-affix .black-me u .sf-me u > .sfHover > a,\\r\\n    .td-affix  .header-search-wrap .td-drop-dow -search:after,\\r\\n    .td-affix  .header-search-wrap .td-drop-dow -search .bt :hover,\\r\\n    .td-header-wrap .td-affix  .black-me u .sf-me u > .curre t-me u-item > a,\\r\\n    .td-header-wrap .td-affix  .black-me u .sf-me u > .curre t-me u-a cestor > a,\\r\\n    .td-header-wrap .td-affix  .black-me u .sf-me u > .curre t-category-a cestor > a,\\r\\n    .tdm-me u-active-style5 .tdm-header .td-header-me u-wrap.td-affix .sf-me u > .curre t-me u-item > a,\\r\\n    .tdm-me u-active-style5 .tdm-header .td-header-me u-wrap.td-affix .sf-me u > .curre t-me u-a cestor > a,\\r\\n    .tdm-me u-active-style5 .tdm-header .td-header-me u-wrap.td-affix .sf-me u > .curre t-category-a cestor > a,\\r\\n    .tdm-me u-active-style5 .tdm-header .td-header-me u-wrap.td-affix .sf-me u > li > a:hover,\\r\\n    .tdm-me u-active-style5 .tdm-header .td-header-me u-wrap.td-affix .sf-me u > .sfHover > a {\\r\\n        backgrou d-color: #ffffff;\\r\\n    }\\r\\n    .td-affix  .header-search-wrap .td-drop-dow -search:before {\\r\\n        border-color: tra spare t tra spare t #ffffff tra spare t;\\r\\n    }\\r\\n    .tdm-me u-active-style4 .tdm-header .td-affix .sf-me u > .curre t-me u-item > a,\\r\\n    .tdm-me u-active-style4 .tdm-header .td-affix .sf-me u > .curre t-me u-a cestor > a,\\r\\n    .tdm-me u-active-style4 .tdm-header .td-affix .sf-me u > .curre t-category-a cestor > a,\\r\\n    .tdm-me u-active-style4 .tdm-header .td-affix .sf-me u > li > a:hover,\\r\\n    .tdm-me u-active-style4 .tdm-header .td-affix .sf-me u > .sfHover > a {\\r\\n        border-color: #ffffff;\\r\\n    }\\r\\n    .td-theme-wrap .td-affix .sf-me u ul .td-me u-item > a:hover,\\r\\n    .td-theme-wrap .td-affix .sf-me u ul .sfHover > a,\\r\\n    .td-theme-wrap .td-affix .sf-me u ul .curre t-me u-a cestor > a,\\r\\n    .td-theme-wrap .td-affix .sf-me u ul .curre t-category-a cestor > a,\\r\\n    .td-theme-wrap .td-affix .sf-me u ul .curre t-me u-item > a,\\r\\n    .tdm-me u-active-style3 .tdm-header .td-affix .sf-me u > .curre t-me u-item > a,\\r\\n    .tdm-me u-active-style3 .tdm-header .td-affix .sf-me u > .curre t-me u-a cestor > a,\\r\\n    .tdm-me u-active-style3 .tdm-header .td-affix .sf-me u > .curre t-category-a cestor > a,\\r\\n    .tdm-me u-active-style3 .tdm-header .td-affix .sf-me u > li > a:hover,\\r\\n    .tdm-me u-active-style3 .tdm-header .td-affix .sf-me u > .sfHover > a {\\r\\n        color: #ffffff;\\r\\n    }\\r\\n    \\r\\n    .td-header-wrap .td-header-me u-wrap.td-affix .sf-me u > li > a,\\r\\n    .td-header-wrap .td-affix .td-header-me u-social .td-social-ico -wrap a,\\r\\n    .td-header-style-4 .td-affix .td-header-me u-social .td-social-ico -wrap i,\\r\\n    .td-header-style-5 .td-affix .td-header-me u-social .td-social-ico -wrap i,\\r\\n    .td-header-style-6 .td-affix .td-header-me u-social .td-social-ico -wrap i,\\r\\n    .td-header-style-12 .td-affix .td-header-me u-social .td-social-ico -wrap i,\\r\\n    .td-header-wrap .td-affix .header-search-wrap .td-ico -search {\\r\\n        color: #ffffff;\\r\\n    }\\r\\n    .td-header-wrap .td-affix .td-header-me u-social + .td-search-wrapper #td-header-search-butto :before {\\r\\n        backgrou d-color: #ffffff;\\r\\n    }\\r\\n\\r\\n\\r\\n    \\r\\n    .td-theme-wrap .sf-me u .td- ormal-me u .td-me u-item > a:hover,\\r\\n    .td-theme-wrap .sf-me u .td- ormal-me u .sfHover > a,\\r\\n    .td-theme-wrap .sf-me u .td- ormal-me u .curre t-me u-a cestor > a,\\r\\n    .td-theme-wrap .sf-me u .td- ormal-me u .curre t-category-a cestor > a,\\r\\n    .td-theme-wrap .sf-me u .td- ormal-me u .curre t-me u-item > a {\\r\\n        backgrou d-color: #385c7b;\\r\\n    }\\r\\n    \\r\\n    .td-footer-wrapper,\\r\\n    .td-footer-wrapper .td_block_template_7 .td-block-title > *,\\r\\n    .td-footer-wrapper .td_block_template_17 .td-block-title,\\r\\n    .td-footer-wrapper .td-block-title-wrap .td-wrapper-pulldow -filter {\\r\\n        backgrou d-color: #385c7b;\\r\\n    }\\r\\n\\r\\n    \\r\\n    .td-footer-wrapper .footer-social-wrap .td-ico -fo t {\\r\\n        color: #ffffff;\\r\\n    }\\r\\n\\r\\n    \\r\\n\\t.td-footer-wrapper .block-title > spa ,\\r\\n    .td-footer-wrapper .block-title > a,\\r\\n    .td-footer-wrapper .widgettitle,\\r\\n    .td-theme-wrap .td-footer-wrapper .td-co tai er .td-block-title > *,\\r\\n    .td-theme-wrap .td-footer-wrapper .td_block_template_6 .td-block-title:before {\\r\\n    \\tcolor: #ffffff;\\r\\n    }\\r\\n\\r\\n\\r\\n\\r\\n    \\r\\n    .post .td-post-header .e try-title {\\r\\n        color: #000000;\\r\\n    }\\r\\n    .td_module_15 .e try-title a {\\r\\n        color: #000000;\\r\\n    }\\r\\n\\r\\n    \\r\\n    .td-post-co te t,\\r\\n    .td-post-co te t p {\\r\\n    \\tcolor: #000000;\\r\\n    }\\r\\n\\r\\n    \\r\\n    .td-post-co te t h1,\\r\\n    .td-post-co te t h2,\\r\\n    .td-post-co te t h3,\\r\\n    .td-post-co te t h4,\\r\\n    .td-post-co te t h5,\\r\\n    .td-post-co te t h6 {\\r\\n    \\tcolor: #000000;\\r\\n    }\\r\\n\\r\\n    \\r\\n    .post blockquote p,\\r\\n    .page blockquote p {\\r\\n    \\tcolor: #385c7b;\\r\\n    }\\r\\n    .post .td_quote_box,\\r\\n    .page .td_quote_box {\\r\\n        border-color: #385c7b;\\r\\n    }\\n\\nbody {\\n\\tbackgrou d-color:#ffffff;\\n}\\n.td-header-wrap .black-me u .sf-me u > .curre t-me u-item > a,\\r\\n    .td-header-wrap .black-me u .sf-me u > .curre t-me u-a cestor > a,\\r\\n    .td-header-wrap .black-me u .sf-me u > .curre t-category-a cestor > a,\\r\\n    .td-header-wrap .black-me u .sf-me u > li > a:hover,\\r\\n    .td-header-wrap .black-me u .sf-me u > .sfHover > a,\\r\\n    .sf-me u > .curre t-me u-item > a:after,\\r\\n    .sf-me u > .curre t-me u-a cestor > a:after,\\r\\n    .sf-me u > .curre t-category-a cestor > a:after,\\r\\n    .sf-me u > li:hover > a:after,\\r\\n    .sf-me u > .sfHover > a:after,\\r\\n    .header-search-wrap .td-drop-dow -search:after,\\r\\n    .header-search-wrap .td-drop-dow -search .bt :hover,\\r\\n    i put[type=submit]:hover,\\r\\n    .td-read-more a,\\r\\n    .td-post-category:hover,\\r\\n    .td_top_authors .td-active .td-author-post-cou t,\\r\\n    .td_top_authors .td-active .td-author-comme ts-cou t,\\r\\n    .td_top_authors .td_mod_wrap:hover .td-author-post-cou t,\\r\\n    .td_top_authors .td_mod_wrap:hover .td-author-comme ts-cou t,\\r\\n    .td-404-sub-sub-title a:hover,\\r\\n    .td-search-form-widget .wpb_butto :hover,\\r\\n    .td-rati g-bar-wrap div,\\r\\n    .dropcap,\\r\\n    .td_wrapper_video_playlist .td_video_co trols_playlist_wrapper,\\r\\n    .wpb_default,\\r\\n    .wpb_default:hover,\\r\\n    .td-left-smart-list:hover,\\r\\n    .td-right-smart-list:hover,\\r\\n    .woocommerce-checkout .woocommerce i put.butto :hover,\\r\\n    .woocommerce-page .woocommerce a.butto :hover,\\r\\n    .woocommerce-accou t div.woocommerce .butto :hover,\\r\\n    #bbpress-forums butto :hover,\\r\\n    .bbp_widget_logi  .butto :hover,\\r\\n    .td-footer-wrapper .td-post-category,\\r\\n    .td-footer-wrapper .widget_product_search i put[type=\"submit\"]:hover,\\r\\n    .woocommerce .product a.butto :hover,\\r\\n    .woocommerce .product #respo d i put#submit:hover,\\r\\n    .woocommerce .checkout i put#place_order:hover,\\r\\n    .woocommerce .woocommerce.widget .butto :hover,\\r\\n    .si gle-product .product .summary .cart .butto :hover,\\r\\n    .woocommerce-cart .woocommerce table.cart .butto :hover,\\r\\n    .woocommerce-cart .woocommerce .shippi g-calculator-form .butto :hover,\\r\\n    .td- ext-prev-wrap a:hover,\\r\\n    .td-load-more-wrap a:hover,\\r\\n    .td-post-small-box a:hover,\\r\\n    .page- av .curre t,\\r\\n    .page- av:first-child > div,\\r\\n    #bbpress-forums .bbp-pagi atio  .curre t,\\r\\n    #bbpress-forums #bbp-si gle-user-details #bbp-user- avigatio  li.curre t a,\\r\\n    .td-theme-slider:hover .slide-meta-cat a,\\r\\n    a.vc_bt -black:hover,\\r\\n    .td-tre di g- ow-wrapper:hover .td-tre di g- ow-title,\\r\\n    .td-scroll-up,\\r\\n    .td-smart-list-butto :hover,\\r\\n    .td-weather-i formatio :before,\\r\\n    .td-weather-week:before,\\r\\n    .td_block_excha ge .td-excha ge-header:before,\\r\\n    .td-pulldow -syle-2 .td-subcat-dropdow  ul:after,\\r\\n    .td_block_template_9 .td-block-title:after,\\r\\n    .td_block_template_15 .td-block-title:before,\\r\\n    div.wpforms-co tai er .wpforms-form div.wpforms-submit-co tai er butto [type=submit],\\r\\n    .td-close-video-fixed {\\r\\n        backgrou d-color: #385c7b;\\r\\n    }\\r\\n\\r\\n    .td_block_template_4 .td-related-title .td-cur-simple-item:before {\\r\\n        border-color: #385c7b tra spare t tra spare t tra spare t !importa t;\\r\\n    }\\r\\n\\r\\n    .woocommerce .woocommerce-message .butto :hover,\\r\\n    .woocommerce .woocommerce-error .butto :hover,\\r\\n    .woocommerce .woocommerce-i fo .butto :hover {\\r\\n        backgrou d-color: #385c7b !importa t;\\r\\n    }\\r\\n    \\r\\n    \\r\\n    .td_block_template_4 .td-related-title .td-cur-simple-item,\\r\\n    .td_block_template_3 .td-related-title .td-cur-simple-item,\\r\\n    .td_block_template_9 .td-related-title:after {\\r\\n        backgrou d-color: #385c7b;\\r\\n    }\\r\\n\\r\\n    .woocommerce .product .o sale,\\r\\n    .woocommerce.widget .ui-slider .ui-slider-ha dle {\\r\\n        backgrou d:  o e #385c7b;\\r\\n    }\\r\\n\\r\\n    .woocommerce.widget.widget_layered_ av_filters ul li a {\\r\\n        backgrou d:  o e repeat scroll 0 0 #385c7b !importa t;\\r\\n    }\\r\\n\\r\\n    a,\\r\\n    cite a:hover,\\r\\n    .td-page-co te t blockquote p,\\r\\n    .td-post-co te t blockquote p,\\r\\n    .mce-co te t-body blockquote p,\\r\\n    .comme t-co te t blockquote p,\\r\\n    .wpb_text_colum  blockquote p,\\r\\n    .td_block_text_with_title blockquote p,\\r\\n    .td_module_wrap:hover .e try-title a,\\r\\n    .td-subcat-filter .td-subcat-list a:hover,\\r\\n    .td-subcat-filter .td-subcat-dropdow  a:hover,\\r\\n    .td_quote_o _blocks,\\r\\n    .dropcap2,\\r\\n    .dropcap3,\\r\\n    .td_top_authors .td-active .td-authors- ame a,\\r\\n    .td_top_authors .td_mod_wrap:hover .td-authors- ame a,\\r\\n    .td-post- ext-prev-co te t a:hover,\\r\\n    .author-box-wrap .td-author-social a:hover,\\r\\n    .td-author- ame a:hover,\\r\\n    .td-author-url a:hover,\\r\\n    .comme t-reply-li k:hover,\\r\\n    .logged-i -as a:hover,\\r\\n    #ca cel-comme t-reply-li k:hover,\\r\\n    .td-search-query,\\r\\n    .widget a:hover,\\r\\n    .td_wp_rece tcomme ts a:hover,\\r\\n    .archive .widget_archive .curre t,\\r\\n    .archive .widget_archive .curre t a,\\r\\n    .widget_cale dar tfoot a:hover,\\r\\n    .woocommerce a.added_to_cart:hover,\\r\\n    .woocommerce-accou t .woocommerce-MyAccou t- avigatio  a:hover,\\r\\n    #bbpress-forums li.bbp-header .bbp-reply-co te t spa  a:hover,\\r\\n    #bbpress-forums .bbp-forum-fresh ess a:hover,\\r\\n    #bbpress-forums .bbp-topic-fresh ess a:hover,\\r\\n    #bbpress-forums .bbp-forums-list li a:hover,\\r\\n    #bbpress-forums .bbp-forum-title:hover,\\r\\n    #bbpress-forums .bbp-topic-permali k:hover,\\r\\n    #bbpress-forums .bbp-topic-started-by a:hover,\\r\\n    #bbpress-forums .bbp-topic-started-i  a:hover,\\r\\n    #bbpress-forums .bbp-body .super-sticky li.bbp-topic-title .bbp-topic-permali k,\\r\\n    #bbpress-forums .bbp-body .sticky li.bbp-topic-title .bbp-topic-permali k,\\r\\n    .widget_display_replies .bbp-author- ame,\\r\\n    .widget_display_topics .bbp-author- ame,\\r\\n    .td-subfooter-me u li a:hover,\\r\\n    a.vc_bt -black:hover,\\r\\n    .td-smart-list-dropdow -wrap .td-smart-list-butto :hover,\\r\\n    .td-i stagram-user a,\\r\\n    .td-block-title-wrap .td-wrapper-pulldow -filter .td-pulldow -filter-display-optio :hover,\\r\\n    .td-block-title-wrap .td-wrapper-pulldow -filter .td-pulldow -filter-display-optio :hover i,\\r\\n    .td-block-title-wrap .td-wrapper-pulldow -filter .td-pulldow -filter-li k:hover,\\r\\n    .td-block-title-wrap .td-wrapper-pulldow -filter .td-pulldow -filter-item .td-cur-simple-item,\\r\\n    .td_block_template_2 .td-related-title .td-cur-simple-item,\\r\\n    .td_block_template_5 .td-related-title .td-cur-simple-item,\\r\\n    .td_block_template_6 .td-related-title .td-cur-simple-item,\\r\\n    .td_block_template_7 .td-related-title .td-cur-simple-item,\\r\\n    .td_block_template_8 .td-related-title .td-cur-simple-item,\\r\\n    .td_block_template_9 .td-related-title .td-cur-simple-item,\\r\\n    .td_block_template_10 .td-related-title .td-cur-simple-item,\\r\\n    .td_block_template_11 .td-related-title .td-cur-simple-item,\\r\\n    .td_block_template_12 .td-related-title .td-cur-simple-item,\\r\\n    .td_block_template_13 .td-related-title .td-cur-simple-item,\\r\\n    .td_block_template_14 .td-related-title .td-cur-simple-item,\\r\\n    .td_block_template_15 .td-related-title .td-cur-simple-item,\\r\\n    .td_block_template_16 .td-related-title .td-cur-simple-item,\\r\\n    .td_block_template_17 .td-related-title .td-cur-simple-item,\\r\\n    .td-theme-wrap .sf-me u ul .td-me u-item > a:hover,\\r\\n    .td-theme-wrap .sf-me u ul .sfHover > a,\\r\\n    .td-theme-wrap .sf-me u ul .curre t-me u-a cestor > a,\\r\\n    .td-theme-wrap .sf-me u ul .curre t-category-a cestor > a,\\r\\n    .td-theme-wrap .sf-me u ul .curre t-me u-item > a,\\r\\n    .td_outli ed_bt ,\\r\\n     .td_block_categories_tags .td-ct-item:hover {\\r\\n        color: #385c7b;\\r\\n    }\\r\\n\\r\\n    a.vc_bt -black.vc_bt _square_outli ed:hover,\\r\\n    a.vc_bt -black.vc_bt _outli ed:hover {\\r\\n        color: #385c7b !importa t;\\r\\n    }\\r\\n\\r\\n    .td- ext-prev-wrap a:hover,\\r\\n    .td-load-more-wrap a:hover,\\r\\n    .td-post-small-box a:hover,\\r\\n    .page- av .curre t,\\r\\n    .page- av:first-child > div,\\r\\n    #bbpress-forums .bbp-pagi atio  .curre t,\\r\\n    .post .td_quote_box,\\r\\n    .page .td_quote_box,\\r\\n    a.vc_bt -black:hover,\\r\\n    .td_block_template_5 .td-block-title > *,\\r\\n    .td_outli ed_bt  {\\r\\n        border-color: #385c7b;\\r\\n    }\\r\\n\\r\\n    .td_wrapper_video_playlist .td_video_curre tly_playi g:after {\\r\\n        border-color: #385c7b !importa t;\\r\\n    }\\r\\n\\r\\n    .header-search-wrap .td-drop-dow -search:before {\\r\\n        border-color: tra spare t tra spare t #385c7b tra spare t;\\r\\n    }\\r\\n\\r\\n    .block-title > spa ,\\r\\n    .block-title > a,\\r\\n    .block-title > label,\\r\\n    .widgettitle,\\r\\n    .widgettitle:after,\\r\\n    .td-tre di g- ow-title,\\r\\n    .td-tre di g- ow-wrapper:hover .td-tre di g- ow-title,\\r\\n    .wpb_tabs li.ui-tabs-active a,\\r\\n    .wpb_tabs li:hover a,\\r\\n    .vc_tta-co tai er .vc_tta-color-grey.vc_tta-tabs-positio -top.vc_tta-style-classic .vc_tta-tabs-co tai er .vc_tta-tab.vc_active > a,\\r\\n    .vc_tta-co tai er .vc_tta-color-grey.vc_tta-tabs-positio -top.vc_tta-style-classic .vc_tta-tabs-co tai er .vc_tta-tab:hover > a,\\r\\n    .td_block_template_1 .td-related-title .td-cur-simple-item,\\r\\n    .woocommerce .product .products h2: ot(.woocommerce-loop-product__title),\\r\\n    .td-subcat-filter .td-subcat-dropdow :hover .td-subcat-more, \\r\\n    .td_3D_bt ,\\r\\n    .td_shadow_bt ,\\r\\n    .td_default_bt ,\\r\\n    .td_rou d_bt , \\r\\n    .td_outli ed_bt :hover {\\r\\n    \\tbackgrou d-color: #385c7b;\\r\\n    }\\r\\n\\r\\n    .woocommerce div.product .woocommerce-tabs ul.tabs li.active {\\r\\n    \\tbackgrou d-color: #385c7b !importa t;\\r\\n    }\\r\\n\\r\\n    .block-title,\\r\\n    .td_block_template_1 .td-related-title,\\r\\n    .wpb_tabs .wpb_tabs_ av,\\r\\n    .vc_tta-co tai er .vc_tta-color-grey.vc_tta-tabs-positio -top.vc_tta-style-classic .vc_tta-tabs-co tai er,\\r\\n    .woocommerce div.product .woocommerce-tabs ul.tabs:before {\\r\\n        border-color: #385c7b;\\r\\n    }\\r\\n    .td_block_wrap .td-subcat-item a.td-cur-simple-item {\\r\\n\\t    color: #385c7b;\\r\\n\\t}\\r\\n\\r\\n\\r\\n    \\r\\n    .td-grid-style-4 .e try-title\\r\\n    {\\r\\n        backgrou d-color: rgba(56, 92, 123, 0.7);\\r\\n    }\\r\\n\\r\\n\\r\\n    \\r\\n    .td-co tai er-wrap,\\r\\n    .post,\\r\\n    .tagdiv-type .td_quote_box {\\r\\n        backgrou d-color: tra spare t;\\r\\n    }\\r\\n    \\r\\n\\r\\n    \\r\\n    .td-theme-wrap .block-title > spa ,\\r\\n    .td-theme-wrap .block-title > spa  > a,\\r\\n    .td-theme-wrap .widget_rss .block-title .rsswidget,\\r\\n    .td-theme-wrap .block-title > a,\\r\\n    .widgettitle,\\r\\n    .widgettitle > a,\\r\\n    .td-tre di g- ow-title,\\r\\n    .wpb_tabs li.ui-tabs-active a,\\r\\n    .wpb_tabs li:hover a,\\r\\n    .vc_tta-co tai er .vc_tta-color-grey.vc_tta-tabs-positio -top.vc_tta-style-classic .vc_tta-tabs-co tai er .vc_tta-tab.vc_active > a,\\r\\n    .vc_tta-co tai er .vc_tta-color-grey.vc_tta-tabs-positio -top.vc_tta-style-classic .vc_tta-tabs-co tai er .vc_tta-tab:hover > a,\\r\\n    .td-related-title .td-cur-simple-item,\\r\\n    .woocommerce div.product .woocommerce-tabs ul.tabs li.active,\\r\\n    .woocommerce .product .products h2: ot(.woocommerce-loop-product__title),\\r\\n    .td-theme-wrap .td_block_template_2 .td-block-title > *,\\r\\n    .td-theme-wrap .td_block_template_3 .td-block-title > *,\\r\\n    .td-theme-wrap .td_block_template_4 .td-block-title > *,\\r\\n    .td-theme-wrap .td_block_template_5 .td-block-title > *,\\r\\n    .td-theme-wrap .td_block_template_6 .td-block-title > *,\\r\\n    .td-theme-wrap .td_block_template_6 .td-block-title:before,\\r\\n    .td-theme-wrap .td_block_template_7 .td-block-title > *,\\r\\n    .td-theme-wrap .td_block_template_8 .td-block-title > *,\\r\\n    .td-theme-wrap .td_block_template_9 .td-block-title > *,\\r\\n    .td-theme-wrap .td_block_template_10 .td-block-title > *,\\r\\n    .td-theme-wrap .td_block_template_11 .td-block-title > *,\\r\\n    .td-theme-wrap .td_block_template_12 .td-block-title > *,\\r\\n    .td-theme-wrap .td_block_template_13 .td-block-title > spa ,\\r\\n    .td-theme-wrap .td_block_template_13 .td-block-title > a,\\r\\n    .td-theme-wrap .td_block_template_14 .td-block-title > *,\\r\\n    .td-theme-wrap .td_block_template_14 .td-block-title-wrap .td-wrapper-pulldow -filter .td-pulldow -filter-display-optio ,\\r\\n    .td-theme-wrap .td_block_template_14 .td-block-title-wrap .td-wrapper-pulldow -filter .td-pulldow -filter-display-optio  i,\\r\\n    .td-theme-wrap .td_block_template_14 .td-block-title-wrap .td-wrapper-pulldow -filter .td-pulldow -filter-display-optio :hover,\\r\\n    .td-theme-wrap .td_block_template_14 .td-block-title-wrap .td-wrapper-pulldow -filter .td-pulldow -filter-display-optio :hover i,\\r\\n    .td-theme-wrap .td_block_template_15 .td-block-title > *,\\r\\n    .td-theme-wrap .td_block_template_15 .td-block-title-wrap .td-wrapper-pulldow -filter,\\r\\n    .td-theme-wrap .td_block_template_15 .td-block-title-wrap .td-wrapper-pulldow -filter i,\\r\\n    .td-theme-wrap .td_block_template_16 .td-block-title > *,\\r\\n    .td-theme-wrap .td_block_template_17 .td-block-title > * {\\r\\n    \\tcolor: #ffffff;\\r\\n    }\\r\\n\\r\\n\\r\\n    \\r\\n    .td-page-header h1,\\r\\n    .td-page-title,\\r\\n    .woocommerce-page .page-title {\\r\\n    \\tcolor: #000000;\\r\\n    }\\r\\n\\r\\n    \\r\\n    .td-page-co te t p,\\r\\n    .td-page-co te t .td_block_text_with_title,\\r\\n    .woocommerce-page .page-descriptio  > p {\\r\\n    \\tcolor: #000000;\\r\\n    }\\r\\n\\r\\n    \\r\\n    .td-page-co te t h1,\\r\\n    .td-page-co te t h2,\\r\\n    .td-page-co te t h3,\\r\\n    .td-page-co te t h4,\\r\\n    .td-page-co te t h5,\\r\\n    .td-page-co te t h6 {\\r\\n    \\tcolor: #000000;\\r\\n    }\\r\\n\\r\\n    .td-page-co te t .widgettitle {\\r\\n        color: #fff;\\r\\n    }.td-header-style-12 .td-header-me u-wrap-full,\\r\\n    .td-header-style-12 .td-affix,\\r\\n    .td-grid-style-1.td-hover-1 .td-big-grid-post:hover .td-post-category,\\r\\n    .td-grid-style-5.td-hover-1 .td-big-grid-post:hover .td-post-category,\\r\\n    .td_category_template_3 .td-curre t-sub-category,\\r\\n    .td_category_template_8 .td-category-header .td-category a.td-curre t-sub-category,\\r\\n    .td_category_template_4 .td-category-sibli gs .td-category a:hover,\\r\\n     .td_block_big_grid_9.td-grid-style-1 .td-post-category,\\r\\n    .td_block_big_grid_9.td-grid-style-5 .td-post-category,\\r\\n    .td-grid-style-6.td-hover-1 .td-module-thumb:after,\\r\\n     .tdm-me u-active-style5 .td-header-me u-wrap .sf-me u > .curre t-me u-item > a,\\r\\n    .tdm-me u-active-style5 .td-header-me u-wrap .sf-me u > .curre t-me u-a cestor > a,\\r\\n    .tdm-me u-active-style5 .td-header-me u-wrap .sf-me u > .curre t-category-a cestor > a,\\r\\n    .tdm-me u-active-style5 .td-header-me u-wrap .sf-me u > li > a:hover,\\r\\n    .tdm-me u-active-style5 .td-header-me u-wrap .sf-me u > .sfHover > a {\\r\\n        backgrou d-color: #385c7b;\\r\\n    }\\r\\n    \\r\\n    .td_mega_me u_sub_cats .cur-sub-cat,\\r\\n    .td-mega-spa  h3 a:hover,\\r\\n    .td_mod_mega_me u:hover .e try-title a,\\r\\n    .header-search-wrap .result-msg a:hover,\\r\\n    .td-header-top-me u .td-drop-dow -search .td_module_wrap:hover .e try-title a,\\r\\n    .td-header-top-me u .td-ico -search:hover,\\r\\n    .td-header-wrap .result-msg a:hover,\\r\\n    .top-header-me u li a:hover,\\r\\n    .top-header-me u .curre t-me u-item > a,\\r\\n    .top-header-me u .curre t-me u-a cestor > a,\\r\\n    .top-header-me u .curre t-category-a cestor > a,\\r\\n    .td-social-ico -wrap > a:hover,\\r\\n    .td-header-sp-top-widget .td-social-ico -wrap a:hover,\\r\\n    .td_mod_related_posts:hover h3 > a,\\r\\n    .td-post-template-11 .td-related-title .td-related-left:hover,\\r\\n    .td-post-template-11 .td-related-title .td-related-right:hover,\\r\\n    .td-post-template-11 .td-related-title .td-cur-simple-item,\\r\\n    .td-post-template-11 .td_block_related_posts .td- ext-prev-wrap a:hover,\\r\\n    .td-category-header .td-pulldow -category-filter-li k:hover,\\r\\n    .td-category-sibli gs .td-subcat-dropdow  a:hover,\\r\\n    .td-category-sibli gs .td-subcat-dropdow  a.td-curre t-sub-category,\\r\\n    .footer-text-wrap .footer-email-wrap a,\\r\\n    .footer-social-wrap a:hover,\\r\\n    .td_module_17 .td-read-more a:hover,\\r\\n    .td_module_18 .td-read-more a:hover,\\r\\n    .td_module_19 .td-post-author- ame a:hover,\\r\\n    .td-pulldow -syle-2 .td-subcat-dropdow :hover .td-subcat-more spa ,\\r\\n    .td-pulldow -syle-2 .td-subcat-dropdow :hover .td-subcat-more i,\\r\\n    .td-pulldow -syle-3 .td-subcat-dropdow :hover .td-subcat-more spa ,\\r\\n    .td-pulldow -syle-3 .td-subcat-dropdow :hover .td-subcat-more i,\\r\\n    .tdm-me u-active-style3 .tdm-header.td-header-wrap .sf-me u > .curre t-category-a cestor > a,\\r\\n    .tdm-me u-active-style3 .tdm-header.td-header-wrap .sf-me u > .curre t-me u-a cestor > a,\\r\\n    .tdm-me u-active-style3 .tdm-header.td-header-wrap .sf-me u > .curre t-me u-item > a,\\r\\n    .tdm-me u-active-style3 .tdm-header.td-header-wrap .sf-me u > .sfHover > a,\\r\\n    .tdm-me u-active-style3 .tdm-header.td-header-wrap .sf-me u > li > a:hover {\\r\\n        color: #385c7b;\\r\\n    }\\r\\n    \\r\\n    .td-mega-me u-page .wpb_co te t_eleme t ul li a:hover,\\r\\n    .td-theme-wrap .td-aj-search-results .td_module_wrap:hover .e try-title a,\\r\\n    .td-theme-wrap .header-search-wrap .result-msg a:hover {\\r\\n        color: #385c7b !importa t;\\r\\n    }\\r\\n    \\r\\n    .td_category_template_8 .td-category-header .td-category a.td-curre t-sub-category,\\r\\n    .td_category_template_4 .td-category-sibli gs .td-category a:hover,\\r\\n    .tdm-me u-active-style4 .tdm-header .sf-me u > .curre t-me u-item > a,\\r\\n    .tdm-me u-active-style4 .tdm-header .sf-me u > .curre t-me u-a cestor > a,\\r\\n    .tdm-me u-active-style4 .tdm-header .sf-me u > .curre t-category-a cestor > a,\\r\\n    .tdm-me u-active-style4 .tdm-header .sf-me u > li > a:hover,\\r\\n    .tdm-me u-active-style4 .tdm-header .sf-me u > .sfHover > a {\\r\\n        border-color: #385c7b;\\r\\n    }\\r\\n    \\r\\n    \\r\\n\\r\\n\\r\\n    \\r\\n    .td-header-wrap .td-header-top-me u-full,\\r\\n    .td-header-wrap .top-header-me u .sub-me u,\\r\\n    .tdm-header-style-1.td-header-wrap .td-header-top-me u-full,\\r\\n    .tdm-header-style-1.td-header-wrap .top-header-me u .sub-me u,\\r\\n    .tdm-header-style-2.td-header-wrap .td-header-top-me u-full,\\r\\n    .tdm-header-style-2.td-header-wrap .top-header-me u .sub-me u,\\r\\n    .tdm-header-style-3.td-header-wrap .td-header-top-me u-full,\\r\\n    .tdm-header-style-3.td-header-wrap .top-header-me u .sub-me u {\\r\\n        backgrou d-color: #1a1a1a;\\r\\n    }\\r\\n    .td-header-style-8 .td-header-top-me u-full {\\r\\n        backgrou d-color: tra spare t;\\r\\n    }\\r\\n    .td-header-style-8 .td-header-top-me u-full .td-header-top-me u {\\r\\n        backgrou d-color: #1a1a1a;\\r\\n        paddi g-left: 15px;\\r\\n        paddi g-right: 15px;\\r\\n    }\\r\\n\\r\\n    .td-header-wrap .td-header-top-me u-full .td-header-top-me u,\\r\\n    .td-header-wrap .td-header-top-me u-full {\\r\\n        border-bottom:  o e;\\r\\n    }\\r\\n\\r\\n\\r\\n    \\r\\n    .td-header-top-me u,\\r\\n    .td-header-top-me u a,\\r\\n    .td-header-wrap .td-header-top-me u-full .td-header-top-me u,\\r\\n    .td-header-wrap .td-header-top-me u-full a,\\r\\n    .td-header-style-8 .td-header-top-me u,\\r\\n    .td-header-style-8 .td-header-top-me u a,\\r\\n    .td-header-top-me u .td-drop-dow -search .e try-title a {\\r\\n        color: #ffffff;\\r\\n    }\\r\\n\\r\\n    \\r\\n    .td-header-wrap .td-header-me u-wrap-full,\\r\\n    .td-header-me u-wrap.td-affix,\\r\\n    .td-header-style-3 .td-header-mai -me u,\\r\\n    .td-header-style-3 .td-affix .td-header-mai -me u,\\r\\n    .td-header-style-4 .td-header-mai -me u,\\r\\n    .td-header-style-4 .td-affix .td-header-mai -me u,\\r\\n    .td-header-style-8 .td-header-me u-wrap.td-affix,\\r\\n    .td-header-style-8 .td-header-top-me u-full {\\r\\n        backgrou d-color: #385c7b;\\r\\n    }\\r\\n    .td-boxed-layout .td-header-style-3 .td-header-me u-wrap,\\r\\n    .td-boxed-layout .td-header-style-4 .td-header-me u-wrap,\\r\\n    .td-header-style-3 .td_stretch_co te t .td-header-me u-wrap,\\r\\n    .td-header-style-4 .td_stretch_co te t .td-header-me u-wrap {\\r\\n    \\tbackgrou d-color: #385c7b !importa t;\\r\\n    }\\r\\n    @media (mi -width: 1019px) {\\r\\n        .td-header-style-1 .td-header-sp-recs,\\r\\n        .td-header-style-1 .td-header-sp-logo {\\r\\n            margi -bottom: 28px;\\r\\n        }\\r\\n    }\\r\\n    @media (mi -width: 768px) a d (max-width: 1018px) {\\r\\n        .td-header-style-1 .td-header-sp-recs,\\r\\n        .td-header-style-1 .td-header-sp-logo {\\r\\n            margi -bottom: 14px;\\r\\n        }\\r\\n    }\\r\\n    .td-header-style-7 .td-header-top-me u {\\r\\n        border-bottom:  o e;\\r\\n    }\\r\\n\\r\\n    \\r\\n    .sf-me u > .curre t-me u-item > a:after,\\r\\n    .sf-me u > .curre t-me u-a cestor > a:after,\\r\\n    .sf-me u > .curre t-category-a cestor > a:after,\\r\\n    .sf-me u > li:hover > a:after,\\r\\n    .sf-me u > .sfHover > a:after,\\r\\n    .td_block_mega_me u .td- ext-prev-wrap a:hover,\\r\\n    .td-mega-spa  .td-post-category:hover,\\r\\n     .td-header-wrap .black-me u .sf-me u > li > a:hover,\\r\\n    .td-header-wrap .black-me u .sf-me u > .curre t-me u-a cestor > a,\\r\\n    .td-header-wrap .black-me u .sf-me u > .sfHover > a,\\r\\n    .td-header-wrap .black-me u .sf-me u > .curre t-me u-item > a,\\r\\n    .td-header-wrap .black-me u .sf-me u > .curre t-me u-a cestor > a,\\r\\n    .td-header-wrap .black-me u .sf-me u > .curre t-category-a cestor > a,\\r\\n    .tdm-me u-active-style5 .tdm-header .td-header-me u-wrap .sf-me u > .curre t-me u-item > a,\\r\\n    .tdm-me u-active-style5 .tdm-header .td-header-me u-wrap .sf-me u > .curre t-me u-a cestor > a,\\r\\n    .tdm-me u-active-style5 .tdm-header .td-header-me u-wrap .sf-me u > .curre t-category-a cestor > a,\\r\\n    .tdm-me u-active-style5 .tdm-header .td-header-me u-wrap .sf-me u > li > a:hover,\\r\\n    .tdm-me u-active-style5 .tdm-header .td-header-me u-wrap .sf-me u > .sfHover > a {\\r\\n        backgrou d-color: #ffffff;\\r\\n    }\\r\\n    .td_block_mega_me u .td- ext-prev-wrap a:hover,\\r\\n    .tdm-me u-active-style4 .tdm-header .sf-me u > .curre t-me u-item > a,\\r\\n    .tdm-me u-active-style4 .tdm-header .sf-me u > .curre t-me u-a cestor > a,\\r\\n    .tdm-me u-active-style4 .tdm-header .sf-me u > .curre t-category-a cestor > a,\\r\\n    .tdm-me u-active-style4 .tdm-header .sf-me u > li > a:hover,\\r\\n    .tdm-me u-active-style4 .tdm-header .sf-me u > .sfHover > a {\\r\\n        border-color: #ffffff;\\r\\n    }\\r\\n    .header-search-wrap .td-drop-dow -search:before {\\r\\n        border-color: tra spare t tra spare t #ffffff tra spare t;\\r\\n    }\\r\\n    .td_mega_me u_sub_cats .cur-sub-cat,\\r\\n    .td_mod_mega_me u:hover .e try-title a,\\r\\n    .td-theme-wrap .sf-me u ul .td-me u-item > a:hover,\\r\\n    .td-theme-wrap .sf-me u ul .sfHover > a,\\r\\n    .td-theme-wrap .sf-me u ul .curre t-me u-a cestor > a,\\r\\n    .td-theme-wrap .sf-me u ul .curre t-category-a cestor > a,\\r\\n    .td-theme-wrap .sf-me u ul .curre t-me u-item > a,\\r\\n    .tdm-me u-active-style3 .tdm-header.td-header-wrap .sf-me u > .curre t-me u-item > a,\\r\\n    .tdm-me u-active-style3 .tdm-header.td-header-wrap .sf-me u > .curre t-me u-a cestor > a,\\r\\n    .tdm-me u-active-style3 .tdm-header.td-header-wrap .sf-me u > .curre t-category-a cestor > a,\\r\\n    .tdm-me u-active-style3 .tdm-header.td-header-wrap .sf-me u > li > a:hover,\\r\\n    .tdm-me u-active-style3 .tdm-header.td-header-wrap .sf-me u > .sfHover > a {\\r\\n        color: #ffffff;\\r\\n    }\\r\\n    \\r\\n\\r\\n    \\r\\n    .td-header-wrap .td-header-me u-wrap .sf-me u > li > a,\\r\\n    .td-header-wrap .td-header-me u-social .td-social-ico -wrap a,\\r\\n    .td-header-style-4 .td-header-me u-social .td-social-ico -wrap i,\\r\\n    .td-header-style-5 .td-header-me u-social .td-social-ico -wrap i,\\r\\n    .td-header-style-6 .td-header-me u-social .td-social-ico -wrap i,\\r\\n    .td-header-style-12 .td-header-me u-social .td-social-ico -wrap i,\\r\\n    .td-header-wrap .header-search-wrap #td-header-search-butto  .td-ico -search {\\r\\n        color: #000000;\\r\\n    }\\r\\n    .td-header-wrap .td-header-me u-social + .td-search-wrapper #td-header-search-butto :before {\\r\\n      backgrou d-color: #000000;\\r\\n    }\\r\\n    \\r\\n    \\r\\n    \\r\\n    .td-header-me u-wrap.td-affix,\\r\\n    .td-header-style-3 .td-affix .td-header-mai -me u,\\r\\n    .td-header-style-4 .td-affix .td-header-mai -me u,\\r\\n    .td-header-style-8 .td-header-me u-wrap.td-affix {\\r\\n        backgrou d-color: #385c7b;\\r\\n    }\\r\\n   \\r\\n    \\r\\n    \\r\\n    .td-affix .sf-me u > .curre t-me u-item > a:after,\\r\\n    .td-affix .sf-me u > .curre t-me u-a cestor > a:after,\\r\\n    .td-affix .sf-me u > .curre t-category-a cestor > a:after,\\r\\n    .td-affix .sf-me u > li:hover > a:after,\\r\\n    .td-affix .sf-me u > .sfHover > a:after,\\r\\n    .td-header-wrap .td-affix .black-me u .sf-me u > li > a:hover,\\r\\n    .td-header-wrap .td-affix .black-me u .sf-me u > .curre t-me u-a cestor > a,\\r\\n    .td-header-wrap .td-affix .black-me u .sf-me u > .sfHover > a,\\r\\n    .td-affix  .header-search-wrap .td-drop-dow -search:after,\\r\\n    .td-affix  .header-search-wrap .td-drop-dow -search .bt :hover,\\r\\n    .td-header-wrap .td-affix  .black-me u .sf-me u > .curre t-me u-item > a,\\r\\n    .td-header-wrap .td-affix  .black-me u .sf-me u > .curre t-me u-a cestor > a,\\r\\n    .td-header-wrap .td-affix  .black-me u .sf-me u > .curre t-category-a cestor > a,\\r\\n    .tdm-me u-active-style5 .tdm-header .td-header-me u-wrap.td-affix .sf-me u > .curre t-me u-item > a,\\r\\n    .tdm-me u-active-style5 .tdm-header .td-header-me u-wrap.td-affix .sf-me u > .curre t-me u-a cestor > a,\\r\\n    .tdm-me u-active-style5 .tdm-header .td-header-me u-wrap.td-affix .sf-me u > .curre t-category-a cestor > a,\\r\\n    .tdm-me u-active-style5 .tdm-header .td-header-me u-wrap.td-affix .sf-me u > li > a:hover,\\r\\n    .tdm-me u-active-style5 .tdm-header .td-header-me u-wrap.td-affix .sf-me u > .sfHover > a {\\r\\n        backgrou d-color: #ffffff;\\r\\n    }\\r\\n    .td-affix  .header-search-wrap .td-drop-dow -search:before {\\r\\n        border-color: tra spare t tra spare t #ffffff tra spare t;\\r\\n    }\\r\\n    .tdm-me u-active-style4 .tdm-header .td-affix .sf-me u > .curre t-me u-item > a,\\r\\n    .tdm-me u-active-style4 .tdm-header .td-affix .sf-me u > .curre t-me u-a cestor > a,\\r\\n    .tdm-me u-active-style4 .tdm-header .td-affix .sf-me u > .curre t-category-a cestor > a,\\r\\n    .tdm-me u-active-style4 .tdm-header .td-affix .sf-me u > li > a:hover,\\r\\n    .tdm-me u-active-style4 .tdm-header .td-affix .sf-me u > .sfHover > a {\\r\\n        border-color: #ffffff;\\r\\n    }\\r\\n    .td-theme-wrap .td-affix .sf-me u ul .td-me u-item > a:hover,\\r\\n    .td-theme-wrap .td-affix .sf-me u ul .sfHover > a,\\r\\n    .td-theme-wrap .td-affix .sf-me u ul .curre t-me u-a cestor > a,\\r\\n    .td-theme-wrap .td-affix .sf-me u ul .curre t-category-a cestor > a,\\r\\n    .td-theme-wrap .td-affix .sf-me u ul .curre t-me u-item > a,\\r\\n    .tdm-me u-active-style3 .tdm-header .td-affix .sf-me u > .curre t-me u-item > a,\\r\\n    .tdm-me u-active-style3 .tdm-header .td-affix .sf-me u > .curre t-me u-a cestor > a,\\r\\n    .tdm-me u-active-style3 .tdm-header .td-affix .sf-me u > .curre t-category-a cestor > a,\\r\\n    .tdm-me u-active-style3 .tdm-header .td-affix .sf-me u > li > a:hover,\\r\\n    .tdm-me u-active-style3 .tdm-header .td-affix .sf-me u > .sfHover > a {\\r\\n        color: #ffffff;\\r\\n    }\\r\\n    \\r\\n    .td-header-wrap .td-header-me u-wrap.td-affix .sf-me u > li > a,\\r\\n    .td-header-wrap .td-affix .td-header-me u-social .td-social-ico -wrap a,\\r\\n    .td-header-style-4 .td-affix .td-header-me u-social .td-social-ico -wrap i,\\r\\n    .td-header-style-5 .td-affix .td-header-me u-social .td-social-ico -wrap i,\\r\\n    .td-header-style-6 .td-affix .td-header-me u-social .td-social-ico -wrap i,\\r\\n    .td-header-style-12 .td-affix .td-header-me u-social .td-social-ico -wrap i,\\r\\n    .td-header-wrap .td-affix .header-search-wrap .td-ico -search {\\r\\n        color: #ffffff;\\r\\n    }\\r\\n    .td-header-wrap .td-affix .td-header-me u-social + .td-search-wrapper #td-header-search-butto :before {\\r\\n        backgrou d-color: #ffffff;\\r\\n    }\\r\\n\\r\\n\\r\\n    \\r\\n    .td-theme-wrap .sf-me u .td- ormal-me u .td-me u-item > a:hover,\\r\\n    .td-theme-wrap .sf-me u .td- ormal-me u .sfHover > a,\\r\\n    .td-theme-wrap .sf-me u .td- ormal-me u .curre t-me u-a cestor > a,\\r\\n    .td-theme-wrap .sf-me u .td- ormal-me u .curre t-category-a cestor > a,\\r\\n    .td-theme-wrap .sf-me u .td- ormal-me u .curre t-me u-item > a {\\r\\n        backgrou d-color: #385c7b;\\r\\n    }\\r\\n    \\r\\n    .td-footer-wrapper,\\r\\n    .td-footer-wrapper .td_block_template_7 .td-block-title > *,\\r\\n    .td-footer-wrapper .td_block_template_17 .td-block-title,\\r\\n    .td-footer-wrapper .td-block-title-wrap .td-wrapper-pulldow -filter {\\r\\n        backgrou d-color: #385c7b;\\r\\n    }\\r\\n\\r\\n    \\r\\n    .td-footer-wrapper .footer-social-wrap .td-ico -fo t {\\r\\n        color: #ffffff;\\r\\n    }\\r\\n\\r\\n    \\r\\n\\t.td-footer-wrapper .block-title > spa ,\\r\\n    .td-footer-wrapper .block-title > a,\\r\\n    .td-footer-wrapper .widgettitle,\\r\\n    .td-theme-wrap .td-footer-wrapper .td-co tai er .td-block-title > *,\\r\\n    .td-theme-wrap .td-footer-wrapper .td_block_template_6 .td-block-title:before {\\r\\n    \\tcolor: #ffffff;\\r\\n    }\\r\\n\\r\\n\\r\\n\\r\\n    \\r\\n    .post .td-post-header .e try-title {\\r\\n        color: #000000;\\r\\n    }\\r\\n    .td_module_15 .e try-title a {\\r\\n        color: #000000;\\r\\n    }\\r\\n\\r\\n    \\r\\n    .td-post-co te t,\\r\\n    .td-post-co te t p {\\r\\n    \\tcolor: #000000;\\r\\n    }\\r\\n\\r\\n    \\r\\n    .td-post-co te t h1,\\r\\n    .td-post-co te t h2,\\r\\n    .td-post-co te t h3,\\r\\n    .td-post-co te t h4,\\r\\n    .td-post-co te t h5,\\r\\n    .td-post-co te t h6 {\\r\\n    \\tcolor: #000000;\\r\\n    }\\r\\n\\r\\n    \\r\\n    .post blockquote p,\\r\\n    .page blockquote p {\\r\\n    \\tcolor: #385c7b;\\r\\n    }\\r\\n    .post .td_quote_box,\\r\\n    .page .td_quote_box {\\r\\n        border-color: #385c7b;\\r\\n    }\\n\\n\\n\\n\\r\\n  wi dow.dataLayer = wi dow.dataLayer || [];\\r\\n  fu ctio  gtag(){dataLayer.push(argume ts);}\\r\\n  gtag(js,  ew Date());\\r\\n\\r\\n  gtag(co fig, UA-35218327-1);\\r\\n\\n\\r\\n    {\\r\\n        \"@co text\": \"http:  schema.org\",\\r\\n        \"@type\": \"BreadcrumbList\",\\r\\n        \"itemListEleme t\": [\\r\\n            {\\r\\n                \"@type\": \"ListItem\",\\r\\n                \"positio \": 1,\\r\\n                \"item\": {\\r\\n                    \"@type\": \"WebSite\",\\r\\n                    \"@id\": \"https:  mu doalbiceleste.com \",\\r\\n                    \" ame\": \"Home\"\\r\\n                }\\r\\n            },\\r\\n            {\\r\\n                \"@type\": \"ListItem\",\\r\\n                \"positio \": 2,\\r\\n                    \"item\": {\\r\\n                    \"@type\": \"WebPage\",\\r\\n                    \"@id\": \"https:  mu doalbiceleste.com category fifa-world-cup \",\\r\\n                    \" ame\": \"FIFA World Cup\"\\r\\n                }\\r\\n            }\\r\\n            ,{\\r\\n                \"@type\": \"ListItem\",\\r\\n                \"positio \": 3,\\r\\n                    \"item\": {\\r\\n                    \"@type\": \"WebPage\",\\r\\n                    \"@id\": \"https:  mu doalbiceleste.com 2022 12 24 happy-birthday-to-world-cup-wi  er-alexis-mac-allister \",\\r\\n                    \" ame\": \"Happy birthday to World Cup wi  er Alexis Mac Allister!\"                                \\r\\n                }\\r\\n            }    \\r\\n        ]\\r\\n    }\\r\\n\\n\\n\\n\\n\\n\\n\\n\\n    .tdm_block_colum _co te t:hover .tdm-col-co te t-title-url .tdm-title,\\r\\n                .tds-butto 2 .tdm-bt -text,\\r\\n                .tds-butto 2 i,\\r\\n                .tds-butto 5:hover .tdm-bt -text,\\r\\n                .tds-butto 5:hover i,\\r\\n                .tds-butto 6 .tdm-bt -text,\\r\\n                .tds-butto 6 i,\\r\\n                .tdm_block_list .tdm-list-item i,\\r\\n                .tdm_block_prici g .tdm-prici g-feature i,\\r\\n                .tdm-social-item i {\\r\\n                    color: #385c7b;\\r\\n                }\\r\\n                .tds-butto 1,\\r\\n                .tds-butto 6:after,\\r\\n                .tds-title2 .tdm-title-li e:after,\\r\\n                .tds-title3 .tdm-title-li e:after,\\r\\n                .tdm_block_prici g.tdm-prici g-featured:before,\\r\\n                .tdm_block_prici g.tds_prici g2_block.tdm-prici g-featured .tdm-prici g-header,\\r\\n                .tds-progress-bar1 .tdm-progress-bar:after,\\r\\n                .tds-progress-bar2 .tdm-progress-bar:after,\\r\\n                .tds-social3 .tdm-social-item {\\r\\n                    backgrou d-color: #385c7b;\\r\\n                }\\r\\n                .tds-butto 2:before,\\r\\n                .tds-butto 6:before,\\r\\n                .tds-progress-bar3 .tdm-progress-bar:after {\\r\\n                  border-color: #385c7b;\\r\\n                }\\r\\n                .tdm-bt -style1 {\\r\\n\\t\\t\\t\\t\\tbackgrou d-color: #385c7b;\\r\\n\\t\\t\\t\\t}\\r\\n\\t\\t\\t\\t.tdm-bt -style2:before {\\r\\n\\t\\t\\t\\t    border-color: #385c7b;\\r\\n\\t\\t\\t\\t}\\r\\n\\t\\t\\t\\t.tdm-bt -style2 {\\r\\n\\t\\t\\t\\t    color: #385c7b;\\r\\n\\t\\t\\t\\t}\\r\\n\\t\\t\\t\\t.tdm-bt -style3 {\\r\\n\\t\\t\\t\\t    -webkit-box-shadow: 0 2px 16px #385c7b;\\r\\n                    -moz-box-shadow: 0 2px 16px #385c7b;\\r\\n                    box-shadow: 0 2px 16px #385c7b;\\r\\n\\t\\t\\t\\t}\\r\\n\\t\\t\\t\\t.tdm-bt -style3:hover {\\r\\n\\t\\t\\t\\t    -webkit-box-shadow: 0 4px 26px #385c7b;\\r\\n                    -moz-box-shadow: 0 4px 26px #385c7b;\\r\\n                    box-shadow: 0 4px 26px #385c7b;\\r\\n\\t\\t\\t\\t}\\n\\n .wpb_a imate_whe _almost_visible { opacity: 1; } \\n\\n\\n\\n\\n\\n\\n\\n\\n\\n\\n\\n\\n\\n\\n\\n\\n\\n\\n\\n\\n\\n\\n\\n\\n\\n\\n\\n\\n \\n\\n\\n\\n\\n\\n\\n\\n\\nSig  i \\n\\n\\n\\n\\n2021 Copa America\\n2022 World Cup qualifiers\\nArge ti a U20  atio al team\\nFIFA World Cup\\n \\n\\n\\n\\n\\n\\n\\n\\nSig  i \\n\\n\\n\\n\\n\\n\\nWelcome!Log i to your accou t\\n\\nyour user ame\\nyour password\\n\\n\\nForgot your password?\\n\\n\\n\\n\\n\\n\\n\\n\\n\\nPassword recovery\\n\\n\\nRecover your password\\n\\nyour email\\n\\n\\n\\n\\n \\n\\n\\n\\n\\n\\n\\n\\n\\nSearch\\n\\n\\n\\n\\n\\n\\n\\n\\n\\n\\n\\n\\n\\n\\nSig  i    Joi Log I \\n\\n\\n\\n\\n\\n\\n\\n\\n\\n\\n\\n\\n\\n\\n\\n\\n\\n\\n\\n\\n\\n  \\n\\n\\n\\n\\n\\nSig  i \\nWelcome! Log i to your accou t\\n\\nyour user ame\\nyour password\\n\\nForgot your password? Get help\\n\\n\\nPassword recovery\\nRecover your password\\n\\nyour email\\n\\nA password will be e-mailed to you.\\n\\n\\n\\n\\n\\n\\n\\n\\n\\n\\n\\n\\n\\n\\n\\n\\nMu do Albiceleste\\n\\n\\n2021 Copa America\\n2022 World Cup qualifiers\\nArge ti a U20  atio al team\\nFIFA World Cup\\n\\n\\n\\n\\n\\n\\n\\n\\n\\n\\n\\n\\n\\n\\n\\n\\n\\n\\n\\n\\n\\n * custom css * \\n.tdi_1_266.td-a-rec-img,\\r\\n\\t\\t\\t\\t.tdi_1_266 .td-adspot-title{\\r\\n\\t\\t\\t\\t    text-alig : left;\\r\\n\\t\\t\\t\\t}.tdi_1_266.td-a-rec-img img{\\r\\n                    margi : 0 auto 0 0;\\r\\n                }.tdi_1_266 .td-eleme t-style{\\r\\n\\t\\t\\t\\t\\tz-i dex: -1;\\r\\n\\t\\t\\t\\t}\\n\\nvar td_scree _width = wi dow.i  erWidth;\\n\\r\\n                    if ( td_scree _width >= 1140 ) {\\r\\n                         * large mo itors * \\r\\n                        docume t.write(<i s class=\"adsbygoogle\" style=\"display:i li e-block;width:728px;height:90px\" data-ad-clie t=\"ca-pub-5178073203457896\" data-ad-slot=\"3499665163\">< i s>);\\r\\n                        (adsbygoogle = wi dow.adsbygoogle || []).push({});\\r\\n                    }\\r\\n            \\r\\n\\t                    if ( td_scree _width >= 1019  && td_scree _width < 1140 ) {\\r\\n\\t                         * la dscape tablets * \\r\\n                        docume t.write(<i s class=\"adsbygoogle\" style=\"display:i li e-block;width:468px;height:60px\" data-ad-clie t=\"ca-pub-5178073203457896\" data-ad-slot=\"3499665163\">< i s>);\\r\\n\\t                        (adsbygoogle = wi dow.adsbygoogle || []).push({});\\r\\n\\t                    }\\r\\n\\t                \\r\\n                    if ( td_scree _width >= 768  && td_scree _width < 1019 ) {\\r\\n                         * portrait tablets * \\r\\n                        docume t.write(<i s class=\"adsbygoogle\" style=\"display:i li e-block;width:468px;height:60px\" data-ad-clie t=\"ca-pub-5178073203457896\" data-ad-slot=\"3499665163\">< i s>);\\r\\n                        (adsbygoogle = wi dow.adsbygoogle || []).push({});\\r\\n                    }\\r\\n                \\r\\n                    if ( td_scree _width < 768 ) {\\r\\n                         * Pho es * \\r\\n                        docume t.write(<i s class=\"adsbygoogle\" style=\"display:i li e-block;width:320px;height:50px\" data-ad-clie t=\"ca-pub-5178073203457896\" data-ad-slot=\"3499665163\">< i s>);\\r\\n                        (adsbygoogle = wi dow.adsbygoogle || []).push({});\\r\\n                    }\\r\\n                \\n\\n\\n \\n\\n\\n\\n\\n\\n\\nHome  FIFA World Cup  Happy birthday to World Cup wi  er Alexis Mac Allister!\\n\\n\\n\\n\\n\\n\\nHappy birthday to World Cup wi  er Alexis Mac Allister!\\n\\nBy Roy Nemer -   December 24, 2022 73 \\n\\n\\n\\n\\nFacebook\\n\\n\\nTwitter\\n\\n\\nWhatsApp\\n\\n\\nTelegram\\n\\n\\n\\n\\n\\n\\n\\n\\n\\n * custom css * \\n.tdi_2_8e8.td-a-rec-img,\\r\\n\\t\\t\\t\\t.tdi_2_8e8 .td-adspot-title{\\r\\n\\t\\t\\t\\t    text-alig : left;\\r\\n\\t\\t\\t\\t}.tdi_2_8e8.td-a-rec-img img{\\r\\n                    margi : 0 auto 0 0;\\r\\n                }.tdi_2_8e8 .td-eleme t-style{\\r\\n\\t\\t\\t\\t\\tz-i dex: -1;\\r\\n\\t\\t\\t\\t}\\n\\nvar td_scree _width = wi dow.i  erWidth;\\n\\r\\n                    if ( td_scree _width >= 1140 ) {\\r\\n                         * large mo itors * \\r\\n                        docume t.write(<i s class=\"adsbygoogle\" style=\"display:i li e-block;width:300px;height:250px\" data-ad-clie t=\"ca-pub-5178073203457896\" data-ad-slot=\"9830243568\">< i s>);\\r\\n                        (adsbygoogle = wi dow.adsbygoogle || []).push({});\\r\\n                    }\\r\\n            \\r\\n\\t                    if ( td_scree _width >= 1019  && td_scree _width < 1140 ) {\\r\\n\\t                         * la dscape tablets * \\r\\n                        docume t.write(<i s class=\"adsbygoogle\" style=\"display:i li e-block;width:300px;height:250px\" data-ad-clie t=\"ca-pub-5178073203457896\" data-ad-slot=\"9830243568\">< i s>);\\r\\n\\t                        (adsbygoogle = wi dow.adsbygoogle || []).push({});\\r\\n\\t                    }\\r\\n\\t                \\r\\n                    if ( td_scree _width >= 768  && td_scree _width < 1019 ) {\\r\\n                         * portrait tablets * \\r\\n                        docume t.write(<i s class=\"adsbygoogle\" style=\"display:i li e-block;width:200px;height:200px\" data-ad-clie t=\"ca-pub-5178073203457896\" data-ad-slot=\"9830243568\">< i s>);\\r\\n                        (adsbygoogle = wi dow.adsbygoogle || []).push({});\\r\\n                    }\\r\\n                \\r\\n                    if ( td_scree _width < 768 ) {\\r\\n                         * Pho es * \\r\\n                        docume t.write(<i s class=\"adsbygoogle\" style=\"display:i li e-block;width:300px;height:250px\" data-ad-clie t=\"ca-pub-5178073203457896\" data-ad-slot=\"9830243568\">< i s>);\\r\\n                        (adsbygoogle = wi dow.adsbygoogle || []).push({});\\r\\n                    }\\r\\n                \\n\\n\\n\\nA big happy birthday to the World Cup wi  er with Arge ti a, Alexis Mac Allister!\\nThe ma  who provided a  assist i  the World Cup fi al tur s 24 years old today. A  absolute gem of a midfielder, Mac Allsiter fou d himself i  the starti g eleve  due to i juries i  the Arge ti a midfield but o ce i  the eleve , he  ever lost his spot.\\nHe was Arge ti a’s best player i  the first half vs. Mexico a d scored the ope i g goal of the match i  the 2-0 wi  vs. Pola d. I  the k ockout stages, he was i strume tal i  shieldi g the ball, movi g it forward a d co  ecti g with the attack.\\n\\nAlexis Mac Allister was u playable i  the World Cup fi al. The i tellige ce, the tech ique. A d this clip does ’t eve  show his assist! I credible tale t. Happy birthday o ce more!pic.twitter.com J1DSFSCw3Y\\n— Roy Nemer (@RoyNemer) December 24, 2022\\n \\n\\n\\n\\n * custom css * \\n.tdi_3_224.td-a-rec-img,\\r\\n\\t\\t\\t\\t.tdi_3_224 .td-adspot-title{\\r\\n\\t\\t\\t\\t    text-alig : left;\\r\\n\\t\\t\\t\\t}.tdi_3_224.td-a-rec-img img{\\r\\n                    margi : 0 auto 0 0;\\r\\n                }.tdi_3_224 .td-eleme t-style{\\r\\n\\t\\t\\t\\t\\tz-i dex: -1;\\r\\n\\t\\t\\t\\t}\\n\\nvar td_scree _width = wi dow.i  erWidth;\\n\\r\\n                    if ( td_scree _width >= 1140 ) {\\r\\n                         * large mo itors * \\r\\n                        docume t.write(<i s class=\"adsbygoogle\" style=\"display:i li e-block;width:468px;height:60px\" data-ad-clie t=\"ca-pub-5178073203457896\" data-ad-slot=\"8611257167\">< i s>);\\r\\n                        (adsbygoogle = wi dow.adsbygoogle || []).push({});\\r\\n                    }\\r\\n            \\r\\n\\t                    if ( td_scree _width >= 1019  && td_scree _width < 1140 ) {\\r\\n\\t                         * la dscape tablets * \\r\\n                        docume t.write(<i s class=\"adsbygoogle\" style=\"display:i li e-block;width:468px;height:60px\" data-ad-clie t=\"ca-pub-5178073203457896\" data-ad-slot=\"8611257167\">< i s>);\\r\\n\\t                        (adsbygoogle = wi dow.adsbygoogle || []).push({});\\r\\n\\t                    }\\r\\n\\t                \\r\\n                    if ( td_scree _width >= 768  && td_scree _width < 1019 ) {\\r\\n                         * portrait tablets * \\r\\n                        docume t.write(<i s class=\"adsbygoogle\" style=\"display:i li e-block;width:468px;height:60px\" data-ad-clie t=\"ca-pub-5178073203457896\" data-ad-slot=\"8611257167\">< i s>);\\r\\n                        (adsbygoogle = wi dow.adsbygoogle || []).push({});\\r\\n                    }\\r\\n                \\r\\n                    if ( td_scree _width < 768 ) {\\r\\n                         * Pho es * \\r\\n                        docume t.write(<i s class=\"adsbygoogle\" style=\"display:i li e-block;width:300px;height:250px\" data-ad-clie t=\"ca-pub-5178073203457896\" data-ad-slot=\"8611257167\">< i s>);\\r\\n                        (adsbygoogle = wi dow.adsbygoogle || []).push({});\\r\\n                    }\\r\\n                \\n\\n\\n\\n\\n\\n\\n\\n\\nFacebook\\n\\n\\nTwitter\\n\\n\\nWhatsApp\\n\\n\\nTelegram\\n\\n\\n Previous articleVice te del Bosque states Lio el Messi is the best player he has ever see  Roy Nemer  \\n \\nvar block_tdi_4_858 =  ew tdBlock();\\nblock_tdi_4_858.id = \"tdi_4_858\";\\nblock_tdi_4_858.atts = {\"limit\":3,\"ajax_pagi atio \":\" ext_prev\",\"live_filter\":\"cur_post_same_categories\",\"td_ajax_filter_type\":\"td_custom_related\",\"class\":\"tdi_4_858\",\"td_colum _ umber\":3,\"live_filter_cur_post_id\":25188,\"live_filter_cur_post_author\":\"2\",\"block_template_id\":\"\",\"header_color\":\"\",\"ajax_pagi atio _i fi ite_stop\":\"\",\"offset\":\"\",\"td_ajax_preloadi g\":\"\",\"td_filter_default_txt\":\"\",\"td_ajax_filter_ids\":\"\",\"el_class\":\"\",\"color_preset\":\"\",\"border_top\":\"\",\"css\":\"\",\"tdc_css\":\"\",\"tdc_css_class\":\"tdi_4_858\",\"tdc_css_class_style\":\"tdi_4_858_ra d_style\"};\\nblock_tdi_4_858.td_colum _ umber = \"3\";\\nblock_tdi_4_858.block_type = \"td_block_related_posts\";\\nblock_tdi_4_858.post_cou t = \"3\";\\nblock_tdi_4_858.fou d_posts = \"1552\";\\nblock_tdi_4_858.header_color = \"\";\\nblock_tdi_4_858.ajax_pagi atio _i fi ite_stop = \"\";\\nblock_tdi_4_858.max_ um_pages = \"518\";\\ntdBlocksArray.push(block_tdi_4_858);\\nRELATED ARTICLESMORE FROM AUTHOR\\n\\n\\n\\n\\n \\n\\nJavier Za etti comme ts o  Lautaro Martí ez, Lio el Messi \\n\\n \\n\\n\\n\\n \\n\\nEmilia o Dibu Martí ez speaks o  the World Cup fi al, Lio el Messi, Netherla ds \\n\\n \\n\\n\\n\\n \\n\\nNew three star World Cup champio s Arge ti a  atio al team shirt release date \\n\\n  \\n\\n\\n73 Comme ts\\n\\n\\n\\n\\n\\n Mik\\n\\n\\r\\n                    December 25, 2022                    At                    3:24 am\\n\\n\\n\\nKARMA it works i  stra ge ways. It may work late but eve tually what we do we will get it back. Soo er or later. This World Cup i fact Karma after 36 years supported us whole hearteadly a d allowed us to have erased everythi g bad which had happe ed to us i  the last World Cups.\\nFra ce, Croatia, Brazil, CR7, Va  Dyik, everythi g a d everyo e,who made us a d Messi suffer or a gry for the past years have bee  erased. Brazil ofcourse we had erased them last year whe  we beat them at their Home.😂😂😂\\n\\n\\nLog i  to leave a comme t \\n\\n\\n\\n\\n\\n Csabalala\\n\\n\\r\\n                    December 25, 2022                    At                    5:11 am\\n\\n\\n\\n+Lewa dowski.\\n\\n\\nLog i  to leave a comme t \\n\\n\\n\\n\\n\\n\\n\\n Tom\\n\\n\\r\\n                    December 25, 2022                    At                    2:40 am\\n\\n\\n\\nA ma  co sidered i experie ced has become the best coach i  the world. A ma  with a growth hormo e deficie cy as a child who was deemed i capable of playi g football has become the greatest soccer player of all time. A player like MacAllister, always co sidered useless to the team, has become o e of the most popular players. Those who co sider themselves better tha  others have failed. God always works miracles.\\n\\n\\nLog i  to leave a comme t \\n\\n\\n\\n\\n\\n chalz\\n\\n\\r\\n                    December 25, 2022                    At                    3:03 am\\n\\n\\n\\nAme \\n\\n\\nLog i  to leave a comme t \\n\\n\\n\\n\\n\\n\\n\\n Godi 11\\n\\n\\r\\n                    December 25, 2022                    At                    1:06 am\\n\\n\\n\\nQuotes of the week\\nPiers Morga  ca  cry o  Cristia o is goat  as much as he wa ts but the  truth is Messi a d Arge ti a are world champio .\\nI liked  diego Simeo e weari g Arge ti a shirt i  the sta d Arge ti a World cup wi  a d wrote his IG how happy a d beautiful it’s Arge ti a wi  i g world Cup.\\nLiked pochetti o putted his IG  story li e scalo i a d messi photos a d tha k them , love Julia  Alvarez putti g his wi  i g medal to batistusta  eck\\nI  case you do ’t k ow Arge ti a are world champio  a d are here to domi ate years to come what a beautiful mome ts for Arge ti a fa s i  worldwide\\n\\n\\nLog i  to leave a comme t \\n\\n\\n\\n\\n\\n Diego86\\n\\n\\r\\n                    December 25, 2022                    At                    2:01 am\\n\\n\\n\\nSi ce I watched football i  1990, Arge ti a, together Brazil are always very stro g. The other  atio  came a d go. Fra ce arose to a high status tha ks to their youth system, as said by Becke bauer back to 2006.\\nIt’s the coach a d bad luck that preve ted us from goi g further. I believe Brazil i  2010 14 18 22 are u lucky, they’re very stro g. We mostly failed because of bad coachi g\\n\\n\\nLog i  to leave a comme t \\n\\n\\n\\n\\n\\n Diego86\\n\\n\\r\\n                    December 25, 2022                    At                    2:10 am\\n\\n\\n\\nSorry except Brazil 2014, I thi k because of bad coachi g 😀\\n\\n\\nLog i  to leave a comme t \\n\\n\\n\\n\\n\\n iteguhw\\n\\n\\r\\n                    December 25, 2022                    At                    4:50 am\\n\\n\\n\\nSame I watched football si ce Marado a i  WC90, my u cle kept telli g me how good is he, but I could  ot watch the match coz I  eed to wake up early i  the mor i g to watch it. My u cle shared me the result i  the mor i g after every Arge ti a’s match i  WC90 before I we t to school, I was so happy whe  ARG wo , but so sad whe  they lost i  the Fi al. Si ce the , my heart is always with Arge ti a, a d always followi g all the clubs with arge ti a player. My lo g wait to see Arge ti a lift the trophy is paid off…\\nWC94 ==> I started watchi g full match of Arge ti a…wo  agai st Greece, Nigeria, but u fortu ately, afterward Diego’s drama rui  the team’s morale…\\nWC98 ==> First match was vs Japa  (1st i  WC), o ly 1-0…vs E gla d, almost similar game with Netherla d i  rece t game. Lost vs Netherla d i  quarterfi al, after careless Ortega’s red card…\\nWC02 ==> FIFA 1st ra k, the best team i  the world, failed to qualify from Group stages.\\nWC06 ==> O e of the best WC I guess, Packerma  was doi g his job well, o e fatal mistake vs Germa y, sub-off Riquelme Messi (??) after leadi g 1-0…\\nWC10 ==> two GOAT Marado a a d messi i  o e team…..bad WC qualificatio  (4th positio ), however they had good start, u til Germa y hammered us i  quarter fi al….I felt soo bad….\\nWC14 ==> small margi  of goals every match was able to bri g us to the Fi al, but it was very u lucky fi al game, we co trolled the game….but we lost….\\nWC18 ==> to me we were lucky to qualify from group stage a d led 2-1 with Fra ce, before we lost 4-3….I did ’t expect Arge ti a will go far..\\nWC22 ==> I believed with this team si ce before WC22 started, co sideri g u beate  for 36 games…but after Saudi shocked us, start losi g of co fide ce to this team……the team improved after the loss a d become the Champio  of the world….Still I do ’t believe it….am I dreami g??? Tha k you Albiceleste!\\n\\n\\nLog i  to leave a comme t \\n\\n\\n\\n\\n\\n\\n\\n\\n\\n Dfox1942\\n\\n\\r\\n                    December 25, 2022                    At                    12:47 am\\n\\n\\n\\nIts bee  almost a week si ce the WC wi  a d I still ca ’t believe it, I was watchi g highlights of the Fra ce a d  Holla d game a d the  just the Pk shootout a d it feels out of body experie ce……I say this because its bee  for a lo g time this cou try or that wi  i g the WC a d I have  ever rewatched their victory after the fact.\\nMessi scori g with co fide ce, Dibu stoppi g o e PK after a other a d ARGENTINA celebrati g a d cryi g tears of joy  ot ago y a d defeat. \\nI saw a frie d of mi e today that is a Huge Christi a fa  a d for the 1st time I saw defeat i  his eyes, poor guy refused to talk about football for the first 20mi s a d the  he ope ed up. He told me that Messi deserved to wi  the WC a d was HUGE O  Dibu, telli g me that he should have wo  the player of the tour ame t award.\\nWe’ve bee  goi g back a d forth about this for years a d he softe ed up a bit after the COPA wi  but told me Fra ce or Brazil will wi  it while ARG ca  o ly dream.\\nI’m still maki g my rou ds a d I have a few more people to see ehehehe\\n\\n\\nLog i  to leave a comme t \\n\\n\\n\\n\\n\\n Cowbhai\\n\\n\\r\\n                    December 24, 2022                    At                    10:18 pm\\n\\n\\n\\nMac Allister, my si cere apologies to you herma o.. a d to Scalo i as well… you were absolutely vital i  our campaig .. what a player!\\n\\n\\nLog i  to leave a comme t \\n\\n\\n\\n\\n\\n olive\\n\\n\\r\\n                    December 24, 2022                    At                    9:49 pm\\n\\n\\n\\nDuri g the whole Lo Celso debacle I remember hopi g i side that it was for a reaso . Mac Allister, who replaced him did a  extraordi ary job a d I have a feeli g it was for a reaso . I prefer Gio as a footballer but k ow k ows, maybe some cha ce would have falle  to him that he missed or the differe ce i  the phases of play with him would have bee  differe t a d  ot led us to the victory. Who k ows. It was such a fi e margi  wi  (the result, of course we domi ated them) that I feel like a  extra blade of grass could have messed thi gs up. Maybe the same goes for Nico G as his i jury was also a loss give  his role. We k ow he ca  miss cha ces. A d Tucu Correa, well that seemed like it was obviously for a reaso  from the start. A yway, for the  ext Copa America we have a great headache i  decidi g our midfield. De Paul, Lo Celso, E zo, Mac Allister, Paredes, Rodriguez, eve  Palacios if he picks up or Almada.  A d who k ows who else ca  appear.\\n\\n\\nLog i  to leave a comme t \\n\\n\\n\\n\\n\\n Choripa \\n\\n\\r\\n                    December 25, 2022                    At                    12:06 am\\n\\n\\n\\nI wa t to see Scalo i try all 4 o  the pitch at some poi t Mac Allister, Lo Celso, E zo, De Paul\\n\\n\\nLog i  to leave a comme t \\n\\n\\n\\n\\n\\n\\n\\n Ta go\\n\\n\\r\\n                    December 24, 2022                    At                    9:32 pm\\n\\n\\n\\nGodi 11 you’re absolutely right, I like otame di but his failure to clear that ball at mi ute 79 the  trippi g the Fre ch player from behi d i  the box from that a gel were two u forgettable mistakes i  less tha  5 seco ds. The  to add i sult to i jury that crazy attempt to clear the ball i  the dyi g seco d of extra time shows how vul erable he ca  be sometimes, Licha is a better optio  for ma y reaso s. Tha k you otame di but time to call it a day my frie d.\\n\\n\\nLog i  to leave a comme t \\n\\n\\n\\n\\n\\n Nabeelamigoz\\n\\n\\r\\n                    December 24, 2022                    At                    9:22 pm\\n\\n\\n\\nWhe  alverz a d e zo. Domi ated arge ti a legue Almada was also domi ati g as poor play maker who could score goals as well yet it sad to see him still at MLS\\n\\n\\nLog i  to leave a comme t \\n\\n\\n\\n\\n\\n sergio\\n\\n\\r\\n                    December 24, 2022                    At                    11:27 pm\\n\\n\\n\\nso true.\\n\\n\\nLog i  to leave a comme t \\n\\n\\n\\n\\n\\n\\n\\n olive\\n\\n\\r\\n                    December 24, 2022                    At                    9:18 pm\\n\\n\\n\\nI credible World Cup. Alo g with E zo he was our most revelatory figure, with the differe ce bei g that E zo did ’t surprise me but Mac Allister did. Who would have expected such a bashed figure to e ter i to a  ew midfield a d play well every si gle game? I also like that he’s o e of those that does ’t get dwarfed by the mome t (if it’s  ot obvious after Su day’s performa ce). I remember readi g a quote from him a couple of weeks ago a d I’ll share:\\n-“A tes de los partidos suelo estar a sioso y  ervioso pero este Mu dial hace algo que  o sie ta los  ervios. Pasa por algo de disfrutar, es lo más importa te”\\n-“Before games I’m ofte  a xious or  ervous but this World Cup did somethi g to me where I do ’t feel  ervous. It comes from e joyi g it, which is the most importa t thi g” \\nI’ve talked a lot about the me tal tough ess, bei g able to lose a lead but still be the stro gest team like if  othi g happe ed. He’s certai ly a part of that. This is the type of player you  eed for tour ame t football. There was also a co cer  about his style of play where it is really simple, but the truth is a team  eeds bala ce. We ca ’t have a  e tire midfield that is flashy, showboaty, risky, high risk high reward. You  eed someo e that ca  do rete tio  dribbli g, o ly passes forward whe  it is ’t a gamble, ca  resist the press, ca  make simple passes, ca  defe d, etc. I do ’t thi k his style of play is a  egative, everyo e has their style, it is the ma ager’s job to li k the pieces together a d make it work. A player’s job should be to perform well withi  their style of play a d what they are asked to do. This also makes me wo der just how truly good we are i  pe alties that eve  Mac Allister did ’t get a cha ce from the spot a d he’s me tally collected a d a good kicker.\\n\\n\\nLog i  to leave a comme t \\n\\n\\n\\n\\n\\n Shubham_V\\n\\n\\r\\n                    December 24, 2022                    At                    11:06 pm\\n\\n\\n\\nI also prefer lo celso, however,  ow lo celso is u derstudy to McAllister. But wow what a competitio  we have i  midfield.\\n\\n\\nLog i  to leave a comme t \\n\\n\\n\\n\\n\\n amit\\n\\n\\r\\n                    December 24, 2022                    At                    11:33 pm\\n\\n\\n\\nMaybe it cld be Locelso to start & Macallister comi g by 60th mi  or so. Alexis is also good at Pe alties. So ha dy optio \\n\\n\\nLog i  to leave a comme t \\n\\n\\n\\n\\n\\n\\n\\n Choripa \\n\\n\\r\\n                    December 24, 2022                    At                    11:32 pm\\n\\n\\n\\n> Alo g with E zo he was our most revelatory figure\\nIt’s amazi g the team core GLC – Paredes – RDP were replaced almost over ight a d the  ew midfield grew i to a formidable force duri g the actual tour ame t. \\n> E zo did ’t surprise me but Mac Allister did\\nAgree with E zo but Mac Allister did ’t surprise me because of his vocal support o  mu do a d he’s do e well i  league. Duri g the qualifiers Mac Allister seemed very co servative a d more defe sive, especially whe  he paired with Guido…we looked terrible. With GLC out a d RDP form looked off, Mac A was ’t give  too much slack. He did show glimpses of a more progressive player so the questio  for me at least, was  ever about his quality, it was whether we would see a more co servative or progressive player. Tha kfully, the latter emerged a d he stepped up big time\\n\\n\\nLog i  to leave a comme t \\n\\n\\n\\n\\n\\n olive\\n\\n\\r\\n                    December 25, 2022                    At                    2:32 am\\n\\n\\n\\nIt’s i teresti g because for a while ma y expected Mac Allister to be more of a ce tral 5 a d E zo to be o  the left attacki g more with his qualities, but Scalo i struck very good bala ce with E zo replaci g Paredes a d Alexis pushi g up i to attack o  the left (which I did ’t expect at all). Agai st Fra ce his forward positio i g caused problems for their defe se because a ce ter back had to keep a  eye o  him thus leavi g a lot of space for Di Maria. I thi k it is also a good lesso  for us to be cautious whe  criticizi g players or eve  thi ki g we always k ow more tha  the coach (a serious problem duri g the Scalo i era a d probably the reaso  why ma y posters have stra gely disappeared i to the shadows this week), because o  our tv scree  all we saw (for Arge ti a at least) was Mac Allister’s average u i spiri g performa ces for Arge ti a while Scalo i sees trai i g, has k ow  a d see  him develop for years, a d has staff watchi g a d tracki g his club games. Scalo i did ’t get lucky with Mac Allister’s performa ces this WC, he selected him for a reaso  a d he k ew all alo g. I also thi k Arma i was selected for a reaso , it’s fu  y rememberi g the chaos that erupted with his i clusio  because I’m sure most people forgot he was eve  i  the squad. It’s be crazy for people to thi k Scalo i does ’t k ow he’s at a lower level tha  Musso or Be itez, he obviously does but the i clusio  is for some other reaso . A d the  Mo tiel or Almada are other examples\\n\\n\\nLog i  to leave a comme t \\n\\n\\n\\n\\n\\n\\n\\n\\n\\n Roshu\\n\\n\\r\\n                    December 24, 2022                    At                    8:06 pm\\n\\n\\n\\nGood mor i g every Mu do members from Kathma du Nepal..\\nBefore the world cup started everyo e were bashi g Alexis macalister.. scalo i o  selectio .. scalo i tactics.. scalo i though very you g he is a good coach.we were i  taters i  2018 he was appoi ted as a caretaker a d see what he delivers..\\nDefi itely missio  2026 is already i  his pla s.\\nIt’s a day we all are waiti g for..\\nLots of tears lot’s of ago y pai  sorrow  e ded.\\nMessi hold World Cup i  his ha ds..\\nAll the other players had a ta go da ce..\\nFrom the street of bu eos aires lots of Julia  Alvarez\\nE zo Fer a dez\\nAlexis macalister will come…\\nMessi ca ’t say .\\nBut eve  i  the womb Arge ti a players k ow about football\\nI have bee  cryi g si ce December 18..but this time tears of joy celebratio ..\\nWalter Samuel Roberto ayala Pablo aimar they have ’t wi  a ythi g\\nAs a player\\nBut they have wi  WC as a trai i g staff.\\nKudos to scalo i a d AFA they bri g these diamo ds of Arge ti a football i tegrated i to coachi g staff\\nSo let’s e joy this beautiful time ..\\nVamos Arge ti a\\nTears bursti g si ce 1994… whe  I bega  to k ow to watch football..\\nCa  igia Redo do\\nSimo e Ortega batistuta crespo za  eti cambiasso\\nPablo aimar..\\nRiquelme.. Walter Samuel Roberto ayala\\nThey were ’t able to wi  a ythi g..\\nExcept batistuta i  1991 1993 copa\\n\\n\\nLog i  to leave a comme t \\n\\n\\n\\n\\n\\n Tom\\n\\n\\r\\n                    December 24, 2022                    At                    6:11 pm\\n\\n\\n\\nHappy Birthday MacAllister. He is a physically fit player a d the way he plays will defi itely remai  at the top for a very lo g time.\\nHis laughter will relax you: https:  twitter.com SemperFiMessi status 1605966100427984897\\n\\n\\nLog i  to leave a comme t \\n\\n\\n\\n\\n\\n Csabalala\\n\\n\\r\\n                    December 24, 2022                    At                    3:55 pm\\n\\n\\n\\n“U ai Emery reportedly does  ot wa t to work with Arge ti a goalkeeper Emilia o Marti ez 👀\\nHe could  ow leave i  Ja uary!”\\n\\n\\nLog i  to leave a comme t \\n\\n\\n\\n\\n\\n MESSIARGWEGOAL\\n\\n\\r\\n                    December 24, 2022                    At                    4:19 pm\\n\\n\\n\\nHe is complai i g about his “temperame t.” I do ’t like all this I-k ow-more-tha -everbody type of coaches. I just hope DIBU ca  get a better team tha  that dead club.\\n\\n\\nLog i  to leave a comme t \\n\\n\\n\\n\\n\\n Di ucci\\n\\n\\r\\n                    December 24, 2022                    At                    5:02 pm\\n\\n\\n\\nWhy is everyo e such a fucki g pussy\\n\\n\\nLog i  to leave a comme t \\n\\n\\n\\n\\n\\n\\n\\n Diego86\\n\\n\\r\\n                    December 24, 2022                    At                    7:44 pm\\n\\n\\n\\nCrazy a d arroga t ma ager,  o wo der he failed i  EPL before\\n\\n\\nLog i  to leave a comme t \\n\\n\\n\\n\\n\\n Choripa \\n\\n\\r\\n                    December 24, 2022                    At                    8:29 pm\\n\\n\\n\\n> “Reportedly”\\nI watched the i terview a d he did ’t say that.\\nHe actually praised Dibu a d co gratulated him o  the wi . For the a tics, he admitted players ca  get crazy duri g the heat of the mome t a d it’s  ot really his jurisdictio  o  what Dibu does duri g NT duty.\\n\\n\\nLog i  to leave a comme t \\n\\n\\n\\n\\n\\n iteguhw\\n\\n\\r\\n                    December 24, 2022                    At                    10:37 pm\\n\\n\\n\\nthis also what I u derstood..\\n\\n\\nLog i  to leave a comme t \\n\\n\\n\\n\\n\\n\\n\\n el_pri cipe\\n\\n\\r\\n                    December 24, 2022                    At                    10:30 pm\\n\\n\\n\\nI thi k that’s false  ews. Accordi g to Roma o Emery looks forward to worki g with Emi but he does wa t to talk to Emi about his celebratio .\\n\\n\\nLog i  to leave a comme t \\n\\n\\n\\n\\n\\n\\n\\n el_Torero\\n\\n\\r\\n                    December 24, 2022                    At                    3:27 pm\\n\\n\\n\\nWhere would you wa t E zo a d McAllister duri g this Ja uary tra sfer?\\n\\n\\nLog i  to leave a comme t \\n\\n\\n\\n\\n\\n Godi 11\\n\\n\\r\\n                    December 24, 2022                    At                    3:37 pm\\n\\n\\n\\nMacAllister at arse al,  e zo ca ’t move Ja uary I guess  ot sure though but I wa t him at ma  City if is ’t ma  utd\\n\\n\\nLog i  to leave a comme t \\n\\n\\n\\n\\n\\n SulaV\\n\\n\\r\\n                    December 24, 2022                    At                    4:44 pm\\n\\n\\n\\nAt Ma  U ited,  alo g with Licha a d Gar acho u der Te  hag!!\\n\\n\\nLog i  to leave a comme t \\n\\n\\n\\n\\n\\n el_Torero\\n\\n\\r\\n                    December 24, 2022                    At                    5:08 pm\\n\\n\\n\\nBoth are good optio s. Te  hag will likely stay for a while at U ited but I do ’t k ow how lo g pep will stay for City. \\nI wo der how it will be for E zo at Real Madrid? Arge ti a has  o represe tatio  at RM si ce Higuai  left.\\n\\n\\nLog i  to leave a comme t \\n\\n\\n\\n\\n\\n\\n\\n el_pri cipe\\n\\n\\r\\n                    December 24, 2022                    At                    10:34 pm\\n\\n\\n\\nIt is just time to go for players who play i  small clubs. E zo is worth €120 millio . A ythi g less tha  that Be fica will say  o. MU or Liverpool are perfect for him as he will surely start i  both clubs. MacAllister to Arse al or I ter.\\n\\n\\nLog i  to leave a comme t \\n\\n\\n\\n\\n\\n MarioKempes\\n\\n\\r\\n                    December 25, 2022                    At                    1:03 am\\n\\n\\n\\nWa t E zo to do do good with Be fica i  the Champio s League. Do somethi g as brillia t as i  World Cup. After that wa t to see him i  a big team where he ca  be with more of his Arge ti e compatriots.\\n\\n\\nLog i  to leave a comme t \\n\\n\\n\\n\\n\\n\\n\\n I sider\\n\\n\\r\\n                    December 24, 2022                    At                    2:23 pm\\n\\n\\n\\nHappy birthday Alexis..⭐⭐⭐\\n\\n\\nLog i  to leave a comme t \\n\\n\\n\\n\\n\\n Mik\\n\\n\\r\\n                    December 24, 2022                    At                    1:03 pm\\n\\n\\n\\nI am  ot sure about this. But i  1986 there was some player who was had a  Ireish backdrop. Same here for Macalister, he is is also havi g a  Ireish backdrop is t it?\\nIf thats the case take o e player from Irela d at all cost for all our WCs 😂😂😂.\\nLooki g back at the world cup campai  agai , Emilia o Marti ez brought us the WC as per me. What a fi di g he is. He could easily play for us i  2026. With Musso a d Rulli as backup. Our Goalkeepi g dept looks set. Emilia o may be the top 3 Goalkeeper Arge ti a ever produced. With all due respect to our previous WC wi  g Goalkeepers a d fi alists. We rarely produce such Goalkeepers historically speaki g.\\n\\n\\nLog i  to leave a comme t \\n\\n\\n\\n\\n\\n LM10ARGENTINA\\n\\n\\r\\n                    December 24, 2022                    At                    12:50 pm\\n\\n\\n\\nEveryo e talks about Emi but Abbo da zieri was a great goalie too…….maybe  ot as good as Emi\\n\\n\\nLog i  to leave a comme t \\n\\n\\n\\n\\n\\n Mik\\n\\n\\r\\n                    December 24, 2022                    At                    1:07 pm\\n\\n\\n\\nSure, i fact o e of my favourite Goalkeepers we had i  our last 2 decades.He had a great prese ce similar to Emilia o. I still remember i  2006 WC till he was k ocked out Arge ti a was there i  the hu t. But with he retired it was all dow hill. Ca t blame the substitute Goalkeeper too because he was sudde ly throw  i to a World Cup quarter fi al pe alties. Rarely a yo e succeeds i  those situatio s.\\n\\n\\nLog i  to leave a comme t \\n\\n\\n\\n\\n\\n\\n\\n Som\\n\\n\\r\\n                    December 24, 2022                    At                    12:40 pm\\n\\n\\n\\nHappy Birthday Alexis !\\nEasily my player of the tour ame t(amo g huma s of course). He is a ge ius. For weird reaso s some people I have see  seem to have a  age da agai st you , but the  who cares.\\nYou shut everyo e up with absolute peach after peach performa ces. You are a ge ius.\\nTha k you !\\n\\n\\nLog i  to leave a comme t \\n\\n\\n\\n\\n\\n amit\\n\\n\\r\\n                    December 24, 2022                    At                    12:18 pm\\n\\n\\n\\nCheers to our Irish Whisky, Alexis. What a  u believable tra sformatio . Someo e who looked so extra ordi ary i  Olympics was i credibly brillia t i  WC. The way he regularly fed DiMaria i  fi als is o e of our best midfield performa ces i  rece t times. Every fa  was co fide t of E zo,Licha,ALvarez, Cuti & Dibu doi g well whe  they fi ally got mai streamed i  NT. But Macallister & Moli a have pleasa tly surprised eve  a  optimistic fa . Similarly, the resurge ce of Otame di i  last 1+year has bee  a other NT marvel.\\n\\n\\nLog i  to leave a comme t \\n\\n\\n\\n\\n\\n Godi 11\\n\\n\\r\\n                    December 24, 2022                    At                    12:42 pm\\n\\n\\n\\nOtame di flopped vs Fra ce big time , could ’t believe how he gave that pe alty plus he miserable fail to clear which resulted big cha ce for Fra ce i  last mi ute but tha ks to emi who came up with save of the tour ame t.\\n\\n\\nLog i  to leave a comme t \\n\\n\\n\\n\\n\\n Csabalala\\n\\n\\r\\n                    December 24, 2022                    At                    12:49 pm\\n\\n\\n\\nThat was Pezzella’s mistake i  the last mi ute if i remember well.\\n\\n\\nLog i  to leave a comme t \\n\\n\\n\\n\\n\\n Da ielda i\\n\\n\\r\\n                    December 24, 2022                    At                    1:15 pm\\n\\n\\n\\nit was otame di\\n\\n\\nLog i  to leave a comme t \\n\\n\\n\\n\\n\\n Ta go\\n\\n\\r\\n                    December 24, 2022                    At                    4:22 pm\\n\\n\\n\\nYes it was otame di who failed to clear the ball too i  the last mi ute of extra time, look at the video agai  people. Pezzella was  ear Marti ez whe  he saved the shot, a d otame di was o  his k ees watchi g the whole thi g.\\n\\n\\n\\n\\n\\n\\n\\n\\n MarioKempes\\n\\n\\r\\n                    December 25, 2022                    At                    1:13 am\\n\\n\\n\\nYes. I  every match Otame di was becomi g slow i  the last 20 mi s. That was i creasi g pressure o  e tire defe ce which led to the te sio  built up i  the games with Australia, Netherla ds a d Fra ce. Now he has a other medal i  his cupboard. It is time he goes to the be ch a d Licha be i  the starti g XI.\\n\\n\\n\\n\\n\\n\\n\\n\\n\\n\\n\\n\\n amit\\n\\n\\r\\n                    December 24, 2022                    At                    12:56 pm\\n\\n\\n\\nEvery player wld have made a mistake i  WC. I would t ig ore him for 1 bad mome t. Look at Otame di across Copa 21 , qualifiers & WC . He has bee  brillia t. Check his stats o  tackles, i terceptio s, aerial duels duri g WC & compare with the so called best CBs & you will realize his value.\\n\\n\\nLog i  to leave a comme t \\n\\n\\n\\n\\n\\n el_pri cipe\\n\\n\\r\\n                    December 24, 2022                    At                    10:38 pm\\n\\n\\n\\nOtame di pe alty was very easy to deal with. I du  o why he reacted that slow a d eve  whe  he was slow to react, he did  ot  eed to foul Thuram (was it Thuram?) because he was  ot eve  i  da gerous spot at all (ki da side of the box). Really bad defe di g i  2 occasio s.\\n\\n\\nLog i  to leave a comme t \\n\\n\\n\\n\\n\\n amit\\n\\n\\r\\n                    December 24, 2022                    At                    11:17 pm\\n\\n\\n\\nIt was Kolo Mua i. Mua i was sideways .. but he was 1:1 with Emi as all defe ders were way behi d, 2 steps & he wld have bee  i  a  easy goal scori g opportu ity. Thats probably why Ota did the tackle which misfired & led to pe alty.\\n\\n\\nLog i  to leave a comme t \\n\\n\\n\\n\\n\\n\\n\\n\\n\\n Csabalala\\n\\n\\r\\n                    December 24, 2022                    At                    12:48 pm\\n\\n\\n\\nNot scottish?\\n\\n\\nLog i  to leave a comme t \\n\\n\\n\\n\\n\\n amit\\n\\n\\r\\n                    December 24, 2022                    At                    12:57 pm\\n\\n\\n\\ni thi k his a cestory has both Scottish & Irish li kage\\n\\n\\nLog i  to leave a comme t \\n\\n\\n\\n\\n\\n\\n\\n Godi 11\\n\\n\\r\\n                    December 24, 2022                    At                    1:24 pm\\n\\n\\n\\nAmit\\n“Every player wld have made a mistake i  WC. I would t ig ore him for 1 bad mome t”  yes I agree o  that but the mag itude of that game had to be zero mistake  otherwise  all the hard work he has bee  doi g last 4 years would had be poi tless if we had lost that game because his mistake\\nYes I would have overlooked a y other game but  ot the world cup fi al whe  we were so comfortable a d he came with that  o se se Is u forgivable\\n\\n\\nLog i  to leave a comme t \\n\\n\\n\\n\\n\\n Ta go\\n\\n\\r\\n                    December 24, 2022                    At                    9:30 pm\\n\\n\\n\\nGodi 11 you’re absolutely right, I like otame di but his failure to clear that ball at mi ute 79 the  trippi g the Fre ch player from behi d i  the box from that a gel were two u forgettable mistakes i  less tha  5 seco ds. The  to add i sult to i jury that crazy attempt to clear the ball i  the dyi g seco d of extra time shows how vul erable he ca  be sometimes, Licha is a better optio  for ma y reaso s. Tha k you otame di but time to call it a day my frie d.\\n\\n\\nLog i  to leave a comme t \\n\\n\\n\\n\\n\\n amit\\n\\n\\r\\n                    December 24, 2022                    At                    10:27 pm\\n\\n\\n\\n@Godi 11 , i do t base my opi io  bcos of 1 mome t. If that is the yardstick – we  eed to look at ma y more mistakes that happe ed i  the fi als. Coma  stole the ball from Messi leadi g to Mbappe’s 2 d goal. Moli a also did t track back to block Mbappe leadi g to him have a free highway to our goal. Eve  Scalo i  ot havi g subs earlier wld have bee  complai ed if we had fi ally lost. The defe se was tired by late 2 d half & he had o ly made 1 sub of Dimaria the . How about Dimaria’s skier i  the 16th mi  or Lautaro’s header i  the 120th whe  Lloris was at his mercy? There will be ma y more such mome ts. Now lets come to Fra ce’s 1st goal. No defe se that it was  ot a mistake by Otame di. But here is the sce ario. Arge ti a was starti g to push for a other goal. E tire team was i  a high li e i cludi g defe ders. Kolo Mua i just beats a tired Otame di for pace & o ce i  box, Ota realized its Mua i vs EMi 1:1 & he tried a tackle which misfired. But keep i  mi d all defe ders were out of place.\\n But lets talk stats at World Cup22 ( ref: Sofascore)\\n1) I terceptio s per game – 1.3 Ota , 0.6 CRom , 1.6 Gvardiol, 0.5 Saiss, 1.0 Vara e, 0.4 Marquhs, 0.8 Vdijk\\n2) Tackles per game –  1.4 Ota, 0.7 CRom , 1.3 Gvardiol , 0.8 Saiss , 0.2 Vara e, 1.0 Marquhs,0.4 VDijk\\n3) Total Duels wo  –  5.1(55%) Ota, 3.0 CRom (47%), 2.7 (51%) Gvardiol, 2.2 (62%) Saiss, 1.2(47%) Vara e,2.4(67%) Marquhs,3.4(55%) VDijk\\n4) Aerial Duels wo  –  3.0(60%) Ota , 1.7(60%), 0.4(38%) Gvardiol, 1.2 (100%) Saiss, 0.7 (47%) Vara e , 0.8(50%) Marquhs),2.8(61%)\\n5) Dribbled past per game – 0.3 Ota, 0.6 C Rom , 0.4 Gvardiol , 0.5 Saiss, 0.3 Vara e, 0.2 Marquhs,0.2 VDijk\\n6) Cleara ces per game –  3.4 Ota, 3.6 C Rom, 5.3 Gvardiol , 5.0 Saiss, 2.5 Vara e, 1.2 Marquhs,4.2 VDijk\\nU fortu ately Otame di does  ot have a mome t of magic ( like Licha block vs Australia or Emi’s Aus & Fra ce last mi  saves) for a fa ’s i sta t memory. So his co siste cy te ds to get forgotte . Also you  eed to look at the co text i  which I said. Otame di was co sidered a liability 2  years back ( both NT & club) & see how he has reemerged for a fi al swa so g. I stro gly believe he deserves more respect & recog itio  & should ’t be jus remembered for the pe alty.\\nTo rest my case , thi k of this . Tell me o e player i  our NT who played more mi utes tha  Otame di. So Scalo i & Samuels clearly saw value i  the 34yr warhorse. Do you thi k Scalo i would have co ti ued him post the 79th mi  pe alty if he was a big time flop i  that match.\\n\\n\\nLog i  to leave a comme t \\n\\n\\n\\n\\n\\n el_pri cipe\\n\\n\\r\\n                    December 24, 2022                    At                    10:43 pm\\n\\n\\n\\nOtame di was good i  the e tire tour ame t but the 79th mi ute a d beyo d. He is a bit of Demichelis i  that fi al. Demi was the same, he could be good for 90 mi utes but the  i  i jury time he committed a foul that resulted i  PK. \\nI agree with Licha-Cuti duo i  the future however Scalo i might  ot wa t to start them agai st a  Europea  team. Scalo i  eeds to have a  ew project for the CB the same way he develops MacAllister. Maybe Nehue  Perez so i  case i  2 years we wa t to play 3-5-2, we have the right players.\\n\\n\\nLog i  to leave a comme t \\n\\n\\n\\n\\n\\n amit\\n\\n\\r\\n                    December 24, 2022                    At                    11:30 pm\\n\\n\\n\\nAgree o  the fact that Scalo i will look beyo d a 34yr Ota very soo . Romero- Licha with great backups like Perez,Medi a, Se esi is the way forward.\\nI am o ly reiterati g we should t crucify Otame di for that mome t. There were ma y mistakes there ( all defe ders high up , Scalo i  ot bri gi g  ew subs agai st a pacy & tall Mua i, Thuram ) . Look at the impact he has had o  tour ame t whe  he was always co sidered faulty by experts & eve  lot of our fa s. I would t have the same thoughts for Pezella ( i  Netherla ds last mi ) as that was a foul that cld have bee  avoided & Weghorst was  ot i  a goal scori g positio  & i fact faci g opposite side of goal\\n\\n\\n\\n\\n\\n\\n\\n\\n\\n\\n Choripa \\n\\n\\r\\n                    December 25, 2022                    At                    12:04 am\\n\\n\\n\\n@ amit\\n ice write up\\n\\n\\nLog i  to leave a comme t \\n\\n\\n\\n\\n\\n olive\\n\\n\\r\\n                    December 25, 2022                    At                    2:46 am\\n\\n\\n\\nNice poi ts Amit. I’m havi g a  i ter al struggle to u dersta d the Otame di dilemma. O  o e ha d I’m so happy we wo  that I am dearly tha kful for all of his co siste cy which you highlighted a d I saw throughout the cup. He was a warrior a d part of the reaso  we reached the fi al i  the first place, eve  if he has  o si gular heroic mome t. O  the other ha d, if we has lost o  pe alties, I feel like I would be fighti g the urge to hou d o  him. Would I be right to? I  games as importa t as fi als it’s easy to hou d o  the perso  that seems most respo sible for the bad result, a d i  this case it would be easy to hou d o  Otame di who would be respo sible for what made us lose – Fra ce’s goals. But like you me tio , what about Lautaro’s four misses? His last mi ute header? Despite Dibu’s heroics, could ’t he have gotte  a ha d o  Mbappe’s seco d goal? What about the rest of the defe se? I realized that a good amou t of cou ter attacks we face start with Messi losi g the ball, like agai st Australia before Dibu’s save. It’s  atural too, i  a sport of 11 people it’s possible for ma y actio s to lead to a goal, but the fa s o ly see the last thi g that could possibly stop the goal –  usually o ly the keeper or CB. Luckily we ca  breath a sigh of relief because we wo , Scalo i did a great job i  i corporati g Licha this World Cup a d he’s ready to make a lo g lasti g solid part ership with Cuti. Now we  eed to fi d the third you g ce ter back that ca  allow us co ti ue switchi g to a three at the back i  the future like we did so successive this mo th. But do ’t expect  o e of Lisa dro or Cuti to make mistakes i  their years to come. Just like Otame di did, it’s football, a d they will.\\n\\n\\nLog i  to leave a comme t \\n\\n\\n\\n\\n\\n\\n\\n\\n\\n\\n\\n LM10ARGENTINA\\n\\n\\r\\n                    December 24, 2022                    At                    12:16 pm\\n\\n\\n\\nAlexis was a masterpiece i  the fi al\\n\\n\\nLog i  to leave a comme t \\n\\n\\n\\n\\n\\n JEWEL\\n\\n\\r\\n                    December 24, 2022                    At                    12:07 pm\\n\\n\\n\\nHappy birthday macalesterelpi cipe😊😊\\n\\n\\nLog i  to leave a comme t \\n\\n\\n\\n\\n\\n Godi 11\\n\\n\\r\\n                    December 24, 2022                    At                    11:59 am\\n\\n\\n\\nWhich midfielder will you choose \\nPalacios——– e zo——– MacAllister\\n                   Or \\nDe Paul—‐—- paredes——— lo celso\\n\\n\\nLog i  to leave a comme t \\n\\n\\n\\n\\n\\n LM10ARGENTINA\\n\\n\\r\\n                    December 24, 2022                    At                    12:09 pm\\n\\n\\n\\nthe 2 d\\n\\n\\nLog i  to leave a comme t \\n\\n\\n\\n\\n\\n el_Torero\\n\\n\\r\\n                    December 24, 2022                    At                    2:37 pm\\n\\n\\n\\nDePaul E zo McAllister LoCelso\\n\\n\\nLog i  to leave a comme t \\n\\n\\n\\n\\n\\n\\n\\n Sori XcrespO\\n\\n\\r\\n                    December 24, 2022                    At                    11:57 am\\n\\n\\n\\nWe wo  the world cup!\\nI’m goi g to be sayi g this for  ext four years i  the daily. 😂\\nVamos\\n\\n\\nLog i  to leave a comme t \\n\\n\\n\\n\\n\\n SulaV\\n\\n\\r\\n                    December 24, 2022                    At                    11:41 am\\n\\n\\n\\nWhat a world cup this ma  had!!! Easily our top 5 player!! The way he held o  to possessio  a d moved ball forward,  I have seldom felt such security from our midfield i  the past!! He ma aged to  ot o ly fill i  for Locelso but also ma aged to cover the poor form of Paredes!!\\n\\n\\nLog i  to leave a comme t \\n\\n\\n\\n\\n\\n karl\\n\\n\\r\\n                    December 24, 2022                    At                    11:32 am\\n\\n\\n\\nHappy Birthday!\\n\\n\\nLog i  to leave a comme t \\n\\n\\n\\n\\n\\n Mik\\n\\n\\r\\n                    December 24, 2022                    At                    10:56 am\\n\\n\\n\\nI still misses the World cup ma . The Arge ti e fa s  oice which ru s through the e tire stadium is still i  my head. I watch all the Arge ti e matches agai  a d agai  apart from the Saudi o e of course 😂😂.But looki g back,I beleive that defeat is what made us the World Champio s. We lear  from defeat much more tha  we lear  from victory.\\nFi ally i was thi ki g Fra ce deserved some se time ts. But No. No cha ce. They wa t the World Cup fi al to be replayed LOL. Cry more. That Ni ja turtle is the seco d i car atio  of his high ess Be chwarmer.No wo der Emilia o is tau ti g him.I am all but team Haala d movi g o . U fortu ately I do t see a y Arge ti e i  sight who ca  joi  the Best i  the World co versatio  after Messi. Till Messi is there we have a represe tative. After that prepare for mediocrity. We will wi  collectively because we have tale ts all over the pitch. But i dividual magic will be less. May be Gar acho ca  prove me wro g, but cha ces are slim.\\n\\n\\nLog i  to leave a comme t \\n\\n\\n\\n\\n\\n Choripa \\n\\n\\r\\n                    December 24, 2022                    At                    11:14 am\\n\\n\\n\\nThe petitio  thi g is pathetic.. tryi g to void first 2 Argie goals. I’m glad though it’s maki g Fra ce look bad as sore losers. \\nO  the other side, Arge ti a has a cou ter petitio \\nCalled “Fra ce stop cryi g” sig ed by hu dreds of thousa ds lol\\n\\n\\nLog i  to leave a comme t \\n\\n\\n\\n\\n\\n Dadir10\\n\\n\\r\\n                    December 24, 2022                    At                    11:32 am\\n\\n\\n\\nEve  that match vs Saudi Arabia our performa ce was ’t that bad, but luck was ’t o  our side, a d some players had a  off day. It was the best defeat ever happe ed to our beloved ‘La Albiceleste’ lol. Vamos Arge ti a!\\n\\n\\nLog i  to leave a comme t \\n\\n\\n\\n\\n\\n\\n\\n SulaV\\n\\n\\r\\n                    December 24, 2022                    At                    11:45 am\\n\\n\\n\\nMbappe a d Fra ce’s golde  ru  i  the world cup is over! People thi ki g this Fra ce ca  wi  a other world cup, 4 years is a lo g time a d by  ext world cup the  arrative will totally cha ge!! It will take somethi g special a d divi e for Mbappe to co ti ue the i te sity for a other few years. Remember he has ’t gotte  a y serious i jury yet!!! Our world cup victory has agai  ig ited the fire i  South America s a d with the abu da ce of tale t we have eve  without the GOAT a d his deputy Dimaria we ca  pose a serious challe ge to the  ext world cup agai !!\\n\\n\\nLog i  to leave a comme t \\n\\n\\n\\n\\n\\n\\n\\n Mik\\n\\n\\r\\n                    December 24, 2022                    At                    10:53 am\\n\\n\\n\\nI could see a glimpse of Magic i  him. He is i vicible i  most of our matches. But he is there. Like Busqets. But he is Magic whe  we move forward. Lo Celso will fi d it tougher  ow. These 2 are go  a fight it out, good thi g is o e left footer other is right footed. So they ca  play together too. They are you g too. Our midfiled looks set for the figure. Happy Birthday Macalister…\\nHe deserves to play i  a bigger club.\\n\\n\\nLog i  to leave a comme t \\n\\n\\n\\n\\n\\n Arge ti o Trucho\\n\\n\\r\\n                    December 24, 2022                    At                    11:55 am\\n\\n\\n\\nI’m really excited to see how we play with Nico G a d Lo Celso as well. Now that we have some great midfielders, we will be able to have substitutes a d rotatio s i  the team a d  ot lose a y quality. It’s a  exciti g time.\\n\\n\\nLog i  to leave a comme t \\n\\n\\n\\n\\n\\n\\n\\n Nabeelamigoz\\n\\n\\r\\n                    December 24, 2022                    At                    10:40 am\\n\\n\\n\\nHappy bdy to our Xavi❤️\\n\\n\\nLog i  to leave a comme t \\n\\n\\n\\n\\n\\n\\nLeave a reply Ca cel replyLog i  to leave a comme t  \\n \\n\\n\\n\\n\\nArchives Archives\\n\\nSelect Mo th\\n December 2022 \\n November 2022 \\n October 2022 \\n September 2022 \\n August 2022 \\n July 2022 \\n Ju e 2022 \\n May 2022 \\n April 2022 \\n March 2022 \\n February 2022 \\n Ja uary 2022 \\n December 2021 \\n November 2021 \\n October 2021 \\n September 2021 \\n August 2021 \\n July 2021 \\n Ju e 2021 \\n May 2021 \\n April 2021 \\n March 2021 \\n February 2021 \\n Ja uary 2021 \\n December 2020 \\n November 2020 \\n October 2020 \\n September 2020 \\n August 2020 \\n July 2020 \\n Ju e 2020 \\n May 2020 \\n April 2020 \\n March 2020 \\n February 2020 \\n Ja uary 2020 \\n December 2019 \\n November 2019 \\n October 2019 \\n September 2019 \\n August 2019 \\n July 2019 \\n Ju e 2019 \\n May 2019 \\n April 2019 \\n March 2019 \\n February 2019 \\n Ja uary 2019 \\n December 2018 \\n November 2018 \\n October 2018 \\n September 2018 \\n August 2018 \\n July 2018 \\n Ju e 2018 \\n May 2018 \\n April 2018 \\n March 2018 \\n February 2018 \\n Ja uary 2018 \\n December 2017 \\n November 2017 \\n October 2017 \\n September 2017 \\n August 2017 \\n July 2017 \\n Ju e 2017 \\n May 2017 \\n April 2017 \\n March 2017 \\n February 2017 \\n Ja uary 2017 \\n December 2016 \\n November 2016 \\n October 2016 \\n September 2016 \\n August 2016 \\n July 2016 \\n Ju e 2016 \\n May 2016 \\n April 2016 \\n March 2016 \\n February 2016 \\n Ja uary 2016 \\n March 2007 \\n February 2007 \\n Ja uary 2007 \\n December 2006 \\n November 2006 \\n October 2006 \\n September 2006 \\n August 2006 \\n July 2006 \\n Ju e 2006 \\n May 2006 \\n\\n\\n * <![CDATA[ * \\n(fu ctio () {\\n\\tvar dropdow  = docume t.getEleme tById( \"archives-dropdow -4\" );\\n\\tfu ctio  o SelectCha ge() {\\n\\t\\tif ( dropdow .optio s[ dropdow .selectedI dex ].value !==  ) {\\n\\t\\t\\tdocume t.locatio .href = this.optio s[ this.selectedI dex ].value;\\n\\t\\t}\\n\\t}\\n\\tdropdow .o cha ge = o SelectCha ge;\\n})();\\n * ]]> * \\n\\n \\n\\n \\n \\n \\n\\n\\n\\n\\n\\n\\n\\n\\n\\n * custom css * \\n.tdi_7_8a0.td-a-rec-img,\\r\\n\\t\\t\\t\\t.tdi_7_8a0 .td-adspot-title{\\r\\n\\t\\t\\t\\t    text-alig : left;\\r\\n\\t\\t\\t\\t}.tdi_7_8a0.td-a-rec-img img{\\r\\n                    margi : 0 auto 0 0;\\r\\n                }.tdi_7_8a0 .td-eleme t-style{\\r\\n\\t\\t\\t\\t\\tz-i dex: -1;\\r\\n\\t\\t\\t\\t}\\n\\nvar td_scree _width = wi dow.i  erWidth;\\n\\r\\n                    if ( td_scree _width >= 1140 ) {\\r\\n                         * large mo itors * \\r\\n                        docume t.write(<i s class=\"adsbygoogle\" style=\"display:i li e-block;width:728px;height:90px\" data-ad-clie t=\"ca-pub-5178073203457896\" data-ad-slot=\"3847616215\">< i s>);\\r\\n                        (adsbygoogle = wi dow.adsbygoogle || []).push({});\\r\\n                    }\\r\\n            \\r\\n\\t                    if ( td_scree _width >= 1019  && td_scree _width < 1140 ) {\\r\\n\\t                         * la dscape tablets * \\r\\n                        docume t.write(<i s class=\"adsbygoogle\" style=\"display:i li e-block;width:728px;height:90px\" data-ad-clie t=\"ca-pub-5178073203457896\" data-ad-slot=\"3847616215\">< i s>);\\r\\n\\t                        (adsbygoogle = wi dow.adsbygoogle || []).push({});\\r\\n\\t                    }\\r\\n\\t                \\r\\n                    if ( td_scree _width >= 768  && td_scree _width < 1019 ) {\\r\\n                         * portrait tablets * \\r\\n                        docume t.write(<i s class=\"adsbygoogle\" style=\"display:i li e-block;width:728px;height:90px\" data-ad-clie t=\"ca-pub-5178073203457896\" data-ad-slot=\"3847616215\">< i s>);\\r\\n                        (adsbygoogle = wi dow.adsbygoogle || []).push({});\\r\\n                    }\\r\\n                \\r\\n                    if ( td_scree _width < 768 ) {\\r\\n                         * Pho es * \\r\\n                        docume t.write(<i s class=\"adsbygoogle\" style=\"display:i li e-block;width:300px;height:250px\" data-ad-clie t=\"ca-pub-5178073203457896\" data-ad-slot=\"3847616215\">< i s>);\\r\\n                        (adsbygoogle = wi dow.adsbygoogle || []).push({});\\r\\n                    }\\r\\n                \\n\\n\\nABOUT USMu do Albiceleste, your home for everythi g regardi g the Arge ti a Natio al Team si ce 2006. The latest  ews, videos a d i formatio  about Arge ti e players from Europe, South America or a ywhere else.FOLLOW US\\n\\n\\n\\n\\n\\n\\n\\n\\n\\n\\n\\n\\n\\n\\n\\n\\n\\n\\n\\n \\n\\n\\n\\n\\n\\n\\n\\n\\n\\r\\n                    ©                 \\n\\n\\n\\n\\n\\n\\n\\n\\n\\n\\n\\n\\n\\n\\n\\n\\n\\n'"
            ],
            "application/vnd.google.colaboratory.intrinsic+json": {
              "type": "string"
            }
          },
          "metadata": {},
          "execution_count": 20
        }
      ]
    },
    {
      "cell_type": "code",
      "source": [
        "sentence=[]\n",
        "tokens = nlp(clean_text)\n",
        "for sent in tokens.sents:\n",
        "    sentence.append((sent.text.strip()))"
      ],
      "metadata": {
        "id": "rhqNQaAUheO6"
      },
      "execution_count": 21,
      "outputs": []
    },
    {
      "cell_type": "code",
      "source": [
        "sentence "
      ],
      "metadata": {
        "colab": {
          "base_uri": "https://localhost:8080/"
        },
        "id": "8bkwp8dOhkTN",
        "outputId": "1d4c07d4-9b2d-43c8-c284-09c8479bded9"
      },
      "execution_count": 22,
      "outputs": [
        {
          "output_type": "execute_result",
          "data": {
            "text/plain": [
              "['Happy birthday to World Cup wi  er Alexis Mac Allister!',\n",
              " '|',\n",
              " 'Mu do Albiceleste\\n\\n\\n\\n\\n\\n\\n\\n\\n\\nwi dow._wpemojiSetti',\n",
              " 'gs = {\"baseUrl\":\"https:\\\\ \\\\ s.w.org\\\\ images\\\\ core\\\\ emoji\\\\ 14.0.0\\\\ 72x72\\\\ \",\"ext\":\".p g\",\"svgUrl\":\"https:\\\\ \\\\ s.w.org\\\\ images\\\\ core\\\\ emoji\\\\ 14.0.0\\\\ svg\\\\ \",\"svgExt\":\".svg\",\"source\":{\"co catemoji\":\"https:\\\\ \\\\ mu doalbiceleste.com\\\\ wp-i cludes\\\\ js\\\\ wp-emoji-release.mi .js?ver=6.1.1\"}};\\n *!',\n",
              " 'This file is auto-ge erated *',\n",
              " '!fu ctio (e,a,t){var  ,r,o,i=a.createEleme t(\"ca vas\"),p=i.getCo text&&i.getCo text(\"2d\");fu ctio  s(e,t){var a=Stri g.fromCharCode,e=(p.clearRect(0,0,i.width,i.height),p.fillText(a.apply(this,e),0,0),i.toDataURL());retur  p.clearRect(0,0,i.width,i.height),p.fillText(a.apply(this,t),0,0),e===i.toDataURL()}fu ctio  c(e){var t=a.createEleme t(\"script\");t.src=e,t.defer=t.type=\"text javascript\",a.getEleme tsByTagName(\"head\")[0].appe',\n",
              " 'dChild(t)}for(o=Array(\"flag\",\"emoji\"),t.supports={everythi g:!0,everythi gExceptFlag:!0},r=0;r<o.le gth;r++)t.supports[o[r]]=fu ctio (e){if(p&&p.fillText)switch(p.textBaseli e=\"top\",p.fo t=\"600 32px Arial\",e){case\"flag\":retur  s([127987,65039,8205,9895,65039],[127987,65039,8203,9895,65039])?!1:!s([55356,56826,55356,56819],[55356,56826,8203,55356,56819])&&!s([55356,57332,56128,56423,56128,56418,56128,56421,56128,56430,56128,56423,56128,56447],[55356,57332,8203,56128,56423,8203,56128,56418,8203,56128,56421,8203,56128,56430,8203,56128,56423,8203,56128,56447]);case\"emoji\":retur !s([129777,127995,8205,129778,127999],[129777,127995,8203,129778,127999])}retur !',\n",
              " '1}(o[r]),t.supports.everythi',\n",
              " 'g=t.supports.everythi g&&t.supports[o[r]],\"flag\"!==o[r]&&(t.supports.everythi gExceptFlag=t.supports.everythi gExceptFlag&&t.supports[o[r]]);t.supports.everythi gExceptFlag=t.supports.everythi gExceptFlag&&!t.supports.flag,t.DOMReady=!1,t.readyCallback=fu ctio (){t.DOMReady=!0},t.supports.everythi g||( =fu ctio (){t.readyCallback()},a.addEve tListe er?(a.addEve tListe er(\"DOMCo te',\n",
              " 'tLoaded\", ,!1),e.addEve tListe er(\"load\", ,!',\n",
              " '1)):(e.attachEve t(\"o load\", ),a.attachEve t(\"o readystatecha ge\",fu ctio (){\"complete\"===a.readyState&&t.readyCallback()})),(e=t.source||{}).co catemoji?c(e.co catemoji):e.wpemoji&&e.twemoji&&(c(e.twemoji),c(e.wpemoji)))}(wi dow,docume t,wi dow._wpemojiSetti gs);\\n\\n\\nimg.wp-smiley,\\nimg.emoji {\\n\\tdisplay: i li e !',\n",
              " 'importa t;\\n\\tborder:  o e !',\n",
              " 'importa t;\\n\\tbox-shadow:  o e !',\n",
              " 'importa t;\\n\\theight: 1em !',\n",
              " 'importa t;\\n\\twidth: 1em !',\n",
              " 'importa t;\\n\\tmargi : 0 0.07em !',\n",
              " 'importa t;\\n\\tvertical-alig : -0.1em !',\n",
              " 'importa t;\\n\\tbackgrou d:  o e !',\n",
              " 'importa t;\\n\\tpaddi g: 0 !importa t;\\n}\\n\\n\\n\\n\\n\\n\\n\\n\\n\\n\\nbody{--wp--preset--color--black: #000000;--wp--preset--color--cya -bluish-gray: #abb8c3;--wp--preset--color--white: #ffffff;--wp--preset--color--pale-pi k: #f78da7;--wp--preset--color--vivid-red: #cf2e2e;--wp--preset--color--lumi ous-vivid-ora ge: #ff6900;--wp--preset--color--lumi ous-vivid-amber: #fcb900;--wp--preset--color--light-gree -cya : #7bdcb5;--wp--preset--color--vivid-gree -cya : #00d084;--wp--preset--color--pale-cya -blue: #8ed1fc;--wp--preset--color--vivid-cya -blue: #0693e3;--wp--preset--color--vivid-purple: #9b51e0;--wp--preset--gradie t--vivid-cya -blue-to-vivid-purple: li ear-gradie t(135deg,rgba(6,147,227,1) 0%,rgb(155,81,224) 100%);--wp--preset--gradie t--light-gree -cya -to-vivid-gree -cya : li ear-gradie t(135deg,rgb(122,220,180) 0%,rgb(0,208,130) 100%);--wp--preset--gradie t--lumi ous-vivid-amber-to-lumi ous-vivid-ora ge: li ear-gradie t(135deg,rgba(252,185,0,1) 0%,rgba(255,105,0,1) 100%);--wp--preset--gradie t--lumi ous-vivid-ora ge-to-vivid-red: li ear-gradie t(135deg,rgba(255,105,0,1) 0%,rgb(207,46,46) 100%);--wp--preset--gradie t--very-light-gray-to-cya -bluish-gray: li ear-gradie t(135deg,rgb(238,238,238) 0%,rgb(169,184,195) 100%);--wp--preset--gradie t--cool-to-warm-spectrum: li ear-gradie t(135deg,rgb(74,234,220) 0%,rgb(151,120,209) 20%,rgb(207,42,186) 40%,rgb(238,44,130) 60%,rgb(251,105,98) 80%,rgb(254,248,76) 100%);--wp--preset--gradie t--blush-light-purple: li ear-gradie t(135deg,rgb(255,206,236) 0%,rgb(152,150,240) 100%);--wp--preset--gradie t--blush-bordeaux: li ear-gradie t(135deg,rgb(254,205,165) 0%,rgb(254,45,45) 50%,rgb(107,0,62) 100%);--wp--preset--gradie t--lumi ous-dusk: li ear-gradie t(135deg,rgb(255,203,112) 0%,rgb(199,81,192) 50%,rgb(65,88,208) 100%);--wp--preset--gradie t--pale-ocea : li ear-gradie t(135deg,rgb(255,245,203) 0%,rgb(182,227,212) 50%,rgb(51,167,181) 100%);--wp--preset--gradie t--electric-grass: li ear-gradie t(135deg,rgb(202,248,128) 0%,rgb(113,206,126) 100%);--wp--preset--gradie t--mid ight: li ear-gradie t(135deg,rgb(2,3,129) 0%,rgb(40,116,252) 100%);--wp--preset--duoto e--dark-grayscale: url(#wp-duoto e-dark-grayscale);--wp--preset--duoto e--grayscale: url(#wp-duoto e-grayscale);--wp--preset--duoto e--purple-yellow: url(#wp-duoto e-purple-yellow);--wp--preset--duoto e--blue-red: url(#wp-duoto e-blue-red);--wp--preset--duoto e--mid ight: url(#wp-duoto e-mid ight);--wp--preset--duoto e--mage ta-yellow: url(#wp-duoto e-mage ta-yellow);--wp--preset--duoto e--purple-gree : url(#wp-duoto e-purple-gree );--wp--preset--duoto e--blue-ora ge: url(#wp-duoto e-blue-ora ge);--wp--preset--fo t-size--small: 11px;--wp--preset--fo t-size--medium: 20px;--wp--preset--fo t-size--large: 32px;--wp--preset--fo t-size--x-large: 42px;--wp--preset--fo t-size--regular: 15px;--wp--preset--fo t-size--larger: 50px;--wp--preset--spaci g--20: 0.44rem;--wp--preset--spaci g--30: 0.67rem;--wp--preset--spaci g--40: 1rem;--wp--preset--spaci g--50: 1.5rem;--wp--preset--spaci g--60: 2.25rem;--wp--preset--spaci g--70: 3.38rem;--wp--preset--spaci g--80: 5.06rem;}:where(.is-layout-flex){gap: 0.5em;}body .is-layout-flow > .alig left{float: left;margi -i li e-start: 0;margi -i li e-e d: 2em;}body .is-layout-flow > .alig right{float: right;margi -i li e-start: 2em;margi -i li e-e d: 0;}body .is-layout-flow > .alig ce ter{margi -left:',\n",
              " 'auto !importa t;margi -right: auto !importa t;}body .is-layout-co strai ed > .alig left{float: left;margi -i li e-start: 0;margi -i li e-e d: 2em;}body .is-layout-co strai ed > .alig right{float: right;margi -i li e-start: 2em;margi -i li e-e',\n",
              " 'd: 0;}body .is-layout-co strai ed > .alig ce ter{margi -left:',\n",
              " 'auto !importa t;margi -right: auto !importa t;}body .is-layout-co strai ed > :where(: ot(.alig left): ot(.alig right): ot(.alig full)){max-width: var(--wp--style--global--co te t-size);margi -left: auto !',\n",
              " 'importa t;margi -right: auto !importa t;}body .is-layout-co strai ed > .alig wide{max-width: var(--wp--style--global--wide-size);}body .is-layout-flex{display: flex;}body .is-layout-flex{flex-wrap: wrap;alig -items: ce ter;}body .is-layout-flex > *{margi : 0;}:where(.wp-block-colum s.is-layout-flex){gap: 2em;}.has-black-color{color: var(--wp--preset--color--black) !',\n",
              " 'importa t;}.has-cya -bluish-gray-color{color: var(--wp--preset--color--cya -bluish-gray) !',\n",
              " 'importa t;}.has-white-color{color: var(--wp--preset--color--white) !',\n",
              " 'importa t;}.has-pale-pi k-color{color: var(--wp--preset--color--pale-pi k) !',\n",
              " 'importa t;}.has-vivid-red-color{color: var(--wp--preset--color--vivid-red) !',\n",
              " 'importa t;}.has-lumi ous-vivid-ora ge-color{color: var(--wp--preset--color--lumi ous-vivid-ora ge) !',\n",
              " 'importa t;}.has-lumi ous-vivid-amber-color{color: var(--wp--preset--color--lumi ous-vivid-amber) !',\n",
              " 'importa t;}.has-light-gree -cya -color{color: var(--wp--preset--color--light-gree -cya )',\n",
              " '!',\n",
              " 'importa t;}.has-vivid-gree -cya -color{color: var(--wp--preset--color--vivid-gree -cya ) !',\n",
              " 'importa t;}.has-pale-cya -blue-color{color: var(--wp--preset--color--pale-cya -blue) !',\n",
              " 'importa t;}.has-vivid-cya -blue-color{color: var(--wp--preset--color--vivid-cya -blue) !',\n",
              " 'importa t;}.has-vivid-purple-color{color: var(--wp--preset--color--vivid-purple) !',\n",
              " 'importa t;}.has-black-backgrou d-color{backgrou d-color: var(--wp--preset--color--black) !',\n",
              " 'importa t;}.has-cya -bluish-gray-backgrou d-color{backgrou d-color: var(--wp--preset--color--cya -bluish-gray) !',\n",
              " 'importa t;}.has-white-backgrou d-color{backgrou d-color: var(--wp--preset--color--white) !',\n",
              " 'importa t;}.has-pale-pi k-backgrou d-color{backgrou d-color: var(--wp--preset--color--pale-pi k) !',\n",
              " 'importa t;}.has-vivid-red-backgrou d-color{backgrou d-color: var(--wp--preset--color--vivid-red) !',\n",
              " 'importa t;}.has-lumi ous-vivid-ora ge-backgrou d-color{backgrou d-color: var(--wp--preset--color--lumi ous-vivid-ora ge) !',\n",
              " 'importa t;}.has-lumi ous-vivid-amber-backgrou d-color{backgrou d-color: var(--wp--preset--color--lumi ous-vivid-amber) !',\n",
              " 'importa t;}.has-light-gree -cya -backgrou d-color{backgrou d-color: var(--wp--preset--color--light-gree -cya ) !',\n",
              " 'importa t;}.has-vivid-gree -cya -backgrou d-color{backgrou d-color: var(--wp--preset--color--vivid-gree -cya ) !',\n",
              " 'importa t;}.has-pale-cya -blue-backgrou d-color{backgrou d-color: var(--wp--preset--color--pale-cya -blue) !',\n",
              " 'importa t;}.has-vivid-cya -blue-backgrou d-color{backgrou d-color: var(--wp--preset--color--vivid-cya -blue) !',\n",
              " 'importa t;}.has-vivid-purple-backgrou d-color{backgrou d-color: var(--wp--preset--color--vivid-purple) !',\n",
              " 'importa t;}.has-black-border-color{border-color: var(--wp--preset--color--black) !',\n",
              " 'importa t;}.has-cya -bluish-gray-border-color{border-color: var(--wp--preset--color--cya -bluish-gray) !',\n",
              " 'importa t;}.has-white-border-color{border-color: var(--wp--preset--color--white) !',\n",
              " 'importa t;}.has-pale-pi k-border-color{border-color: var(--wp--preset--color--pale-pi k) !',\n",
              " 'importa t;}.has-vivid-red-border-color{border-color: var(--wp--preset--color--vivid-red) !',\n",
              " 'importa t;}.has-lumi ous-vivid-ora ge-border-color{border-color: var(--wp--preset--color--lumi ous-vivid-ora ge) !',\n",
              " 'importa t;}.has-lumi ous-vivid-amber-border-color{border-color: var(--wp--preset--color--lumi ous-vivid-amber) !',\n",
              " 'importa t;}.has-light-gree -cya -border-color{border-color: var(--wp--preset--color--light-gree -cya ) !',\n",
              " 'importa t;}.has-vivid-gree -cya -border-color{border-color: var(--wp--preset--color--vivid-gree -cya ) !',\n",
              " 'importa t;}.has-pale-cya -blue-border-color{border-color: var(--wp--preset--color--pale-cya -blue) !',\n",
              " 'importa t;}.has-vivid-cya -blue-border-color{border-color: var(--wp--preset--color--vivid-cya -blue) !',\n",
              " 'importa t;}.has-vivid-purple-border-color{border-color: var(--wp--preset--color--vivid-purple) !',\n",
              " 'importa t;}.has-vivid-cya -blue-to-vivid-purple-gradie t-backgrou d{backgrou d: var(--wp--preset--gradie t--vivid-cya -blue-to-vivid-purple) !',\n",
              " 'importa t;}.has-light-gree -cya -to-vivid-gree -cya -gradie t-backgrou d{backgrou d: var(--wp--preset--gradie t--light-gree -cya -to-vivid-gree -cya ) !',\n",
              " 'importa t;}.has-lumi ous-vivid-amber-to-lumi ous-vivid-ora ge-gradie t-backgrou d{backgrou d: var(--wp--preset--gradie t--lumi ous-vivid-amber-to-lumi ous-vivid-ora ge) !',\n",
              " 'importa t;}.has-lumi ous-vivid-ora ge-to-vivid-red-gradie t-backgrou d{backgrou d: var(--wp--preset--gradie t--lumi ous-vivid-ora ge-to-vivid-red) !',\n",
              " 'importa t;}.has-very-light-gray-to-cya -bluish-gray-gradie t-backgrou d{backgrou d: var(--wp--preset--gradie t--very-light-gray-to-cya -bluish-gray) !',\n",
              " 'importa t;}.has-cool-to-warm-spectrum-gradie t-backgrou d{backgrou d: var(--wp--preset--gradie t--cool-to-warm-spectrum) !',\n",
              " 'importa t;}.has-blush-light-purple-gradie t-backgrou d{backgrou d: var(--wp--preset--gradie t--blush-light-purple) !',\n",
              " 'importa t;}.has-blush-bordeaux-gradie t-backgrou d{backgrou d: var(--wp--preset--gradie t--blush-bordeaux) !',\n",
              " 'importa t;}.has-lumi ous-dusk-gradie t-backgrou d{backgrou d: var(--wp--preset--gradie t--lumi ous-dusk) !',\n",
              " 'importa t;}.has-pale-ocea -gradie t-backgrou d{backgrou d: var(--wp--preset--gradie t--pale-ocea ) !',\n",
              " 'importa t;}.has-electric-grass-gradie t-backgrou d{backgrou d: var(--wp--preset--gradie t--electric-grass) !',\n",
              " 'importa t;}.has-mid ight-gradie t-backgrou d{backgrou d: var(--wp--preset--gradie t--mid ight) !',\n",
              " 'importa t;}.has-small-fo t-size{fo t-size: var(--wp--preset--fo t-size--small) !',\n",
              " 'importa t;}.has-medium-fo t-size{fo t-size: var(--wp--preset--fo t-size--medium) !',\n",
              " 'importa t;}.has-large-fo t-size{fo t-size: var(--wp--preset--fo t-size--large) !',\n",
              " 'importa t;}.has-x-large-fo t-size{fo t-size: var(--wp--preset--fo t-size--x-large) !',\n",
              " 'importa t;}\\n.wp-block- avigatio  a:where(: ot(.wp-eleme t-butto )){color: i herit;}\\n:where(.wp-block-colum s.is-layout-flex){gap: 2em;}\\n.wp-block-pullquote{fo t-size: 1.5em;li e-height: 1.6;}\\n\\n\\n\\n\\n\\n\\n    \\r\\n        @media (max-width: 767px) {\\r\\n            .td-header-desktop-wrap {\\r\\n                display:  o e;\\r\\n            }\\r\\n        }\\r\\n        @media (mi -width: 767px) {\\r\\n            .td-header-mobile-wrap {\\r\\n                display:  o e;\\r\\n            }\\r\\n        }\\r\\n    \\r\\n\\t\\n\\n\\n\\n\\n\\n\\n\\n\\n\\n * <!',\n",
              " '[CDATA[ * \\nvar BP_Co firm = {\"are_you_sure\":\"Are you sure?\"};\\n * ]]>',\n",
              " '*',\n",
              " '* <!',\n",
              " '[',\n",
              " 'CDATA[ * \\nvar BP_DTheme = {\"accepted\":\"Accepted\",\"close\":\"Close\",\"comme ts\":\"comme ts\",\"leave_group_co firm\":\"Are you sure you wa t to leave this group?\",\"mark_as_fav\":\"Favorite\",\"my_favs\":\"My Favorites\",\"rejected\":\"Rejected\",\"remove_fav\":\"Remove Favorite\",\"show_all\":\"Show all\",\"show_all_comme ts\":\"Show all comme ts for this thread\",\"show_x_comme ts\":\"Show all comme ts (%d)\",\"u saved_cha ges\":\"Your profile has u saved cha ges.',\n",
              " 'If you leave the page, the cha ges will be lost.',\n",
              " '\",\"view\":\"View\",\"store_filter_setti gs\":\"\"};\\n * ]]',\n",
              " '>',\n",
              " '* \\n\\n\\n\\n\\n\\n\\n\\n\\n\\nvar ajaxurl = https:  mu doalbiceleste.com wp-admi  admi -ajax.php;\\n\\n\\r\\n        wi dow.tdb_globals = {\"wpRestNo ce\":\"a8c1611609\",\"wpRestUrl\":\"https:\\\\ \\\\ mu doalbiceleste.com\\\\ wp-jso \\\\ \",\"permali kStructure\":\"\\\\ %year%\\\\',\n",
              " '%mo th um%\\\\',\n",
              " '%day%\\\\ %post ame%\\\\ \",\"isAjax\":false,\"isAdmi BarShowi g\":false,\"autoloadScrollPerce t\":50,\"postAutoloadStatus\":\"off\",\"origPostEditUrl\": ull};\\r\\n    \\n\\r\\n\\t\\t\\t\\twi dow.tdwGlobal = {\"admi Url\":\"https:\\\\ \\\\ mu doalbiceleste.com\\\\ wp-admi \\\\ \",\"wpRestNo ce\":\"a8c1611609\",\"wpRestUrl\":\"https:\\\\ \\\\',\n",
              " 'mu doalbiceleste.com\\\\ wp-jso \\\\',\n",
              " '\",\"permali kStructure\":\"\\\\ %year%\\\\',\n",
              " '%mo th um%\\\\',\n",
              " '%day%\\\\ %post ame%\\\\ \"};\\r\\n\\t\\t\\t\\n\\n\\n\\n\\n    \\n    \\r\\n\\r\\n\\t    var tdBlocksArray',\n",
              " '=',\n",
              " '[];   here we store all the items for the curre t page\\r\\n\\r\\n\\t      td_block class - each ajax block uses a object of this class for requests\\r\\n\\t    fu ctio  tdBlock() {\\r\\n\\t\\t    this.id = ;\\r\\n\\t\\t    this.block_type = 1;   block type id (1-234 etc)',\n",
              " 'this.atts = ;\\r\\n\\t\\t    this.td_colum _ umber = ;\\r\\n\\t\\t    this.td_curre t_page = 1;   \\r\\n\\t\\t    this.post_cou t = 0;   from wp\\r\\n\\t\\t    this.fou d_posts = 0;   from wp\\r\\n\\t\\t    this.max_ um_pages = 0;   from wp\\r\\n\\t\\t    this.td_filter_value = ;   curre t live filter value\\r\\n\\t\\t    this.is_ajax_ru  i',\n",
              " 'g',\n",
              " '= false;\\r\\n\\t\\t    this.td_user_actio  = ;    load more or i fi ite loader (used by the a imatio )',\n",
              " 'this.header_color = ;\\r\\n\\t\\t    this.ajax_pagi atio _',\n",
              " 'i fi ite_stop = ;   show load more at page x',\n",
              " '}\\r\\n\\r\\n\\r\\n           td_js_ge erator - mi i detector\\r\\n        (fu ctio (){',\n",
              " 'var htmlTag',\n",
              " '= docume t.getEleme tsByTagName(\"html\")[0];\\r\\n\\r\\n\\t        if (  avigator.userAge t.i dexOf(\"MSIE 10.0\") > -1 ) {\\r\\n                htmlTag.className +=  ie10;\\r\\n            }\\r\\n\\r\\n            if ( !!',\n",
              " 'avigator.userAge t.match( Tride t.*rv\\\\:11\\\\. ) )',\n",
              " '{\\r\\n                htmlTag.className +=  ie11;\\r\\n            }\\r\\n\\r\\n\\t        if (  avigator.userAge t.i dexOf(\"Edge\") > -1 ) {\\r\\n                htmlTag.className +=  ieEdge;\\r\\n            }\\r\\n\\r\\n            if (  (iPad|iPho e|iPod) g.test( avigator.userAge t) ) {\\r\\n                htmlTag.className +=  td-md-is-ios;\\r\\n            }\\r\\n\\r\\n            var user_age t =  avigator.userAge t.toLowerCase();\\r\\n            if ( user_age t.i dexOf(\"a droid\") > -1 ) {\\r\\n                htmlTag.className',\n",
              " '+=  td-md-is-a droid;\\r\\n            }\\r\\n\\r\\n            if ( -1 !==  avigator.userAge t.i dexOf(Mac OS X)  ) {\\r\\n                htmlTag.className +=  td-md-is-os-x;\\r\\n            }\\r\\n\\r\\n            if (  chrom(e|ium) .test( avigator.userAge t.toLowerCase()) )',\n",
              " '{\\r\\n               htmlTag.className +=  td-md-is-chrome;\\r\\n            }\\r\\n\\r\\n            if ( -1 !',\n",
              " '==  avigator.userAge t.i dexOf(Firefox) ) {\\r\\n                htmlTag.className +=  td-md-is-firefox;\\r\\n            }\\r\\n\\r\\n            if ( -1 !',\n",
              " '==',\n",
              " 'avigator.userAge t.i dexOf(Safari) && -1',\n",
              " '=',\n",
              " '==  avigator.userAge t.i dexOf(Chrome) ) {\\r\\n                htmlTag.className +=  td-md-is-safari;\\r\\n            }\\r\\n\\r\\n            if( -1 !',\n",
              " '==',\n",
              " 'avigator.userAge t.i dexOf(IEMobile) ){\\r\\n                htmlTag.className',\n",
              " '+=  td-md-is-iemobile;\\r\\n            }\\r\\n\\r\\n        })',\n",
              " '();\\r\\n\\r\\n\\r\\n\\r\\n\\r\\n        var tdLocalCache',\n",
              " '= {};\\r\\n\\r\\n        ( fu ctio  () {\\r\\n            \"use strict\";\\r\\n\\r\\n            tdLocalCache = {\\r\\n                data: {},\\r\\n                remove: fu ctio  (resource_id) {\\r\\n                    delete tdLocalCache.data[resource_id];\\r\\n                },\\r\\n                exist: fu ctio  (resource_id) {\\r\\n                    retur  tdLocalCache.data.hasOw Property(resource_id) && tdLocalCache.data[resource_id] !',\n",
              " '==  ull;\\r\\n                },\\r\\n                get: fu ctio  (resource_id) {\\r\\n                    retur  tdLocalCache.data[resource_id];\\r\\n                },\\r\\n                set: fu ctio  (resource_id, cachedData) {\\r\\n                    tdLocalCache.remove(resource_id);\\r\\n                    tdLocalCache.data[resource_id] = cachedData;\\r\\n                }\\r\\n            };\\r\\n        })();\\r\\n\\r\\n    \\r\\n    \\nvar td_viewport_i terval_list=[{\"limitBottom\":767,\"sidebarWidth\":228},{\"limitBottom\":1018,\"sidebarWidth\":300},{\"limitBottom\":1140,\"sidebarWidth\":324}];\\nvar tdc_is_i stalled=\"yes\";\\nvar td_ajax_url=\"https:\\\\ \\\\ mu doalbiceleste.com\\\\ wp-admi \\\\ admi -ajax.php?td_theme_',\n",
              " 'ame=Newspaper&v=10.3.2\";\\nvar td_get_template_directory_uri=\"https:\\\\ \\\\ mu doalbiceleste.com\\\\ wp-co',\n",
              " 'te',\n",
              " 't\\\\',\n",
              " 'plugi s\\\\ td-composer\\\\ legacy\\\\ commo \";\\nvar tds_s ap_me u=\"\";\\nvar tds_logo_o _sticky=\"show_header_logo\";\\nvar tds_header_style=\"5\";\\nvar td_please_wait=\"Please wait...',\n",
              " '\";\\nvar td_email_user_pass_i correct=\"User or password i correct!\";\\nvar td_email_user_i correct=\"Email or user ame',\n",
              " 'i correct!\"',\n",
              " ';\\nvar td_email_i correct=\"Email',\n",
              " 'i correct!\"',\n",
              " ';\\nvar tds_more_articles_o _post_e able=\"\";\\nvar tds_more_articles_o _post_time_to_wait=\"\";\\nvar tds_more_articles_o _post_pages_dista ce_from_top=0;\\nvar tds_theme_color_site_wide=\"#385c7b\";\\nvar tds_smart_sidebar=\"\";\\nvar tdThemeName=\"Newspaper\";\\nvar td_mag ific_popup_tra slatio _tPrev=\"Previous (Left arrow key)\";\\nvar td_mag ific_popup_tra slatio _tNext=\"Next (Right arrow key)\";\\nvar td_mag ific_popup_tra slatio _tCou ter=\"%curr% of %total%\";\\nvar td_mag ific_popup_tra slatio',\n",
              " '_',\n",
              " 'ajax_tError=\"The co te t from %url% could  ot be loaded.',\n",
              " '\";\\nvar td_mag ific_popup_tra slatio _',\n",
              " 'image_tError=\"The image #%curr% could  ot be loaded.',\n",
              " '\";\\nvar tdBlockNo ce=\"c9541e4e3e\";\\nvar tdDateNamesI18 ={\"mo th_ ames\":[\"Ja uary\",\"February\",\"March\",\"April\",\"May\",\"Ju e\",\"July\",\"August\",\"September\",\"October\",\"November\",\"December\"],\"mo th_ ames_short\":[\"Ja \",\"Feb\",\"Mar\",\"Apr\",\"May\",\"Ju \",\"Jul\",\"Aug\",\"Sep\",\"Oct\",\"Nov\",\"Dec\"],\"day_ ames\":[\"Su day\",\"Mo day\",\"Tuesday\",\"Wed esday\",\"Thursday\",\"Friday\",\"Saturday\"],\"day_ ames_short\":[\"Su',\n",
              " '\",\"Mo \",\"Tue\",\"Wed\",\"Thu\",\"Fri\",\"Sat\"]};\\nvar td_ad_backgrou d_click_li k=\"\";\\nvar td_ad_backgrou d_click_target=\"\";\\n\\n\\n\\n    \\n.td-header-wrap .black-me u .sf-me u > .curre',\n",
              " 't-me u-item > a,\\r\\n    .td-header-wrap .black-me u .sf-me u > .curre',\n",
              " 't-me u-a cestor >',\n",
              " 'a,\\r\\n    .td-header-wrap .black-me u .sf-me u > .curre',\n",
              " 't-category-a cestor > a,\\r\\n    .td-header-wrap .black-me u .sf-me u > li > a:hover,\\r\\n    .td-header-wrap .black-me u .sf-me u > .sfHover',\n",
              " '>',\n",
              " 'a,\\r\\n    .sf-me u > .curre t-me u',\n",
              " '-item > a:after,\\r\\n    .sf-me u > .curre t-me u-a cestor > a:after,\\r\\n    .sf-me u > .curre t-category-a cestor > a:after,\\r\\n    .sf-me u > li:hover > a:after,\\r\\n    .sf-me u > .sfHover',\n",
              " '> a:after,\\r\\n    .header-search-wrap .td-drop-dow -search:after,\\r\\n    .header-search-wrap .td-drop-dow -search .bt :hover,\\r\\n    i put[type=submit]:hover,\\r\\n    .td-read-more a,\\r\\n    .td-post-category:hover,\\r\\n    .td_top_authors .td-active .td-author-post-cou t,\\r\\n    .td_top_authors .td-active .td-author-comme ts-cou t,\\r\\n    .td_top_authors .td_mod_wrap:hover .td-author-post-cou t,\\r\\n    .td_top_authors .td_mod_wrap:hover .td-author-comme ts-cou t,\\r\\n    .td-404-sub-sub-title a:hover,\\r\\n    .td-search-form-widget .wpb_butto :hover,\\r\\n    .td-rati g-bar-wrap div,\\r\\n    .dropcap,\\r\\n    .td_wrapper_video_playlist .td_video_co',\n",
              " 'trols_playlist_wrapper,\\r\\n    .wpb_default,\\r\\n    .wpb_default:hover,\\r\\n    .td-left-smart-list:hover,\\r\\n    .td-right-smart-list:hover,\\r\\n    .woocommerce-checkout .woocommerce i put.butto :hover,\\r\\n    .woocommerce-page .woocommerce a.butto :hover,\\r\\n    .woocommerce-accou t div.woocommerce .butto :hover,\\r\\n    #bbpress-forums butto :',\n",
              " 'hover,\\r\\n    .bbp_widget_logi  .butto :hover,\\r\\n    .td-footer-wrapper .td-post-category,\\r\\n    .td-footer-wrapper .widget_product_search',\n",
              " 'i put[type=\"submit\"]:hover,\\r\\n    .woocommerce .product a.butto :hover,\\r\\n    .woocommerce .product #respo d i put#submit:hover,\\r\\n    .woocommerce .checkout',\n",
              " 'i',\n",
              " 'put#place_order:hover,\\r\\n    .woocommerce .woocommerce.widget .butto :hover,\\r\\n    .si',\n",
              " 'gle-product .product .summary .cart .butto :hover,\\r\\n    .woocommerce-cart .woocommerce table.cart .butto :hover,\\r\\n    .woocommerce-cart .woocommerce .shippi',\n",
              " 'g-calculator-form .butto :hover,\\r\\n    .td- ext-prev-wrap a:hover,\\r\\n    .td-load-more-wrap a:hover,\\r\\n    .td-post-small-box a:hover,\\r\\n    .page- av .curre t,\\r\\n    .page-',\n",
              " 'av:first-child > div,\\r\\n    #bbpress-forums .bbp-pagi atio  .curre t,\\r\\n    #bbpress-forums #bbp-si gle-user-details #bbp-user- avigatio  li.curre t a,\\r\\n    .td-theme-slider:hover .slide-meta-cat a,\\r\\n    a.vc_bt -black:hover,\\r\\n    .td-tre di g- ow-wrapper:hover .td-tre di g- ow-title,\\r\\n    .td-scroll-up,\\r\\n    .td-smart-list-butto :hover,\\r\\n    .td-weather-i formatio :before,\\r\\n    .td-weather-week:before,\\r\\n    .td_block_excha',\n",
              " 'ge .td-excha ge-header:before,\\r\\n    .td-pulldow -syle-2 .td-subcat-dropdow  ul:after,\\r\\n    .td_block_template_9 .td-block-title:after,\\r\\n    .td_block_template_15 .td-block-title:before,\\r\\n    div.wpforms-co tai er .wpforms-form div.wpforms-submit-co tai er butto [type=submit],\\r\\n    .td-close-video-fixed {\\r\\n        backgrou d-color: #385c7b;\\r\\n    }\\r\\n\\r\\n    .td_block_template_4 .td-related-title .td-cur-simple-item:before {\\r\\n        border-color: #385c7b tra spare t tra spare t tra spare t !',\n",
              " 'importa t;\\r\\n    }\\r\\n\\r\\n    .woocommerce .woocommerce-message .butto :hover,\\r\\n    .woocommerce .woocommerce-error .butto :',\n",
              " 'hover,\\r\\n    .woocommerce .woocommerce-i fo .butto :hover {\\r\\n        backgrou d-color: #385c7b !importa t;\\r\\n    }\\r\\n    \\r\\n    \\r\\n    .td_block_template_4 .td-related-title .td-cur-simple-item,\\r\\n    .td_block_template_3 .td-related-title .td-cur-simple-item,\\r\\n    .td_block_template_9 .td-related-title:after {\\r\\n        backgrou d-color: #385c7b;\\r\\n    }\\r\\n\\r\\n    .woocommerce .product .o sale,\\r\\n    .woocommerce.widget .ui-slider .ui-slider-ha dle {\\r\\n        backgrou d:',\n",
              " 'o e #385c7b;\\r\\n    }\\r\\n\\r\\n    .woocommerce.widget.widget_layered_',\n",
              " 'av_filters ul li a {\\r\\n        backgrou d:',\n",
              " 'o e repeat scroll 0 0 #385c7b !importa t;\\r\\n    }\\r\\n\\r\\n    a,\\r\\n    cite a:hover,\\r\\n    .td-page-co',\n",
              " 'te t blockquote p,\\r\\n    .td-post-co te t blockquote p,\\r\\n    .mce-co te t-body blockquote p,\\r\\n    .comme t-co te t blockquote p,\\r\\n    .wpb_text_colum  blockquote p,\\r\\n    .td_block_text_with_title blockquote p,\\r\\n    .td_module_wrap:hover .e',\n",
              " 'try-title a,\\r\\n    .td-subcat-filter .td-subcat-list a:hover,\\r\\n    .td-subcat-filter .td-subcat-dropdow  a:hover,\\r\\n    .td_quote_o _blocks,\\r\\n    .dropcap2,\\r\\n    .dropcap3,\\r\\n    .td_top_authors .td-active .td-authors- ame a,\\r\\n    .td_top_authors .td_mod_wrap:hover .td-authors- ame a,\\r\\n    .td-post- ext-prev-co te t a:hover,\\r\\n    .author-box-wrap .td-author-social a:hover,\\r\\n    .td-author- ame a:hover,\\r\\n    .td-author-url a:hover,\\r\\n    .comme t-reply-li k:hover,\\r\\n    .logged-i -as a:hover,\\r\\n    #ca cel-comme t-reply-li k:hover,\\r\\n    .td-search-query,\\r\\n    .widget a:hover,\\r\\n    .td_wp_rece',\n",
              " 'tcomme ts a:hover,\\r\\n    .archive .widget_archive .curre t,\\r\\n    .archive .widget_archive .curre',\n",
              " 't a,\\r\\n    .widget_cale dar tfoot a:hover,\\r\\n    .woocommerce a.added_to_cart:hover,\\r\\n    .woocommerce-accou t .woocommerce-MyAccou t-',\n",
              " 'avigatio  a:hover,\\r\\n    #bbpress-forums li.bbp-header .bbp-reply-co te t spa  a:hover,\\r\\n    #bbpress-forums .bbp-forum-fresh ess a:hover,\\r\\n    #bbpress-forums .bbp-topic-fresh ess a:',\n",
              " 'hover,\\r\\n    #bbpress-forums .bbp-forums-list li a:hover,\\r\\n    #bbpress-forums .bbp-forum-title:hover,\\r\\n    #bbpress-forums .bbp-topic-permali k:hover,\\r\\n    #bbpress-forums .bbp-topic-started-by a:hover,\\r\\n    #bbpress-forums .bbp-topic-started-i  a:hover,\\r\\n    #bbpress-forums .bbp-body .super-sticky li.bbp-topic-title .bbp-topic-permali k,\\r\\n    #bbpress-forums .bbp-body .sticky li.bbp-topic-title .bbp-topic-permali k,\\r\\n    .widget_display_replies .bbp-author-',\n",
              " 'ame,\\r\\n    .widget_display_topics .bbp-author- ame,\\r\\n    .td-subfooter-me u li a:hover,\\r\\n    a.vc_bt -black:hover,\\r\\n    .td-smart-list-dropdow -wrap .td-smart-list-butto :hover,\\r\\n    .td-i stagram-user a,\\r\\n    .td-block-title-wrap .td-wrapper-pulldow -filter .td-pulldow -filter-display-optio :hover,\\r\\n    .td-block-title-wrap .td-wrapper-pulldow -filter .td-pulldow -filter-display-optio :hover i,\\r\\n    .td-block-title-wrap .td-wrapper-pulldow -filter .td-pulldow -filter-li k:hover,\\r\\n    .td-block-title-wrap .td-wrapper-pulldow -filter .td-pulldow -filter-item .td-cur-simple-item,\\r\\n    .td_block_template_2 .td-related-title .td-cur-simple-item,\\r\\n    .td_block_template_5 .td-related-title .td-cur-simple-item,\\r\\n    .td_block_template_6 .td-related-title .td-cur-simple-item,\\r\\n    .td_block_template_7 .td-related-title .td-cur-simple-item,\\r\\n    .td_block_template_8 .td-related-title .td-cur-simple-item,\\r\\n    .td_block_template_9 .td-related-title .td-cur-simple-item,\\r\\n    .td_block_template_10 .td-related-title .td-cur-simple-item,\\r\\n    .td_block_template_11 .td-related-title .td-cur-simple-item,\\r\\n    .td_block_template_12 .td-related-title .td-cur-simple-item,\\r\\n    .td_block_template_13 .td-related-title .td-cur-simple-item,\\r\\n    .td_block_template_14 .td-related-title .td-cur-simple-item,\\r\\n    .td_block_template_15 .td-related-title .td-cur-simple-item,\\r\\n    .td_block_template_16 .td-related-title .td-cur-simple-item,\\r\\n    .td_block_template_17 .td-related-title .td-cur-simple-item,\\r\\n    .td-theme-wrap .sf-me u ul .td-me u-item > a:hover,\\r\\n    .td-theme-wrap .sf-me u ul .sfHover',\n",
              " '>',\n",
              " 'a,\\r\\n    .td-theme-wrap .sf-me u ul .curre t-me u-a cestor >',\n",
              " 'a,\\r\\n    .td-theme-wrap .sf-me u ul .curre t-category-a cestor > a,\\r\\n    .td-theme-wrap .sf-me u ul .curre t-me u-item > a,\\r\\n    .td_outli',\n",
              " 'ed_bt ,\\r\\n     .td_block_categories_tags .td-ct-item:hover {\\r\\n        color: #385c7b;\\r\\n    }\\r\\n\\r\\n    a.vc_bt -black.vc_bt',\n",
              " '_square_outli ed:hover,\\r\\n    a.vc_bt -black.vc_bt _',\n",
              " 'outli ed:hover {\\r\\n        color: #385c7b !importa t;\\r\\n    }\\r\\n\\r\\n    .td- ext-prev-wrap a:hover,\\r\\n    .td-load-more-wrap a:hover,\\r\\n    .td-post-small-box a:hover,\\r\\n    .page- av .curre t,\\r\\n    .page-',\n",
              " 'av:first-child > div,\\r\\n    #bbpress-forums .bbp-pagi atio  .curre t,\\r\\n    .post .td_quote_box,\\r\\n    .page .td_quote_box,\\r\\n    a.vc_bt -black:hover,\\r\\n    .td_block_template_5 .td-block-title > *,\\r\\n    .td_outli',\n",
              " 'ed_bt  {\\r\\n        border-color: #385c7b;\\r\\n    }\\r\\n\\r\\n    .td_wrapper_video_playlist .td_video_curre tly_playi g:after {\\r\\n        border-color: #385c7b !importa t;\\r\\n    }\\r\\n\\r\\n    .header-search-wrap .td-drop-dow -search:before {\\r\\n        border-color: tra spare t tra spare t #385c7b tra spare t;\\r\\n    }\\r\\n\\r\\n    .block-title > spa ,\\r\\n    .block-title > a,\\r\\n    .block-title > label,\\r\\n    .widgettitle,\\r\\n    .widgettitle:after,\\r\\n    .td-tre di g- ow-title,\\r\\n    .td-tre di g- ow-wrapper:',\n",
              " 'hover .td-tre di g- ow-title,\\r\\n    .wpb_tabs',\n",
              " 'li.ui-tabs-active a,\\r\\n    .wpb_tabs',\n",
              " 'li:hover a,\\r\\n    .vc_tta-co tai er .vc_tta-color-grey.vc_tta-tabs-positio -top.vc_tta-style-classic .vc_tta-tabs-co tai',\n",
              " 'er .vc_tta-tab.vc_active > a,\\r\\n    .vc_tta-co tai er .vc_tta-color-grey.vc_tta-tabs-positio -top.vc_tta-style-classic .vc_tta-tabs-co tai er .vc_tta-tab:hover > a,\\r\\n    .td_block_template_1 .td-related-title .td-cur-simple-item,\\r\\n    .woocommerce .product .products h2: ot(.woocommerce-loop-product__title),\\r\\n    .td-subcat-filter .td-subcat-dropdow :hover .td-subcat-more, \\r\\n    .td_3D_bt ,\\r\\n    .td_shadow_bt ,\\r\\n    .td_default_bt',\n",
              " ',\\r\\n    .td_rou d_bt , \\r\\n    .td_outli ed_bt :hover {\\r\\n    \\tbackgrou d-color: #385c7b;\\r\\n    }\\r\\n\\r\\n    .woocommerce div.product .woocommerce-tabs ul.tabs li.active {\\r\\n    \\tbackgrou d-color: #385c7b !importa t;\\r\\n    }\\r\\n\\r\\n    .block-title,\\r\\n    .td_block_template_1 .td-related-title,\\r\\n    .wpb_tabs .wpb_tabs_',\n",
              " 'av,\\r\\n    .vc_tta-co tai er .vc_tta-color-grey.vc_tta-tabs-positio -top.vc_tta-style-classic .vc_tta-tabs-co tai er,\\r\\n    .woocommerce div.product .woocommerce-tabs ul.tabs:before {\\r\\n        border-color: #385c7b;\\r\\n    }\\r\\n    .td_block_wrap .td-subcat-item a.td-cur-simple-item {\\r\\n\\t    color: #385c7b;\\r\\n\\t}\\r\\n\\r\\n\\r\\n    \\r\\n    .td-grid-style-4 .e try-title\\r\\n    {\\r\\n        backgrou d-color: rgba(56, 92, 123, 0.7);\\r\\n    }\\r\\n\\r\\n\\r\\n    \\r\\n    .td-co tai er-wrap,\\r\\n    .post,\\r\\n    .tagdiv-type .td_quote_box {\\r\\n        backgrou d-color: tra spare t;\\r\\n    }\\r\\n    \\r\\n\\r\\n    \\r\\n    .td-theme-wrap .block-title > spa ,\\r\\n    .td-theme-wrap .block-title > spa  >',\n",
              " 'a,\\r\\n    .td-theme-wrap .widget_rss',\n",
              " '.block-title .rsswidget,\\r\\n    .td-theme-wrap .block-title > a,\\r\\n    .widgettitle,\\r\\n    .widgettitle > a,\\r\\n    .td-tre di g-',\n",
              " 'ow-title,\\r\\n    .wpb_tabs',\n",
              " 'li.ui-tabs-active a,\\r\\n    .wpb_tabs',\n",
              " 'li:hover a,\\r\\n    .vc_tta-co tai er .vc_tta-color-grey.vc_tta-tabs-positio -top.vc_tta-style-classic .vc_tta-tabs-co tai',\n",
              " 'er .vc_tta-tab.vc_active > a,\\r\\n    .vc_tta-co tai er .vc_tta-color-grey.vc_tta-tabs-positio -top.vc_tta-style-classic .vc_tta-tabs-co tai er .vc_tta-tab:hover > a,\\r\\n    .td-related-title .td-cur-simple-item,\\r\\n    .woocommerce div.product .woocommerce-tabs ul.tabs li.active,\\r\\n    .woocommerce .product .products h2: ot(.woocommerce-loop-product__title),\\r\\n    .td-theme-wrap .td_block_template_2',\n",
              " '.td-block-title > *,\\r\\n    .td-theme-wrap .td_block_template_3',\n",
              " '.td-block-title > *,\\r\\n    .td-theme-wrap .td_block_template_4 .td-block-title > *,\\r\\n    .td-theme-wrap .td_block_template_5',\n",
              " '.td-block-title > *,\\r\\n    .td-theme-wrap .td_block_template_6',\n",
              " '.td-block-title > *,\\r\\n    .td-theme-wrap .td_block_template_6',\n",
              " '.td-block-title:before,\\r\\n    .td-theme-wrap .td_block_template_7',\n",
              " '.td-block-title > *,\\r\\n    .td-theme-wrap .td_block_template_8',\n",
              " '.td-block-title > *,\\r\\n    .td-theme-wrap .td_block_template_9 .td-block-title > *,\\r\\n    .td-theme-wrap .td_block_template_10 .td-block-title > *,\\r\\n    .td-theme-wrap .td_block_template_11 .td-block-title > *,\\r\\n    .td-theme-wrap .td_block_template_12 .td-block-title > *,\\r\\n    .td-theme-wrap .td_block_template_13 .td-block-title > spa ,\\r\\n    .td-theme-wrap .td_block_template_13 .td-block-title > a,\\r\\n    .td-theme-wrap .td_block_template_14 .td-block-title > *,\\r\\n    .td-theme-wrap .td_block_template_14 .td-block-title-wrap .td-wrapper-pulldow -filter .td-pulldow -filter-display-optio ,\\r\\n    .td-theme-wrap .td_block_template_14 .td-block-title-wrap .td-wrapper-pulldow -filter .td-pulldow -filter-display-optio  i,\\r\\n    .td-theme-wrap .td_block_template_14 .td-block-title-wrap .td-wrapper-pulldow -filter .td-pulldow -filter-display-optio :hover,\\r\\n    .td-theme-wrap .td_block_template_14 .td-block-title-wrap .td-wrapper-pulldow -filter .td-pulldow -filter-display-optio :hover i,\\r\\n    .td-theme-wrap .td_block_template_15 .td-block-title >',\n",
              " '*,\\r\\n    .td-theme-wrap .td_block_template_15 .td-block-title-wrap .td-wrapper-pulldow -filter,\\r\\n    .td-theme-wrap .td_block_template_15 .td-block-title-wrap .td-wrapper-pulldow -filter',\n",
              " 'i,\\r\\n    .td-theme-wrap .td_block_template_16 .td-block-title > *,\\r\\n    .td-theme-wrap .td_block_template_17 .td-block-title > * {\\r\\n    \\tcolor: #ffffff;\\r\\n    }\\r\\n\\r\\n\\r\\n    \\r\\n    .td-page-header h1,\\r\\n    .td-page-title,\\r\\n    .woocommerce-page .page-title {\\r\\n    \\tcolor: #000000;\\r\\n    }\\r\\n\\r\\n    \\r\\n    .td-page-co te t p,\\r\\n    .td-page-co te t .td_block_text_with_title,\\r\\n    .woocommerce-page .page-descriptio  > p {\\r\\n    \\tcolor: #000000;\\r\\n    }\\r\\n\\r\\n    \\r\\n    .td-page-co te t h1,\\r\\n    .td-page-co te t h2,\\r\\n    .td-page-co te t h3,\\r\\n    .td-page-co te t h4,\\r\\n    .td-page-co te t h5,\\r\\n    .td-page-co te t h6 {\\r\\n    \\tcolor: #000000;\\r\\n    }\\r\\n\\r\\n    .td-page-co te t .widgettitle {\\r\\n        color:',\n",
              " '#fff;\\r\\n    }.td-header-style-12 .td-header-me u-wrap-full,\\r\\n    .td-header-style-12 .td-affix,\\r\\n    .td-grid-style-1.td-hover-1 .td-big-grid-post:hover .td-post-category,\\r\\n    .td-grid-style-5.td-hover-1 .td-big-grid-post:hover .td-post-category,\\r\\n    .td_category_template_3 .td-curre t-sub-category,\\r\\n    .td_category_template_8 .td-category-header .td-category a.td-curre t-sub-category,\\r\\n    .td_category_template_4 .td-category-sibli gs .td-category a:hover,\\r\\n     .td_block_big_grid_9.td-grid-style-1 .td-post-category,\\r\\n    .td_block_big_grid_9.td-grid-style-5 .td-post-category,\\r\\n    .td-grid-style-6.td-hover-1 .td-module-thumb:after,\\r\\n     .tdm-me u-active-style5 .td-header-me u-wrap .sf-me u > .curre t-me u-item > a,\\r\\n    .tdm-me u-active-style5 .td-header-me u-wrap .sf-me u > .curre t-me u-a cestor >',\n",
              " 'a,\\r\\n    .tdm-me u-active-style5 .td-header-me u-wrap .sf-me u > .curre',\n",
              " 't-category-a cestor > a,\\r\\n    .tdm-me u-active-style5 .td-header-me u-wrap .sf-me u > li > a:hover,\\r\\n    .tdm-me',\n",
              " 'u-active-style5 .td-header-me u-wrap .sf-me u > .sfHover',\n",
              " '>',\n",
              " 'a {\\r\\n        backgrou d-color: #385c7b;\\r\\n    }\\r\\n    \\r\\n    .td_mega_me',\n",
              " 'u_sub_cats .cur-sub-cat,\\r\\n    .td-mega-spa  h3 a:hover,\\r\\n    .td_mod_mega_me u:hover .e',\n",
              " 'try-title a,\\r\\n    .header-search-wrap .result-msg a:hover,\\r\\n    .td-header-top-me u .td-drop-dow -search .td_module_wrap:hover .e',\n",
              " 'try-title a,\\r\\n    .td-header-top-me u .td-ico -search:hover,\\r\\n    .td-header-wrap .result-msg a:hover,\\r\\n    .top-header-me u li a:hover,\\r\\n    .top-header-me u .curre t-me u-item > a,\\r\\n    .top-header-me u .curre t-me u-a cestor > a,\\r\\n    .top-header-me u .curre t-category-a cestor > a,\\r\\n    .td-social-ico -wrap > a:hover,\\r\\n    .td-header-sp-top-widget .td-social-ico -wrap a:hover,\\r\\n    .td_mod_related_posts:hover h3 > a,\\r\\n    .td-post-template-11 .td-related-title .td-related-left:hover,\\r\\n    .td-post-template-11 .td-related-title .td-related-right:hover,\\r\\n    .td-post-template-11 .td-related-title .td-cur-simple-item,\\r\\n    .td-post-template-11 .td_block_related_posts .td- ext-prev-wrap a:hover,\\r\\n    .td-category-header .td-pulldow -category-filter-li k:hover,\\r\\n    .td-category-sibli gs .td-subcat-dropdow  a:hover,\\r\\n    .td-category-sibli gs .td-subcat-dropdow  a.td-curre t-sub-category,\\r\\n    .footer-text-wrap .footer-email-wrap a,\\r\\n    .footer-social-wrap a:hover,\\r\\n    .td_module_17 .td-read-more a:hover,\\r\\n    .td_module_18 .td-read-more a:hover,\\r\\n    .td_module_19 .td-post-author- ame a:hover,\\r\\n    .td-pulldow -syle-2 .td-subcat-dropdow :hover .td-subcat-more spa ,\\r\\n    .td-pulldow -syle-2 .td-subcat-dropdow :hover .td-subcat-more i,\\r\\n    .td-pulldow -syle-3 .td-subcat-dropdow :hover .td-subcat-more spa ,\\r\\n    .td-pulldow -syle-3 .td-subcat-dropdow :hover .td-subcat-more i,\\r\\n    .tdm-me u-active-style3 .tdm-header.td-header-wrap .sf-me u > .curre t-category-a cestor > a,\\r\\n    .tdm-me u-active-style3 .tdm-header.td-header-wrap .sf-me u > .curre t-me u-a cestor > a,\\r\\n    .tdm-me u-active-style3 .tdm-header.td-header-wrap .sf-me u > .curre t-me u-item > a,\\r\\n    .tdm-me u-active-style3 .tdm-header.td-header-wrap .sf-me u > .sfHover',\n",
              " '>',\n",
              " 'a,\\r\\n    .tdm-me',\n",
              " 'u-active-style3 .tdm-header.td-header-wrap .sf-me u > li > a:hover {\\r\\n        color: #385c7b;\\r\\n    }\\r\\n    \\r\\n    .td-mega-me u-page .wpb_co',\n",
              " 'te t_eleme t ul li a:hover,\\r\\n    .td-theme-wrap .td-aj-search-results .td_module_wrap:hover .e',\n",
              " 'try-title a,\\r\\n    .td-theme-wrap .header-search-wrap .result-msg a:hover {\\r\\n        color: #385c7b !importa t;\\r\\n    }\\r\\n    \\r\\n    .td_category_template_8 .td-category-header .td-category a.td-curre t-sub-category,\\r\\n    .td_category_template_4 .td-category-sibli gs .td-category a:hover,\\r\\n    .tdm-me',\n",
              " 'u-active-style4 .tdm-header .sf-me u > .curre t-me u',\n",
              " '-item > a,\\r\\n    .tdm-me',\n",
              " 'u-active-style4 .tdm-header .sf-me u > .curre t-me u-a cestor >',\n",
              " 'a,\\r\\n    .tdm-me u-active-style4 .tdm-header .sf-me u > .curre',\n",
              " 't-category-a cestor > a,\\r\\n    .tdm-me u-active-style4 .tdm-header .sf-me u > li > a:hover,\\r\\n    .tdm-me u-active-style4 .tdm-header .sf-me u > .sfHover',\n",
              " '>',\n",
              " 'a {\\r\\n        border-color: #385c7b;\\r\\n    }\\r\\n    \\r\\n    \\r\\n\\r\\n\\r\\n    \\r\\n    .td-header-wrap .td-header-top-me u-full,\\r\\n    .td-header-wrap .top-header-me u .sub-me u,\\r\\n    .tdm-header-style-1.td-header-wrap .td-header-top-me u-full,\\r\\n    .tdm-header-style-1.td-header-wrap .top-header-me u .sub-me u,\\r\\n    .tdm-header-style-2.td-header-wrap .td-header-top-me u-full,\\r\\n    .tdm-header-style-2.td-header-wrap .top-header-me u .sub-me u,\\r\\n    .tdm-header-style-3.td-header-wrap .td-header-top-me u-full,\\r\\n    .tdm-header-style-3.td-header-wrap .top-header-me u .sub-me u {\\r\\n        backgrou d-color: #1a1a1a;\\r\\n    }\\r\\n    .td-header-style-8 .td-header-top-me u-full {\\r\\n        backgrou d-color: tra spare t;\\r\\n    }\\r\\n    .td-header-style-8 .td-header-top-me u-full .td-header-top-me u {\\r\\n        backgrou d-color: #1a1a1a;\\r\\n        paddi g-left: 15px;\\r\\n        paddi g-right: 15px;\\r\\n    }\\r\\n\\r\\n    .td-header-wrap .td-header-top-me u-full .td-header-top-me u,\\r\\n    .td-header-wrap .td-header-top-me u-full {\\r\\n        border-bottom:  o e;\\r\\n    }\\r\\n\\r\\n\\r\\n    \\r\\n    .td-header-top-me u,\\r\\n    .td-header-top-me u a,\\r\\n    .td-header-wrap .td-header-top-me u-full .td-header-top-me u,\\r\\n    .td-header-wrap .td-header-top-me u-full a,\\r\\n    .td-header-style-8 .td-header-top-me u,\\r\\n    .td-header-style-8 .td-header-top-me u a,\\r\\n    .td-header-top-me u .td-drop-dow -search .e',\n",
              " 'try-title a {\\r\\n        color: #ffffff;\\r\\n    }\\r\\n\\r\\n    \\r\\n    .td-header-wrap .td-header-me u-wrap-full,\\r\\n    .td-header-me u-wrap.td-affix,\\r\\n    .td-header-style-3 .td-header-mai -me u,\\r\\n    .td-header-style-3 .td-affix .td-header-mai -me u,\\r\\n    .td-header-style-4 .td-header-mai -me u,\\r\\n    .td-header-style-4 .td-affix .td-header-mai -me u,\\r\\n    .td-header-style-8 .td-header-me u-wrap.td-affix,\\r\\n    .td-header-style-8 .td-header-top-me u-full {\\r\\n        backgrou d-color: #385c7b;\\r\\n    }\\r\\n    .td-boxed-layout .td-header-style-3 .td-header-me u-wrap,\\r\\n    .td-boxed-layout .td-header-style-4 .td-header-me u-wrap,\\r\\n    .td-header-style-3 .td_stretch_co',\n",
              " 'te t .td-header-me u-wrap,\\r\\n    .td-header-style-4 .td_stretch_co',\n",
              " 'te t .td-header-me u-wrap {\\r\\n    \\tbackgrou d-color: #385c7b !importa t;\\r\\n    }\\r\\n    @media (mi -width: 1019px) {\\r\\n        .td-header-style-1 .td-header-sp-recs,\\r\\n        .td-header-style-1 .td-header-sp-logo {\\r\\n            margi -bottom: 28px;\\r\\n        }\\r\\n    }\\r\\n    @media (mi -width: 768px) a d (max-width: 1018px) {\\r\\n        .td-header-style-1 .td-header-sp-recs,\\r\\n        .td-header-style-1 .td-header-sp-logo {\\r\\n            margi -bottom: 14px;\\r\\n        }\\r\\n    }\\r\\n    .td-header-style-7 .td-header-top-me u {\\r\\n        border-bottom:  o e;\\r\\n    }\\r\\n\\r\\n    \\r\\n    .sf-me u > .curre t-me u-item > a:after,\\r\\n    .sf-me u > .curre',\n",
              " 't-me u-a cestor > a:after,\\r\\n    .sf-me u > .curre',\n",
              " 't-category-a cestor > a:after,\\r\\n    .sf-me u > li:hover > a:after,\\r\\n    .sf-me u > .sfHover',\n",
              " '> a:after,\\r\\n    .td_block_mega_me',\n",
              " 'u .td- ext-prev-wrap a:hover,\\r\\n    .td-mega-spa  .td-post-category:hover,\\r\\n     .td-header-wrap .black-me u .sf-me u > li > a:hover,\\r\\n    .td-header-wrap .black-me u .sf-me u > .curre t-me u-a cestor > a,\\r\\n    .td-header-wrap .black-me u .sf-me u > .sfHover',\n",
              " '>',\n",
              " 'a,\\r\\n    .td-header-wrap .black-me u .sf-me u > .curre t-me u-item > a,\\r\\n    .td-header-wrap .black-me u .sf-me u > .curre',\n",
              " 't-me u-a cestor >',\n",
              " 'a,\\r\\n    .td-header-wrap .black-me u .sf-me u > .curre',\n",
              " 't-category-a cestor > a,\\r\\n    .tdm-me u-active-style5 .tdm-header .td-header-me u-wrap .sf-me u > .curre t-me u',\n",
              " '-item > a,\\r\\n    .tdm-me',\n",
              " 'u-active-style5 .tdm-header .td-header-me u-wrap .sf-me u > .curre t-me u-a cestor >',\n",
              " 'a,\\r\\n    .tdm-me u-active-style5 .tdm-header .td-header-me u-wrap .sf-me u > .curre',\n",
              " 't-category-a cestor > a,\\r\\n    .tdm-me u-active-style5 .tdm-header .td-header-me u-wrap .sf-me u > li > a:hover,\\r\\n    .tdm-me u-active-style5 .tdm-header .td-header-me u-wrap .sf-me u > .sfHover',\n",
              " '>',\n",
              " 'a {\\r\\n        backgrou d-color: #ffffff;\\r\\n    }',\n",
              " '.td_block_mega_me',\n",
              " 'u .td- ext-prev-wrap a:hover,\\r\\n    .tdm-me u-active-style4 .tdm-header .sf-me u > .curre t-me u-item > a,\\r\\n    .tdm-me u-active-style4 .tdm-header .sf-me u > .curre t-me u-a cestor > a,\\r\\n    .tdm-me u-active-style4 .tdm-header .sf-me u > .curre t-category-a cestor > a,\\r\\n    .tdm-me u-active-style4 .tdm-header .sf-me u > li > a:hover,\\r\\n    .tdm-me',\n",
              " 'u-active-style4 .tdm-header .sf-me u > .sfHover',\n",
              " '>',\n",
              " 'a {\\r\\n        border-color: #ffffff;\\r\\n    }\\r\\n    .header-search-wrap .td-drop-dow -search:before {\\r\\n        border-color: tra spare t tra spare t #ffffff tra spare t;\\r\\n    }\\r\\n    .td_mega_me u_sub_cats .cur-sub-cat,\\r\\n    .td_mod_mega_me u:hover .e',\n",
              " 'try-title a,\\r\\n    .td-theme-wrap .sf-me u ul .td-me',\n",
              " 'u-item > a:hover,\\r\\n    .td-theme-wrap .sf-me u ul .sfHover',\n",
              " '>',\n",
              " 'a,\\r\\n    .td-theme-wrap .sf-me u ul .curre t-me u-a cestor >',\n",
              " 'a,\\r\\n    .td-theme-wrap .sf-me u ul .curre t-category-a cestor > a,\\r\\n    .td-theme-wrap .sf-me u ul .curre t-me u-item > a,\\r\\n    .tdm-me u-active-style3 .tdm-header.td-header-wrap .sf-me u > .curre t-me u',\n",
              " '-item > a,\\r\\n    .tdm-me u-active-style3 .tdm-header.td-header-wrap .sf-me u > .curre t-me u-a cestor >',\n",
              " 'a,\\r\\n    .tdm-me u-active-style3 .tdm-header.td-header-wrap .sf-me u > .curre',\n",
              " 't-category-a cestor > a,\\r\\n    .tdm-me u-active-style3 .tdm-header.td-header-wrap .sf-me u > li > a:hover,\\r\\n    .tdm-me u-active-style3 .tdm-header.td-header-wrap .sf-me u > .sfHover',\n",
              " '>',\n",
              " 'a {\\r\\n        color: #ffffff;\\r\\n    }\\r\\n    \\r\\n\\r\\n    \\r\\n    .td-header-wrap .td-header-me u-wrap .sf-me u > li >',\n",
              " 'a,\\r\\n    .td-header-wrap .td-header-me u-social .td-social-ico -wrap a,\\r\\n    .td-header-style-4 .td-header-me u-social .td-social-ico -wrap i,\\r\\n    .td-header-style-5 .td-header-me u-social .td-social-ico -wrap i,\\r\\n    .td-header-style-6 .td-header-me u-social .td-social-ico -wrap i,\\r\\n    .td-header-style-12 .td-header-me u-social .td-social-ico -wrap i,\\r\\n    .td-header-wrap .header-search-wrap #td-header-search-butto  .td-ico -search {\\r\\n        color: #000000;\\r\\n    }\\r\\n    .td-header-wrap .td-header-me u-social + .td-search-wrapper #td-header-search-butto :before {\\r\\n      backgrou d-color: #000000;\\r\\n    }\\r\\n    \\r\\n    \\r\\n    \\r\\n    .td-header-me u-wrap.td-affix,\\r\\n    .td-header-style-3 .td-affix .td-header-mai -me u,\\r\\n    .td-header-style-4 .td-affix .td-header-mai -me u,\\r\\n    .td-header-style-8 .td-header-me u-wrap.td-affix {\\r\\n        backgrou d-color: #385c7b;\\r\\n    }\\r\\n   \\r\\n    \\r\\n    \\r\\n    .td-affix .sf-me u > .curre',\n",
              " 't-me u-item > a:after,\\r\\n    .td-affix .sf-me u > .curre',\n",
              " 't-me u-a cestor >',\n",
              " 'a:after,\\r\\n    .td-affix .sf-me u > .curre',\n",
              " 't-category-a cestor > a:after,\\r\\n    .td-affix .sf-me u > li:hover > a:after,\\r\\n    .td-affix .sf-me u > .sfHover',\n",
              " '> a:after,\\r\\n    .td-header-wrap .td-affix .black-me u .sf-me u > li > a:hover,\\r\\n    .td-header-wrap .td-affix .black-me u .sf-me u > .curre',\n",
              " 't-me u-a cestor >',\n",
              " 'a,\\r\\n    .td-header-wrap .td-affix .black-me u .sf-me u > .sfHover',\n",
              " '>',\n",
              " 'a,\\r\\n    .td-affix  .header-search-wrap .td-drop-dow -search:after,\\r\\n    .td-affix  .header-search-wrap .td-drop-dow -search .bt :hover,\\r\\n    .td-header-wrap .td-affix  .black-me u .sf-me u > .curre t-me u-item > a,\\r\\n    .td-header-wrap .td-affix  .black-me u .sf-me u > .curre',\n",
              " 't-me u-a cestor >',\n",
              " 'a,\\r\\n    .td-header-wrap .td-affix  .black-me u .sf-me u > .curre',\n",
              " 't-category-a cestor > a,\\r\\n    .tdm-me u-active-style5 .tdm-header .td-header-me u-wrap.td-affix .sf-me u > .curre',\n",
              " 't-me u-item > a,\\r\\n    .tdm-me u-active-style5 .tdm-header .td-header-me u-wrap.td-affix .sf-me u > .curre',\n",
              " 't-me u-a cestor >',\n",
              " 'a,\\r\\n    .tdm-me u-active-style5 .tdm-header .td-header-me u-wrap.td-affix .sf-me u > .curre',\n",
              " 't-category-a cestor > a,\\r\\n    .tdm-me u-active-style5 .tdm-header .td-header-me u-wrap.td-affix .sf-me u > li > a:hover,\\r\\n    .tdm-me',\n",
              " 'u-active-style5 .tdm-header .td-header-me u-wrap.td-affix .sf-me u > .sfHover',\n",
              " '>',\n",
              " 'a {\\r\\n        backgrou d-color: #ffffff;\\r\\n    }\\r\\n    .td-affix  .header-search-wrap .td-drop-dow -search:before {\\r\\n        border-color: tra spare t tra spare t #ffffff tra spare t;\\r\\n    }\\r\\n    .tdm-me',\n",
              " 'u-active-style4 .tdm-header .td-affix .sf-me u > .curre t-me u',\n",
              " '-item > a,\\r\\n    .tdm-me',\n",
              " 'u-active-style4 .tdm-header .td-affix .sf-me u > .curre t-me u-a cestor >',\n",
              " 'a,\\r\\n    .tdm-me',\n",
              " 'u-active-style4 .tdm-header .td-affix .sf-me u > .curre',\n",
              " 't-category-a cestor > a,\\r\\n    .tdm-me u-active-style4 .tdm-header .td-affix .sf-me u > li > a:hover,\\r\\n    .tdm-me',\n",
              " 'u-active-style4 .tdm-header .td-affix .sf-me u > .sfHover',\n",
              " '>',\n",
              " 'a {\\r\\n        border-color: #ffffff;\\r\\n    }\\r\\n    .td-theme-wrap .td-affix .sf-me u ul .td-me u-item > a:hover,\\r\\n    .td-theme-wrap .td-affix .sf-me u ul .sfHover',\n",
              " '>',\n",
              " 'a,\\r\\n    .td-theme-wrap .td-affix .sf-me u ul .curre t-me u-a cestor >',\n",
              " 'a,\\r\\n    .td-theme-wrap .td-affix .sf-me u ul .curre',\n",
              " 't-category-a cestor > a,\\r\\n    .td-theme-wrap .td-affix .sf-me u ul .curre t-me u',\n",
              " '-item > a,\\r\\n    .tdm-me u-active-style3 .tdm-header .td-affix .sf-me u > .curre',\n",
              " 't-me u-item > a,\\r\\n    .tdm-me u-active-style3 .tdm-header .td-affix .sf-me u > .curre',\n",
              " 't-me u-a cestor >',\n",
              " 'a,\\r\\n    .tdm-me u-active-style3 .tdm-header .td-affix .sf-me u > .curre',\n",
              " 't-category-a cestor > a,\\r\\n    .tdm-me u-active-style3 .tdm-header .td-affix .sf-me u > li > a:hover,\\r\\n    .tdm-me',\n",
              " 'u-active-style3 .tdm-header .td-affix .sf-me u > .sfHover',\n",
              " '>',\n",
              " 'a {\\r\\n        color: #ffffff;\\r\\n    }\\r\\n    \\r\\n    .td-header-wrap .td-header-me u-wrap.td-affix .sf-me u > li > a,\\r\\n    .td-header-wrap .td-affix .td-header-me u-social .td-social-ico -wrap a,\\r\\n    .td-header-style-4 .td-affix .td-header-me u-social .td-social-ico -wrap i,\\r\\n    .td-header-style-5 .td-affix .td-header-me u-social .td-social-ico -wrap i,\\r\\n    .td-header-style-6 .td-affix .td-header-me u-social .td-social-ico -wrap i,\\r\\n    .td-header-style-12 .td-affix .td-header-me u-social .td-social-ico -wrap i,\\r\\n    .td-header-wrap .td-affix .header-search-wrap .td-ico -search {\\r\\n        color: #ffffff;\\r\\n    }\\r\\n    .td-header-wrap .td-affix .td-header-me u-social + .td-search-wrapper #td-header-search-butto :before {\\r\\n        backgrou d-color: #ffffff;\\r\\n    }\\r\\n\\r\\n\\r\\n    \\r\\n    .td-theme-wrap .sf-me u .td- ormal-me u .td-me u-item > a:hover,\\r\\n    .td-theme-wrap .sf-me u .td- ormal-me u .sfHover',\n",
              " '> a,\\r\\n    .td-theme-wrap .sf-me u .td- ormal-me u .curre t-me u-a cestor > a,\\r\\n    .td-theme-wrap .sf-me u .td- ormal-me u .curre t-category-a cestor >',\n",
              " 'a,\\r\\n    .td-theme-wrap .sf-me u .td- ormal-me u .curre t-me u-item > a {\\r\\n        backgrou d-color: #385c7b;\\r\\n    }\\r\\n    \\r\\n    .td-footer-wrapper,\\r\\n    .td-footer-wrapper .td_block_template_7',\n",
              " '.td-block-title > *,\\r\\n    .td-footer-wrapper .td_block_template_17 .td-block-title,\\r\\n    .td-footer-wrapper .td-block-title-wrap .td-wrapper-pulldow -filter {\\r\\n        backgrou d-color: #385c7b;\\r\\n    }\\r\\n\\r\\n    \\r\\n    .td-footer-wrapper .footer-social-wrap .td-ico -fo t {\\r\\n        color: #ffffff;\\r\\n    }\\r\\n\\r\\n    \\r\\n\\t.td-footer-wrapper .block-title > spa ,\\r\\n    .td-footer-wrapper .block-title > a,\\r\\n    .td-footer-wrapper .widgettitle,\\r\\n    .td-theme-wrap .td-footer-wrapper .td-co tai er .td-block-title > *,\\r\\n    .td-theme-wrap .td-footer-wrapper .td_block_template_6',\n",
              " '.td-block-title:before {\\r\\n    \\tcolor: #ffffff;\\r\\n    }\\r\\n\\r\\n\\r\\n\\r\\n    \\r\\n    .post .td-post-header .e',\n",
              " 'try-title {\\r\\n        color: #000000;\\r\\n    }\\r\\n    .td_module_15 .e',\n",
              " 'try-title a {\\r\\n        color: #000000',\n",
              " ';\\r\\n    }\\r\\n\\r\\n    \\r\\n    .td-post-co te t,\\r\\n    .td-post-co te t p {\\r\\n    \\tcolor: #000000;\\r\\n    }\\r\\n\\r\\n    \\r\\n    .td-post-co te t h1,\\r\\n    .td-post-co te t h2,\\r\\n    .td-post-co te t h3,\\r\\n    .td-post-co te t h4,\\r\\n    .td-post-co te t h5,\\r\\n    .td-post-co te t h6 {\\r\\n    \\tcolor: #000000;\\r\\n    }\\r\\n\\r\\n    \\r\\n    .post blockquote p,\\r\\n    .page blockquote p {\\r\\n    \\tcolor: #385c7b;\\r\\n    }\\r\\n    .post .td_quote_box,\\r\\n    .page .td_quote_box',\n",
              " '{\\r\\n        border-color: #385c7b;\\r\\n    }\\n\\nbody {\\n\\tbackgrou d-color:#ffffff;\\n}\\n.td-header-wrap .black-me u .sf-me u > .curre t-me u',\n",
              " '-item > a,\\r\\n    .td-header-wrap .black-me u .sf-me u > .curre t-me u-a cestor > a,\\r\\n    .td-header-wrap .black-me u .sf-me u > .curre t-category-a cestor > a,\\r\\n    .td-header-wrap .black-me u .sf-me',\n",
              " 'u > li > a:hover,\\r\\n    .td-header-wrap .black-me u .sf-me u > .sfHover',\n",
              " '>',\n",
              " 'a,\\r\\n    .sf-me u > .curre t-me u',\n",
              " '-item > a:after,\\r\\n    .sf-me u > .curre t-me u-a cestor > a:after,\\r\\n    .sf-me u > .curre t-category-a cestor > a:after,\\r\\n    .sf-me u > li:hover > a:after,\\r\\n    .sf-me u > .sfHover',\n",
              " '> a:after,\\r\\n    .header-search-wrap .td-drop-dow -search:after,\\r\\n    .header-search-wrap .td-drop-dow -search .bt :hover,\\r\\n    i put[type=submit]:hover,\\r\\n    .td-read-more a,\\r\\n    .td-post-category:hover,\\r\\n    .td_top_authors .td-active .td-author-post-cou t,\\r\\n    .td_top_authors .td-active .td-author-comme ts-cou t,\\r\\n    .td_top_authors .td_mod_wrap:hover .td-author-post-cou t,\\r\\n    .td_top_authors .td_mod_wrap:hover .td-author-comme ts-cou t,\\r\\n    .td-404-sub-sub-title a:hover,\\r\\n    .td-search-form-widget .wpb_butto :hover,\\r\\n    .td-rati g-bar-wrap div,\\r\\n    .dropcap,\\r\\n    .td_wrapper_video_playlist .td_video_co',\n",
              " 'trols_playlist_wrapper,\\r\\n    .wpb_default,\\r\\n    .wpb_default:hover,\\r\\n    .td-left-smart-list:hover,\\r\\n    .td-right-smart-list:hover,\\r\\n    .woocommerce-checkout .woocommerce i put.butto :hover,\\r\\n    .woocommerce-page .woocommerce a.butto :hover,\\r\\n    .woocommerce-accou t div.woocommerce .butto :hover,\\r\\n    #bbpress-forums butto :',\n",
              " 'hover,\\r\\n    .bbp_widget_logi  .butto :hover,\\r\\n    .td-footer-wrapper .td-post-category,\\r\\n    .td-footer-wrapper .widget_product_search',\n",
              " 'i put[type=\"submit\"]:hover,\\r\\n    .woocommerce .product a.butto :hover,\\r\\n    .woocommerce .product #respo d i put#submit:hover,\\r\\n    .woocommerce .checkout',\n",
              " 'i',\n",
              " 'put#place_order:hover,\\r\\n    .woocommerce .woocommerce.widget .butto :hover,\\r\\n    .si',\n",
              " 'gle-product .product .summary .cart .butto :hover,\\r\\n    .woocommerce-cart .woocommerce table.cart .butto :hover,\\r\\n    .woocommerce-cart .woocommerce .shippi',\n",
              " 'g-calculator-form .butto :hover,\\r\\n    .td- ext-prev-wrap a:hover,\\r\\n    .td-load-more-wrap a:hover,\\r\\n    .td-post-small-box a:hover,\\r\\n    .page- av .curre t,\\r\\n    .page-',\n",
              " 'av:first-child > div,\\r\\n    #bbpress-forums .bbp-pagi atio  .curre t,\\r\\n    #bbpress-forums #bbp-si gle-user-details #bbp-user- avigatio  li.curre t a,\\r\\n    .td-theme-slider:hover .slide-meta-cat a,\\r\\n    a.vc_bt -black:hover,\\r\\n    .td-tre di g- ow-wrapper:hover .td-tre di g- ow-title,\\r\\n    .td-scroll-up,\\r\\n    .td-smart-list-butto :hover,\\r\\n    .td-weather-i formatio :before,\\r\\n    .td-weather-week:before,\\r\\n    .td_block_excha',\n",
              " 'ge .td-excha ge-header:before,\\r\\n    .td-pulldow -syle-2 .td-subcat-dropdow  ul:after,\\r\\n    .td_block_template_9 .td-block-title:after,\\r\\n    .td_block_template_15 .td-block-title:before,\\r\\n    div.wpforms-co tai er .wpforms-form div.wpforms-submit-co tai er butto [type=submit],\\r\\n    .td-close-video-fixed {\\r\\n        backgrou d-color: #385c7b;\\r\\n    }\\r\\n\\r\\n    .td_block_template_4 .td-related-title .td-cur-simple-item:before {\\r\\n        border-color: #385c7b tra spare t tra spare t tra spare t !',\n",
              " 'importa t;\\r\\n    }\\r\\n\\r\\n    .woocommerce .woocommerce-message .butto :hover,\\r\\n    .woocommerce .woocommerce-error .butto :',\n",
              " 'hover,\\r\\n    .woocommerce .woocommerce-i fo .butto :hover {\\r\\n        backgrou d-color: #385c7b !importa t;\\r\\n    }\\r\\n    \\r\\n    \\r\\n    .td_block_template_4 .td-related-title .td-cur-simple-item,\\r\\n    .td_block_template_3 .td-related-title .td-cur-simple-item,\\r\\n    .td_block_template_9 .td-related-title:after {\\r\\n        backgrou d-color: #385c7b;\\r\\n    }\\r\\n\\r\\n    .woocommerce .product .o sale,\\r\\n    .woocommerce.widget .ui-slider .ui-slider-ha dle {\\r\\n        backgrou d:',\n",
              " 'o e #385c7b;\\r\\n    }\\r\\n\\r\\n    .woocommerce.widget.widget_layered_',\n",
              " 'av_filters ul li a {\\r\\n        backgrou d:',\n",
              " 'o e repeat scroll 0 0 #385c7b !importa t;\\r\\n    }\\r\\n\\r\\n    a,\\r\\n    cite a:hover,\\r\\n    .td-page-co',\n",
              " 'te t blockquote p,\\r\\n    .td-post-co te t blockquote p,\\r\\n    .mce-co te t-body blockquote p,\\r\\n    .comme t-co te t blockquote p,\\r\\n    .wpb_text_colum  blockquote p,\\r\\n    .td_block_text_with_title blockquote p,\\r\\n    .td_module_wrap:hover .e',\n",
              " 'try-title a,\\r\\n    .td-subcat-filter .td-subcat-list a:hover,\\r\\n    .td-subcat-filter .td-subcat-dropdow  a:hover,\\r\\n    .td_quote_o _blocks,\\r\\n    .dropcap2,\\r\\n    .dropcap3,\\r\\n    .td_top_authors .td-active .td-authors- ame a,\\r\\n    .td_top_authors .td_mod_wrap:hover .td-authors- ame a,\\r\\n    .td-post- ext-prev-co te t a:hover,\\r\\n    .author-box-wrap .td-author-social a:hover,\\r\\n    .td-author- ame a:hover,\\r\\n    .td-author-url a:hover,\\r\\n    .comme t-reply-li k:hover,\\r\\n    .logged-i -as a:hover,\\r\\n    #ca cel-comme t-reply-li k:hover,\\r\\n    .td-search-query,\\r\\n    .widget a:hover,\\r\\n    .td_wp_rece',\n",
              " 'tcomme ts a:hover,\\r\\n    .archive .widget_archive .curre t,\\r\\n    .archive .widget_archive .curre',\n",
              " 't a,\\r\\n    .widget_cale dar tfoot a:hover,\\r\\n    .woocommerce a.added_to_cart:hover,\\r\\n    .woocommerce-accou t .woocommerce-MyAccou t-',\n",
              " 'avigatio  a:hover,\\r\\n    #bbpress-forums li.bbp-header .bbp-reply-co te t spa  a:hover,\\r\\n    #bbpress-forums .bbp-forum-fresh ess a:hover,\\r\\n    #bbpress-forums .bbp-topic-fresh ess a:',\n",
              " 'hover,\\r\\n    #bbpress-forums .bbp-forums-list li a:hover,\\r\\n    #bbpress-forums .bbp-forum-title:hover,\\r\\n    #bbpress-forums .bbp-topic-permali k:hover,\\r\\n    #bbpress-forums .bbp-topic-started-by a:hover,\\r\\n    #bbpress-forums .bbp-topic-started-i  a:hover,\\r\\n    #bbpress-forums .bbp-body .super-sticky li.bbp-topic-title .bbp-topic-permali k,\\r\\n    #bbpress-forums .bbp-body .sticky li.bbp-topic-title .bbp-topic-permali k,\\r\\n    .widget_display_replies .bbp-author-',\n",
              " 'ame,\\r\\n    .widget_display_topics .bbp-author- ame,\\r\\n    .td-subfooter-me u li a:hover,\\r\\n    a.vc_bt -black:hover,\\r\\n    .td-smart-list-dropdow -wrap .td-smart-list-butto :hover,\\r\\n    .td-i stagram-user a,\\r\\n    .td-block-title-wrap .td-wrapper-pulldow -filter .td-pulldow -filter-display-optio :hover,\\r\\n    .td-block-title-wrap .td-wrapper-pulldow -filter .td-pulldow -filter-display-optio :hover i,\\r\\n    .td-block-title-wrap .td-wrapper-pulldow -filter .td-pulldow -filter-li k:hover,\\r\\n    .td-block-title-wrap .td-wrapper-pulldow -filter .td-pulldow -filter-item .td-cur-simple-item,\\r\\n    .td_block_template_2 .td-related-title .td-cur-simple-item,\\r\\n    .td_block_template_5 .td-related-title .td-cur-simple-item,\\r\\n    .td_block_template_6 .td-related-title .td-cur-simple-item,\\r\\n    .td_block_template_7 .td-related-title .td-cur-simple-item,\\r\\n    .td_block_template_8 .td-related-title .td-cur-simple-item,\\r\\n    .td_block_template_9 .td-related-title .td-cur-simple-item,\\r\\n    .td_block_template_10 .td-related-title .td-cur-simple-item,\\r\\n    .td_block_template_11 .td-related-title .td-cur-simple-item,\\r\\n    .td_block_template_12 .td-related-title .td-cur-simple-item,\\r\\n    .td_block_template_13 .td-related-title .td-cur-simple-item,\\r\\n    .td_block_template_14 .td-related-title .td-cur-simple-item,\\r\\n    .td_block_template_15 .td-related-title .td-cur-simple-item,\\r\\n    .td_block_template_16 .td-related-title .td-cur-simple-item,\\r\\n    .td_block_template_17 .td-related-title .td-cur-simple-item,\\r\\n    .td-theme-wrap .sf-me u ul .td-me u-item > a:hover,\\r\\n    .td-theme-wrap .sf-me u ul .sfHover',\n",
              " '>',\n",
              " 'a,\\r\\n    .td-theme-wrap .sf-me u ul .curre t-me u-a cestor >',\n",
              " 'a,\\r\\n    .td-theme-wrap .sf-me u ul .curre t-category-a cestor > a,\\r\\n    .td-theme-wrap .sf-me u ul .curre t-me u-item > a,\\r\\n    .td_outli',\n",
              " 'ed_bt ,\\r\\n     .td_block_categories_tags .td-ct-item:hover {\\r\\n        color: #385c7b;\\r\\n    }\\r\\n\\r\\n    a.vc_bt -black.vc_bt',\n",
              " '_square_outli ed:hover,\\r\\n    a.vc_bt -black.vc_bt _',\n",
              " 'outli ed:hover {\\r\\n        color: #385c7b !importa t;\\r\\n    }\\r\\n\\r\\n    .td- ext-prev-wrap a:hover,\\r\\n    .td-load-more-wrap a:hover,\\r\\n    .td-post-small-box a:hover,\\r\\n    .page- av .curre t,\\r\\n    .page-',\n",
              " 'av:first-child > div,\\r\\n    #bbpress-forums .bbp-pagi atio  .curre t,\\r\\n    .post .td_quote_box,\\r\\n    .page .td_quote_box,\\r\\n    a.vc_bt -black:hover,\\r\\n    .td_block_template_5 .td-block-title > *,\\r\\n    .td_outli',\n",
              " 'ed_bt  {\\r\\n        border-color: #385c7b;\\r\\n    }\\r\\n\\r\\n    .td_wrapper_video_playlist .td_video_curre tly_playi g:after {\\r\\n        border-color: #385c7b !importa t;\\r\\n    }\\r\\n\\r\\n    .header-search-wrap .td-drop-dow -search:before {\\r\\n        border-color: tra spare t tra spare t #385c7b tra spare t;\\r\\n    }\\r\\n\\r\\n    .block-title > spa ,\\r\\n    .block-title > a,\\r\\n    .block-title > label,\\r\\n    .widgettitle,\\r\\n    .widgettitle:after,\\r\\n    .td-tre di g- ow-title,\\r\\n    .td-tre di g- ow-wrapper:',\n",
              " 'hover .td-tre di g- ow-title,\\r\\n    .wpb_tabs',\n",
              " 'li.ui-tabs-active a,\\r\\n    .wpb_tabs',\n",
              " 'li:hover a,\\r\\n    .vc_tta-co tai er .vc_tta-color-grey.vc_tta-tabs-positio -top.vc_tta-style-classic .vc_tta-tabs-co tai',\n",
              " 'er .vc_tta-tab.vc_active > a,\\r\\n    .vc_tta-co tai er .vc_tta-color-grey.vc_tta-tabs-positio -top.vc_tta-style-classic .vc_tta-tabs-co tai er .vc_tta-tab:hover > a,\\r\\n    .td_block_template_1 .td-related-title .td-cur-simple-item,\\r\\n    .woocommerce .product .products h2: ot(.woocommerce-loop-product__title),\\r\\n    .td-subcat-filter .td-subcat-dropdow :hover .td-subcat-more, \\r\\n    .td_3D_bt ,\\r\\n    .td_shadow_bt ,\\r\\n    .td_default_bt',\n",
              " ',\\r\\n    .td_rou d_bt , \\r\\n    .td_outli ed_bt :hover {\\r\\n    \\tbackgrou d-color: #385c7b;\\r\\n    }\\r\\n\\r\\n    .woocommerce div.product .woocommerce-tabs ul.tabs li.active {\\r\\n    \\tbackgrou d-color: #385c7b !importa t;\\r\\n    }\\r\\n\\r\\n    .block-title,\\r\\n    .td_block_template_1 .td-related-title,\\r\\n    .wpb_tabs .wpb_tabs_',\n",
              " 'av,\\r\\n    .vc_tta-co tai er .vc_tta-color-grey.vc_tta-tabs-positio -top.vc_tta-style-classic .vc_tta-tabs-co tai er,\\r\\n    .woocommerce div.product .woocommerce-tabs ul.tabs:before {\\r\\n        border-color: #385c7b;\\r\\n    }\\r\\n    .td_block_wrap .td-subcat-item a.td-cur-simple-item {\\r\\n\\t    color: #385c7b;\\r\\n\\t}\\r\\n\\r\\n\\r\\n    \\r\\n    .td-grid-style-4 .e try-title\\r\\n    {\\r\\n        backgrou d-color: rgba(56, 92, 123, 0.7);\\r\\n    }\\r\\n\\r\\n\\r\\n    \\r\\n    .td-co tai er-wrap,\\r\\n    .post,\\r\\n    .tagdiv-type .td_quote_box {\\r\\n        backgrou d-color: tra spare t;\\r\\n    }\\r\\n    \\r\\n\\r\\n    \\r\\n    .td-theme-wrap .block-title > spa ,\\r\\n    .td-theme-wrap .block-title > spa  >',\n",
              " 'a,\\r\\n    .td-theme-wrap .widget_rss',\n",
              " '.block-title .rsswidget,\\r\\n    .td-theme-wrap .block-title > a,\\r\\n    .widgettitle,\\r\\n    .widgettitle > a,\\r\\n    .td-tre di g-',\n",
              " 'ow-title,\\r\\n    .wpb_tabs',\n",
              " 'li.ui-tabs-active a,\\r\\n    .wpb_tabs',\n",
              " 'li:hover a,\\r\\n    .vc_tta-co tai er .vc_tta-color-grey.vc_tta-tabs-positio -top.vc_tta-style-classic .vc_tta-tabs-co tai',\n",
              " 'er .vc_tta-tab.vc_active > a,\\r\\n    .vc_tta-co tai er .vc_tta-color-grey.vc_tta-tabs-positio -top.vc_tta-style-classic .vc_tta-tabs-co tai er .vc_tta-tab:hover > a,\\r\\n    .td-related-title .td-cur-simple-item,\\r\\n    .woocommerce div.product .woocommerce-tabs ul.tabs li.active,\\r\\n    .woocommerce .product .products h2: ot(.woocommerce-loop-product__title),\\r\\n    .td-theme-wrap .td_block_template_2',\n",
              " '.td-block-title > *,\\r\\n    .td-theme-wrap .td_block_template_3',\n",
              " '.td-block-title > *,\\r\\n    .td-theme-wrap .td_block_template_4 .td-block-title > *,\\r\\n    .td-theme-wrap .td_block_template_5',\n",
              " '.td-block-title > *,\\r\\n    .td-theme-wrap .td_block_template_6',\n",
              " '.td-block-title > *,\\r\\n    .td-theme-wrap .td_block_template_6',\n",
              " '.td-block-title:before,\\r\\n    .td-theme-wrap .td_block_template_7',\n",
              " '.td-block-title > *,\\r\\n    .td-theme-wrap .td_block_template_8',\n",
              " '.td-block-title > *,\\r\\n    .td-theme-wrap .td_block_template_9 .td-block-title > *,\\r\\n    .td-theme-wrap .td_block_template_10 .td-block-title > *,\\r\\n    .td-theme-wrap .td_block_template_11 .td-block-title > *,\\r\\n    .td-theme-wrap .td_block_template_12 .td-block-title > *,\\r\\n    .td-theme-wrap .td_block_template_13 .td-block-title > spa ,\\r\\n    .td-theme-wrap .td_block_template_13 .td-block-title > a,\\r\\n    .td-theme-wrap .td_block_template_14 .td-block-title > *,\\r\\n    .td-theme-wrap .td_block_template_14 .td-block-title-wrap .td-wrapper-pulldow -filter .td-pulldow -filter-display-optio ,\\r\\n    .td-theme-wrap .td_block_template_14 .td-block-title-wrap .td-wrapper-pulldow -filter .td-pulldow -filter-display-optio  i,\\r\\n    .td-theme-wrap .td_block_template_14 .td-block-title-wrap .td-wrapper-pulldow -filter .td-pulldow -filter-display-optio :hover,\\r\\n    .td-theme-wrap .td_block_template_14 .td-block-title-wrap .td-wrapper-pulldow -filter .td-pulldow -filter-display-optio :hover i,\\r\\n    .td-theme-wrap .td_block_template_15 .td-block-title >',\n",
              " '*,\\r\\n    .td-theme-wrap .td_block_template_15 .td-block-title-wrap .td-wrapper-pulldow -filter,\\r\\n    .td-theme-wrap .td_block_template_15 .td-block-title-wrap .td-wrapper-pulldow -filter',\n",
              " 'i,\\r\\n    .td-theme-wrap .td_block_template_16 .td-block-title > *,\\r\\n    .td-theme-wrap .td_block_template_17 .td-block-title > * {\\r\\n    \\tcolor: #ffffff;\\r\\n    }\\r\\n\\r\\n\\r\\n    \\r\\n    .td-page-header h1,\\r\\n    .td-page-title,\\r\\n    .woocommerce-page .page-title {\\r\\n    \\tcolor: #000000;\\r\\n    }\\r\\n\\r\\n    \\r\\n    .td-page-co te t p,\\r\\n    .td-page-co te t .td_block_text_with_title,\\r\\n    .woocommerce-page .page-descriptio  > p {\\r\\n    \\tcolor: #000000;\\r\\n    }\\r\\n\\r\\n    \\r\\n    .td-page-co te t h1,\\r\\n    .td-page-co te t h2,\\r\\n    .td-page-co te t h3,\\r\\n    .td-page-co te t h4,\\r\\n    .td-page-co te t h5,\\r\\n    .td-page-co te t h6 {\\r\\n    \\tcolor: #000000;\\r\\n    }\\r\\n\\r\\n    .td-page-co te t .widgettitle {\\r\\n        color:',\n",
              " '#fff;\\r\\n    }.td-header-style-12 .td-header-me u-wrap-full,\\r\\n    .td-header-style-12 .td-affix,\\r\\n    .td-grid-style-1.td-hover-1 .td-big-grid-post:hover .td-post-category,\\r\\n    .td-grid-style-5.td-hover-1 .td-big-grid-post:hover .td-post-category,\\r\\n    .td_category_template_3 .td-curre t-sub-category,\\r\\n    .td_category_template_8 .td-category-header .td-category a.td-curre t-sub-category,\\r\\n    .td_category_template_4 .td-category-sibli gs .td-category a:hover,\\r\\n     .td_block_big_grid_9.td-grid-style-1 .td-post-category,\\r\\n    .td_block_big_grid_9.td-grid-style-5 .td-post-category,\\r\\n    .td-grid-style-6.td-hover-1 .td-module-thumb:after,\\r\\n     .tdm-me u-active-style5 .td-header-me u-wrap .sf-me u > .curre t-me u-item > a,\\r\\n    .tdm-me u-active-style5 .td-header-me u-wrap .sf-me u > .curre t-me u-a cestor >',\n",
              " 'a,\\r\\n    .tdm-me u-active-style5 .td-header-me u-wrap .sf-me u > .curre',\n",
              " 't-category-a cestor > a,\\r\\n    .tdm-me u-active-style5 .td-header-me u-wrap .sf-me u > li > a:hover,\\r\\n    .tdm-me',\n",
              " 'u-active-style5 .td-header-me u-wrap .sf-me u > .sfHover',\n",
              " '>',\n",
              " 'a {\\r\\n        backgrou d-color: #385c7b;\\r\\n    }\\r\\n    \\r\\n    .td_mega_me',\n",
              " 'u_sub_cats .cur-sub-cat,\\r\\n    .td-mega-spa  h3 a:hover,\\r\\n    .td_mod_mega_me u:hover .e',\n",
              " 'try-title a,\\r\\n    .header-search-wrap .result-msg a:hover,\\r\\n    .td-header-top-me u .td-drop-dow -search .td_module_wrap:hover .e',\n",
              " 'try-title a,\\r\\n    .td-header-top-me u .td-ico -search:hover,\\r\\n    .td-header-wrap .result-msg a:hover,\\r\\n    .top-header-me u li a:hover,\\r\\n    .top-header-me u .curre t-me u-item > a,\\r\\n    .top-header-me u .curre t-me u-a cestor > a,\\r\\n    .top-header-me u .curre t-category-a cestor > a,\\r\\n    .td-social-ico -wrap > a:hover,\\r\\n    .td-header-sp-top-widget .td-social-ico -wrap a:hover,\\r\\n    .td_mod_related_posts:hover h3 > a,\\r\\n    .td-post-template-11 .td-related-title .td-related-left:hover,\\r\\n    .td-post-template-11 .td-related-title .td-related-right:hover,\\r\\n    .td-post-template-11 .td-related-title .td-cur-simple-item,\\r\\n    .td-post-template-11 .td_block_related_posts .td- ext-prev-wrap a:hover,\\r\\n    .td-category-header .td-pulldow -category-filter-li k:hover,\\r\\n    .td-category-sibli gs .td-subcat-dropdow  a:hover,\\r\\n    .td-category-sibli gs .td-subcat-dropdow  a.td-curre t-sub-category,\\r\\n    .footer-text-wrap .footer-email-wrap a,\\r\\n    .footer-social-wrap a:hover,\\r\\n    .td_module_17 .td-read-more a:hover,\\r\\n    .td_module_18 .td-read-more a:hover,\\r\\n    .td_module_19 .td-post-author- ame a:hover,\\r\\n    .td-pulldow -syle-2 .td-subcat-dropdow :hover .td-subcat-more spa ,\\r\\n    .td-pulldow -syle-2 .td-subcat-dropdow :hover .td-subcat-more i,\\r\\n    .td-pulldow -syle-3 .td-subcat-dropdow :hover .td-subcat-more spa ,\\r\\n    .td-pulldow -syle-3 .td-subcat-dropdow :hover .td-subcat-more i,\\r\\n    .tdm-me u-active-style3 .tdm-header.td-header-wrap .sf-me u > .curre t-category-a cestor > a,\\r\\n    .tdm-me u-active-style3 .tdm-header.td-header-wrap .sf-me u > .curre t-me u-a cestor > a,\\r\\n    .tdm-me u-active-style3 .tdm-header.td-header-wrap .sf-me u > .curre t-me u-item > a,\\r\\n    .tdm-me u-active-style3 .tdm-header.td-header-wrap .sf-me u > .sfHover',\n",
              " '>',\n",
              " 'a,\\r\\n    .tdm-me',\n",
              " 'u-active-style3 .tdm-header.td-header-wrap .sf-me u > li > a:hover {\\r\\n        color: #385c7b;\\r\\n    }\\r\\n    \\r\\n    .td-mega-me u-page .wpb_co',\n",
              " 'te t_eleme t ul li a:hover,\\r\\n    .td-theme-wrap .td-aj-search-results .td_module_wrap:hover .e',\n",
              " 'try-title a,\\r\\n    .td-theme-wrap .header-search-wrap .result-msg a:hover {\\r\\n        color: #385c7b !importa t;\\r\\n    }\\r\\n    \\r\\n    .td_category_template_8 .td-category-header .td-category a.td-curre t-sub-category,\\r\\n    .td_category_template_4 .td-category-sibli gs .td-category a:hover,\\r\\n    .tdm-me',\n",
              " 'u-active-style4 .tdm-header .sf-me u > .curre t-me u',\n",
              " '-item > a,\\r\\n    .tdm-me',\n",
              " 'u-active-style4 .tdm-header .sf-me u > .curre t-me u-a cestor >',\n",
              " 'a,\\r\\n    .tdm-me u-active-style4 .tdm-header .sf-me u > .curre',\n",
              " 't-category-a cestor > a,\\r\\n    .tdm-me u-active-style4 .tdm-header .sf-me u > li > a:hover,\\r\\n    .tdm-me u-active-style4 .tdm-header .sf-me u > .sfHover',\n",
              " '>',\n",
              " 'a {\\r\\n        border-color: #385c7b;\\r\\n    }\\r\\n    \\r\\n    \\r\\n\\r\\n\\r\\n    \\r\\n    .td-header-wrap .td-header-top-me u-full,\\r\\n    .td-header-wrap .top-header-me u .sub-me u,\\r\\n    .tdm-header-style-1.td-header-wrap .td-header-top-me u-full,\\r\\n    .tdm-header-style-1.td-header-wrap .top-header-me u .sub-me u,\\r\\n    .tdm-header-style-2.td-header-wrap .td-header-top-me u-full,\\r\\n    .tdm-header-style-2.td-header-wrap .top-header-me u .sub-me u,\\r\\n    .tdm-header-style-3.td-header-wrap .td-header-top-me u-full,\\r\\n    .tdm-header-style-3.td-header-wrap .top-header-me u .sub-me u {\\r\\n        backgrou d-color: #1a1a1a;\\r\\n    }\\r\\n    .td-header-style-8 .td-header-top-me u-full {\\r\\n        backgrou d-color: tra spare t;\\r\\n    }\\r\\n    .td-header-style-8 .td-header-top-me u-full .td-header-top-me u {\\r\\n        backgrou d-color: #1a1a1a;\\r\\n        paddi g-left: 15px;\\r\\n        paddi g-right: 15px;\\r\\n    }\\r\\n\\r\\n    .td-header-wrap .td-header-top-me u-full .td-header-top-me u,\\r\\n    .td-header-wrap .td-header-top-me u-full {\\r\\n        border-bottom:  o e;\\r\\n    }\\r\\n\\r\\n\\r\\n    \\r\\n    .td-header-top-me u,\\r\\n    .td-header-top-me u a,\\r\\n    .td-header-wrap .td-header-top-me u-full .td-header-top-me u,\\r\\n    .td-header-wrap .td-header-top-me u-full a,\\r\\n    .td-header-style-8 .td-header-top-me u,\\r\\n    .td-header-style-8 .td-header-top-me u a,\\r\\n    .td-header-top-me u .td-drop-dow -search .e',\n",
              " 'try-title a {\\r\\n        color: #ffffff;\\r\\n    }\\r\\n\\r\\n    \\r\\n    .td-header-wrap .td-header-me u-wrap-full,\\r\\n    .td-header-me u-wrap.td-affix,\\r\\n    .td-header-style-3 .td-header-mai -me u,\\r\\n    .td-header-style-3 .td-affix .td-header-mai -me u,\\r\\n    .td-header-style-4 .td-header-mai -me u,\\r\\n    .td-header-style-4 .td-affix .td-header-mai -me u,\\r\\n    .td-header-style-8 .td-header-me u-wrap.td-affix,\\r\\n    .td-header-style-8 .td-header-top-me u-full {\\r\\n        backgrou d-color: #385c7b;\\r\\n    }\\r\\n    .td-boxed-layout .td-header-style-3 .td-header-me u-wrap,\\r\\n    .td-boxed-layout .td-header-style-4 .td-header-me u-wrap,\\r\\n    .td-header-style-3 .td_stretch_co',\n",
              " 'te t .td-header-me u-wrap,\\r\\n    .td-header-style-4 .td_stretch_co',\n",
              " 'te t .td-header-me u-wrap {\\r\\n    \\tbackgrou d-color: #385c7b !importa t;\\r\\n    }\\r\\n    @media (mi -width: 1019px) {\\r\\n        .td-header-style-1 .td-header-sp-recs,\\r\\n        .td-header-style-1 .td-header-sp-logo {\\r\\n            margi -bottom: 28px;\\r\\n        }\\r\\n    }\\r\\n    @media (mi -width: 768px) a d (max-width: 1018px) {\\r\\n        .td-header-style-1 .td-header-sp-recs,\\r\\n        .td-header-style-1 .td-header-sp-logo {\\r\\n            margi -bottom: 14px;\\r\\n        }\\r\\n    }\\r\\n    .td-header-style-7 .td-header-top-me u {\\r\\n        border-bottom:  o e;\\r\\n    }\\r\\n\\r\\n    \\r\\n    .sf-me u > .curre t-me u-item > a:after,\\r\\n    .sf-me u > .curre',\n",
              " 't-me u-a cestor > a:after,\\r\\n    .sf-me u > .curre',\n",
              " 't-category-a cestor > a:after,\\r\\n    .sf-me u > li:hover > a:after,\\r\\n    .sf-me u > .sfHover',\n",
              " '> a:after,\\r\\n    .td_block_mega_me',\n",
              " 'u .td- ext-prev-wrap a:hover,\\r\\n    .td-mega-spa  .td-post-category:hover,\\r\\n     .td-header-wrap .black-me u .sf-me u > li > a:hover,\\r\\n    .td-header-wrap .black-me u .sf-me u > .curre t-me u-a cestor > a,\\r\\n    .td-header-wrap .black-me u .sf-me u > .sfHover',\n",
              " '>',\n",
              " 'a,\\r\\n    .td-header-wrap .black-me u .sf-me u > .curre t-me u-item > a,\\r\\n    .td-header-wrap .black-me u .sf-me u > .curre',\n",
              " 't-me u-a cestor >',\n",
              " 'a,\\r\\n    .td-header-wrap .black-me u .sf-me u > .curre',\n",
              " 't-category-a cestor > a,\\r\\n    .tdm-me u-active-style5 .tdm-header .td-header-me u-wrap .sf-me u > .curre t-me u',\n",
              " '-item > a,\\r\\n    .tdm-me',\n",
              " 'u-active-style5 .tdm-header .td-header-me u-wrap .sf-me u > .curre t-me u-a cestor >',\n",
              " 'a,\\r\\n    .tdm-me u-active-style5 .tdm-header .td-header-me u-wrap .sf-me u > .curre',\n",
              " 't-category-a cestor > a,\\r\\n    .tdm-me u-active-style5 .tdm-header .td-header-me u-wrap .sf-me u > li > a:hover,\\r\\n    .tdm-me u-active-style5 .tdm-header .td-header-me u-wrap .sf-me u > .sfHover',\n",
              " '>',\n",
              " 'a {\\r\\n        backgrou d-color: #ffffff;\\r\\n    }',\n",
              " '.td_block_mega_me',\n",
              " 'u .td- ext-prev-wrap a:hover,\\r\\n    .tdm-me u-active-style4 .tdm-header .sf-me u > .curre t-me u-item > a,\\r\\n    .tdm-me u-active-style4 .tdm-header .sf-me u > .curre t-me u-a cestor > a,\\r\\n    .tdm-me u-active-style4 .tdm-header .sf-me u > .curre t-category-a cestor > a,\\r\\n    .tdm-me u-active-style4 .tdm-header .sf-me u > li > a:hover,\\r\\n    .tdm-me',\n",
              " 'u-active-style4 .tdm-header .sf-me u > .sfHover',\n",
              " '>',\n",
              " 'a {\\r\\n        border-color: #ffffff;\\r\\n    }\\r\\n    .header-search-wrap .td-drop-dow -search:before {\\r\\n        border-color: tra spare t tra spare t #ffffff tra spare t;\\r\\n    }\\r\\n    .td_mega_me u_sub_cats .cur-sub-cat,\\r\\n    .td_mod_mega_me u:hover .e',\n",
              " 'try-title a,\\r\\n    .td-theme-wrap .sf-me u ul .td-me',\n",
              " 'u-item > a:hover,\\r\\n    .td-theme-wrap .sf-me u ul .sfHover',\n",
              " '>',\n",
              " 'a,\\r\\n    .td-theme-wrap .sf-me u ul .curre t-me u-a cestor >',\n",
              " 'a,\\r\\n    .td-theme-wrap .sf-me u ul .curre t-category-a cestor > a,\\r\\n    .td-theme-wrap .sf-me u ul .curre t-me u-item > a,\\r\\n    .tdm-me u-active-style3 .tdm-header.td-header-wrap .sf-me u > .curre t-me u',\n",
              " '-item > a,\\r\\n    .tdm-me u-active-style3 .tdm-header.td-header-wrap .sf-me u > .curre t-me u-a cestor >',\n",
              " 'a,\\r\\n    .tdm-me u-active-style3 .tdm-header.td-header-wrap .sf-me u > .curre',\n",
              " 't-category-a cestor > a,\\r\\n    .tdm-me u-active-style3 .tdm-header.td-header-wrap .sf-me u > li > a:hover,\\r\\n    .tdm-me u-active-style3 .tdm-header.td-header-wrap .sf-me u > .sfHover',\n",
              " '>',\n",
              " 'a {\\r\\n        color: #ffffff;\\r\\n    }\\r\\n    \\r\\n\\r\\n    \\r\\n    .td-header-wrap .td-header-me u-wrap .sf-me u > li >',\n",
              " 'a,\\r\\n    .td-header-wrap .td-header-me u-social .td-social-ico -wrap a,\\r\\n    .td-header-style-4 .td-header-me u-social .td-social-ico -wrap i,\\r\\n    .td-header-style-5 .td-header-me u-social .td-social-ico -wrap i,\\r\\n    .td-header-style-6 .td-header-me u-social .td-social-ico -wrap i,\\r\\n    .td-header-style-12 .td-header-me u-social .td-social-ico -wrap i,\\r\\n    .td-header-wrap .header-search-wrap #td-header-search-butto  .td-ico -search {\\r\\n        color: #000000;\\r\\n    }\\r\\n    .td-header-wrap .td-header-me u-social + .td-search-wrapper #td-header-search-butto :before {\\r\\n      backgrou d-color: #000000;\\r\\n    }\\r\\n    \\r\\n    \\r\\n    \\r\\n    .td-header-me u-wrap.td-affix,\\r\\n    .td-header-style-3 .td-affix .td-header-mai -me u,\\r\\n    .td-header-style-4 .td-affix .td-header-mai -me u,\\r\\n    .td-header-style-8 .td-header-me u-wrap.td-affix {\\r\\n        backgrou d-color: #385c7b;\\r\\n    }\\r\\n   \\r\\n    \\r\\n    \\r\\n    .td-affix .sf-me u > .curre',\n",
              " 't-me u-item > a:after,\\r\\n    .td-affix .sf-me u > .curre',\n",
              " 't-me u-a cestor >',\n",
              " 'a:after,\\r\\n    .td-affix .sf-me u > .curre',\n",
              " 't-category-a cestor > a:after,\\r\\n    .td-affix .sf-me u > li:hover > a:after,\\r\\n    .td-affix .sf-me u > .sfHover',\n",
              " '> a:after,\\r\\n    .td-header-wrap .td-affix .black-me u .sf-me u > li > a:hover,\\r\\n    .td-header-wrap .td-affix .black-me u .sf-me u > .curre',\n",
              " 't-me u-a cestor >',\n",
              " 'a,\\r\\n    .td-header-wrap .td-affix .black-me u .sf-me u > .sfHover',\n",
              " '>',\n",
              " 'a,\\r\\n    .td-affix  .header-search-wrap .td-drop-dow -search:after,\\r\\n    .td-affix  .header-search-wrap .td-drop-dow -search .bt :hover,\\r\\n    .td-header-wrap .td-affix  .black-me u .sf-me u > .curre t-me u-item > a,\\r\\n    .td-header-wrap .td-affix  .black-me u .sf-me u > .curre',\n",
              " 't-me u-a cestor >',\n",
              " 'a,\\r\\n    .td-header-wrap .td-affix  .black-me u .sf-me u > .curre',\n",
              " 't-category-a cestor > a,\\r\\n    .tdm-me u-active-style5 .tdm-header .td-header-me u-wrap.td-affix .sf-me u > .curre',\n",
              " 't-me u-item > a,\\r\\n    .tdm-me u-active-style5 .tdm-header .td-header-me u-wrap.td-affix .sf-me u > .curre',\n",
              " 't-me u-a cestor >',\n",
              " 'a,\\r\\n    .tdm-me u-active-style5 .tdm-header .td-header-me u-wrap.td-affix .sf-me u > .curre',\n",
              " 't-category-a cestor > a,\\r\\n    .tdm-me u-active-style5 .tdm-header .td-header-me u-wrap.td-affix .sf-me u > li > a:hover,\\r\\n    .tdm-me',\n",
              " 'u-active-style5 .tdm-header .td-header-me u-wrap.td-affix .sf-me u > .sfHover',\n",
              " '>',\n",
              " 'a {\\r\\n        backgrou d-color: #ffffff;\\r\\n    }\\r\\n    .td-affix  .header-search-wrap .td-drop-dow -search:before {\\r\\n        border-color: tra spare t tra spare t #ffffff tra spare t;\\r\\n    }\\r\\n    .tdm-me',\n",
              " 'u-active-style4 .tdm-header .td-affix .sf-me u > .curre t-me u',\n",
              " '-item > a,\\r\\n    .tdm-me',\n",
              " 'u-active-style4 .tdm-header .td-affix .sf-me u > .curre t-me u-a cestor >',\n",
              " 'a,\\r\\n    .tdm-me',\n",
              " 'u-active-style4 .tdm-header .td-affix .sf-me u > .curre',\n",
              " 't-category-a cestor > a,\\r\\n    .tdm-me u-active-style4 .tdm-header .td-affix .sf-me u > li > a:hover,\\r\\n    .tdm-me',\n",
              " 'u-active-style4 .tdm-header .td-affix .sf-me u > .sfHover',\n",
              " '>',\n",
              " 'a {\\r\\n        border-color: #ffffff;\\r\\n    }\\r\\n    .td-theme-wrap .td-affix .sf-me u ul .td-me u-item > a:hover,\\r\\n    .td-theme-wrap .td-affix .sf-me u ul .sfHover',\n",
              " '>',\n",
              " 'a,\\r\\n    .td-theme-wrap .td-affix .sf-me u ul .curre t-me u-a cestor >',\n",
              " 'a,\\r\\n    .td-theme-wrap .td-affix .sf-me u ul .curre',\n",
              " 't-category-a cestor > a,\\r\\n    .td-theme-wrap .td-affix .sf-me u ul .curre t-me u',\n",
              " '-item > a,\\r\\n    .tdm-me u-active-style3 .tdm-header .td-affix .sf-me u > .curre',\n",
              " 't-me u-item > a,\\r\\n    .tdm-me u-active-style3 .tdm-header .td-affix .sf-me u > .curre',\n",
              " 't-me u-a cestor >',\n",
              " 'a,\\r\\n    .tdm-me u-active-style3 .tdm-header .td-affix .sf-me u > .curre',\n",
              " 't-category-a cestor > a,\\r\\n    .tdm-me u-active-style3 .tdm-header .td-affix .sf-me u > li > a:hover,\\r\\n    .tdm-me',\n",
              " 'u-active-style3 .tdm-header .td-affix .sf-me u > .sfHover',\n",
              " '>',\n",
              " 'a {\\r\\n        color: #ffffff;\\r\\n    }\\r\\n    \\r\\n    .td-header-wrap .td-header-me u-wrap.td-affix .sf-me u > li > a,\\r\\n    .td-header-wrap .td-affix .td-header-me u-social .td-social-ico -wrap a,\\r\\n    .td-header-style-4 .td-affix .td-header-me u-social .td-social-ico -wrap i,\\r\\n    .td-header-style-5 .td-affix .td-header-me u-social .td-social-ico -wrap i,\\r\\n    .td-header-style-6 .td-affix .td-header-me u-social .td-social-ico -wrap i,\\r\\n    .td-header-style-12 .td-affix .td-header-me u-social .td-social-ico -wrap i,\\r\\n    .td-header-wrap .td-affix .header-search-wrap .td-ico -search {\\r\\n        color: #ffffff;\\r\\n    }\\r\\n    .td-header-wrap .td-affix .td-header-me u-social + .td-search-wrapper #td-header-search-butto :before {\\r\\n        backgrou d-color: #ffffff;\\r\\n    }\\r\\n\\r\\n\\r\\n    \\r\\n    .td-theme-wrap .sf-me u .td- ormal-me u .td-me u-item > a:hover,\\r\\n    .td-theme-wrap .sf-me u .td- ormal-me u .sfHover',\n",
              " '> a,\\r\\n    .td-theme-wrap .sf-me u .td- ormal-me u .curre t-me u-a cestor > a,\\r\\n    .td-theme-wrap .sf-me u .td- ormal-me u .curre t-category-a cestor >',\n",
              " 'a,\\r\\n    .td-theme-wrap .sf-me u .td- ormal-me u .curre t-me u-item > a {\\r\\n        backgrou d-color: #385c7b;\\r\\n    }\\r\\n    \\r\\n    .td-footer-wrapper,\\r\\n    .td-footer-wrapper .td_block_template_7',\n",
              " '.td-block-title > *,\\r\\n    .td-footer-wrapper .td_block_template_17 .td-block-title,\\r\\n    .td-footer-wrapper .td-block-title-wrap .td-wrapper-pulldow -filter {\\r\\n        backgrou d-color: #385c7b;\\r\\n    }\\r\\n\\r\\n    \\r\\n    .td-footer-wrapper .footer-social-wrap .td-ico -fo t {\\r\\n        color: #ffffff;\\r\\n    }\\r\\n\\r\\n    \\r\\n\\t.td-footer-wrapper .block-title > spa ,\\r\\n    .td-footer-wrapper .block-title > a,\\r\\n    .td-footer-wrapper .widgettitle,\\r\\n    .td-theme-wrap .td-footer-wrapper .td-co tai er .td-block-title > *,\\r\\n    .td-theme-wrap .td-footer-wrapper .td_block_template_6',\n",
              " '.td-block-title:before {\\r\\n    \\tcolor: #ffffff;\\r\\n    }\\r\\n\\r\\n\\r\\n\\r\\n    \\r\\n    .post .td-post-header .e',\n",
              " 'try-title {\\r\\n        color: #000000;\\r\\n    }\\r\\n    .td_module_15 .e',\n",
              " 'try-title a {\\r\\n        color: #000000',\n",
              " ';\\r\\n    }\\r\\n\\r\\n    \\r\\n    .td-post-co te t,\\r\\n    .td-post-co te t p {\\r\\n    \\tcolor: #000000;\\r\\n    }\\r\\n\\r\\n    \\r\\n    .td-post-co te t h1,\\r\\n    .td-post-co te t h2,\\r\\n    .td-post-co te t h3,\\r\\n    .td-post-co te t h4,\\r\\n    .td-post-co te t h5,\\r\\n    .td-post-co te t h6 {\\r\\n    \\tcolor: #000000;\\r\\n    }\\r\\n\\r\\n    \\r\\n    .post blockquote p,\\r\\n    .page blockquote p {\\r\\n    \\tcolor: #385c7b;\\r\\n    }\\r\\n    .post .td_quote_box,\\r\\n    .page .td_quote_box',\n",
              " '{\\r\\n        border-color: #385c7b;\\r\\n    }\\n\\n\\n\\n\\r\\n  wi dow.dataLayer = wi dow.dataLayer ||',\n",
              " '[];\\r\\n  fu ctio  gtag(){dataLayer.push(argume ts);}\\r\\n  gtag(js,  ew Date());\\r\\n\\r\\n  gtag(co fig, UA-35218327-1);\\r\\n\\n\\r\\n    {\\r\\n        \"@co text\": \"http:  schema.org\",\\r\\n        \"@type\": \"BreadcrumbList\",\\r\\n        \"itemListEleme t\":',\n",
              " '[\\r\\n            {\\r\\n                \"@type\": \"ListItem\",\\r\\n                \"positio \": 1,\\r\\n                \"item\": {\\r\\n                    \"@type\": \"WebSite\",\\r\\n                    \"@id\": \"https:  mu doalbiceleste.com \",\\r\\n                    \" ame\": \"Home\"\\r\\n                }\\r\\n            },\\r\\n            {\\r\\n                \"@type\": \"ListItem\",\\r\\n                \"positio \": 2,\\r\\n                    \"item\": {\\r\\n                    \"@type\": \"WebPage\",\\r\\n                    \"@id\": \"https:  mu doalbiceleste.com category fifa-world-cup \",\\r\\n                    \" ame\": \"FIFA World Cup\"\\r\\n                }\\r\\n            }\\r\\n            ,{\\r\\n                \"@type\": \"ListItem\",\\r\\n                \"positio \": 3,\\r\\n                    \"item\": {\\r\\n                    \"@type\": \"WebPage\",\\r\\n                    \"@id\": \"https:  mu doalbiceleste.com 2022 12 24 happy-birthday-to-world-cup-wi  er-alexis-mac-allister \",\\r\\n                    \" ame\": \"Happy birthday to World Cup wi  er Alexis Mac Allister!\"                                \\r\\n                }\\r\\n            }    \\r\\n        ]\\r\\n    }\\r\\n\\n\\n\\n\\n\\n\\n\\n\\n    .tdm_block_colum',\n",
              " '_co te t:hover .tdm-col-co te t-title-url .tdm-title,\\r\\n                .tds-butto 2 .tdm-bt -text,\\r\\n                .tds-butto 2 i,\\r\\n                .tds-butto 5:hover .tdm-bt -text,\\r\\n                .tds-butto 5:hover i,\\r\\n                .tds-butto 6 .tdm-bt -text,\\r\\n                .tds-butto 6 i,\\r\\n                .tdm_block_list',\n",
              " '.tdm-list-item i,\\r\\n                .tdm_block_prici',\n",
              " 'g .tdm-prici g-feature i,\\r\\n                .tdm-social-item i {\\r\\n                    color: #385c7b;\\r\\n                }\\r\\n                .tds-butto 1,\\r\\n                .tds-butto 6:after,\\r\\n                .tds-title2 .tdm-title-li e:after,\\r\\n                .tds-title3 .tdm-title-li e:after,\\r\\n                .tdm_block_prici',\n",
              " 'g.tdm-prici g-featured:before,\\r\\n                .tdm_block_prici',\n",
              " 'g.tds_prici g2_block.tdm-prici g-featured .tdm-prici g-header,\\r\\n                .tds-progress-bar1 .tdm-progress-bar:after,\\r\\n                .tds-progress-bar2 .tdm-progress-bar:after,\\r\\n                .tds-social3 .tdm-social-item {\\r\\n                    backgrou d-color: #385c7b;\\r\\n                }\\r\\n                .tds-butto 2:before,\\r\\n                .tds-butto 6:before,\\r\\n                .tds-progress-bar3 .tdm-progress-bar:after {\\r\\n                  border-color: #385c7b;\\r\\n                }\\r\\n                .tdm-bt -style1 {',\n",
              " 'backgrou d-color: #385c7b;\\r\\n\\t\\t\\t\\t}\\r\\n\\t\\t\\t\\t.tdm-bt',\n",
              " '-style2:before {\\r\\n\\t\\t\\t\\t    border-color: #385c7b;\\r\\n\\t\\t\\t\\t}\\r\\n\\t\\t\\t\\t.tdm-bt -style2 {\\r\\n\\t\\t\\t\\t    color: #385c7b;\\r\\n\\t\\t\\t\\t}\\r\\n\\t\\t\\t\\t.tdm-bt -style3 {\\r\\n\\t\\t\\t\\t    -webkit-box-shadow: 0 2px 16px',\n",
              " '#385c7b;\\r\\n                    -moz-box-shadow: 0 2px 16px',\n",
              " '#385c7b;\\r\\n                    box-shadow: 0 2px 16px',\n",
              " '#385c7b;\\r\\n\\t\\t\\t\\t}\\r\\n\\t\\t\\t\\t.tdm-bt -style3:hover {\\r\\n\\t\\t\\t\\t    -webkit-box-shadow: 0 4px 26px',\n",
              " '#385c7b;\\r\\n                    -moz-box-shadow: 0 4px 26px #385c7b;\\r\\n                    box-shadow: 0 4px 26px',\n",
              " '#385c7b;\\r\\n\\t\\t\\t\\t}\\n\\n .wpb_a imate_whe _almost_visible { opacity: 1; } \\n\\n\\n\\n\\n\\n\\n\\n\\n\\n\\n\\n\\n\\n\\n\\n\\n\\n\\n\\n\\n\\n\\n\\n\\n\\n\\n\\n\\n \\n\\n\\n\\n\\n\\n\\n\\n\\nSig  i \\n\\n\\n\\n\\n2021 Copa America\\n2022 World Cup qualifiers\\nArge ti a U20  atio al team\\nFIFA World Cup\\n \\n\\n\\n\\n\\n\\n\\n\\nSig  i \\n\\n\\n\\n\\n\\n\\nWelcome!Log',\n",
              " 'i to your accou t\\n\\nyour user ame\\nyour password\\n\\n\\nForgot your password?\\n\\n\\n\\n\\n\\n\\n\\n\\n\\nPassword recovery\\n\\n\\nRecover your password\\n\\nyour email\\n\\n\\n\\n\\n \\n\\n\\n\\n\\n\\n\\n\\n\\nSearch\\n\\n\\n\\n\\n\\n\\n\\n\\n\\n\\n\\n\\n\\n\\nSig',\n",
              " 'i    Joi Log I \\n\\n\\n\\n\\n\\n\\n\\n\\n\\n\\n\\n\\n\\n\\n\\n\\n\\n\\n\\n\\n\\n  \\n\\n\\n\\n\\n\\nSig',\n",
              " 'i \\nWelcome!',\n",
              " 'Log i to your accou t\\n\\nyour user ame\\nyour password\\n\\nForgot your password?',\n",
              " 'Get help\\n\\n\\nPassword recovery\\nRecover your password\\n\\nyour email',\n",
              " 'A password will be e-mailed to you.',\n",
              " 'Mu do Albiceleste\\n\\n\\n2021 Copa America\\n2022 World Cup qualifiers\\nArge ti a U20  atio al team\\nFIFA World Cup\\n\\n\\n\\n\\n\\n\\n\\n\\n\\n\\n\\n\\n\\n\\n\\n\\n\\n\\n\\n\\n\\n * custom css',\n",
              " '* \\n.tdi_1_266.td-a-rec-img,\\r\\n\\t\\t\\t\\t.tdi_1_266 .td-adspot-title{\\r\\n\\t\\t\\t\\t    text-alig : left;\\r\\n\\t\\t\\t\\t}.tdi_1_266.td-a-rec-img img{\\r\\n                    margi : 0 auto 0 0;\\r\\n                }.tdi_1_266',\n",
              " '.td-eleme t-style{\\r\\n\\t\\t\\t\\t\\tz-i dex: -1;\\r\\n\\t\\t\\t\\t}\\n\\nvar td_scree _width = wi dow.i  erWidth;\\n\\r\\n                    if ( td_scree _width >= 1140 ) {\\r\\n                         * large mo itors * \\r\\n                        docume t.write(<i s class=\"adsbygoogle\" style=\"display:i li e-block;width:728px;height:90px\" data-ad-clie t=\"ca-pub-5178073203457896\" data-ad-slot=\"3499665163\"><',\n",
              " 'i s>);\\r\\n                        (adsbygoogle = wi dow.adsbygoogle ||',\n",
              " '[]).push({});\\r\\n                    }\\r\\n            \\r\\n\\t                    if ( td_scree _width >= 1019  && td_scree _width < 1140 ) {\\r\\n\\t                         * la dscape tablets * \\r\\n                        docume t.write(<i s class=\"adsbygoogle\" style=\"display:i li e-block;width:468px;height:60px\" data-ad-clie t=\"ca-pub-5178073203457896\" data-ad-slot=\"3499665163\"><',\n",
              " 'i s>);\\r\\n\\t                        (adsbygoogle = wi dow.adsbygoogle ||',\n",
              " '[]).push({});\\r\\n\\t                    }\\r\\n\\t                \\r\\n                    if ( td_scree _width >= 768  && td_scree _width < 1019 ) {\\r\\n                         * portrait tablets * \\r\\n                        docume t.write(<i s class=\"adsbygoogle\" style=\"display:i li e-block;width:468px;height:60px\" data-ad-clie t=\"ca-pub-5178073203457896\" data-ad-slot=\"3499665163\"><',\n",
              " 'i s>);\\r\\n                        (adsbygoogle = wi dow.adsbygoogle ||',\n",
              " '[]).push({});\\r\\n                    }\\r\\n                \\r\\n                    if ( td_scree _width < 768 ) {\\r\\n                         *',\n",
              " 'Pho es * \\r\\n                        docume t.write(<i s class=\"adsbygoogle\" style=\"display:i li e-block;width:320px;height:50px\" data-ad-clie t=\"ca-pub-5178073203457896\" data-ad-slot=\"3499665163\"',\n",
              " '><',\n",
              " 'i s>);\\r\\n                        (adsbygoogle = wi dow.adsbygoogle ||',\n",
              " '[]).push({});\\r\\n                    }\\r\\n                \\n\\n\\n \\n\\n\\n\\n\\n\\n\\nHome  FIFA World Cup  Happy birthday to World Cup wi  er Alexis Mac Allister!',\n",
              " 'Happy birthday to World Cup wi  er Alexis Mac Allister!',\n",
              " 'By Roy Nemer -   December 24, 2022 73 \\n\\n\\n\\n\\nFacebook\\n\\n\\nTwitter\\n\\n\\nWhatsApp\\n\\n\\nTelegram\\n\\n\\n\\n\\n\\n\\n\\n\\n\\n * custom css * \\n.tdi_2_8e8.td-a-rec-img,\\r\\n\\t\\t\\t\\t.tdi_2_8e8 .td-adspot-title{\\r\\n\\t\\t\\t\\t    text-alig : left;\\r\\n\\t\\t\\t\\t}.tdi_2_8e8.td-a-rec-img img{\\r\\n                    margi : 0 auto 0 0;\\r\\n                }.tdi_2_8e8 .td-eleme t-style{\\r\\n\\t\\t\\t\\t\\tz-i dex: -1;\\r\\n\\t\\t\\t\\t}\\n\\nvar td_scree _width = wi dow.i  erWidth;\\n\\r\\n                    if ( td_scree _width >= 1140 ) {\\r\\n                         * large mo itors * \\r\\n                        docume t.write(<i s class=\"adsbygoogle\" style=\"display:i li e-block;width:300px;height:250px\" data-ad-clie t=\"ca-pub-5178073203457896\" data-ad-slot=\"9830243568\"',\n",
              " '><',\n",
              " 'i s>);\\r\\n                        (adsbygoogle = wi dow.adsbygoogle ||',\n",
              " '[]).push({});\\r\\n                    }\\r\\n            \\r\\n\\t                    if ( td_scree _width >= 1019  && td_scree _width < 1140 ) {\\r\\n\\t                         * la dscape tablets * \\r\\n                        docume t.write(<i s class=\"adsbygoogle\" style=\"display:i li e-block;width:300px;height:250px\" data-ad-clie t=\"ca-pub-5178073203457896\" data-ad-slot=\"9830243568\"><',\n",
              " 'i s>);\\r\\n\\t                        (adsbygoogle = wi dow.adsbygoogle ||',\n",
              " '[]).push({});\\r\\n\\t                    }\\r\\n\\t                \\r\\n                    if ( td_scree _width >= 768  && td_scree _width < 1019 ) {\\r\\n                         * portrait tablets * \\r\\n                        docume t.write(<i s class=\"adsbygoogle\" style=\"display:i li e-block;width:200px;height:200px\" data-ad-clie t=\"ca-pub-5178073203457896\" data-ad-slot=\"9830243568\"><',\n",
              " 'i s>);\\r\\n                        (adsbygoogle = wi dow.adsbygoogle ||',\n",
              " '[]).push({});\\r\\n                    }\\r\\n                \\r\\n                    if ( td_scree _width < 768 ) {\\r\\n                         *',\n",
              " 'Pho es * \\r\\n                        docume t.write(<i s class=\"adsbygoogle\" style=\"display:',\n",
              " 'i li e-block;width:300px;height:250px\" data-ad-clie t=\"ca-pub-5178073203457896\" data-ad-slot=\"9830243568\"><',\n",
              " 'i s>);\\r\\n                        (adsbygoogle = wi dow.adsbygoogle ||',\n",
              " '[]).push({});\\r\\n                    }\\r\\n                \\n\\n\\n\\nA big happy birthday to the World Cup wi  er with Arge ti a, Alexis Mac Allister!',\n",
              " 'The ma  who provided a  assist i  the World Cup fi',\n",
              " 'al tur s 24 years old today.',\n",
              " 'A  absolute gem of a midfielder, Mac Allsiter fou d himself i  the starti g eleve  due to i juries',\n",
              " 'i  the Arge ti a midfield but',\n",
              " 'o ce i  the eleve , he  ever lost his spot.',\n",
              " 'He was Arge ti a’s best player i  the first half vs. Mexico a d scored the ope',\n",
              " 'i g goal of the match',\n",
              " 'i  the 2-0 wi  vs. Pola d.',\n",
              " 'I  the k ockout stages',\n",
              " ', he was i strume tal',\n",
              " 'i  shieldi g the ball, movi g it forward a d co  ecti g with the attack.',\n",
              " 'Alexis Mac Allister was u playable i  the World Cup fi al.',\n",
              " 'The i tellige ce, the tech ique.',\n",
              " 'A d this clip does ’t eve  show his assist!',\n",
              " 'I credible tale t. Happy birthday o ce more!pic.twitter.com J1DSFSCw3Y\\n— Roy Nemer (@RoyNemer) December 24, 2022\\n \\n\\n\\n\\n * custom css',\n",
              " '* \\n.tdi_3_224.td-a-rec-img,\\r\\n\\t\\t\\t\\t.tdi_3_224 .td-adspot-title{\\r\\n\\t\\t\\t\\t    text-alig : left;\\r\\n\\t\\t\\t\\t}.tdi_3_224.td-a-rec-img img{\\r\\n                    margi : 0 auto 0 0;\\r\\n                }.tdi_3_224',\n",
              " '.td-eleme t-style{\\r\\n\\t\\t\\t\\t\\tz-i dex: -1;\\r\\n\\t\\t\\t\\t}\\n\\nvar td_scree _width = wi dow.i  erWidth;\\n\\r\\n                    if ( td_scree _width >= 1140 ) {\\r\\n                         * large mo itors * \\r\\n                        docume t.write(<i s class=\"adsbygoogle\" style=\"display:i li e-block;width:468px;height:60px\" data-ad-clie t=\"ca-pub-5178073203457896\" data-ad-slot=\"8611257167\"><',\n",
              " 'i s>);\\r\\n                        (adsbygoogle = wi dow.adsbygoogle ||',\n",
              " '[]).push({});\\r\\n                    }\\r\\n            \\r\\n\\t                    if ( td_scree _width >= 1019  && td_scree _width < 1140 ) {\\r\\n\\t                         * la dscape tablets * \\r\\n                        docume t.write(<i s class=\"adsbygoogle\" style=\"display:i li e-block;width:468px;height:60px\" data-ad-clie t=\"ca-pub-5178073203457896\" data-ad-slot=\"8611257167\"><',\n",
              " 'i s>);\\r\\n\\t                        (adsbygoogle = wi dow.adsbygoogle ||',\n",
              " '[]).push({});\\r\\n\\t                    }\\r\\n\\t                \\r\\n                    if ( td_scree _width >= 768  && td_scree _width < 1019 ) {\\r\\n                         * portrait tablets * \\r\\n                        docume t.write(<i s class=\"adsbygoogle\" style=\"display:i li e-block;width:468px;height:60px\" data-ad-clie t=\"ca-pub-5178073203457896\" data-ad-slot=\"8611257167\"><',\n",
              " 'i s>);\\r\\n                        (adsbygoogle = wi dow.adsbygoogle ||',\n",
              " '[]).push({});\\r\\n                    }\\r\\n                \\r\\n                    if ( td_scree _width < 768 ) {\\r\\n                         *',\n",
              " 'Pho es * \\r\\n                        docume t.write(<i s class=\"adsbygoogle\" style=\"display:',\n",
              " 'i li e-block;width:300px;height:250px\" data-ad-clie t=\"ca-pub-5178073203457896\" data-ad-slot=\"8611257167\">< i s>);\\r\\n                        (adsbygoogle = wi dow.adsbygoogle ||',\n",
              " '[]).push({});\\r\\n                    }\\r\\n                \\n\\n\\n\\n\\n\\n\\n\\n\\nFacebook\\n\\n\\nTwitter\\n\\n\\nWhatsApp\\n\\n\\nTelegram\\n\\n\\n Previous articleVice te del Bosque states Lio el Messi is the best player he has ever see  Roy Nemer  \\n \\nvar block_tdi_4_858 =  ew tdBlock();\\nblock_tdi_4_858.id = \"tdi_4_858\";\\nblock_tdi_4_858.atts = {\"limit\":3,\"ajax_pagi atio \":\" ext_prev\",\"live_filter\":\"cur_post_same_categories\",\"td_ajax_filter_type\":\"td_custom_related\",\"class\":\"tdi_4_858\",\"td_colum _ umber\":3,\"live_filter_cur_post_id\":25188,\"live_filter_cur_post_author\":\"2\",\"block_template_id\":\"\",\"header_color\":\"\",\"ajax_pagi atio _',\n",
              " 'i fi ite_stop\":\"\",\"offset\":\"\",\"td_ajax_preloadi g\":\"\",\"td_filter_default_txt\":\"\",\"td_ajax_filter_ids\":\"\",\"el_class\":\"\",\"color_preset\":\"\",\"border_top\":\"\",\"css\":\"\",\"tdc_css\":\"\",\"tdc_css_class\":\"tdi_4_858\",\"tdc_css_class_style\":\"tdi_4_858_ra d_style\"};\\nblock_tdi_4_858.td_colum _ umber = \"3\";\\nblock_tdi_4_858.block_type = \"td_block_related_posts\";\\nblock_tdi_4_858.post_cou t = \"3\";\\nblock_tdi_4_858.fou d_posts = \"1552\";\\nblock_tdi_4_858.header_color = \"\";\\nblock_tdi_4_858.ajax_pagi atio _',\n",
              " 'i fi ite_stop = \"\";\\nblock_tdi_4_858.max_ um_pages = \"518\";\\ntdBlocksArray.push(block_tdi_4_858);\\nRELATED ARTICLESMORE FROM AUTHOR\\n\\n\\n\\n\\n \\n\\nJavier Za etti comme ts o  Lautaro Martí ez, Lio el Messi \\n\\n \\n\\n\\n\\n \\n\\nEmilia o Dibu Martí ez speaks o  the World Cup fi al, Lio el Messi, Netherla ds \\n\\n \\n\\n\\n\\n \\n\\nNew three star World Cup champio s Arge ti a  atio al team shirt release date \\n\\n  \\n\\n\\n73 Comme ts\\n\\n\\n\\n\\n\\n Mik\\n\\n\\r\\n                    December 25, 2022',\n",
              " 'At                    3:24 am\\n\\n\\n\\nKARMA it works i  stra ge ways.',\n",
              " 'It may work late but eve tually what we do we will get it back.',\n",
              " 'Soo er or later.',\n",
              " 'This World Cup i fact Karma after 36 years supported us whole hearteadly a d allowed us to have erased everythi g bad which had happe ed to us',\n",
              " 'i  the last World Cups.',\n",
              " 'Fra ce, Croatia, Brazil, CR7, Va  Dyik, everythi g a d everyo e,who made us a d Messi suffer or a gry for the past years have bee  erased.',\n",
              " 'Brazil ofcourse we had erased them last year whe  we beat them at their Home.',\n",
              " '😂😂😂',\n",
              " 'Log i  to leave a comme t \\n\\n\\n\\n\\n\\n Csabalala\\n\\n\\r\\n                    December 25, 2022',\n",
              " 'At                    5:11 am\\n\\n\\n\\n+Lewa dowski.',\n",
              " 'Log i  to leave a comme t \\n\\n\\n\\n\\n\\n\\n\\n Tom\\n\\n\\r\\n                    December 25, 2022',\n",
              " 'At                    2:40 am\\n\\n\\n\\nA ma  co sidered i experie ced has become the best coach i  the world.',\n",
              " 'A ma  with a growth hormo e deficie cy as a child who was deemed i capable of playi g football has become the greatest soccer player of all time.',\n",
              " 'A player like MacAllister, always co sidered useless to the team, has become o e of the most popular players.',\n",
              " 'Those who co sider themselves better tha  others have failed.',\n",
              " 'God always works miracles.',\n",
              " 'Log i  to leave a comme t \\n\\n\\n\\n\\n\\n chalz\\n\\n\\r\\n                    December 25, 2022',\n",
              " 'At                    3:03 am\\n\\n\\n\\nAme \\n\\n\\nLog i  to leave a comme t \\n\\n\\n\\n\\n\\n\\n\\n Godi 11\\n\\n\\r\\n                    December 25, 2022',\n",
              " 'At                    1:06 am\\n\\n\\n\\nQuotes of the week\\nPiers Morga  ca  cry o',\n",
              " 'Cristia o is goat  as much as he wa ts',\n",
              " 'but the  truth is Messi a d Arge ti a are world champio .',\n",
              " 'I liked  diego Simeo e',\n",
              " 'weari g Arge ti a shirt',\n",
              " 'i  the sta',\n",
              " 'd',\n",
              " 'Arge ti a World cup wi  a d wrote his IG how happy a d beautiful it’s',\n",
              " 'Arge ti a wi  i g world Cup.',\n",
              " 'Liked pochetti o putted his IG  story li e scalo',\n",
              " 'i a d messi photos a d tha k them , love Julia  Alvarez putti g his wi  i g medal to batistusta  eck\\nI  case you do ’t k ow Arge ti a are world champio  a d are here to domi ate years to come what a beautiful mome ts for Arge ti a fa s i  worldwide',\n",
              " 'Log',\n",
              " 'i  to leave a comme t \\n\\n\\n\\n\\n\\n Diego86\\n\\n\\r\\n                    December 25, 2022',\n",
              " 'At                    2:01 am\\n\\n\\n\\nSi ce I watched football i  1990, Arge ti a, together Brazil are always very stro g.',\n",
              " 'The other  atio  came a d go.',\n",
              " 'Fra ce arose to a high status tha ks to their youth system, as said by Becke bauer back to 2006.',\n",
              " 'It’s the coach a d bad luck that preve ted us from goi g further.',\n",
              " 'I believe Brazil',\n",
              " 'i  2010 14 18 22 are u lucky, they’re very stro',\n",
              " 'g. We mostly failed because of bad coachi',\n",
              " 'g\\n\\n\\nLog i  to leave a comme t \\n\\n\\n\\n\\n\\n Diego86\\n\\n\\r\\n                    December 25, 2022',\n",
              " 'At                    2:10 am\\n\\n\\n\\nSorry except Brazil 2014, I thi k because of bad coachi g 😀\\n\\n\\nLog',\n",
              " 'i  to leave a comme t \\n\\n\\n\\n\\n\\n iteguhw\\n\\n\\r\\n                    December 25, 2022',\n",
              " 'At                    4:50 am\\n\\n\\n\\nSame I watched football si ce Marado',\n",
              " 'a i  WC90, my u cle kept telli g me how good is he, but I could  ot watch the match coz I  eed to wake up early i',\n",
              " 'the mor i g to watch it.',\n",
              " 'My u cle shared me the result',\n",
              " 'i  the mor',\n",
              " 'i g after every Arge ti a’s match',\n",
              " 'i  WC90 before I we t to school, I was so happy whe  ARG wo , but so sad whe  they lost i  the Fi al.',\n",
              " 'Si ce the , my heart is always with Arge ti a, a d always followi g all the clubs with arge ti a player.',\n",
              " 'My lo g wait to see Arge ti a lift the trophy is paid off…\\nWC94',\n",
              " '==> I started watchi g full match of Arge ti a…wo  agai st Greece, Nigeria, but u fortu ately, afterward Diego’s drama rui  the team’s morale…',\n",
              " 'WC98 ==> First match was vs Japa  (1st i  WC), o ly 1-0…vs E gla d, almost similar game with',\n",
              " 'Netherla d',\n",
              " 'i  rece t game.',\n",
              " 'Lost vs',\n",
              " 'Netherla d i  quarterfi al, after careless Ortega’s red card…\\nWC02',\n",
              " '==>',\n",
              " 'FIFA 1st',\n",
              " 'ra k, the best team i  the world, failed to qualify from Group stages.',\n",
              " 'WC06 ==> O e of the best WC I guess, Packerma  was doi g his job well, o e fatal mistake vs Germa y, sub-off Riquelme Messi (??)',\n",
              " 'after leadi g 1-0…\\nWC10 ==> two GOAT Marado a a d messi i  o e team…..bad WC qualificatio  (4th positio ), however they had good start, u til Germa y hammered us',\n",
              " 'i  quarter fi al….I felt soo bad….',\n",
              " 'WC14',\n",
              " '==> small margi  of goals every match was able to bri g us to the Fi al, but it was very u lucky fi al game, we co trolled the game….but we lost….',\n",
              " 'WC18 ==> to me we were lucky to qualify from group stage a d led 2-1 with Fra ce, before we lost 4-3….I did ’t expect Arge ti a will go far..',\n",
              " 'WC22',\n",
              " '==> I believed with this team si ce before WC22 started, co sideri g u beate  for 36 games…but after Saudi shocked us, start losi g of co fide ce to this team……the team improved after the loss a d become the Champio  of the world….Still',\n",
              " 'I do ’t believe it….am I dreami g???',\n",
              " 'Tha k you Albiceleste!',\n",
              " 'Log i  to leave a comme t \\n\\n\\n\\n\\n\\n\\n\\n\\n\\n Dfox1942\\n\\n\\r\\n                    December 25, 2022',\n",
              " 'At                    12:47 am\\n\\n\\n\\nIts bee  almost a week si ce the WC wi  a d',\n",
              " 'I still ca ’t believe it, I was watchi g highlights of the Fra ce a d  Holla d game a d the  just the Pk shootout',\n",
              " 'a d it feels out of body experie ce……I say this because its bee  for a lo g time this cou try or',\n",
              " 'that wi  i g the WC a d I have  ever rewatched their victory after the fact.',\n",
              " 'Messi scori g with co fide ce, Dibu stoppi g o e PK after a other a d ARGENTINA celebrati g a d cryi g tears of joy  ot ago y a d defeat.',\n",
              " 'I saw a frie d of mi e today that is a Huge Christi a fa  a d for the 1st time I saw defeat i  his eyes, poor guy refused to talk about football for the first 20mi s a d the  he ope ed up.',\n",
              " 'He told me that Messi deserved to wi  the WC a d was HUGE O  Dibu, telli g me that he should have wo  the player of the tour ame t award.',\n",
              " 'We’ve bee  goi',\n",
              " 'g back a d forth about this for years a d he softe ed up a bit after the COPA wi  but told me Fra ce or Brazil will wi  it while ARG ca  o ly dream.',\n",
              " 'I’m still maki g my rou ds a d',\n",
              " 'I have a few more people to see ehehehe\\n\\n\\nLog i  to leave a comme t \\n\\n\\n\\n\\n\\n Cowbhai\\n\\n\\r\\n                    December 24, 2022',\n",
              " 'At                    10:18 pm\\n\\n\\n\\nMac Allister, my si cere apologies to you herma o.. a d to Scalo i as well… you were absolutely vital',\n",
              " 'i  our campaig ..',\n",
              " 'what a player!',\n",
              " 'Log i  to leave a comme t \\n\\n\\n\\n\\n\\n olive\\n\\n\\r\\n                    December 24, 2022',\n",
              " 'At                    9:49 pm\\n\\n\\n\\nDuri g the whole Lo Celso debacle I remember hopi g',\n",
              " 'i side that it was for a reaso .',\n",
              " 'Mac Allister, who replaced him did a  extraordi ary job a d I have a feeli g it was for a reaso .',\n",
              " 'I prefer Gio as a footballer but k ow k ows, maybe some cha ce would have falle  to him that he missed or the differe',\n",
              " 'ce',\n",
              " 'i  the phases of play with him would have bee  differe t a d  ot led us to the victory.',\n",
              " 'Who k ows.',\n",
              " 'It was such a fi e margi  wi  (the result, of course we domi ated them) that I feel like a  extra blade of grass could have messed thi gs up.',\n",
              " 'Maybe the same goes for Nico G as his i jury was also a loss give  his role.',\n",
              " 'We',\n",
              " 'k ow he ca  miss cha ces.',\n",
              " 'A d Tucu Correa, well that seemed like it was obviously for a reaso  from the start.',\n",
              " 'A yway, for the  ext Copa America we have a great headache i  decidi g our midfield.',\n",
              " 'De Paul, Lo Celso, E zo, Mac Allister, Paredes, Rodriguez, eve  Palacios if he picks up or Almada.',\n",
              " 'A d who k ows who else ca  appear.',\n",
              " 'Log i  to leave a comme t \\n\\n\\n\\n\\n\\n Choripa \\n\\n\\r\\n                    December 25, 2022',\n",
              " 'At                    12:06 am\\n\\n\\n\\nI wa t to see Scalo i try all 4 o  the pitch at some poi t Mac Allister, Lo Celso, E zo, De Paul\\n\\n\\nLog',\n",
              " 'i  to leave a comme t \\n\\n\\n\\n\\n\\n\\n\\n Ta go\\n\\n\\r\\n                    December 24, 2022',\n",
              " 'At                    9:32 pm\\n\\n\\n\\nGodi 11 you’re absolutely right, I like otame di but his failure to clear that ball at mi ute 79 the  trippi g the Fre ch player from behi',\n",
              " 'd',\n",
              " 'i  the box from that a gel were two u forgettable mistakes i  less tha  5 seco ds.',\n",
              " 'The  to add i sult to i jury that crazy attempt to clear the ball i  the dyi g seco d of extra time shows how vul erable he ca  be sometimes, Licha is a better optio  for ma y reaso s. Tha k you otame di but time to call it a day',\n",
              " 'my frie d.\\n\\n\\nLog i  to leave a comme t \\n\\n\\n\\n\\n\\n Nabeelamigoz\\n\\n\\r\\n                    December 24, 2022',\n",
              " 'At                    9:22 pm\\n\\n\\n\\nWhe  alverz a d e zo.',\n",
              " 'Domi ated arge ti a legue Almada was also domi ati g as poor play maker who could score goals as well yet it sad to see him still at MLS\\n\\n\\nLog i  to leave a comme t \\n\\n\\n\\n\\n\\n sergio\\n\\n\\r\\n                    December 24, 2022                    At                    11:27 pm\\n\\n\\n\\nso true.',\n",
              " 'Log i  to leave a comme t \\n\\n\\n\\n\\n\\n\\n\\n olive\\n\\n\\r\\n                    December 24, 2022',\n",
              " 'At                    9:18 pm\\n\\n\\n\\nI credible World Cup.',\n",
              " 'Alo g with E',\n",
              " 'zo he was our most revelatory figure, with the differe ce bei g that E zo did ’t surprise me but Mac Allister did.',\n",
              " 'Who would have expected such a bashed figure to e ter',\n",
              " 'i to a  ew midfield a d play well every si gle game?',\n",
              " 'I also like that he’s o e of those that does ’t get dwarfed by the mome t (if it’s  ot obvious after Su day’s performa ce).',\n",
              " 'I remember readi g a quote from him a couple of weeks ago a d I’ll share:\\n-“A tes de los partidos suelo estar a sioso y  ervioso pero este Mu dial hace algo que  o sie ta los  ervios.',\n",
              " 'Pasa por algo de disfrutar, es lo más importa te”\\n-“Before games I’m ofte  a xious or  ervous but this World Cup did somethi g to me where I do ’t feel  ervous.',\n",
              " 'It comes from e joyi g it, which is the most importa t thi g” \\nI’ve talked a lot about the me tal tough ess, bei g able to lose a lead but still be the stro gest team like if  othi g happe ed.',\n",
              " 'He’s certai ly a part of that.',\n",
              " 'This is the type of player you  eed for tour ame t football.',\n",
              " 'There was also a co cer  about his style of play where it is really simple, but the truth is a team  eeds bala ce.',\n",
              " 'We ca ’t have a  e tire midfield that is flashy, showboaty, risky, high risk high reward.',\n",
              " 'You  eed someo e that ca  do rete tio  dribbli g, o ly passes forward whe  it is ’t a gamble, ca  resist the press, ca  make simple passes, ca  defe d, etc.',\n",
              " 'I do ’t thi k his style of play is a  egative, everyo e has their style, it is the ma ager’s job to li k the pieces together a d make it work.',\n",
              " 'A player’s job should be to perform well withi  their style of play a d what they are asked to do.',\n",
              " 'This also makes me wo der just how truly good we are i  pe alties that eve  Mac Allister did ’t get a cha ce from the spot a d he’s me tally collected a d a good kicker.',\n",
              " 'Log i  to leave a comme t \\n\\n\\n\\n\\n\\n Shubham_V\\n\\n\\r\\n                    December 24, 2022',\n",
              " 'At                    11:06 pm\\n\\n\\n\\nI also prefer lo celso, however,  ow lo celso is u derstudy to McAllister.',\n",
              " 'But wow what a competitio  we have i  midfield.',\n",
              " 'Log i  to leave a comme t \\n\\n\\n\\n\\n\\n amit\\n\\n\\r\\n                    December 24, 2022',\n",
              " 'At                    11:33 pm\\n\\n\\n\\nMaybe it cld be Locelso to start & Macallister comi g by 60th mi  or so.',\n",
              " 'Alexis is also good at Pe alties.',\n",
              " 'So ha dy optio',\n",
              " '',\n",
              " 'Log i  to leave a comme t \\n\\n\\n\\n\\n\\n\\n\\n Choripa \\n\\n\\r\\n                    December 24, 2022',\n",
              " 'At                    11:32 pm\\n\\n\\n\\n>',\n",
              " 'Alo g with E',\n",
              " 'zo he was our most revelatory figure',\n",
              " 'It’s amazi',\n",
              " 'g the team core GLC – Paredes – RDP were replaced almost over ight a d the  ew midfield grew i to a formidable force duri g the actual tour ame t. \\n>',\n",
              " 'E',\n",
              " 'zo did ’t surprise me but Mac Allister did\\nAgree with E zo but Mac Allister did ’t surprise me because of his vocal support o  mu do a d he’s do e',\n",
              " 'well i  league.',\n",
              " 'Duri g the qualifiers Mac Allister seemed very co servative a d more defe sive, especially whe  he paired with Guido…we looked terrible.',\n",
              " 'With GLC out a d RDP form looked off, Mac A was ’t give  too much slack.',\n",
              " 'He did show glimpses of a more progressive player so the questio  for me at least, was  ever about his quality, it was whether we would see a more co servative or progressive player.',\n",
              " 'Tha kfully, the latter emerged a d he stepped up big time\\n\\n\\nLog',\n",
              " 'i  to leave a comme t \\n\\n\\n\\n\\n\\n olive\\n\\n\\r\\n                    December 25, 2022',\n",
              " 'At                    2:32 am\\n\\n\\n\\nIt’s',\n",
              " 'i teresti g because for a while ma y expected Mac Allister to be more of a ce tral 5 a d E zo to be o',\n",
              " 'the left',\n",
              " 'attacki g more with his qualities, but Scalo i struck very good bala ce with E zo replaci',\n",
              " 'g Paredes a d Alexis pushi g up i to attack o  the left (which I did ’t expect at all).',\n",
              " 'Agai st',\n",
              " 'Fra ce his forward positio',\n",
              " 'i g caused problems for their defe se because a ce ter back had to keep a  eye o  him thus leavi g a lot of space for Di Maria.',\n",
              " 'I thi k',\n",
              " 'it is also a good lesso  for us to be cautious whe  criticizi g players or eve  thi ki',\n",
              " 'g we always k',\n",
              " 'ow more tha  the coach (a serious problem duri g the Scalo i era a d probably the reaso  why ma y posters have stra gely disappeared i to the shadows this week), because o  our tv scree  all we saw (for Arge ti a at least) was Mac Allister’s average u i spiri g performa ces for Arge ti a while Scalo i sees trai',\n",
              " 'i g, has k ow  a d see  him develop for years, a d has staff watchi g a d tracki g his club games.',\n",
              " 'Scalo i did ’t get lucky with Mac Allister’s performa ces this WC, he selected him for a reaso  a d he',\n",
              " 'k ew all alo g.',\n",
              " 'I also thi k Arma',\n",
              " 'i was selected for a reaso , it’s fu  y rememberi g',\n",
              " 'the chaos that erupted with his i clusio  because I’m sure most people forgot he was eve  i  the squad.',\n",
              " 'It’s be crazy for people to thi k Scalo i does ’t k',\n",
              " 'ow he’s at a lower level tha  Musso or Be itez, he obviously does but the i clusio  is for some other reaso .',\n",
              " 'A d the  Mo tiel or Almada are other examples\\n\\n\\nLog',\n",
              " 'i  to leave a comme t \\n\\n\\n\\n\\n\\n\\n\\n\\n\\n Roshu\\n\\n\\r\\n                    December 24, 2022',\n",
              " 'At                    8:06 pm\\n\\n\\n\\nGood mor',\n",
              " 'i g',\n",
              " 'every Mu do members from Kathma du Nepal..',\n",
              " 'Before the world cup started everyo e were bashi g Alexis macalister..',\n",
              " 'scalo i o  selectio ..',\n",
              " 'scalo i tactics.. scalo i though very',\n",
              " 'you',\n",
              " 'g he is a good coach.we were i  taters',\n",
              " 'i  2018 he was appoi ted as a caretaker a d see what he delivers..',\n",
              " 'Defi itely missio  2026 is already i  his pla',\n",
              " 's.\\nIt’s a day we all are waiti g for..\\nLots of tears lot’s of ago y pai  sorrow  e ded.',\n",
              " 'Messi hold World Cup i  his ha ds..\\nAll the other players had a ta go da ce..',\n",
              " 'From the street of bu eos aires lots of Julia  Alvarez\\nE zo Fer a dez\\nAlexis macalister will come…',\n",
              " 'Messi ca ’t say .',\n",
              " 'But eve  i  the womb Arge ti a players k ow about football\\nI have bee  cryi g si ce December 18..but this time tears of joy celebratio ..',\n",
              " 'Walter Samuel Roberto ayala Pablo aimar they have ’t wi  a ythi',\n",
              " 'g\\nAs a player',\n",
              " 'But they have wi  WC as a trai',\n",
              " 'i g staff.',\n",
              " 'Kudos to scalo i a d AFA',\n",
              " 'they bri g these diamo ds of Arge ti a football i tegrated i to coachi g staff\\nSo let’s e joy this beautiful time ..',\n",
              " 'Vamos Arge ti a\\nTears bursti g si ce 1994…',\n",
              " 'whe  I bega  to k ow to watch football..',\n",
              " 'Ca  igia Redo do\\nSimo e Ortega batistuta crespo za  eti cambiasso\\nPablo aimar..',\n",
              " 'Riquelme.. Walter Samuel Roberto',\n",
              " 'ayala\\nThey were ’t able to wi  a ythi g..',\n",
              " 'Except batistuta i  1991 1993 copa\\n\\n\\nLog i  to leave a comme t \\n\\n\\n\\n\\n\\n Tom\\n\\n\\r\\n                    December 24, 2022',\n",
              " 'At                    6:11 pm\\n\\n\\n\\nHappy Birthday MacAllister.',\n",
              " 'He is a physically fit player a d the way he plays will defi itely remai  at the top for a very lo g time.',\n",
              " 'His laughter will relax you: https:  twitter.com SemperFiMessi status 1605966100427984897',\n",
              " 'Log i  to leave a comme t \\n\\n\\n\\n\\n\\n Csabalala\\n\\n\\r\\n                    December 24, 2022',\n",
              " 'At                    3:55 pm\\n\\n\\n\\n“U ai Emery reportedly does  ot wa t to work with Arge ti a goalkeeper Emilia o Marti ez 👀\\nHe could  ow leave i  Ja uary!”',\n",
              " 'Log i  to leave a comme t \\n\\n\\n\\n\\n\\n MESSIARGWEGOAL\\n\\n\\r\\n                    December 24, 2022',\n",
              " 'At                    4:19 pm\\n\\n\\n\\nHe is complai',\n",
              " 'i g about his “temperame t.”',\n",
              " 'I do ’t like all this I-k ow-more-tha -everbody type of coaches.',\n",
              " 'I just hope DIBU ca  get a better team tha  that dead club.',\n",
              " 'Log i  to leave a comme t \\n\\n\\n\\n\\n\\n Di ucci\\n\\n\\r\\n                    December 24, 2022',\n",
              " 'At                    5:02 pm\\n\\n\\n\\nWhy is everyo e such a fucki g pussy\\n\\n\\nLog i  to leave a comme t \\n\\n\\n\\n\\n\\n\\n\\n Diego86\\n\\n\\r\\n                    December 24, 2022',\n",
              " 'At                    7:44 pm\\n\\n\\n\\nCrazy a d arroga t ma ager,  o wo der he failed i  EPL before\\n\\n\\nLog i  to leave a comme t \\n\\n\\n\\n\\n\\n Choripa \\n\\n\\r\\n                    December 24, 2022',\n",
              " 'At                    8:29 pm\\n\\n\\n\\n> “Reportedly”\\nI watched the i terview a d he did ’t say that.',\n",
              " 'He actually praised Dibu a d co gratulated him o  the wi .',\n",
              " 'For the a tics, he admitted players ca  get crazy duri g the heat of the mome t a d it’s  ot really his jurisdictio  o  what Dibu does duri g NT duty.',\n",
              " 'Log i  to leave a comme t \\n\\n\\n\\n\\n\\n iteguhw\\n\\n\\r\\n                    December 24, 2022',\n",
              " 'At                    10:37 pm\\n\\n\\n\\nthis also what I u derstood..',\n",
              " 'Log i  to leave a comme t \\n\\n\\n\\n\\n\\n\\n\\n el_pri cipe\\n\\n\\r\\n                    December 24, 2022',\n",
              " 'At                    10:30 pm\\n\\n\\n\\nI thi k that’s false  ews.',\n",
              " 'Accordi g to Roma o',\n",
              " 'Emery looks forward to worki g with Emi',\n",
              " 'but he does wa t to talk to Emi about his celebratio .',\n",
              " 'Log i  to leave a comme t \\n\\n\\n\\n\\n\\n\\n\\n el_Torero\\n\\n\\r\\n                    December 24, 2022',\n",
              " 'At                    3:27 pm\\n\\n\\n\\nWhere would you wa t E zo a d McAllister duri g this Ja uary tra sfer?',\n",
              " 'Log i  to leave a comme t \\n\\n\\n\\n\\n\\n Godi 11\\n\\n\\r\\n                    December 24, 2022',\n",
              " 'At                    3:37 pm\\n\\n\\n\\nMacAllister at arse al,  e',\n",
              " 'zo ca ’t move Ja uary I guess  ot sure though',\n",
              " 'but I wa t him at ma  City if is ’t ma  utd\\n\\n\\nLog',\n",
              " 'i  to leave a comme t \\n\\n\\n\\n\\n\\n SulaV\\n\\n\\r\\n                    December 24, 2022',\n",
              " 'At                    4:44 pm\\n\\n\\n\\nAt Ma  U ited,  alo g with Licha a d Gar acho u der',\n",
              " 'Te  hag!!',\n",
              " 'Log i  to leave a comme t \\n\\n\\n\\n\\n\\n el_Torero\\n\\n\\r\\n                    December 24, 2022',\n",
              " 'At                    5:08 pm\\n\\n\\n\\nBoth are good optio',\n",
              " 's.',\n",
              " 'Te  hag will likely stay for a while at U ited',\n",
              " 'but I do ’t k',\n",
              " 'ow how lo g pep will stay for City.',\n",
              " 'I wo der how it will be for E zo at Real Madrid?',\n",
              " 'Arge ti a has  o represe tatio  at RM si ce Higuai  left.',\n",
              " 'Log i  to leave a comme t \\n\\n\\n\\n\\n\\n\\n\\n el_pri cipe\\n\\n\\r\\n                    December 24, 2022',\n",
              " 'At                    10:34 pm\\n\\n\\n\\nIt is just time to go for players who play i  small clubs.',\n",
              " 'E zo is worth €120 millio .',\n",
              " 'A ythi g less tha  that Be fica will say  o. MU or Liverpool are perfect for him as he will surely start i  both clubs.',\n",
              " 'MacAllister to Arse al or I ter.',\n",
              " 'Log i  to leave a comme t \\n\\n\\n\\n\\n\\n MarioKempes\\n\\n\\r\\n                    December 25, 2022',\n",
              " 'At                    1:03 am\\n\\n\\n\\nWa t E zo to do do good with Be fica i  the Champio s League.',\n",
              " 'Do somethi g as brillia t as i  World Cup.',\n",
              " 'After that wa t to see him i  a big team where he ca  be with more of his Arge ti e compatriots.',\n",
              " 'Log i  to leave a comme t \\n\\n\\n\\n\\n\\n\\n\\n I sider\\n\\n\\r\\n                    December 24, 2022',\n",
              " 'At                    2:23 pm\\n\\n\\n\\nHappy birthday Alexis..⭐⭐⭐\\n\\n\\nLog i  to leave a comme t \\n\\n\\n\\n\\n\\n Mik\\n\\n\\r\\n                    December 24, 2022',\n",
              " 'At                    1:03 pm\\n\\n\\n\\nI am  ot sure about this.',\n",
              " 'But i  1986 there was some player who was had a  Ireish backdrop.',\n",
              " 'Same here for Macalister, he is is also havi g a  Ireish backdrop is t it?',\n",
              " 'If thats the case take o e player from Irela d at all cost for all our WCs 😂😂😂.',\n",
              " 'Looki g back at the world cup campai  agai , Emilia o Marti ez brought us the WC as per me.',\n",
              " 'What a fi di g he is.',\n",
              " 'He could easily play for us i  2026.',\n",
              " 'With Musso a d Rulli as backup.',\n",
              " 'Our Goalkeepi g dept looks set.',\n",
              " 'Emilia o may be the top 3 Goalkeeper Arge ti a ever produced.',\n",
              " 'With all due respect to our previous WC wi  g Goalkeepers a d fi alists.',\n",
              " 'We rarely produce such Goalkeepers historically speaki g.\\n\\n\\nLog i  to leave a comme t \\n\\n\\n\\n\\n\\n LM10ARGENTINA\\n\\n\\r\\n                    December 24, 2022',\n",
              " 'At                    12:50 pm\\n\\n\\n\\nEveryo e talks about Emi',\n",
              " 'but Abbo da zieri was a great goalie too…….maybe  ot as good as Emi\\n\\n\\nLog i  to leave a comme t \\n\\n\\n\\n\\n\\n Mik\\n\\n\\r\\n                    December 24, 2022',\n",
              " 'At                    1:07 pm\\n\\n\\n\\nSure, i fact o e of my favourite Goalkeepers we had i  our last 2 decades.',\n",
              " 'He had a great prese ce similar to Emilia o.',\n",
              " 'I still remember i  2006 WC till he was k ocked out Arge ti a was there i  the hu',\n",
              " 't.',\n",
              " 'But with he retired it was all dow hill.',\n",
              " 'Ca t blame the substitute Goalkeeper too because he was sudde ly throw  i to a World Cup quarter fi al pe alties.',\n",
              " 'Rarely a yo e succeeds i  those situatio s.',\n",
              " 'Log i  to leave a comme t \\n\\n\\n\\n\\n\\n\\n\\n Som\\n\\n\\r\\n                    December 24, 2022',\n",
              " 'At                    12:40 pm\\n\\n\\n\\nHappy Birthday Alexis !',\n",
              " 'Easily my player of the tour ame t(amo g huma s of course).',\n",
              " 'He is a ge ius.',\n",
              " 'For weird reaso s some people I have see  seem to have a  age da agai',\n",
              " 'st you , but the  who cares.',\n",
              " 'You shut everyo e up with absolute peach after peach performa ces.',\n",
              " 'You are a ge ius.',\n",
              " 'Tha k you !',\n",
              " 'Log i  to leave a comme t \\n\\n\\n\\n\\n\\n amit\\n\\n\\r\\n                    December 24, 2022',\n",
              " 'At                    12:18 pm\\n\\n\\n\\nCheers to our Irish Whisky, Alexis.',\n",
              " 'What a  u believable tra sformatio .',\n",
              " 'Someo e who looked so extra ordi',\n",
              " 'ary i  Olympics was i credibly brillia t',\n",
              " 'i  WC.',\n",
              " 'The way he regularly fed DiMaria i  fi als is o e of our best midfield performa ces i  rece t times.',\n",
              " 'Every fa  was co fide t of E zo,Licha,ALvarez, Cuti & Dibu doi g well whe',\n",
              " 'they fi ally got mai streamed i  NT.',\n",
              " 'But Macallister & Moli a have pleasa tly surprised eve  a  optimistic fa .',\n",
              " 'Similarly, the resurge ce of Otame di i  last 1+year has bee  a other NT marvel.',\n",
              " 'Log i  to leave a comme t \\n\\n\\n\\n\\n\\n Godi 11\\n\\n\\r\\n                    December 24, 2022',\n",
              " 'At                    12:42 pm\\n\\n\\n\\nOtame di flopped vs Fra ce big time , could ’t believe how he gave that pe alty plus he miserable fail to clear which resulted big cha ce for Fra ce',\n",
              " 'i  last mi ute but tha ks to emi who came up with save of the tour ame t.',\n",
              " 'Log i  to leave a comme t \\n\\n\\n\\n\\n\\n Csabalala\\n\\n\\r\\n                    December 24, 2022',\n",
              " 'At                    12:49 pm\\n\\n\\n\\nThat was Pezzella’s mistake i  the last mi ute if i remember well.',\n",
              " 'Log i  to leave a comme t \\n\\n\\n\\n\\n\\n Da ielda',\n",
              " 'i\\n\\n\\r\\n                    December 24, 2022',\n",
              " 'At                    1:15 pm\\n\\n\\n\\nit was otame di\\n\\n\\nLog i  to leave a comme t \\n\\n\\n\\n\\n\\n Ta go\\n\\n\\r\\n                    December 24, 2022',\n",
              " 'At                    4:22 pm\\n\\n\\n\\nYes it was otame di who failed to clear the ball too',\n",
              " 'i  the last mi ute of extra time, look at the video agai  people.',\n",
              " 'Pezzella was  ear Marti ez whe  he saved the shot, a d otame di was o  his k ees watchi',\n",
              " 'g the whole thi g.\\n\\n\\n\\n\\n\\n\\n\\n\\n MarioKempes\\n\\n\\r\\n                    December 25, 2022',\n",
              " 'At                    1:13 am\\n\\n\\n\\nYes.',\n",
              " 'I  every match Otame di was becomi g slow',\n",
              " 'i  the last 20 mi s.',\n",
              " 'That was i creasi g pressure o  e tire defe ce which led to the te sio  built up',\n",
              " 'i  the games with Australia, Netherla ds',\n",
              " 'a d',\n",
              " 'Fra ce.',\n",
              " 'Now he has a other medal i  his cupboard.',\n",
              " 'It is time he goes to the be ch a d Licha be i  the starti g XI.\\n\\n\\n\\n\\n\\n\\n\\n\\n\\n\\n\\n\\n amit\\n\\n\\r\\n                    December 24, 2022',\n",
              " 'At                    12:56 pm\\n\\n\\n\\nEvery player wld have made a mistake i  WC.',\n",
              " 'I would t ig ore him for 1 bad mome t. Look at Otame di across Copa 21 , qualifiers & WC .',\n",
              " 'He has bee  brillia t. Check his stats o  tackles,',\n",
              " 'i terceptio s, aerial duels duri g WC & compare with the so called best CBs & you will realize his value.',\n",
              " 'Log i  to leave a comme t \\n\\n\\n\\n\\n\\n el_pri cipe\\n\\n\\r\\n                    December 24, 2022',\n",
              " 'At                    10:38 pm\\n\\n\\n\\nOtame di pe alty was very easy to deal with.',\n",
              " 'I du  o why he reacted that slow a d eve  whe  he was slow to react, he did  ot  eed to foul Thuram (was it Thuram?) because he was  ot eve  i  da gerous spot at all (ki da side of the box).',\n",
              " 'Really bad defe di g',\n",
              " 'i  2 occasio s.\\n\\n\\nLog',\n",
              " 'i  to leave a comme t \\n\\n\\n\\n\\n\\n amit\\n\\n\\r\\n                    December 24, 2022',\n",
              " 'At                    11:17 pm\\n\\n\\n\\nIt was Kolo Mua i. Mua i was sideways ..',\n",
              " 'but he was 1:1 with Emi as all defe ders were way behi',\n",
              " 'd, 2 steps & he wld have bee  i  a  easy goal scori g opportu ity.',\n",
              " 'Thats probably why Ota did the tackle which misfired & led to pe alty.',\n",
              " 'Log i  to leave a comme t \\n\\n\\n\\n\\n\\n\\n\\n\\n\\n Csabalala\\n\\n\\r\\n                    December 24, 2022',\n",
              " 'At                    12:48 pm\\n\\n\\n\\nNot scottish?\\n\\n\\nLog i  to leave a comme t \\n\\n\\n\\n\\n\\n amit\\n\\n\\r\\n                    December 24, 2022',\n",
              " 'At                    12:57 pm\\n\\n\\n\\ni thi k his a cestory has both Scottish & Irish li kage',\n",
              " 'Log i  to leave a comme t \\n\\n\\n\\n\\n\\n\\n\\n Godi 11\\n\\n\\r\\n                    December 24, 2022',\n",
              " 'At                    1:24 pm\\n\\n\\n\\nAmit\\n“Every player wld have made a mistake i  WC.',\n",
              " 'I would t ig ore him for 1 bad mome t”',\n",
              " 'yes I agree o  that but the mag itude of that game had to be zero mistake  otherwise  all the hard work he has bee  doi g last 4 years would had be poi tless if we had lost that game because his mistake',\n",
              " 'Yes I would have overlooked a y other game but  ot the world cup fi al whe  we were so comfortable a d he came with that  o se se',\n",
              " 'Is u forgivable\\n\\n\\nLog i  to leave a comme t \\n\\n\\n\\n\\n\\n Ta go\\n\\n\\r\\n                    December 24, 2022',\n",
              " 'At                    9:30 pm\\n\\n\\n\\nGodi 11 you’re absolutely right, I like otame di but his failure to clear that ball at mi ute 79 the  trippi g the Fre ch player from behi',\n",
              " 'd',\n",
              " 'i  the box from that a gel were two u forgettable mistakes i  less tha  5 seco ds.',\n",
              " 'The  to add i sult to i jury that crazy attempt to clear the ball i  the dyi g seco d of extra time shows how vul erable he ca  be sometimes, Licha is a better optio  for ma y reaso s. Tha k you otame di but time to call it a day',\n",
              " 'my frie d.\\n\\n\\nLog i  to leave a comme t \\n\\n\\n\\n\\n\\n amit\\n\\n\\r\\n                    December 24, 2022',\n",
              " 'At                    10:27 pm\\n\\n\\n\\n@Godi 11 , i do t base my opi io  bcos of 1 mome t.',\n",
              " 'If that is the yardstick – we  eed to look at ma y',\n",
              " 'more mistakes that happe ed',\n",
              " 'i  the fi als.',\n",
              " 'Coma  stole the ball from Messi leadi g to Mbappe’s 2 d goal.',\n",
              " 'Moli a also did t track back to block Mbappe leadi g to him have a free highway to our goal.',\n",
              " 'Eve  Scalo i  ot havi g subs earlier wld have bee  complai ed if we had fi ally lost.',\n",
              " 'The defe se was tired by late 2 d half & he had o ly made 1 sub of Dimaria the .',\n",
              " 'How about Dimaria’s skier i  the 16th mi  or Lautaro’s header',\n",
              " 'i  the 120th whe  Lloris was at his mercy?',\n",
              " 'There will be ma y more such mome ts.',\n",
              " 'Now lets come to Fra ce’s 1st goal.',\n",
              " 'No defe se that it was  ot a mistake by Otame di.',\n",
              " 'But here is the sce ario.',\n",
              " 'Arge ti a was starti g to push for a other goal.',\n",
              " 'E tire team was i  a high li e i cludi g defe ders.',\n",
              " 'Kolo Mua',\n",
              " 'i just beats a tired Otame di for pace & o ce i  box, Ota realized its Mua i vs EMi 1:1 & he tried a tackle which misfired.',\n",
              " 'But keep i  mi d all defe ders were out of place.',\n",
              " '',\n",
              " 'But lets talk stats at World Cup22 ( ref: Sofascore)\\n1) I terceptio s per game – 1.3 Ota , 0.6 CRom , 1.6 Gvardiol, 0.5 Saiss, 1.0 Vara e, 0.4 Marquhs, 0.8 Vdijk\\n2) Tackles per game –  1.4 Ota, 0.7 CRom , 1.3 Gvardiol , 0.8 Saiss , 0.2 Vara e, 1.0 Marquhs,0.4 VDijk\\n3) Total Duels wo  –  5.1(55%) Ota, 3.0 CRom (47%), 2.7 (51%) Gvardiol, 2.2 (62%) Saiss, 1.2(47%)',\n",
              " 'Vara e,2.4(67%)',\n",
              " 'Marquhs,3.4(55%) VDijk\\n4) Aerial Duels wo  –  3.0(60%) Ota , 1.7(60%), 0.4(38%) Gvardiol, 1.2 (100%) Saiss, 0.7 (47%) Vara e , 0.8(50%)',\n",
              " 'Marquhs),2.8(61%)\\n5) Dribbled past per game – 0.3 Ota, 0.6 C Rom , 0.4 Gvardiol , 0.5 Saiss, 0.3 Vara e, 0.2 Marquhs,0.2 VDijk\\n6) Cleara ces per game –  3.4 Ota, 3.6 C Rom, 5.3 Gvardiol , 5.0 Saiss, 2.5 Vara e, 1.2 Marquhs,4.2 VDijk\\nU fortu ately Otame di does  ot have a mome t of magic ( like Licha block vs Australia or Emi’s',\n",
              " 'Aus & Fra ce last mi  saves) for a fa ’s',\n",
              " 'i sta t memory.',\n",
              " 'So his co siste cy te ds to get forgotte .',\n",
              " 'Also you  eed to look at the co text i  which I said.',\n",
              " 'Otame di was',\n",
              " 'co sidered a liability 2  years back ( both NT & club) & see how he has reemerged for a fi al swa so g. I stro gly believe he deserves more respect & recog itio  & should ’t be jus remembered for the pe alty.',\n",
              " 'To rest my case , thi k of this .',\n",
              " 'Tell me o e player i  our NT who played more mi utes tha  Otame di.',\n",
              " 'So Scalo i & Samuels clearly saw value i  the 34yr warhorse.',\n",
              " 'Do you thi k Scalo i would have co ti ued him post the 79th mi  pe alty if he was a big time',\n",
              " 'flop i  that match.',\n",
              " 'Log i  to leave a comme t \\n\\n\\n\\n\\n\\n el_pri cipe\\n\\n\\r\\n                    December 24, 2022',\n",
              " 'At                    10:43 pm\\n\\n\\n\\nOtame di was good',\n",
              " 'i  the e tire tour ame t but the 79th mi ute a d beyo',\n",
              " 'd. He is a bit of Demichelis',\n",
              " 'i  that fi al.',\n",
              " 'Demi was the same, he could be good for 90 mi utes but the  i  i jury time he committed a foul that resulted i  PK.',\n",
              " 'I agree with Licha-Cuti duo',\n",
              " 'i  the future however Scalo i might  ot wa t to start them agai st a  Europea  team.',\n",
              " 'Scalo i  eeds to have a  ew project for the CB the same way he develops MacAllister.',\n",
              " 'Maybe Nehue  Perez',\n",
              " 'so i  case',\n",
              " 'i  2 years we wa t to play 3-5-2, we have the right players.',\n",
              " 'Log i  to leave a comme t \\n\\n\\n\\n\\n\\n amit\\n\\n\\r\\n                    December 24, 2022                    At                    11:30 pm\\n\\n\\n\\nAgree o  the fact that Scalo i will look beyo d a 34yr Ota very soo .',\n",
              " 'Romero-',\n",
              " 'Licha with great backups like Perez,Medi a, Se esi is the way forward.',\n",
              " 'I am o',\n",
              " 'ly reiterati',\n",
              " 'g we should t crucify Otame di for that mome t. There were ma y mistakes there ( all defe ders high up , Scalo i  ot bri gi g',\n",
              " 'ew subs agai st a pacy & tall Mua i, Thuram ) .',\n",
              " 'Look at the impact he has had o  tour ame t whe  he was always co sidered faulty by experts & eve  lot of our fa s.',\n",
              " 'I would t have the same thoughts for Pezella ( i  Netherla ds last mi ) as that was a foul that cld have bee  avoided & Weghorst was',\n",
              " 'ot i  a goal scori g positio  & i fact faci g opposite side of goal\\n\\n\\n\\n\\n\\n\\n\\n\\n\\n\\n Choripa \\n\\n\\r\\n                    December 25, 2022',\n",
              " 'At                    12:04 am\\n\\n\\n\\n@ amit\\n ice write up\\n\\n\\nLog i  to leave a comme t \\n\\n\\n\\n\\n\\n olive\\n\\n\\r\\n                    December 25, 2022',\n",
              " 'At                    2:46 am\\n\\n\\n\\nNice poi ts Amit.',\n",
              " 'I’m havi g a  i ter al struggle to u dersta d the Otame di dilemma.',\n",
              " 'O  o',\n",
              " 'e ha d',\n",
              " 'I’m so happy we wo  that I am dearly tha kful for all of his co siste cy which you highlighted a d I saw throughout the cup.',\n",
              " 'He was a warrior a d part of the reaso  we reached the fi al i  the first place, eve  if he has  o si gular',\n",
              " 'heroic mome t.',\n",
              " 'O  the other',\n",
              " 'ha',\n",
              " 'd, if we has lost o  pe alties, I feel like I would be fighti g the urge to hou d',\n",
              " 'o  him.',\n",
              " 'Would I be right to?',\n",
              " 'I  games as importa t as fi als it’s easy to hou d',\n",
              " 'o  the perso  that seems most respo sible for the bad result, a d i  this case it would be easy to hou',\n",
              " 'd o  Otame di who would be respo sible for what made us lose – Fra ce’s goals.',\n",
              " 'But like you me tio , what about Lautaro’s four misses?',\n",
              " 'His last mi ute header?',\n",
              " 'Despite Dibu’s heroics, could ’t he have gotte',\n",
              " 'a ha d o  Mbappe’s seco d goal?',\n",
              " 'What about the rest of the defe se?',\n",
              " 'I realized that a good amou t of cou ter attacks we face start with Messi losi g the ball, like agai st Australia before Dibu’s save.',\n",
              " 'It’s  atural too, i  a sport of 11 people it’s possible for ma y actio s to lead to a goal, but the fa s o ly see',\n",
              " 'the last thi g that could possibly stop the goal –  usually',\n",
              " 'o ly',\n",
              " 'the keeper or CB.',\n",
              " 'Luckily we ca  breath a sigh of relief because we wo , Scalo i did a great job',\n",
              " 'i  i corporati g Licha this World Cup a d he’s ready to make a lo g lasti g solid part ership with Cuti.',\n",
              " 'Now we  eed to fi d the third you',\n",
              " 'g ce ter back that ca  allow us co ti ue switchi g to a three at the back i  the future like we did so successive this mo th.',\n",
              " 'But do ’t expect  o e of Lisa dro or Cuti to make mistakes',\n",
              " 'i  their years to come.',\n",
              " 'Just like Otame di did, it’s football, a d they will.',\n",
              " 'Log i  to leave a comme t \\n\\n\\n\\n\\n\\n\\n\\n\\n\\n\\n\\n LM10ARGENTINA\\n\\n\\r\\n                    December 24, 2022',\n",
              " 'At                    12:16 pm\\n\\n\\n\\nAlexis was a masterpiece',\n",
              " 'i  the fi al\\n\\n\\nLog i  to leave a comme t \\n\\n\\n\\n\\n\\n JEWEL\\n\\n\\r\\n                    December 24, 2022',\n",
              " 'At                    12:07 pm\\n\\n\\n\\nHappy birthday macalesterelpi cipe😊😊\\n\\n\\nLog i  to leave a comme t \\n\\n\\n\\n\\n\\n Godi 11\\n\\n\\r\\n                    December 24, 2022',\n",
              " 'At                    11:59 am\\n\\n\\n\\nWhich midfielder will you choose \\nPalacios——– e zo——– MacAllister\\n                   Or \\nDe Paul—‐—- paredes——— lo celso\\n\\n\\nLog i  to leave a comme t \\n\\n\\n\\n\\n\\n LM10ARGENTINA\\n\\n\\r\\n                    December 24, 2022',\n",
              " 'At                    12:09 pm\\n\\n\\n\\nthe 2 d\\n\\n\\nLog i  to leave a comme t \\n\\n\\n\\n\\n\\n el_Torero\\n\\n\\r\\n                    December 24, 2022',\n",
              " 'At                    2:37 pm\\n\\n\\n\\nDePaul E zo McAllister LoCelso\\n\\n\\nLog i  to leave a comme t \\n\\n\\n\\n\\n\\n\\n\\n Sori XcrespO\\n\\n\\r\\n                    December 24, 2022',\n",
              " 'At                    11:57 am\\n\\n\\n\\nWe wo  the world cup!',\n",
              " 'I’m goi g to be sayi g this for  ext four years',\n",
              " 'i  the daily.',\n",
              " '😂\\nVamos\\n\\n\\nLog',\n",
              " 'i  to leave a comme t \\n\\n\\n\\n\\n\\n SulaV\\n\\n\\r\\n                    December 24, 2022',\n",
              " 'At                    11:41 am\\n\\n\\n\\nWhat a world cup this ma  had!!!',\n",
              " 'Easily our top 5 player!!',\n",
              " 'The way he held o  to possessio  a d moved ball forward,  I have seldom felt such security from our midfield',\n",
              " 'i  the past!!',\n",
              " 'He ma aged to  ot o',\n",
              " 'ly fill i  for Locelso',\n",
              " 'but also ma aged to cover the poor form of Paredes!!',\n",
              " 'Log i  to leave a comme t \\n\\n\\n\\n\\n\\n karl\\n\\n\\r\\n                    December 24, 2022',\n",
              " 'At                    11:32 am\\n\\n\\n\\nHappy Birthday!',\n",
              " 'Log i  to leave a comme t \\n\\n\\n\\n\\n\\n Mik\\n\\n\\r\\n                    December 24, 2022',\n",
              " 'At                    10:56 am\\n\\n\\n\\nI still misses the World cup ma .',\n",
              " 'The Arge ti e fa s  oice which ru s through the e tire stadium is still i  my head.',\n",
              " 'I watch all the Arge ti e matches agai  a d agai  apart from the Saudi o e of course 😂😂.But looki g back,I beleive that defeat is what made',\n",
              " 'us the World Champio s.',\n",
              " 'We lear  from defeat much more tha  we lear  from victory.',\n",
              " 'Fi ally i was thi ki',\n",
              " 'g',\n",
              " 'Fra ce deserved some se time ts.',\n",
              " 'But No. No cha ce.',\n",
              " 'They wa t the World Cup fi al to be replayed LOL.',\n",
              " 'Cry more.',\n",
              " 'That Ni ja turtle is',\n",
              " 'the seco d i car atio  of his high ess Be chwarmer.',\n",
              " 'No wo der Emilia o is tau ti g him.',\n",
              " 'I am all but team Haala d movi g o .',\n",
              " 'U fortu ately I do t see a y Arge ti e',\n",
              " 'i  sight who ca  joi  the Best i  the World co versatio  after Messi.',\n",
              " 'Till Messi is there we have a represe tative.',\n",
              " 'After that prepare for mediocrity.',\n",
              " 'We will wi  collectively because we have tale ts all over the pitch.',\n",
              " 'But i dividual magic will be less.',\n",
              " 'May be Gar acho ca  prove me wro g, but cha ces are slim.',\n",
              " 'Log i  to leave a comme t \\n\\n\\n\\n\\n\\n Choripa \\n\\n\\r\\n                    December 24, 2022',\n",
              " ...]"
            ]
          },
          "metadata": {},
          "execution_count": 22
        }
      ]
    },
    {
      "cell_type": "code",
      "source": [
        "print(len(sentence))"
      ],
      "metadata": {
        "colab": {
          "base_uri": "https://localhost:8080/"
        },
        "id": "q5R_X8bdhqql",
        "outputId": "bbf79b28-881e-4abb-e823-9c2c7a5d36ed"
      },
      "execution_count": 23,
      "outputs": [
        {
          "output_type": "stream",
          "name": "stdout",
          "text": [
            "1101\n"
          ]
        }
      ]
    },
    {
      "cell_type": "code",
      "source": [
        "sentence[600]"
      ],
      "metadata": {
        "colab": {
          "base_uri": "https://localhost:8080/",
          "height": 52
        },
        "id": "MxoWwW6khwhA",
        "outputId": "fae147bf-d862-405f-b382-c6544c9c5b36"
      },
      "execution_count": 26,
      "outputs": [
        {
          "output_type": "execute_result",
          "data": {
            "text/plain": [
              "'I saw a frie d of mi e today that is a Huge Christi a fa  a d for the 1st time I saw defeat i  his eyes, poor guy refused to talk about football for the first 20mi s a d the  he ope ed up.'"
            ],
            "application/vnd.google.colaboratory.intrinsic+json": {
              "type": "string"
            }
          },
          "metadata": {},
          "execution_count": 26
        }
      ]
    },
    {
      "cell_type": "code",
      "source": [
        "textblob_sentiment=[]\n",
        "for s in sentence:\n",
        "    txt= TextBlob(s)\n",
        "    a= txt.sentiment.polarity\n",
        "    b= txt.sentiment.subjectivity\n",
        "    textblob_sentiment.append([s,a,b])"
      ],
      "metadata": {
        "id": "5JsUt9Oqh00q"
      },
      "execution_count": 28,
      "outputs": []
    },
    {
      "cell_type": "code",
      "source": [
        "df_textblob = pd.DataFrame(textblob_sentiment, columns =['Sentence', 'Polarity', 'Subjectivity'])"
      ],
      "metadata": {
        "id": "MZd69VwOh-xe"
      },
      "execution_count": 29,
      "outputs": []
    },
    {
      "cell_type": "code",
      "source": [
        "df_textblob.head()"
      ],
      "metadata": {
        "colab": {
          "base_uri": "https://localhost:8080/",
          "height": 206
        },
        "id": "hhDoNu1KiEbV",
        "outputId": "c1abbbef-2eb5-46ac-fcbb-ced769326307"
      },
      "execution_count": 30,
      "outputs": [
        {
          "output_type": "execute_result",
          "data": {
            "text/plain": [
              "                                            Sentence  Polarity  Subjectivity\n",
              "0  Happy birthday to World Cup wi  er Alexis Mac ...    1.0000           1.0\n",
              "1                                                  |    0.0000           0.0\n",
              "2  Mu do Albiceleste\\n\\n\\n\\n\\n\\n\\n\\n\\n\\nwi dow._w...    0.0000           0.0\n",
              "3  gs = {\"baseUrl\":\"https:\\ \\ s.w.org\\ images\\ co...   -0.9375           1.0\n",
              "4                      This file is auto-ge erated *    0.0000           0.0"
            ],
            "text/html": [
              "\n",
              "  <div id=\"df-bce668b9-5156-44ea-88df-ca2c1c62eb4d\">\n",
              "    <div class=\"colab-df-container\">\n",
              "      <div>\n",
              "<style scoped>\n",
              "    .dataframe tbody tr th:only-of-type {\n",
              "        vertical-align: middle;\n",
              "    }\n",
              "\n",
              "    .dataframe tbody tr th {\n",
              "        vertical-align: top;\n",
              "    }\n",
              "\n",
              "    .dataframe thead th {\n",
              "        text-align: right;\n",
              "    }\n",
              "</style>\n",
              "<table border=\"1\" class=\"dataframe\">\n",
              "  <thead>\n",
              "    <tr style=\"text-align: right;\">\n",
              "      <th></th>\n",
              "      <th>Sentence</th>\n",
              "      <th>Polarity</th>\n",
              "      <th>Subjectivity</th>\n",
              "    </tr>\n",
              "  </thead>\n",
              "  <tbody>\n",
              "    <tr>\n",
              "      <th>0</th>\n",
              "      <td>Happy birthday to World Cup wi  er Alexis Mac ...</td>\n",
              "      <td>1.0000</td>\n",
              "      <td>1.0</td>\n",
              "    </tr>\n",
              "    <tr>\n",
              "      <th>1</th>\n",
              "      <td>|</td>\n",
              "      <td>0.0000</td>\n",
              "      <td>0.0</td>\n",
              "    </tr>\n",
              "    <tr>\n",
              "      <th>2</th>\n",
              "      <td>Mu do Albiceleste\\n\\n\\n\\n\\n\\n\\n\\n\\n\\nwi dow._w...</td>\n",
              "      <td>0.0000</td>\n",
              "      <td>0.0</td>\n",
              "    </tr>\n",
              "    <tr>\n",
              "      <th>3</th>\n",
              "      <td>gs = {\"baseUrl\":\"https:\\ \\ s.w.org\\ images\\ co...</td>\n",
              "      <td>-0.9375</td>\n",
              "      <td>1.0</td>\n",
              "    </tr>\n",
              "    <tr>\n",
              "      <th>4</th>\n",
              "      <td>This file is auto-ge erated *</td>\n",
              "      <td>0.0000</td>\n",
              "      <td>0.0</td>\n",
              "    </tr>\n",
              "  </tbody>\n",
              "</table>\n",
              "</div>\n",
              "      <button class=\"colab-df-convert\" onclick=\"convertToInteractive('df-bce668b9-5156-44ea-88df-ca2c1c62eb4d')\"\n",
              "              title=\"Convert this dataframe to an interactive table.\"\n",
              "              style=\"display:none;\">\n",
              "        \n",
              "  <svg xmlns=\"http://www.w3.org/2000/svg\" height=\"24px\"viewBox=\"0 0 24 24\"\n",
              "       width=\"24px\">\n",
              "    <path d=\"M0 0h24v24H0V0z\" fill=\"none\"/>\n",
              "    <path d=\"M18.56 5.44l.94 2.06.94-2.06 2.06-.94-2.06-.94-.94-2.06-.94 2.06-2.06.94zm-11 1L8.5 8.5l.94-2.06 2.06-.94-2.06-.94L8.5 2.5l-.94 2.06-2.06.94zm10 10l.94 2.06.94-2.06 2.06-.94-2.06-.94-.94-2.06-.94 2.06-2.06.94z\"/><path d=\"M17.41 7.96l-1.37-1.37c-.4-.4-.92-.59-1.43-.59-.52 0-1.04.2-1.43.59L10.3 9.45l-7.72 7.72c-.78.78-.78 2.05 0 2.83L4 21.41c.39.39.9.59 1.41.59.51 0 1.02-.2 1.41-.59l7.78-7.78 2.81-2.81c.8-.78.8-2.07 0-2.86zM5.41 20L4 18.59l7.72-7.72 1.47 1.35L5.41 20z\"/>\n",
              "  </svg>\n",
              "      </button>\n",
              "      \n",
              "  <style>\n",
              "    .colab-df-container {\n",
              "      display:flex;\n",
              "      flex-wrap:wrap;\n",
              "      gap: 12px;\n",
              "    }\n",
              "\n",
              "    .colab-df-convert {\n",
              "      background-color: #E8F0FE;\n",
              "      border: none;\n",
              "      border-radius: 50%;\n",
              "      cursor: pointer;\n",
              "      display: none;\n",
              "      fill: #1967D2;\n",
              "      height: 32px;\n",
              "      padding: 0 0 0 0;\n",
              "      width: 32px;\n",
              "    }\n",
              "\n",
              "    .colab-df-convert:hover {\n",
              "      background-color: #E2EBFA;\n",
              "      box-shadow: 0px 1px 2px rgba(60, 64, 67, 0.3), 0px 1px 3px 1px rgba(60, 64, 67, 0.15);\n",
              "      fill: #174EA6;\n",
              "    }\n",
              "\n",
              "    [theme=dark] .colab-df-convert {\n",
              "      background-color: #3B4455;\n",
              "      fill: #D2E3FC;\n",
              "    }\n",
              "\n",
              "    [theme=dark] .colab-df-convert:hover {\n",
              "      background-color: #434B5C;\n",
              "      box-shadow: 0px 1px 3px 1px rgba(0, 0, 0, 0.15);\n",
              "      filter: drop-shadow(0px 1px 2px rgba(0, 0, 0, 0.3));\n",
              "      fill: #FFFFFF;\n",
              "    }\n",
              "  </style>\n",
              "\n",
              "      <script>\n",
              "        const buttonEl =\n",
              "          document.querySelector('#df-bce668b9-5156-44ea-88df-ca2c1c62eb4d button.colab-df-convert');\n",
              "        buttonEl.style.display =\n",
              "          google.colab.kernel.accessAllowed ? 'block' : 'none';\n",
              "\n",
              "        async function convertToInteractive(key) {\n",
              "          const element = document.querySelector('#df-bce668b9-5156-44ea-88df-ca2c1c62eb4d');\n",
              "          const dataTable =\n",
              "            await google.colab.kernel.invokeFunction('convertToInteractive',\n",
              "                                                     [key], {});\n",
              "          if (!dataTable) return;\n",
              "\n",
              "          const docLinkHtml = 'Like what you see? Visit the ' +\n",
              "            '<a target=\"_blank\" href=https://colab.research.google.com/notebooks/data_table.ipynb>data table notebook</a>'\n",
              "            + ' to learn more about interactive tables.';\n",
              "          element.innerHTML = '';\n",
              "          dataTable['output_type'] = 'display_data';\n",
              "          await google.colab.output.renderOutput(dataTable, element);\n",
              "          const docLink = document.createElement('div');\n",
              "          docLink.innerHTML = docLinkHtml;\n",
              "          element.appendChild(docLink);\n",
              "        }\n",
              "      </script>\n",
              "    </div>\n",
              "  </div>\n",
              "  "
            ]
          },
          "metadata": {},
          "execution_count": 30
        }
      ]
    },
    {
      "cell_type": "code",
      "source": [
        "df_textblob.info()"
      ],
      "metadata": {
        "colab": {
          "base_uri": "https://localhost:8080/"
        },
        "id": "xraJ0H1SiKLA",
        "outputId": "47fb2d84-665b-436f-ac61-ab070e9801f4"
      },
      "execution_count": 31,
      "outputs": [
        {
          "output_type": "stream",
          "name": "stdout",
          "text": [
            "<class 'pandas.core.frame.DataFrame'>\n",
            "RangeIndex: 1101 entries, 0 to 1100\n",
            "Data columns (total 3 columns):\n",
            " #   Column        Non-Null Count  Dtype  \n",
            "---  ------        --------------  -----  \n",
            " 0   Sentence      1101 non-null   object \n",
            " 1   Polarity      1101 non-null   float64\n",
            " 2   Subjectivity  1101 non-null   float64\n",
            "dtypes: float64(2), object(1)\n",
            "memory usage: 25.9+ KB\n"
          ]
        }
      ]
    },
    {
      "cell_type": "code",
      "source": [
        "sns.displot(df_textblob[\"Polarity\"], height= 5, aspect=1.8)\n",
        "plt.xlabel(\"Sentence Polarity (Textblob)\")"
      ],
      "metadata": {
        "colab": {
          "base_uri": "https://localhost:8080/",
          "height": 386
        },
        "id": "MWDHEtt7iPiM",
        "outputId": "d5c3f675-07ae-45ad-f789-a1d061e9e3bd"
      },
      "execution_count": 32,
      "outputs": [
        {
          "output_type": "execute_result",
          "data": {
            "text/plain": [
              "Text(0.5, 6.79999999999999, 'Sentence Polarity (Textblob)')"
            ]
          },
          "metadata": {},
          "execution_count": 32
        },
        {
          "output_type": "display_data",
          "data": {
            "text/plain": [
              "<Figure size 648x360 with 1 Axes>"
            ],
            "image/png": "[encoded data removed]"
          },
          "metadata": {
            "needs_background": "light"
          }
        }
      ]
    },
    {
      "cell_type": "code",
      "source": [
        "sns.displot(df_textblob[\"Subjectivity\"], height= 5, aspect=1.8)\n",
        "plt.xlabel(\"Sentence Subjectivity (Textblob)\")"
      ],
      "metadata": {
        "colab": {
          "base_uri": "https://localhost:8080/",
          "height": 386
        },
        "id": "8dy6ryWYiUdF",
        "outputId": "940c22d5-4386-4936-9236-6d46e9c3b86a"
      },
      "execution_count": 33,
      "outputs": [
        {
          "output_type": "execute_result",
          "data": {
            "text/plain": [
              "Text(0.5, 6.79999999999999, 'Sentence Subjectivity (Textblob)')"
            ]
          },
          "metadata": {},
          "execution_count": 33
        },
        {
          "output_type": "display_data",
          "data": {
            "text/plain": [
              "<Figure size 648x360 with 1 Axes>"
            ],
            "image/png": "[encoded data removed]"
          },
          "metadata": {
            "needs_background": "light"
          }
        }
      ]
    },
    {
      "cell_type": "code",
      "source": [
        "pattern_sentiment=[]\n",
        "for s in sentence:\n",
        "    res= sentiment(s)\n",
        "    c= res[0]\n",
        "    d= res[1]\n",
        "    pattern_sentiment.append([s,c,d])"
      ],
      "metadata": {
        "id": "bCSv6XZ2ieiP"
      },
      "execution_count": 34,
      "outputs": []
    },
    {
      "cell_type": "code",
      "source": [
        "pattern_sentiment[1000]"
      ],
      "metadata": {
        "colab": {
          "base_uri": "https://localhost:8080/"
        },
        "id": "02uHK3BmimQc",
        "outputId": "1e1b2751-4b84-4129-b759-cf4e2f961b4e"
      },
      "execution_count": 36,
      "outputs": [
        {
          "output_type": "execute_result",
          "data": {
            "text/plain": [
              "['At                    11:14 am\\n\\n\\n\\nThe petitio  thi g is pathetic..',\n",
              " -1.0,\n",
              " 1.0]"
            ]
          },
          "metadata": {},
          "execution_count": 36
        }
      ]
    },
    {
      "cell_type": "code",
      "source": [
        "df_pattern = pd.DataFrame(textblob_sentiment, columns =['Sentence', 'Polarity', 'Subjectivity'])"
      ],
      "metadata": {
        "id": "Eq3uZg8yirje"
      },
      "execution_count": 37,
      "outputs": []
    },
    {
      "cell_type": "code",
      "source": [
        "df_pattern.head()"
      ],
      "metadata": {
        "colab": {
          "base_uri": "https://localhost:8080/",
          "height": 206
        },
        "id": "UJLNYwCsix_R",
        "outputId": "3ad457f7-3cbe-45c0-c8fd-dc68f1cfea39"
      },
      "execution_count": 38,
      "outputs": [
        {
          "output_type": "execute_result",
          "data": {
            "text/plain": [
              "                                            Sentence  Polarity  Subjectivity\n",
              "0  Happy birthday to World Cup wi  er Alexis Mac ...    1.0000           1.0\n",
              "1                                                  |    0.0000           0.0\n",
              "2  Mu do Albiceleste\\n\\n\\n\\n\\n\\n\\n\\n\\n\\nwi dow._w...    0.0000           0.0\n",
              "3  gs = {\"baseUrl\":\"https:\\ \\ s.w.org\\ images\\ co...   -0.9375           1.0\n",
              "4                      This file is auto-ge erated *    0.0000           0.0"
            ],
            "text/html": [
              "\n",
              "  <div id=\"df-aed3a8e8-762e-4983-956c-1efe4d2cba08\">\n",
              "    <div class=\"colab-df-container\">\n",
              "      <div>\n",
              "<style scoped>\n",
              "    .dataframe tbody tr th:only-of-type {\n",
              "        vertical-align: middle;\n",
              "    }\n",
              "\n",
              "    .dataframe tbody tr th {\n",
              "        vertical-align: top;\n",
              "    }\n",
              "\n",
              "    .dataframe thead th {\n",
              "        text-align: right;\n",
              "    }\n",
              "</style>\n",
              "<table border=\"1\" class=\"dataframe\">\n",
              "  <thead>\n",
              "    <tr style=\"text-align: right;\">\n",
              "      <th></th>\n",
              "      <th>Sentence</th>\n",
              "      <th>Polarity</th>\n",
              "      <th>Subjectivity</th>\n",
              "    </tr>\n",
              "  </thead>\n",
              "  <tbody>\n",
              "    <tr>\n",
              "      <th>0</th>\n",
              "      <td>Happy birthday to World Cup wi  er Alexis Mac ...</td>\n",
              "      <td>1.0000</td>\n",
              "      <td>1.0</td>\n",
              "    </tr>\n",
              "    <tr>\n",
              "      <th>1</th>\n",
              "      <td>|</td>\n",
              "      <td>0.0000</td>\n",
              "      <td>0.0</td>\n",
              "    </tr>\n",
              "    <tr>\n",
              "      <th>2</th>\n",
              "      <td>Mu do Albiceleste\\n\\n\\n\\n\\n\\n\\n\\n\\n\\nwi dow._w...</td>\n",
              "      <td>0.0000</td>\n",
              "      <td>0.0</td>\n",
              "    </tr>\n",
              "    <tr>\n",
              "      <th>3</th>\n",
              "      <td>gs = {\"baseUrl\":\"https:\\ \\ s.w.org\\ images\\ co...</td>\n",
              "      <td>-0.9375</td>\n",
              "      <td>1.0</td>\n",
              "    </tr>\n",
              "    <tr>\n",
              "      <th>4</th>\n",
              "      <td>This file is auto-ge erated *</td>\n",
              "      <td>0.0000</td>\n",
              "      <td>0.0</td>\n",
              "    </tr>\n",
              "  </tbody>\n",
              "</table>\n",
              "</div>\n",
              "      <button class=\"colab-df-convert\" onclick=\"convertToInteractive('df-aed3a8e8-762e-4983-956c-1efe4d2cba08')\"\n",
              "              title=\"Convert this dataframe to an interactive table.\"\n",
              "              style=\"display:none;\">\n",
              "        \n",
              "  <svg xmlns=\"http://www.w3.org/2000/svg\" height=\"24px\"viewBox=\"0 0 24 24\"\n",
              "       width=\"24px\">\n",
              "    <path d=\"M0 0h24v24H0V0z\" fill=\"none\"/>\n",
              "    <path d=\"M18.56 5.44l.94 2.06.94-2.06 2.06-.94-2.06-.94-.94-2.06-.94 2.06-2.06.94zm-11 1L8.5 8.5l.94-2.06 2.06-.94-2.06-.94L8.5 2.5l-.94 2.06-2.06.94zm10 10l.94 2.06.94-2.06 2.06-.94-2.06-.94-.94-2.06-.94 2.06-2.06.94z\"/><path d=\"M17.41 7.96l-1.37-1.37c-.4-.4-.92-.59-1.43-.59-.52 0-1.04.2-1.43.59L10.3 9.45l-7.72 7.72c-.78.78-.78 2.05 0 2.83L4 21.41c.39.39.9.59 1.41.59.51 0 1.02-.2 1.41-.59l7.78-7.78 2.81-2.81c.8-.78.8-2.07 0-2.86zM5.41 20L4 18.59l7.72-7.72 1.47 1.35L5.41 20z\"/>\n",
              "  </svg>\n",
              "      </button>\n",
              "      \n",
              "  <style>\n",
              "    .colab-df-container {\n",
              "      display:flex;\n",
              "      flex-wrap:wrap;\n",
              "      gap: 12px;\n",
              "    }\n",
              "\n",
              "    .colab-df-convert {\n",
              "      background-color: #E8F0FE;\n",
              "      border: none;\n",
              "      border-radius: 50%;\n",
              "      cursor: pointer;\n",
              "      display: none;\n",
              "      fill: #1967D2;\n",
              "      height: 32px;\n",
              "      padding: 0 0 0 0;\n",
              "      width: 32px;\n",
              "    }\n",
              "\n",
              "    .colab-df-convert:hover {\n",
              "      background-color: #E2EBFA;\n",
              "      box-shadow: 0px 1px 2px rgba(60, 64, 67, 0.3), 0px 1px 3px 1px rgba(60, 64, 67, 0.15);\n",
              "      fill: #174EA6;\n",
              "    }\n",
              "\n",
              "    [theme=dark] .colab-df-convert {\n",
              "      background-color: #3B4455;\n",
              "      fill: #D2E3FC;\n",
              "    }\n",
              "\n",
              "    [theme=dark] .colab-df-convert:hover {\n",
              "      background-color: #434B5C;\n",
              "      box-shadow: 0px 1px 3px 1px rgba(0, 0, 0, 0.15);\n",
              "      filter: drop-shadow(0px 1px 2px rgba(0, 0, 0, 0.3));\n",
              "      fill: #FFFFFF;\n",
              "    }\n",
              "  </style>\n",
              "\n",
              "      <script>\n",
              "        const buttonEl =\n",
              "          document.querySelector('#df-aed3a8e8-762e-4983-956c-1efe4d2cba08 button.colab-df-convert');\n",
              "        buttonEl.style.display =\n",
              "          google.colab.kernel.accessAllowed ? 'block' : 'none';\n",
              "\n",
              "        async function convertToInteractive(key) {\n",
              "          const element = document.querySelector('#df-aed3a8e8-762e-4983-956c-1efe4d2cba08');\n",
              "          const dataTable =\n",
              "            await google.colab.kernel.invokeFunction('convertToInteractive',\n",
              "                                                     [key], {});\n",
              "          if (!dataTable) return;\n",
              "\n",
              "          const docLinkHtml = 'Like what you see? Visit the ' +\n",
              "            '<a target=\"_blank\" href=https://colab.research.google.com/notebooks/data_table.ipynb>data table notebook</a>'\n",
              "            + ' to learn more about interactive tables.';\n",
              "          element.innerHTML = '';\n",
              "          dataTable['output_type'] = 'display_data';\n",
              "          await google.colab.output.renderOutput(dataTable, element);\n",
              "          const docLink = document.createElement('div');\n",
              "          docLink.innerHTML = docLinkHtml;\n",
              "          element.appendChild(docLink);\n",
              "        }\n",
              "      </script>\n",
              "    </div>\n",
              "  </div>\n",
              "  "
            ]
          },
          "metadata": {},
          "execution_count": 38
        }
      ]
    },
    {
      "cell_type": "code",
      "source": [
        "df_pattern.info()"
      ],
      "metadata": {
        "colab": {
          "base_uri": "https://localhost:8080/"
        },
        "id": "2Rzq_SLXiycv",
        "outputId": "09849697-49a5-4ee4-c6f8-10cc689b233c"
      },
      "execution_count": 39,
      "outputs": [
        {
          "output_type": "stream",
          "name": "stdout",
          "text": [
            "<class 'pandas.core.frame.DataFrame'>\n",
            "RangeIndex: 1101 entries, 0 to 1100\n",
            "Data columns (total 3 columns):\n",
            " #   Column        Non-Null Count  Dtype  \n",
            "---  ------        --------------  -----  \n",
            " 0   Sentence      1101 non-null   object \n",
            " 1   Polarity      1101 non-null   float64\n",
            " 2   Subjectivity  1101 non-null   float64\n",
            "dtypes: float64(2), object(1)\n",
            "memory usage: 25.9+ KB\n"
          ]
        }
      ]
    },
    {
      "cell_type": "code",
      "source": [
        "sns.displot(df_pattern[\"Polarity\"], height= 5, aspect=1.8)\n",
        "plt.xlabel(\"Sentence Polarity (Pattern)\")"
      ],
      "metadata": {
        "colab": {
          "base_uri": "https://localhost:8080/",
          "height": 386
        },
        "id": "7rwORt5gi7c-",
        "outputId": "10929fe0-e0b2-426d-e59d-bf5a6ef834db"
      },
      "execution_count": 40,
      "outputs": [
        {
          "output_type": "execute_result",
          "data": {
            "text/plain": [
              "Text(0.5, 6.79999999999999, 'Sentence Polarity (Pattern)')"
            ]
          },
          "metadata": {},
          "execution_count": 40
        },
        {
          "output_type": "display_data",
          "data": {
            "text/plain": [
              "<Figure size 648x360 with 1 Axes>"
            ],
            "image/png": "[encoded data removed]"
          },
          "metadata": {
            "needs_background": "light"
          }
        }
      ]
    },
    {
      "cell_type": "code",
      "source": [
        "sns.displot(df_pattern[\"Subjectivity\"], height= 5, aspect=1.8)\n",
        "plt.xlabel(\"Sentence Subjectivity (Pattern)\")"
      ],
      "metadata": {
        "colab": {
          "base_uri": "https://localhost:8080/",
          "height": 386
        },
        "id": "FoztZ9HNjALK",
        "outputId": "2637a259-1608-498b-e76e-87154a2595e6"
      },
      "execution_count": 41,
      "outputs": [
        {
          "output_type": "execute_result",
          "data": {
            "text/plain": [
              "Text(0.5, 6.79999999999999, 'Sentence Subjectivity (Pattern)')"
            ]
          },
          "metadata": {},
          "execution_count": 41
        },
        {
          "output_type": "display_data",
          "data": {
            "text/plain": [
              "<Figure size 648x360 with 1 Axes>"
            ],
            "image/png": "[encoded data removed]"
          },
          "metadata": {
            "needs_background": "light"
          }
        }
      ]
    },
    {
      "cell_type": "code",
      "source": [
        "#Creating the tokenizer\n",
        "tokenizer = nltk.tokenize.RegexpTokenizer(r'\\w+')"
      ],
      "metadata": {
        "id": "IIL28y_qjHIm"
      },
      "execution_count": 68,
      "outputs": []
    },
    {
      "cell_type": "code",
      "source": [
        "#tokenizer = nltk.RegexpTokenizer(r'\\s+', gaps=True)\n",
        "#tokenizer.tokenize(s)"
      ],
      "metadata": {
        "colab": {
          "base_uri": "https://localhost:8080/"
        },
        "id": "_Q-s9XG3j67U",
        "outputId": "bb4d7e6a-3bcd-4040-8700-309e05a78a0b"
      },
      "execution_count": 63,
      "outputs": [
        {
          "output_type": "execute_result",
          "data": {
            "text/plain": [
              "['FOLLOW', 'US', '©']"
            ]
          },
          "metadata": {},
          "execution_count": 63
        }
      ]
    },
    {
      "cell_type": "code",
      "source": [
        "#Tokenizing the text\n",
        "tokens = tokenizer.tokenize(clean_text)"
      ],
      "metadata": {
        "id": "kC5-0tXvjMMm"
      },
      "execution_count": 69,
      "outputs": []
    },
    {
      "cell_type": "code",
      "source": [
        "len(tokens)"
      ],
      "metadata": {
        "colab": {
          "base_uri": "https://localhost:8080/"
        },
        "id": "qJ4RKd2njP9B",
        "outputId": "1277b2ed-8389-4711-f32b-f8617b5230d0"
      },
      "execution_count": 70,
      "outputs": [
        {
          "output_type": "execute_result",
          "data": {
            "text/plain": [
              "21303"
            ]
          },
          "metadata": {},
          "execution_count": 70
        }
      ]
    },
    {
      "cell_type": "code",
      "source": [
        "print(tokens[1160:1681])"
      ],
      "metadata": {
        "colab": {
          "base_uri": "https://localhost:8080/"
        },
        "id": "TDKK2X6ojToz",
        "outputId": "a6057912-adf4-4217-af5d-f2907c688dff"
      },
      "execution_count": 71,
      "outputs": [
        {
          "output_type": "stream",
          "name": "stdout",
          "text": [
            "['start', '2em', 'margi', 'i', 'li', 'e', 'e', 'd', '0', 'body', 'is', 'layout', 'co', 'strai', 'ed', 'alig', 'ce', 'ter', 'margi', 'left', 'auto', 'importa', 't', 'margi', 'right', 'auto', 'importa', 't', 'body', 'is', 'layout', 'co', 'strai', 'ed', 'where', 'ot', 'alig', 'left', 'ot', 'alig', 'right', 'ot', 'alig', 'full', 'max', 'width', 'var', 'wp', 'style', 'global', 'co', 'te', 't', 'size', 'margi', 'left', 'auto', 'importa', 't', 'margi', 'right', 'auto', 'importa', 't', 'body', 'is', 'layout', 'co', 'strai', 'ed', 'alig', 'wide', 'max', 'width', 'var', 'wp', 'style', 'global', 'wide', 'size', 'body', 'is', 'layout', 'flex', 'display', 'flex', 'body', 'is', 'layout', 'flex', 'flex', 'wrap', 'wrap', 'alig', 'items', 'ce', 'ter', 'body', 'is', 'layout', 'flex', 'margi', '0', 'where', 'wp', 'block', 'colum', 's', 'is', 'layout', 'flex', 'gap', '2em', 'has', 'black', 'color', 'color', 'var', 'wp', 'preset', 'color', 'black', 'importa', 't', 'has', 'cya', 'bluish', 'gray', 'color', 'color', 'var', 'wp', 'preset', 'color', 'cya', 'bluish', 'gray', 'importa', 't', 'has', 'white', 'color', 'color', 'var', 'wp', 'preset', 'color', 'white', 'importa', 't', 'has', 'pale', 'pi', 'k', 'color', 'color', 'var', 'wp', 'preset', 'color', 'pale', 'pi', 'k', 'importa', 't', 'has', 'vivid', 'red', 'color', 'color', 'var', 'wp', 'preset', 'color', 'vivid', 'red', 'importa', 't', 'has', 'lumi', 'ous', 'vivid', 'ora', 'ge', 'color', 'color', 'var', 'wp', 'preset', 'color', 'lumi', 'ous', 'vivid', 'ora', 'ge', 'importa', 't', 'has', 'lumi', 'ous', 'vivid', 'amber', 'color', 'color', 'var', 'wp', 'preset', 'color', 'lumi', 'ous', 'vivid', 'amber', 'importa', 't', 'has', 'light', 'gree', 'cya', 'color', 'color', 'var', 'wp', 'preset', 'color', 'light', 'gree', 'cya', 'importa', 't', 'has', 'vivid', 'gree', 'cya', 'color', 'color', 'var', 'wp', 'preset', 'color', 'vivid', 'gree', 'cya', 'importa', 't', 'has', 'pale', 'cya', 'blue', 'color', 'color', 'var', 'wp', 'preset', 'color', 'pale', 'cya', 'blue', 'importa', 't', 'has', 'vivid', 'cya', 'blue', 'color', 'color', 'var', 'wp', 'preset', 'color', 'vivid', 'cya', 'blue', 'importa', 't', 'has', 'vivid', 'purple', 'color', 'color', 'var', 'wp', 'preset', 'color', 'vivid', 'purple', 'importa', 't', 'has', 'black', 'backgrou', 'd', 'color', 'backgrou', 'd', 'color', 'var', 'wp', 'preset', 'color', 'black', 'importa', 't', 'has', 'cya', 'bluish', 'gray', 'backgrou', 'd', 'color', 'backgrou', 'd', 'color', 'var', 'wp', 'preset', 'color', 'cya', 'bluish', 'gray', 'importa', 't', 'has', 'white', 'backgrou', 'd', 'color', 'backgrou', 'd', 'color', 'var', 'wp', 'preset', 'color', 'white', 'importa', 't', 'has', 'pale', 'pi', 'k', 'backgrou', 'd', 'color', 'backgrou', 'd', 'color', 'var', 'wp', 'preset', 'color', 'pale', 'pi', 'k', 'importa', 't', 'has', 'vivid', 'red', 'backgrou', 'd', 'color', 'backgrou', 'd', 'color', 'var', 'wp', 'preset', 'color', 'vivid', 'red', 'importa', 't', 'has', 'lumi', 'ous', 'vivid', 'ora', 'ge', 'backgrou', 'd', 'color', 'backgrou', 'd', 'color', 'var', 'wp', 'preset', 'color', 'lumi', 'ous', 'vivid', 'ora', 'ge', 'importa', 't', 'has', 'lumi', 'ous', 'vivid', 'amber', 'backgrou', 'd', 'color', 'backgrou', 'd', 'color', 'var', 'wp', 'preset', 'color', 'lumi', 'ous', 'vivid', 'amber', 'importa', 't', 'has', 'light', 'gree', 'cya', 'backgrou', 'd', 'color', 'backgrou', 'd', 'color', 'var', 'wp', 'preset', 'color', 'light', 'gree', 'cya', 'importa', 't', 'has', 'vivid', 'gree', 'cya', 'backgrou', 'd', 'color', 'backgrou', 'd', 'color', 'var', 'wp', 'preset', 'color', 'vivid', 'gree', 'cya', 'importa', 't', 'has', 'pale', 'cya', 'blue', 'backgrou', 'd', 'color', 'backgrou', 'd', 'color', 'var', 'wp', 'preset', 'color', 'pale', 'cya', 'blue', 'importa', 't', 'has', 'vivid', 'cya', 'blue', 'backgrou', 'd', 'color', 'backgrou', 'd', 'color', 'var', 'wp', 'preset', 'color', 'vivid', 'cya', 'blue', 'importa', 't', 'has', 'vivid', 'purple', 'backgrou', 'd', 'color', 'backgrou', 'd', 'color', 'var', 'wp', 'preset', 'color', 'vivid', 'purple', 'importa', 't', 'has', 'black', 'border', 'color', 'border', 'color', 'var', 'wp', 'preset', 'color', 'black', 'importa']\n"
          ]
        }
      ]
    },
    {
      "cell_type": "code",
      "source": [
        "words = []\n",
        "# Looping through the tokens and make them lower case\n",
        "for word in tokens:\n",
        "    words.append(word.lower())"
      ],
      "metadata": {
        "id": "2q7mKYNvjl6b"
      },
      "execution_count": 72,
      "outputs": []
    },
    {
      "cell_type": "code",
      "source": [
        "import nltk\n",
        "nltk.download('stopwords')"
      ],
      "metadata": {
        "colab": {
          "base_uri": "https://localhost:8080/"
        },
        "id": "CZ3Qpla6juFL",
        "outputId": "b49185c6-9aa6-4421-da4b-41ba4149620b"
      },
      "execution_count": 75,
      "outputs": [
        {
          "output_type": "stream",
          "name": "stderr",
          "text": [
            "[nltk_data] Downloading package stopwords to /root/nltk_data...\n",
            "[nltk_data]   Unzipping corpora/stopwords.zip.\n"
          ]
        },
        {
          "output_type": "execute_result",
          "data": {
            "text/plain": [
              "True"
            ]
          },
          "metadata": {},
          "execution_count": 75
        }
      ]
    },
    {
      "cell_type": "code",
      "source": [
        "#Now we have to remove stopwords\n",
        "#Stop words are a set of commonly used words in any language. \n",
        "#For example, in English, “the”, “is” and “and”, would easily qualify as stop words. \n",
        "#In NLP and text mining applications, stop words are used to eliminate unimportant words, \n",
        "#allowing applications to focus on the important words instead.\n",
        "#English stop words from nltk\n",
        "stopwords = nltk.corpus.stopwords.words('english')"
      ],
      "metadata": {
        "id": "VxM3A37KjnGM"
      },
      "execution_count": 77,
      "outputs": []
    },
    {
      "cell_type": "code",
      "source": [
        "words_new = []"
      ],
      "metadata": {
        "id": "xM8Pcwv1kNsO"
      },
      "execution_count": 78,
      "outputs": []
    },
    {
      "cell_type": "code",
      "source": [
        "#Appending to words_new all words that are in words but not in sw\n",
        "for word in words:\n",
        "    if word not in stopwords:\n",
        "        words_new.append(word)"
      ],
      "metadata": {
        "id": "1Cxr4FKej74U"
      },
      "execution_count": 79,
      "outputs": []
    },
    {
      "cell_type": "code",
      "source": [
        "len(words_new)"
      ],
      "metadata": {
        "colab": {
          "base_uri": "https://localhost:8080/"
        },
        "id": "HUGgzm_0kRXM",
        "outputId": "7acc7bbf-4127-40bf-dd43-c4f61681249e"
      },
      "execution_count": 80,
      "outputs": [
        {
          "output_type": "execute_result",
          "data": {
            "text/plain": [
              "15926"
            ]
          },
          "metadata": {},
          "execution_count": 80
        }
      ]
    },
    {
      "cell_type": "code",
      "source": [
        "words_new[0:10]"
      ],
      "metadata": {
        "colab": {
          "base_uri": "https://localhost:8080/"
        },
        "id": "33Lj7s7nkUDr",
        "outputId": "fb7e8f5e-4299-4e09-dbd3-e6b2524c0763"
      },
      "execution_count": 81,
      "outputs": [
        {
          "output_type": "execute_result",
          "data": {
            "text/plain": [
              "['happy',\n",
              " 'birthday',\n",
              " 'world',\n",
              " 'cup',\n",
              " 'wi',\n",
              " 'er',\n",
              " 'alexis',\n",
              " 'mac',\n",
              " 'allister',\n",
              " 'mu']"
            ]
          },
          "metadata": {},
          "execution_count": 81
        }
      ]
    },
    {
      "cell_type": "code",
      "source": [
        "#The frequency distribution of the words\n",
        "freq_dist = nltk.FreqDist(words_new)"
      ],
      "metadata": {
        "id": "Ku5C7nSjkbkU"
      },
      "execution_count": 82,
      "outputs": []
    },
    {
      "cell_type": "code",
      "source": [
        "#Frequency Distribution Plot\n",
        "plt.subplots(figsize=(16,10))\n",
        "freq_dist.plot(20)"
      ],
      "metadata": {
        "colab": {
          "base_uri": "https://localhost:8080/",
          "height": 648
        },
        "id": "gc5TDO1ikglS",
        "outputId": "52151604-feef-48b1-9ffd-2cc0face818b"
      },
      "execution_count": 83,
      "outputs": [
        {
          "output_type": "display_data",
          "data": {
            "text/plain": [
              "<Figure size 1152x720 with 1 Axes>"
            ],
            "image/png": "[encoded data removed]"
          },
          "metadata": {
            "needs_background": "light"
          }
        },
        {
          "output_type": "execute_result",
          "data": {
            "text/plain": [
              "<matplotlib.axes._subplots.AxesSubplot at 0x7fc9e75e8c10>"
            ]
          },
          "metadata": {},
          "execution_count": 83
        }
      ]
    }
  ]
}